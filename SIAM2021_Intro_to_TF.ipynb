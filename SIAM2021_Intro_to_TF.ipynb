{
  "nbformat": 4,
  "nbformat_minor": 0,
  "metadata": {
    "colab": {
      "name": "SIAM2021 - Intro to TF.ipynb",
      "provenance": [],
      "collapsed_sections": [],
      "include_colab_link": true
    },
    "kernelspec": {
      "name": "python3",
      "display_name": "Python 3"
    },
    "language_info": {
      "name": "python"
    }
  },
  "cells": [
    {
      "cell_type": "markdown",
      "metadata": {
        "id": "view-in-github",
        "colab_type": "text"
      },
      "source": [
        "<a href=\"https://colab.research.google.com/github/berthine/SIAM-Summer-School/blob/main/SIAM2021_Intro_to_TF.ipynb\" target=\"_parent\"><img src=\"https://colab.research.google.com/assets/colab-badge.svg\" alt=\"Open In Colab\"/></a>"
      ]
    },
    {
      "cell_type": "markdown",
      "metadata": {
        "id": "Qt3gdz5Tn0ek"
      },
      "source": [
        "## Practical: Introduction to Tensorflow and tf.math\n",
        "(19/July/2021)\n",
        "\n",
        "### 2021 Gene Golub SIAM Summer School \n",
        "https://sites.google.com/aims.ac.za/g2s3/home \n",
        "\n",
        "Instructor\n",
        "\n",
        "<font color=\"green\">***Dr. Emmanuel Dufourq*** \n",
        "\n",
        "www.emmanueldufourq.com\n",
        "\n",
        "edufourq (['@']) gmail.com\n",
        "\n",
        "***African Institute for Mathematical Sciences***\n",
        "\n",
        "***Stellenbosch University***\n",
        "\n",
        "***2021***\n",
        "\n",
        "Material adapted from https://d2l.ai/chapter_preliminaries/linear-algebra.html"
      ]
    },
    {
      "cell_type": "markdown",
      "metadata": {
        "id": "YuQzUMaCibtw"
      },
      "source": [
        "## <font color=\"green\"> Learning outcomes:\n",
        "\n",
        "* Tensorflow variables using ```tf.Variable```\n",
        "\n",
        "* Mathematical operations using ```tf.math```\n",
        "\n",
        "## <font color=\"green\">Tasks for participants (boolean)?\n",
        "\n",
        "* No, follow along and make your own modifications and make sure you understand\n"
      ]
    },
    {
      "cell_type": "code",
      "metadata": {
        "id": "uXLVLvvqn0yF"
      },
      "source": [
        "import tensorflow as tf\n",
        "import numpy as np"
      ],
      "execution_count": null,
      "outputs": []
    },
    {
      "cell_type": "markdown",
      "metadata": {
        "id": "peEorysAshxN"
      },
      "source": [
        "#### Defining a variable\n",
        "\n",
        "Tensorflow API for tf.Variable https://www.tensorflow.org/api_docs/python/tf/Variable\n",
        "\n",
        "API are useful and one should become familiar with the API."
      ]
    },
    {
      "cell_type": "code",
      "metadata": {
        "id": "szO75dfan1MC"
      },
      "source": [
        "x = tf.Variable(3.0)"
      ],
      "execution_count": null,
      "outputs": []
    },
    {
      "cell_type": "code",
      "metadata": {
        "id": "ddgrMDLRn6U1"
      },
      "source": [
        "x"
      ],
      "execution_count": null,
      "outputs": []
    },
    {
      "cell_type": "markdown",
      "metadata": {
        "id": "oVkUGtcWs0n1"
      },
      "source": [
        "#### A range of variables"
      ]
    },
    {
      "cell_type": "code",
      "metadata": {
        "id": "nIEjMcmVock2"
      },
      "source": [
        "x = tf.range(12)"
      ],
      "execution_count": null,
      "outputs": []
    },
    {
      "cell_type": "code",
      "metadata": {
        "id": "GF0W5sVUoc3-"
      },
      "source": [
        "x"
      ],
      "execution_count": null,
      "outputs": []
    },
    {
      "cell_type": "markdown",
      "metadata": {
        "id": "fQ6f3moFs2xp"
      },
      "source": [
        "#### We can access the tf.Variables as numpy arrays"
      ]
    },
    {
      "cell_type": "code",
      "metadata": {
        "id": "yS4M3hmWodDz"
      },
      "source": [
        "x.numpy()"
      ],
      "execution_count": null,
      "outputs": []
    },
    {
      "cell_type": "code",
      "metadata": {
        "id": "3DNwA_MQofXm"
      },
      "source": [
        "X = tf.reshape(x, (3, 4))\n",
        "X"
      ],
      "execution_count": null,
      "outputs": []
    },
    {
      "cell_type": "code",
      "metadata": {
        "id": "wXD1pXmNopSC"
      },
      "source": [
        "X.shape"
      ],
      "execution_count": null,
      "outputs": []
    },
    {
      "cell_type": "markdown",
      "metadata": {
        "id": "0xJr29qvs7p9"
      },
      "source": [
        "#### Randomly sample the values for each element in a tensor from some probability distribution"
      ]
    },
    {
      "cell_type": "code",
      "metadata": {
        "id": "dmIT5Ic4oqDE"
      },
      "source": [
        "X = tf.random.normal(shape=[3, 4])\n",
        "X"
      ],
      "execution_count": null,
      "outputs": []
    },
    {
      "cell_type": "code",
      "metadata": {
        "id": "VH0bAtSfoyXu"
      },
      "source": [
        "X.shape"
      ],
      "execution_count": null,
      "outputs": []
    },
    {
      "cell_type": "markdown",
      "metadata": {
        "id": "ByKWBNM3tMOb"
      },
      "source": [
        "#### Arithmetics, like +, -, *, / work as element wise operations"
      ]
    },
    {
      "cell_type": "code",
      "metadata": {
        "id": "qdTWcw8Ho1jd"
      },
      "source": [
        "x = tf.constant([1.0, 2, 4, 8])\n",
        "y = tf.constant([2.0, 2, 2, 2])\n",
        "x + y"
      ],
      "execution_count": null,
      "outputs": []
    },
    {
      "cell_type": "code",
      "metadata": {
        "id": "yOxAY1fbo-8k"
      },
      "source": [
        "tf.exp(x)"
      ],
      "execution_count": null,
      "outputs": []
    },
    {
      "cell_type": "markdown",
      "metadata": {
        "id": "LJDJ9qE8rqGo"
      },
      "source": [
        "#### Adding two matrices of the same shape performs elementwise addition over these two matrices."
      ]
    },
    {
      "cell_type": "code",
      "metadata": {
        "id": "T3gp0d8EpEzv"
      },
      "source": [
        "A = tf.reshape(tf.range(20, dtype=tf.float32), (5, 4))\n",
        "B = A \n",
        "A, A + B"
      ],
      "execution_count": null,
      "outputs": []
    },
    {
      "cell_type": "markdown",
      "metadata": {
        "id": "uYIOPq8YrlWq"
      },
      "source": [
        "#### Elementwise multiplication of two matrices is called their Hadamard product"
      ]
    },
    {
      "cell_type": "code",
      "metadata": {
        "id": "FsQsugzYrbKg"
      },
      "source": [
        "A * B"
      ],
      "execution_count": null,
      "outputs": []
    },
    {
      "cell_type": "markdown",
      "metadata": {
        "id": "par8N8lrsBua"
      },
      "source": [
        "Tensors (“tensors” in this subsection refer to algebraic objects) give us a generic way of describing n-dimensional arrays with an arbitrary number of axes. \n",
        "\n",
        "Vectors, for example, are first-order tensors, and matrices are second-order tensors."
      ]
    },
    {
      "cell_type": "code",
      "metadata": {
        "id": "chw--473sDH2"
      },
      "source": [
        "X = tf.reshape(tf.range(24), (2, 3, 4))\n",
        "X"
      ],
      "execution_count": null,
      "outputs": []
    },
    {
      "cell_type": "markdown",
      "metadata": {
        "id": "-K72g-PmsFn7"
      },
      "source": [
        "#### Define a scaler and a tensor which we will use for some computations"
      ]
    },
    {
      "cell_type": "code",
      "metadata": {
        "id": "550_9vqYrh4O"
      },
      "source": [
        "a = 2\n",
        "X = tf.reshape(tf.range(24), (2, 3, 4))\n",
        "X"
      ],
      "execution_count": null,
      "outputs": []
    },
    {
      "cell_type": "markdown",
      "metadata": {
        "id": "t9xuYyclsGVe"
      },
      "source": [
        "#### Adding a scaler to a tensor"
      ]
    },
    {
      "cell_type": "code",
      "metadata": {
        "id": "ZU89DeRzrvkK"
      },
      "source": [
        "a + X"
      ],
      "execution_count": null,
      "outputs": []
    },
    {
      "cell_type": "markdown",
      "metadata": {
        "id": "UXeZiXAVsHb_"
      },
      "source": [
        "#### Multiplying a scaler with a tensor"
      ]
    },
    {
      "cell_type": "code",
      "metadata": {
        "id": "BNZOgQX7r0Bd"
      },
      "source": [
        "a * X"
      ],
      "execution_count": null,
      "outputs": []
    },
    {
      "cell_type": "markdown",
      "metadata": {
        "id": "67MWBaBjsKdP"
      },
      "source": [
        "Note the shape is not affected (tesnor shape is still the same)"
      ]
    },
    {
      "cell_type": "code",
      "metadata": {
        "id": "r37D8e3Tr1Zi"
      },
      "source": [
        "(a * X).shape"
      ],
      "execution_count": null,
      "outputs": []
    },
    {
      "cell_type": "markdown",
      "metadata": {
        "id": "WTPl97ePsqb8"
      },
      "source": [
        "# tf.math\n",
        "\n",
        "API: https://www.tensorflow.org/api_docs/python/tf/math"
      ]
    },
    {
      "cell_type": "markdown",
      "metadata": {
        "id": "LuvP1u8lycxp"
      },
      "source": [
        "```reduce_sum``` is used in a number of calculations. It it the mathematical sum of elements in a tensor.\n",
        "\n",
        "API https://www.tensorflow.org/api_docs/python/tf/math/reduce_sum"
      ]
    },
    {
      "cell_type": "markdown",
      "metadata": {
        "id": "v4ypXnw4zHTJ"
      },
      "source": [
        "#### First example"
      ]
    },
    {
      "cell_type": "code",
      "metadata": {
        "id": "aEHZft8usJpY"
      },
      "source": [
        "x = tf.range(4, dtype=tf.float32)"
      ],
      "execution_count": null,
      "outputs": []
    },
    {
      "cell_type": "code",
      "metadata": {
        "id": "HC2_pCAfyvfO"
      },
      "source": [
        "x"
      ],
      "execution_count": null,
      "outputs": []
    },
    {
      "cell_type": "code",
      "metadata": {
        "id": "5NcqHaLnyysw"
      },
      "source": [
        "tf.reduce_sum(x)"
      ],
      "execution_count": null,
      "outputs": []
    },
    {
      "cell_type": "markdown",
      "metadata": {
        "id": "8Uw0XcFjzAd_"
      },
      "source": [
        "#### Another example"
      ]
    },
    {
      "cell_type": "code",
      "metadata": {
        "id": "RmQCo_iRyy6D"
      },
      "source": [
        "A = tf.reshape(tf.range(20, dtype=tf.float32), (5, 4))"
      ],
      "execution_count": null,
      "outputs": []
    },
    {
      "cell_type": "code",
      "metadata": {
        "id": "y3w-fV01zE8s"
      },
      "source": [
        "A"
      ],
      "execution_count": null,
      "outputs": []
    },
    {
      "cell_type": "code",
      "metadata": {
        "id": "BHu1iLwMzBPu"
      },
      "source": [
        "A.shape"
      ],
      "execution_count": null,
      "outputs": []
    },
    {
      "cell_type": "code",
      "metadata": {
        "id": "_dYWJfSDzB-s"
      },
      "source": [
        "tf.reduce_sum(A)"
      ],
      "execution_count": null,
      "outputs": []
    },
    {
      "cell_type": "markdown",
      "metadata": {
        "id": "3Py9O9EnzS5X"
      },
      "source": [
        "#### Specifying which axis to reduce"
      ]
    },
    {
      "cell_type": "code",
      "metadata": {
        "id": "TWMkr5nRzTDg"
      },
      "source": [
        "A_sum_axis0 = tf.reduce_sum(A, axis=0)\n",
        "A_sum_axis0"
      ],
      "execution_count": null,
      "outputs": []
    },
    {
      "cell_type": "code",
      "metadata": {
        "id": "taz3R6hZzEJh"
      },
      "source": [
        "A_sum_axis0.shape"
      ],
      "execution_count": null,
      "outputs": []
    },
    {
      "cell_type": "markdown",
      "metadata": {
        "id": "7w4YaNA9zxuz"
      },
      "source": [
        "#### Reducing on axis=1"
      ]
    },
    {
      "cell_type": "code",
      "metadata": {
        "id": "_65_E9KjzmY_"
      },
      "source": [
        "A_sum_axis1 = tf.reduce_sum(A, axis=1)\n",
        "A_sum_axis1"
      ],
      "execution_count": null,
      "outputs": []
    },
    {
      "cell_type": "code",
      "metadata": {
        "id": "45U3a7IFzma1"
      },
      "source": [
        "A_sum_axis1.shape"
      ],
      "execution_count": null,
      "outputs": []
    },
    {
      "cell_type": "markdown",
      "metadata": {
        "id": "wIyStvBF0jR5"
      },
      "source": [
        "#### Mean"
      ]
    },
    {
      "cell_type": "code",
      "metadata": {
        "id": "BvG-n9ujzpWH"
      },
      "source": [
        "tf.reduce_mean(A, axis=0)"
      ],
      "execution_count": null,
      "outputs": []
    },
    {
      "cell_type": "code",
      "metadata": {
        "id": "wfRobmUE0n_f"
      },
      "source": [
        "tf.reduce_mean(A, axis=1)"
      ],
      "execution_count": null,
      "outputs": []
    },
    {
      "cell_type": "markdown",
      "metadata": {
        "id": "Skh8-SSd06Nt"
      },
      "source": [
        "In this example we compute the sum but we keep the number of axes unchanged."
      ]
    },
    {
      "cell_type": "code",
      "metadata": {
        "id": "RCgtq1fF06UI"
      },
      "source": [
        "sum_A = tf.reduce_sum(A, axis=1, keepdims=True)\n",
        "sum_A"
      ],
      "execution_count": null,
      "outputs": []
    },
    {
      "cell_type": "markdown",
      "metadata": {
        "id": "j-y6beUc1q0D"
      },
      "source": [
        "## Dot product"
      ]
    },
    {
      "cell_type": "code",
      "metadata": {
        "id": "WoqLsAx208-E"
      },
      "source": [
        "y = tf.ones(4, dtype=tf.float32)\n",
        "x = tf.range(4, dtype=tf.float32)"
      ],
      "execution_count": null,
      "outputs": []
    },
    {
      "cell_type": "code",
      "metadata": {
        "id": "gV6WDsTx1sq-"
      },
      "source": [
        "x, y"
      ],
      "execution_count": null,
      "outputs": []
    },
    {
      "cell_type": "markdown",
      "metadata": {
        "id": "NkMrTeO916oR"
      },
      "source": [
        "here we compute the dot product"
      ]
    },
    {
      "cell_type": "code",
      "metadata": {
        "id": "7NvM4irW1tnk"
      },
      "source": [
        "tf.tensordot(x, y, axes=1)"
      ],
      "execution_count": null,
      "outputs": []
    },
    {
      "cell_type": "markdown",
      "metadata": {
        "id": "LIxWxS9618Un"
      },
      "source": [
        "here was the previous element wise operation we saw earlier"
      ]
    },
    {
      "cell_type": "code",
      "metadata": {
        "id": "KgwoI0kp1zF2"
      },
      "source": [
        "x * y"
      ],
      "execution_count": null,
      "outputs": []
    },
    {
      "cell_type": "markdown",
      "metadata": {
        "id": "tMPDrva02OqU"
      },
      "source": [
        "## Matrix multiplication"
      ]
    },
    {
      "cell_type": "code",
      "metadata": {
        "id": "wTSZ7A5p13-0"
      },
      "source": [
        "A = tf.reshape(tf.range(20, dtype=tf.float32), (5, 4))\n",
        "B = tf.ones((4, 3), tf.float32)\n",
        "A, B"
      ],
      "execution_count": null,
      "outputs": []
    },
    {
      "cell_type": "code",
      "metadata": {
        "id": "4MJGuUhV2UsZ"
      },
      "source": [
        "tf.matmul(A, B)"
      ],
      "execution_count": null,
      "outputs": []
    },
    {
      "cell_type": "markdown",
      "metadata": {
        "id": "l4v4iryj3EPQ"
      },
      "source": [
        "## Norms"
      ]
    },
    {
      "cell_type": "markdown",
      "metadata": {
        "id": "sh9-xoOr3IAK"
      },
      "source": [
        "### L2 norm"
      ]
    },
    {
      "cell_type": "code",
      "metadata": {
        "id": "CwOoFtUX2XGq"
      },
      "source": [
        "u = tf.constant([3.0, -4.0])"
      ],
      "execution_count": null,
      "outputs": []
    },
    {
      "cell_type": "code",
      "metadata": {
        "id": "b7Q2Ai3p3MMt"
      },
      "source": [
        "tf.norm(u)"
      ],
      "execution_count": null,
      "outputs": []
    },
    {
      "cell_type": "markdown",
      "metadata": {
        "id": "cHPqcBvs3FcT"
      },
      "source": [
        "### L1 norm"
      ]
    },
    {
      "cell_type": "code",
      "metadata": {
        "id": "6F9CTdBG3IFU"
      },
      "source": [
        "u = tf.constant([3.0, -4.0])"
      ],
      "execution_count": null,
      "outputs": []
    },
    {
      "cell_type": "code",
      "metadata": {
        "id": "M4fWT-NH3Mkg"
      },
      "source": [
        "tf.reduce_sum(tf.abs(u))"
      ],
      "execution_count": null,
      "outputs": []
    },
    {
      "cell_type": "markdown",
      "metadata": {
        "id": "3SEqNbjX6VS9"
      },
      "source": [
        "## Task:\n",
        "\n",
        "Try out different tf.math functions available!"
      ]
    },
    {
      "cell_type": "code",
      "metadata": {
        "id": "cmoFX4iF3Ocp"
      },
      "source": [
        ""
      ],
      "execution_count": null,
      "outputs": []
    }
  ]
}