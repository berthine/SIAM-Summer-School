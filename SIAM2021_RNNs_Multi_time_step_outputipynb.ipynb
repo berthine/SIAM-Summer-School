{
  "nbformat": 4,
  "nbformat_minor": 0,
  "metadata": {
    "colab": {
      "name": "SIAM2021 - RNNs Multi-time step outputipynb",
      "provenance": [],
      "collapsed_sections": [
        "6AZYm0TW5gUT"
      ],
      "include_colab_link": true
    },
    "kernelspec": {
      "name": "python3",
      "display_name": "Python 3"
    },
    "language_info": {
      "name": "python"
    }
  },
  "cells": [
    {
      "cell_type": "markdown",
      "metadata": {
        "id": "view-in-github",
        "colab_type": "text"
      },
      "source": [
        "<a href=\"https://colab.research.google.com/github/berthine/SIAM-Summer-School/blob/main/SIAM2021_RNNs_Multi_time_step_outputipynb.ipynb\" target=\"_parent\"><img src=\"https://colab.research.google.com/assets/colab-badge.svg\" alt=\"Open In Colab\"/></a>"
      ]
    },
    {
      "cell_type": "markdown",
      "metadata": {
        "id": "cKRlnQap5bHW"
      },
      "source": [
        "## Practical: Time series prediction 3\n",
        "(21/July/2021)\n",
        "\n",
        "### 2021 Gene Golub SIAM Summer School \n",
        "https://sites.google.com/aims.ac.za/g2s3/home \n",
        "\n",
        "Instructor\n",
        "\n",
        "<font color=\"green\">***Dr. Emmanuel Dufourq*** \n",
        "\n",
        "www.emmanueldufourq.com\n",
        "\n",
        "edufourq (['@']) gmail.com\n",
        "\n",
        "***African Institute for Mathematical Sciences***\n",
        "\n",
        "***Stellenbosch University***\n",
        "\n",
        "***2021***\n",
        "\n",
        "\n",
        "Material adapted from: https://www.tensorflow.org/tutorials/structured_data/time_series\n",
        "\n",
        "Code licensed under https://www.apache.org/licenses/LICENSE-2.0\n",
        "\n"
      ]
    },
    {
      "cell_type": "markdown",
      "metadata": {
        "id": "lKzpAaaDAlzw"
      },
      "source": [
        "## <font color=\"green\"> Learning outcomes:\n",
        "\n",
        "* Multi-time step outputs\n",
        "\n",
        "## <font color=\"green\">Data information:\n",
        "\n",
        "* Features: 14 real valued features\n",
        "\n",
        "* Output: real-valued targer (temperature)\n",
        "\n",
        "## <font color=\"green\">Tasks for participants (boolean)?\n",
        "\n",
        "* No, follow along and make your own modifications and make sure you understand\n"
      ]
    },
    {
      "cell_type": "code",
      "metadata": {
        "id": "yCKSzt1_5ZV6"
      },
      "source": [
        "import os\n",
        "import datetime\n",
        "\n",
        "import IPython\n",
        "import IPython.display\n",
        "import matplotlib as mpl\n",
        "import matplotlib.pyplot as plt\n",
        "import numpy as np\n",
        "import pandas as pd\n",
        "import seaborn as sns\n",
        "import tensorflow as tf\n",
        "\n",
        "mpl.rcParams['figure.figsize'] = (8, 6)\n",
        "mpl.rcParams['axes.grid'] = False"
      ],
      "execution_count": null,
      "outputs": []
    },
    {
      "cell_type": "markdown",
      "metadata": {
        "id": "6AZYm0TW5gUT"
      },
      "source": [
        "# Weather dataset\n",
        "\n"
      ]
    },
    {
      "cell_type": "markdown",
      "metadata": {
        "id": "2LREioIfcaKu"
      },
      "source": [
        "This dataset contains 14 different features such as air temperature, atmospheric pressure, and humidity. These were collected every 10 minutes, beginning in 2003. For efficiency, you will use only the data collected between 2009 and 2016. This section of the dataset was prepared by François Chollet for his book Deep Learning with Python.\n",
        "\n",
        "We will be working with time series data which orginates from here: https://www.bgc-jena.mpg.de/wetter/ first let's download a snapshot of data from 2009 to 2016. Below we extract the .zip data"
      ]
    },
    {
      "cell_type": "code",
      "metadata": {
        "id": "RMS25Eoi5dyX"
      },
      "source": [
        "zip_path = tf.keras.utils.get_file(\n",
        "    origin='https://storage.googleapis.com/tensorflow/tf-keras-datasets/jena_climate_2009_2016.csv.zip',\n",
        "    fname='jena_climate_2009_2016.csv.zip',\n",
        "    extract=True)\n",
        "csv_path, _ = os.path.splitext(zip_path)"
      ],
      "execution_count": null,
      "outputs": []
    },
    {
      "cell_type": "markdown",
      "metadata": {
        "id": "gmM1fUY2-pPH"
      },
      "source": [
        "Now let's read in the .csv data using Pandas."
      ]
    },
    {
      "cell_type": "code",
      "metadata": {
        "colab": {
          "base_uri": "https://localhost:8080/"
        },
        "id": "PBGLAvxp5m1Y",
        "outputId": "b52b80dc-6789-4bfa-f171-6f42aabde194"
      },
      "source": [
        "df = pd.read_csv(csv_path)\n",
        "df"
      ],
      "execution_count": null,
      "outputs": [
        {
          "output_type": "execute_result",
          "data": {
            "text/html": [
              "<div>\n",
              "<style scoped>\n",
              "    .dataframe tbody tr th:only-of-type {\n",
              "        vertical-align: middle;\n",
              "    }\n",
              "\n",
              "    .dataframe tbody tr th {\n",
              "        vertical-align: top;\n",
              "    }\n",
              "\n",
              "    .dataframe thead th {\n",
              "        text-align: right;\n",
              "    }\n",
              "</style>\n",
              "<table border=\"1\" class=\"dataframe\">\n",
              "  <thead>\n",
              "    <tr style=\"text-align: right;\">\n",
              "      <th></th>\n",
              "      <th>Date Time</th>\n",
              "      <th>p (mbar)</th>\n",
              "      <th>T (degC)</th>\n",
              "      <th>Tpot (K)</th>\n",
              "      <th>Tdew (degC)</th>\n",
              "      <th>rh (%)</th>\n",
              "      <th>VPmax (mbar)</th>\n",
              "      <th>VPact (mbar)</th>\n",
              "      <th>VPdef (mbar)</th>\n",
              "      <th>sh (g/kg)</th>\n",
              "      <th>H2OC (mmol/mol)</th>\n",
              "      <th>rho (g/m**3)</th>\n",
              "      <th>wv (m/s)</th>\n",
              "      <th>max. wv (m/s)</th>\n",
              "      <th>wd (deg)</th>\n",
              "    </tr>\n",
              "  </thead>\n",
              "  <tbody>\n",
              "    <tr>\n",
              "      <th>0</th>\n",
              "      <td>01.01.2009 00:10:00</td>\n",
              "      <td>996.52</td>\n",
              "      <td>-8.02</td>\n",
              "      <td>265.40</td>\n",
              "      <td>-8.90</td>\n",
              "      <td>93.30</td>\n",
              "      <td>3.33</td>\n",
              "      <td>3.11</td>\n",
              "      <td>0.22</td>\n",
              "      <td>1.94</td>\n",
              "      <td>3.12</td>\n",
              "      <td>1307.75</td>\n",
              "      <td>1.03</td>\n",
              "      <td>1.75</td>\n",
              "      <td>152.3</td>\n",
              "    </tr>\n",
              "    <tr>\n",
              "      <th>1</th>\n",
              "      <td>01.01.2009 00:20:00</td>\n",
              "      <td>996.57</td>\n",
              "      <td>-8.41</td>\n",
              "      <td>265.01</td>\n",
              "      <td>-9.28</td>\n",
              "      <td>93.40</td>\n",
              "      <td>3.23</td>\n",
              "      <td>3.02</td>\n",
              "      <td>0.21</td>\n",
              "      <td>1.89</td>\n",
              "      <td>3.03</td>\n",
              "      <td>1309.80</td>\n",
              "      <td>0.72</td>\n",
              "      <td>1.50</td>\n",
              "      <td>136.1</td>\n",
              "    </tr>\n",
              "    <tr>\n",
              "      <th>2</th>\n",
              "      <td>01.01.2009 00:30:00</td>\n",
              "      <td>996.53</td>\n",
              "      <td>-8.51</td>\n",
              "      <td>264.91</td>\n",
              "      <td>-9.31</td>\n",
              "      <td>93.90</td>\n",
              "      <td>3.21</td>\n",
              "      <td>3.01</td>\n",
              "      <td>0.20</td>\n",
              "      <td>1.88</td>\n",
              "      <td>3.02</td>\n",
              "      <td>1310.24</td>\n",
              "      <td>0.19</td>\n",
              "      <td>0.63</td>\n",
              "      <td>171.6</td>\n",
              "    </tr>\n",
              "    <tr>\n",
              "      <th>3</th>\n",
              "      <td>01.01.2009 00:40:00</td>\n",
              "      <td>996.51</td>\n",
              "      <td>-8.31</td>\n",
              "      <td>265.12</td>\n",
              "      <td>-9.07</td>\n",
              "      <td>94.20</td>\n",
              "      <td>3.26</td>\n",
              "      <td>3.07</td>\n",
              "      <td>0.19</td>\n",
              "      <td>1.92</td>\n",
              "      <td>3.08</td>\n",
              "      <td>1309.19</td>\n",
              "      <td>0.34</td>\n",
              "      <td>0.50</td>\n",
              "      <td>198.0</td>\n",
              "    </tr>\n",
              "    <tr>\n",
              "      <th>4</th>\n",
              "      <td>01.01.2009 00:50:00</td>\n",
              "      <td>996.51</td>\n",
              "      <td>-8.27</td>\n",
              "      <td>265.15</td>\n",
              "      <td>-9.04</td>\n",
              "      <td>94.10</td>\n",
              "      <td>3.27</td>\n",
              "      <td>3.08</td>\n",
              "      <td>0.19</td>\n",
              "      <td>1.92</td>\n",
              "      <td>3.09</td>\n",
              "      <td>1309.00</td>\n",
              "      <td>0.32</td>\n",
              "      <td>0.63</td>\n",
              "      <td>214.3</td>\n",
              "    </tr>\n",
              "    <tr>\n",
              "      <th>...</th>\n",
              "      <td>...</td>\n",
              "      <td>...</td>\n",
              "      <td>...</td>\n",
              "      <td>...</td>\n",
              "      <td>...</td>\n",
              "      <td>...</td>\n",
              "      <td>...</td>\n",
              "      <td>...</td>\n",
              "      <td>...</td>\n",
              "      <td>...</td>\n",
              "      <td>...</td>\n",
              "      <td>...</td>\n",
              "      <td>...</td>\n",
              "      <td>...</td>\n",
              "      <td>...</td>\n",
              "    </tr>\n",
              "    <tr>\n",
              "      <th>420546</th>\n",
              "      <td>31.12.2016 23:20:00</td>\n",
              "      <td>1000.07</td>\n",
              "      <td>-4.05</td>\n",
              "      <td>269.10</td>\n",
              "      <td>-8.13</td>\n",
              "      <td>73.10</td>\n",
              "      <td>4.52</td>\n",
              "      <td>3.30</td>\n",
              "      <td>1.22</td>\n",
              "      <td>2.06</td>\n",
              "      <td>3.30</td>\n",
              "      <td>1292.98</td>\n",
              "      <td>0.67</td>\n",
              "      <td>1.52</td>\n",
              "      <td>240.0</td>\n",
              "    </tr>\n",
              "    <tr>\n",
              "      <th>420547</th>\n",
              "      <td>31.12.2016 23:30:00</td>\n",
              "      <td>999.93</td>\n",
              "      <td>-3.35</td>\n",
              "      <td>269.81</td>\n",
              "      <td>-8.06</td>\n",
              "      <td>69.71</td>\n",
              "      <td>4.77</td>\n",
              "      <td>3.32</td>\n",
              "      <td>1.44</td>\n",
              "      <td>2.07</td>\n",
              "      <td>3.32</td>\n",
              "      <td>1289.44</td>\n",
              "      <td>1.14</td>\n",
              "      <td>1.92</td>\n",
              "      <td>234.3</td>\n",
              "    </tr>\n",
              "    <tr>\n",
              "      <th>420548</th>\n",
              "      <td>31.12.2016 23:40:00</td>\n",
              "      <td>999.82</td>\n",
              "      <td>-3.16</td>\n",
              "      <td>270.01</td>\n",
              "      <td>-8.21</td>\n",
              "      <td>67.91</td>\n",
              "      <td>4.84</td>\n",
              "      <td>3.28</td>\n",
              "      <td>1.55</td>\n",
              "      <td>2.05</td>\n",
              "      <td>3.28</td>\n",
              "      <td>1288.39</td>\n",
              "      <td>1.08</td>\n",
              "      <td>2.00</td>\n",
              "      <td>215.2</td>\n",
              "    </tr>\n",
              "    <tr>\n",
              "      <th>420549</th>\n",
              "      <td>31.12.2016 23:50:00</td>\n",
              "      <td>999.81</td>\n",
              "      <td>-4.23</td>\n",
              "      <td>268.94</td>\n",
              "      <td>-8.53</td>\n",
              "      <td>71.80</td>\n",
              "      <td>4.46</td>\n",
              "      <td>3.20</td>\n",
              "      <td>1.26</td>\n",
              "      <td>1.99</td>\n",
              "      <td>3.20</td>\n",
              "      <td>1293.56</td>\n",
              "      <td>1.49</td>\n",
              "      <td>2.16</td>\n",
              "      <td>225.8</td>\n",
              "    </tr>\n",
              "    <tr>\n",
              "      <th>420550</th>\n",
              "      <td>01.01.2017 00:00:00</td>\n",
              "      <td>999.82</td>\n",
              "      <td>-4.82</td>\n",
              "      <td>268.36</td>\n",
              "      <td>-8.42</td>\n",
              "      <td>75.70</td>\n",
              "      <td>4.27</td>\n",
              "      <td>3.23</td>\n",
              "      <td>1.04</td>\n",
              "      <td>2.01</td>\n",
              "      <td>3.23</td>\n",
              "      <td>1296.38</td>\n",
              "      <td>1.23</td>\n",
              "      <td>1.96</td>\n",
              "      <td>184.9</td>\n",
              "    </tr>\n",
              "  </tbody>\n",
              "</table>\n",
              "<p>420551 rows × 15 columns</p>\n",
              "</div>"
            ],
            "text/plain": [
              "                  Date Time  p (mbar)  ...  max. wv (m/s)  wd (deg)\n",
              "0       01.01.2009 00:10:00    996.52  ...           1.75     152.3\n",
              "1       01.01.2009 00:20:00    996.57  ...           1.50     136.1\n",
              "2       01.01.2009 00:30:00    996.53  ...           0.63     171.6\n",
              "3       01.01.2009 00:40:00    996.51  ...           0.50     198.0\n",
              "4       01.01.2009 00:50:00    996.51  ...           0.63     214.3\n",
              "...                     ...       ...  ...            ...       ...\n",
              "420546  31.12.2016 23:20:00   1000.07  ...           1.52     240.0\n",
              "420547  31.12.2016 23:30:00    999.93  ...           1.92     234.3\n",
              "420548  31.12.2016 23:40:00    999.82  ...           2.00     215.2\n",
              "420549  31.12.2016 23:50:00    999.81  ...           2.16     225.8\n",
              "420550  01.01.2017 00:00:00    999.82  ...           1.96     184.9\n",
              "\n",
              "[420551 rows x 15 columns]"
            ]
          },
          "metadata": {
            "tags": []
          },
          "execution_count": 24
        }
      ]
    },
    {
      "cell_type": "markdown",
      "metadata": {
        "id": "eegGndqI-NAI"
      },
      "source": [
        "# Preprocessing"
      ]
    },
    {
      "cell_type": "markdown",
      "metadata": {
        "id": "wgzkVtt65nEe"
      },
      "source": [
        "## Hourly predictions\n",
        "\n",
        "Slice the data to extract only every 6th record. The original data has one row for every 10 minutes."
      ]
    },
    {
      "cell_type": "code",
      "metadata": {
        "id": "xl02Fzx85nIy"
      },
      "source": [
        "# slice [start:stop:step], starting from index 5 take every 6th record.\n",
        "df = df[5::6]\n",
        "\n",
        "date_time = pd.to_datetime(df.pop('Date Time'), format='%d.%m.%Y %H:%M:%S')"
      ],
      "execution_count": null,
      "outputs": []
    },
    {
      "cell_type": "code",
      "metadata": {
        "colab": {
          "base_uri": "https://localhost:8080/",
          "height": 206
        },
        "id": "dhsnBTKT5nru",
        "outputId": "059438a5-df09-432a-e7fe-02b8fdcf4e09"
      },
      "source": [
        "df.head()"
      ],
      "execution_count": null,
      "outputs": [
        {
          "output_type": "execute_result",
          "data": {
            "text/html": [
              "<div>\n",
              "<style scoped>\n",
              "    .dataframe tbody tr th:only-of-type {\n",
              "        vertical-align: middle;\n",
              "    }\n",
              "\n",
              "    .dataframe tbody tr th {\n",
              "        vertical-align: top;\n",
              "    }\n",
              "\n",
              "    .dataframe thead th {\n",
              "        text-align: right;\n",
              "    }\n",
              "</style>\n",
              "<table border=\"1\" class=\"dataframe\">\n",
              "  <thead>\n",
              "    <tr style=\"text-align: right;\">\n",
              "      <th></th>\n",
              "      <th>p (mbar)</th>\n",
              "      <th>T (degC)</th>\n",
              "      <th>Tpot (K)</th>\n",
              "      <th>Tdew (degC)</th>\n",
              "      <th>rh (%)</th>\n",
              "      <th>VPmax (mbar)</th>\n",
              "      <th>VPact (mbar)</th>\n",
              "      <th>VPdef (mbar)</th>\n",
              "      <th>sh (g/kg)</th>\n",
              "      <th>H2OC (mmol/mol)</th>\n",
              "      <th>rho (g/m**3)</th>\n",
              "      <th>wv (m/s)</th>\n",
              "      <th>max. wv (m/s)</th>\n",
              "      <th>wd (deg)</th>\n",
              "    </tr>\n",
              "  </thead>\n",
              "  <tbody>\n",
              "    <tr>\n",
              "      <th>5</th>\n",
              "      <td>996.50</td>\n",
              "      <td>-8.05</td>\n",
              "      <td>265.38</td>\n",
              "      <td>-8.78</td>\n",
              "      <td>94.4</td>\n",
              "      <td>3.33</td>\n",
              "      <td>3.14</td>\n",
              "      <td>0.19</td>\n",
              "      <td>1.96</td>\n",
              "      <td>3.15</td>\n",
              "      <td>1307.86</td>\n",
              "      <td>0.21</td>\n",
              "      <td>0.63</td>\n",
              "      <td>192.7</td>\n",
              "    </tr>\n",
              "    <tr>\n",
              "      <th>11</th>\n",
              "      <td>996.62</td>\n",
              "      <td>-8.88</td>\n",
              "      <td>264.54</td>\n",
              "      <td>-9.77</td>\n",
              "      <td>93.2</td>\n",
              "      <td>3.12</td>\n",
              "      <td>2.90</td>\n",
              "      <td>0.21</td>\n",
              "      <td>1.81</td>\n",
              "      <td>2.91</td>\n",
              "      <td>1312.25</td>\n",
              "      <td>0.25</td>\n",
              "      <td>0.63</td>\n",
              "      <td>190.3</td>\n",
              "    </tr>\n",
              "    <tr>\n",
              "      <th>17</th>\n",
              "      <td>996.84</td>\n",
              "      <td>-8.81</td>\n",
              "      <td>264.59</td>\n",
              "      <td>-9.66</td>\n",
              "      <td>93.5</td>\n",
              "      <td>3.13</td>\n",
              "      <td>2.93</td>\n",
              "      <td>0.20</td>\n",
              "      <td>1.83</td>\n",
              "      <td>2.94</td>\n",
              "      <td>1312.18</td>\n",
              "      <td>0.18</td>\n",
              "      <td>0.63</td>\n",
              "      <td>167.2</td>\n",
              "    </tr>\n",
              "    <tr>\n",
              "      <th>23</th>\n",
              "      <td>996.99</td>\n",
              "      <td>-9.05</td>\n",
              "      <td>264.34</td>\n",
              "      <td>-10.02</td>\n",
              "      <td>92.6</td>\n",
              "      <td>3.07</td>\n",
              "      <td>2.85</td>\n",
              "      <td>0.23</td>\n",
              "      <td>1.78</td>\n",
              "      <td>2.85</td>\n",
              "      <td>1313.61</td>\n",
              "      <td>0.10</td>\n",
              "      <td>0.38</td>\n",
              "      <td>240.0</td>\n",
              "    </tr>\n",
              "    <tr>\n",
              "      <th>29</th>\n",
              "      <td>997.46</td>\n",
              "      <td>-9.63</td>\n",
              "      <td>263.72</td>\n",
              "      <td>-10.65</td>\n",
              "      <td>92.2</td>\n",
              "      <td>2.94</td>\n",
              "      <td>2.71</td>\n",
              "      <td>0.23</td>\n",
              "      <td>1.69</td>\n",
              "      <td>2.71</td>\n",
              "      <td>1317.19</td>\n",
              "      <td>0.40</td>\n",
              "      <td>0.88</td>\n",
              "      <td>157.0</td>\n",
              "    </tr>\n",
              "  </tbody>\n",
              "</table>\n",
              "</div>"
            ],
            "text/plain": [
              "    p (mbar)  T (degC)  Tpot (K)  ...  wv (m/s)  max. wv (m/s)  wd (deg)\n",
              "5     996.50     -8.05    265.38  ...      0.21           0.63     192.7\n",
              "11    996.62     -8.88    264.54  ...      0.25           0.63     190.3\n",
              "17    996.84     -8.81    264.59  ...      0.18           0.63     167.2\n",
              "23    996.99     -9.05    264.34  ...      0.10           0.38     240.0\n",
              "29    997.46     -9.63    263.72  ...      0.40           0.88     157.0\n",
              "\n",
              "[5 rows x 14 columns]"
            ]
          },
          "metadata": {
            "tags": []
          },
          "execution_count": 26
        }
      ]
    },
    {
      "cell_type": "markdown",
      "metadata": {
        "id": "utimtNaI5tnG"
      },
      "source": [
        "## Visualise all of the data for some variables"
      ]
    },
    {
      "cell_type": "code",
      "metadata": {
        "colab": {
          "base_uri": "https://localhost:8080/",
          "height": 371
        },
        "id": "BpEk2St75tw3",
        "outputId": "903eec86-e213-4f94-d4a9-552b524f454d"
      },
      "source": [
        "plot_cols = ['T (degC)', 'p (mbar)', 'rho (g/m**3)']\n",
        "plot_features = df[plot_cols]\n",
        "plot_features.index = date_time\n",
        "_ = plot_features.plot(subplots=True)"
      ],
      "execution_count": null,
      "outputs": [
        {
          "output_type": "display_data",
          "data": {
            "image/png": "[encoded data removed]",
            "text/plain": [
              "<Figure size 576x432 with 3 Axes>"
            ]
          },
          "metadata": {
            "tags": [],
            "needs_background": "light"
          }
        }
      ]
    },
    {
      "cell_type": "markdown",
      "metadata": {
        "id": "PLIoW-OftdWm"
      },
      "source": [
        "## Visualise some of the data for some variables"
      ]
    },
    {
      "cell_type": "code",
      "metadata": {
        "colab": {
          "base_uri": "https://localhost:8080/",
          "height": 385
        },
        "id": "VfUVZMBz5uIE",
        "outputId": "3b042432-ee1f-4212-f7a7-90fb8be5e878"
      },
      "source": [
        "plot_features = df[plot_cols][:480]\n",
        "plot_features.index = date_time[:480]\n",
        "_ = plot_features.plot(subplots=True)"
      ],
      "execution_count": null,
      "outputs": [
        {
          "output_type": "display_data",
          "data": {
            "image/png": "[encoded data removed]",
            "text/plain": [
              "<Figure size 576x432 with 3 Axes>"
            ]
          },
          "metadata": {
            "tags": [],
            "needs_background": "light"
          }
        }
      ]
    },
    {
      "cell_type": "markdown",
      "metadata": {
        "id": "jLKs2AEp62FN"
      },
      "source": [
        "## Clean up the data\n",
        "\n",
        "More details available here: https://www.tensorflow.org/tutorials/structured_data/time_series"
      ]
    },
    {
      "cell_type": "code",
      "metadata": {
        "colab": {
          "base_uri": "https://localhost:8080/"
        },
        "id": "X-KRih7x6Kqo",
        "outputId": "fd90447d-f0b4-4474-97f0-13a59c0dcae3"
      },
      "source": [
        "wv = df['wv (m/s)']\n",
        "bad_wv = wv == -9999.0\n",
        "wv[bad_wv] = 0.0\n",
        "\n",
        "max_wv = df['max. wv (m/s)']\n",
        "bad_max_wv = max_wv == -9999.0\n",
        "max_wv[bad_max_wv] = 0.0\n",
        "\n",
        "# The above inplace edits are reflected in the DataFrame\n",
        "df['wv (m/s)'].min()\n",
        "\n",
        "wv = df.pop('wv (m/s)')\n",
        "max_wv = df.pop('max. wv (m/s)')\n",
        "\n",
        "# Convert to radians.\n",
        "wd_rad = df.pop('wd (deg)')*np.pi / 180\n",
        "\n",
        "# Calculate the wind x and y components.\n",
        "df['Wx'] = wv*np.cos(wd_rad)\n",
        "df['Wy'] = wv*np.sin(wd_rad)\n",
        "\n",
        "# Calculate the max wind x and y components.\n",
        "df['max Wx'] = max_wv*np.cos(wd_rad)\n",
        "df['max Wy'] = max_wv*np.sin(wd_rad)\n",
        "\n",
        "timestamp_s = date_time.map(pd.Timestamp.timestamp)\n",
        "day = 24*60*60\n",
        "year = (365.2425)*day\n",
        "\n",
        "df['Day sin'] = np.sin(timestamp_s * (2 * np.pi / day))\n",
        "df['Day cos'] = np.cos(timestamp_s * (2 * np.pi / day))\n",
        "df['Year sin'] = np.sin(timestamp_s * (2 * np.pi / year))\n",
        "df['Year cos'] = np.cos(timestamp_s * (2 * np.pi / year))\n"
      ],
      "execution_count": null,
      "outputs": [
        {
          "output_type": "stream",
          "text": [
            "/usr/local/lib/python3.7/dist-packages/pandas/core/series.py:1021: SettingWithCopyWarning: \n",
            "A value is trying to be set on a copy of a slice from a DataFrame\n",
            "\n",
            "See the caveats in the documentation: https://pandas.pydata.org/pandas-docs/stable/user_guide/indexing.html#returning-a-view-versus-a-copy\n",
            "  self._where(~key, value, inplace=True)\n",
            "/usr/local/lib/python3.7/dist-packages/pandas/core/series.py:1021: SettingWithCopyWarning: \n",
            "A value is trying to be set on a copy of a slice from a DataFrame\n",
            "\n",
            "See the caveats in the documentation: https://pandas.pydata.org/pandas-docs/stable/user_guide/indexing.html#returning-a-view-versus-a-copy\n",
            "  self._where(~key, value, inplace=True)\n",
            "/usr/local/lib/python3.7/dist-packages/ipykernel_launcher.py:19: SettingWithCopyWarning: \n",
            "A value is trying to be set on a copy of a slice from a DataFrame.\n",
            "Try using .loc[row_indexer,col_indexer] = value instead\n",
            "\n",
            "See the caveats in the documentation: https://pandas.pydata.org/pandas-docs/stable/user_guide/indexing.html#returning-a-view-versus-a-copy\n",
            "/usr/local/lib/python3.7/dist-packages/ipykernel_launcher.py:20: SettingWithCopyWarning: \n",
            "A value is trying to be set on a copy of a slice from a DataFrame.\n",
            "Try using .loc[row_indexer,col_indexer] = value instead\n",
            "\n",
            "See the caveats in the documentation: https://pandas.pydata.org/pandas-docs/stable/user_guide/indexing.html#returning-a-view-versus-a-copy\n",
            "/usr/local/lib/python3.7/dist-packages/ipykernel_launcher.py:23: SettingWithCopyWarning: \n",
            "A value is trying to be set on a copy of a slice from a DataFrame.\n",
            "Try using .loc[row_indexer,col_indexer] = value instead\n",
            "\n",
            "See the caveats in the documentation: https://pandas.pydata.org/pandas-docs/stable/user_guide/indexing.html#returning-a-view-versus-a-copy\n",
            "/usr/local/lib/python3.7/dist-packages/ipykernel_launcher.py:24: SettingWithCopyWarning: \n",
            "A value is trying to be set on a copy of a slice from a DataFrame.\n",
            "Try using .loc[row_indexer,col_indexer] = value instead\n",
            "\n",
            "See the caveats in the documentation: https://pandas.pydata.org/pandas-docs/stable/user_guide/indexing.html#returning-a-view-versus-a-copy\n",
            "/usr/local/lib/python3.7/dist-packages/ipykernel_launcher.py:30: SettingWithCopyWarning: \n",
            "A value is trying to be set on a copy of a slice from a DataFrame.\n",
            "Try using .loc[row_indexer,col_indexer] = value instead\n",
            "\n",
            "See the caveats in the documentation: https://pandas.pydata.org/pandas-docs/stable/user_guide/indexing.html#returning-a-view-versus-a-copy\n",
            "/usr/local/lib/python3.7/dist-packages/ipykernel_launcher.py:31: SettingWithCopyWarning: \n",
            "A value is trying to be set on a copy of a slice from a DataFrame.\n",
            "Try using .loc[row_indexer,col_indexer] = value instead\n",
            "\n",
            "See the caveats in the documentation: https://pandas.pydata.org/pandas-docs/stable/user_guide/indexing.html#returning-a-view-versus-a-copy\n",
            "/usr/local/lib/python3.7/dist-packages/ipykernel_launcher.py:32: SettingWithCopyWarning: \n",
            "A value is trying to be set on a copy of a slice from a DataFrame.\n",
            "Try using .loc[row_indexer,col_indexer] = value instead\n",
            "\n",
            "See the caveats in the documentation: https://pandas.pydata.org/pandas-docs/stable/user_guide/indexing.html#returning-a-view-versus-a-copy\n",
            "/usr/local/lib/python3.7/dist-packages/ipykernel_launcher.py:33: SettingWithCopyWarning: \n",
            "A value is trying to be set on a copy of a slice from a DataFrame.\n",
            "Try using .loc[row_indexer,col_indexer] = value instead\n",
            "\n",
            "See the caveats in the documentation: https://pandas.pydata.org/pandas-docs/stable/user_guide/indexing.html#returning-a-view-versus-a-copy\n"
          ],
          "name": "stderr"
        }
      ]
    },
    {
      "cell_type": "code",
      "metadata": {
        "id": "rRu46QfXFKJZ",
        "colab": {
          "base_uri": "https://localhost:8080/",
          "height": 441
        },
        "outputId": "bdc236ec-bfdb-4976-916b-82a0d540cb41"
      },
      "source": [
        "df"
      ],
      "execution_count": null,
      "outputs": [
        {
          "output_type": "execute_result",
          "data": {
            "text/html": [
              "<div>\n",
              "<style scoped>\n",
              "    .dataframe tbody tr th:only-of-type {\n",
              "        vertical-align: middle;\n",
              "    }\n",
              "\n",
              "    .dataframe tbody tr th {\n",
              "        vertical-align: top;\n",
              "    }\n",
              "\n",
              "    .dataframe thead th {\n",
              "        text-align: right;\n",
              "    }\n",
              "</style>\n",
              "<table border=\"1\" class=\"dataframe\">\n",
              "  <thead>\n",
              "    <tr style=\"text-align: right;\">\n",
              "      <th></th>\n",
              "      <th>p (mbar)</th>\n",
              "      <th>T (degC)</th>\n",
              "      <th>Tpot (K)</th>\n",
              "      <th>Tdew (degC)</th>\n",
              "      <th>rh (%)</th>\n",
              "      <th>VPmax (mbar)</th>\n",
              "      <th>VPact (mbar)</th>\n",
              "      <th>VPdef (mbar)</th>\n",
              "      <th>sh (g/kg)</th>\n",
              "      <th>H2OC (mmol/mol)</th>\n",
              "      <th>rho (g/m**3)</th>\n",
              "      <th>Wx</th>\n",
              "      <th>Wy</th>\n",
              "      <th>max Wx</th>\n",
              "      <th>max Wy</th>\n",
              "      <th>Day sin</th>\n",
              "      <th>Day cos</th>\n",
              "      <th>Year sin</th>\n",
              "      <th>Year cos</th>\n",
              "    </tr>\n",
              "  </thead>\n",
              "  <tbody>\n",
              "    <tr>\n",
              "      <th>5</th>\n",
              "      <td>996.50</td>\n",
              "      <td>-8.05</td>\n",
              "      <td>265.38</td>\n",
              "      <td>-8.78</td>\n",
              "      <td>94.40</td>\n",
              "      <td>3.33</td>\n",
              "      <td>3.14</td>\n",
              "      <td>0.19</td>\n",
              "      <td>1.96</td>\n",
              "      <td>3.15</td>\n",
              "      <td>1307.86</td>\n",
              "      <td>-0.204862</td>\n",
              "      <td>-0.046168</td>\n",
              "      <td>-0.614587</td>\n",
              "      <td>-0.138503</td>\n",
              "      <td>0.258819</td>\n",
              "      <td>0.965926</td>\n",
              "      <td>0.010049</td>\n",
              "      <td>0.999950</td>\n",
              "    </tr>\n",
              "    <tr>\n",
              "      <th>11</th>\n",
              "      <td>996.62</td>\n",
              "      <td>-8.88</td>\n",
              "      <td>264.54</td>\n",
              "      <td>-9.77</td>\n",
              "      <td>93.20</td>\n",
              "      <td>3.12</td>\n",
              "      <td>2.90</td>\n",
              "      <td>0.21</td>\n",
              "      <td>1.81</td>\n",
              "      <td>2.91</td>\n",
              "      <td>1312.25</td>\n",
              "      <td>-0.245971</td>\n",
              "      <td>-0.044701</td>\n",
              "      <td>-0.619848</td>\n",
              "      <td>-0.112645</td>\n",
              "      <td>0.500000</td>\n",
              "      <td>0.866025</td>\n",
              "      <td>0.010766</td>\n",
              "      <td>0.999942</td>\n",
              "    </tr>\n",
              "    <tr>\n",
              "      <th>17</th>\n",
              "      <td>996.84</td>\n",
              "      <td>-8.81</td>\n",
              "      <td>264.59</td>\n",
              "      <td>-9.66</td>\n",
              "      <td>93.50</td>\n",
              "      <td>3.13</td>\n",
              "      <td>2.93</td>\n",
              "      <td>0.20</td>\n",
              "      <td>1.83</td>\n",
              "      <td>2.94</td>\n",
              "      <td>1312.18</td>\n",
              "      <td>-0.175527</td>\n",
              "      <td>0.039879</td>\n",
              "      <td>-0.614344</td>\n",
              "      <td>0.139576</td>\n",
              "      <td>0.707107</td>\n",
              "      <td>0.707107</td>\n",
              "      <td>0.011483</td>\n",
              "      <td>0.999934</td>\n",
              "    </tr>\n",
              "    <tr>\n",
              "      <th>23</th>\n",
              "      <td>996.99</td>\n",
              "      <td>-9.05</td>\n",
              "      <td>264.34</td>\n",
              "      <td>-10.02</td>\n",
              "      <td>92.60</td>\n",
              "      <td>3.07</td>\n",
              "      <td>2.85</td>\n",
              "      <td>0.23</td>\n",
              "      <td>1.78</td>\n",
              "      <td>2.85</td>\n",
              "      <td>1313.61</td>\n",
              "      <td>-0.050000</td>\n",
              "      <td>-0.086603</td>\n",
              "      <td>-0.190000</td>\n",
              "      <td>-0.329090</td>\n",
              "      <td>0.866025</td>\n",
              "      <td>0.500000</td>\n",
              "      <td>0.012199</td>\n",
              "      <td>0.999926</td>\n",
              "    </tr>\n",
              "    <tr>\n",
              "      <th>29</th>\n",
              "      <td>997.46</td>\n",
              "      <td>-9.63</td>\n",
              "      <td>263.72</td>\n",
              "      <td>-10.65</td>\n",
              "      <td>92.20</td>\n",
              "      <td>2.94</td>\n",
              "      <td>2.71</td>\n",
              "      <td>0.23</td>\n",
              "      <td>1.69</td>\n",
              "      <td>2.71</td>\n",
              "      <td>1317.19</td>\n",
              "      <td>-0.368202</td>\n",
              "      <td>0.156292</td>\n",
              "      <td>-0.810044</td>\n",
              "      <td>0.343843</td>\n",
              "      <td>0.965926</td>\n",
              "      <td>0.258819</td>\n",
              "      <td>0.012916</td>\n",
              "      <td>0.999917</td>\n",
              "    </tr>\n",
              "    <tr>\n",
              "      <th>...</th>\n",
              "      <td>...</td>\n",
              "      <td>...</td>\n",
              "      <td>...</td>\n",
              "      <td>...</td>\n",
              "      <td>...</td>\n",
              "      <td>...</td>\n",
              "      <td>...</td>\n",
              "      <td>...</td>\n",
              "      <td>...</td>\n",
              "      <td>...</td>\n",
              "      <td>...</td>\n",
              "      <td>...</td>\n",
              "      <td>...</td>\n",
              "      <td>...</td>\n",
              "      <td>...</td>\n",
              "      <td>...</td>\n",
              "      <td>...</td>\n",
              "      <td>...</td>\n",
              "      <td>...</td>\n",
              "    </tr>\n",
              "    <tr>\n",
              "      <th>420521</th>\n",
              "      <td>1002.18</td>\n",
              "      <td>-0.98</td>\n",
              "      <td>272.01</td>\n",
              "      <td>-5.36</td>\n",
              "      <td>72.00</td>\n",
              "      <td>5.69</td>\n",
              "      <td>4.09</td>\n",
              "      <td>1.59</td>\n",
              "      <td>2.54</td>\n",
              "      <td>4.08</td>\n",
              "      <td>1280.70</td>\n",
              "      <td>-0.855154</td>\n",
              "      <td>-0.160038</td>\n",
              "      <td>-1.336792</td>\n",
              "      <td>-0.250174</td>\n",
              "      <td>-0.953717</td>\n",
              "      <td>0.300706</td>\n",
              "      <td>0.006900</td>\n",
              "      <td>0.999976</td>\n",
              "    </tr>\n",
              "    <tr>\n",
              "      <th>420527</th>\n",
              "      <td>1001.40</td>\n",
              "      <td>-1.40</td>\n",
              "      <td>271.66</td>\n",
              "      <td>-6.84</td>\n",
              "      <td>66.29</td>\n",
              "      <td>5.51</td>\n",
              "      <td>3.65</td>\n",
              "      <td>1.86</td>\n",
              "      <td>2.27</td>\n",
              "      <td>3.65</td>\n",
              "      <td>1281.87</td>\n",
              "      <td>-0.716196</td>\n",
              "      <td>-0.726267</td>\n",
              "      <td>-1.348134</td>\n",
              "      <td>-1.367090</td>\n",
              "      <td>-0.843391</td>\n",
              "      <td>0.537300</td>\n",
              "      <td>0.007617</td>\n",
              "      <td>0.999971</td>\n",
              "    </tr>\n",
              "    <tr>\n",
              "      <th>420533</th>\n",
              "      <td>1001.19</td>\n",
              "      <td>-2.75</td>\n",
              "      <td>270.32</td>\n",
              "      <td>-6.90</td>\n",
              "      <td>72.90</td>\n",
              "      <td>4.99</td>\n",
              "      <td>3.64</td>\n",
              "      <td>1.35</td>\n",
              "      <td>2.26</td>\n",
              "      <td>3.63</td>\n",
              "      <td>1288.02</td>\n",
              "      <td>-0.661501</td>\n",
              "      <td>0.257908</td>\n",
              "      <td>-1.453438</td>\n",
              "      <td>0.566672</td>\n",
              "      <td>-0.675590</td>\n",
              "      <td>0.737277</td>\n",
              "      <td>0.008334</td>\n",
              "      <td>0.999965</td>\n",
              "    </tr>\n",
              "    <tr>\n",
              "      <th>420539</th>\n",
              "      <td>1000.65</td>\n",
              "      <td>-2.89</td>\n",
              "      <td>270.22</td>\n",
              "      <td>-7.15</td>\n",
              "      <td>72.30</td>\n",
              "      <td>4.93</td>\n",
              "      <td>3.57</td>\n",
              "      <td>1.37</td>\n",
              "      <td>2.22</td>\n",
              "      <td>3.57</td>\n",
              "      <td>1288.03</td>\n",
              "      <td>-0.280621</td>\n",
              "      <td>-0.209169</td>\n",
              "      <td>-0.545207</td>\n",
              "      <td>-0.406385</td>\n",
              "      <td>-0.461749</td>\n",
              "      <td>0.887011</td>\n",
              "      <td>0.009050</td>\n",
              "      <td>0.999959</td>\n",
              "    </tr>\n",
              "    <tr>\n",
              "      <th>420545</th>\n",
              "      <td>1000.11</td>\n",
              "      <td>-3.93</td>\n",
              "      <td>269.23</td>\n",
              "      <td>-8.09</td>\n",
              "      <td>72.60</td>\n",
              "      <td>4.56</td>\n",
              "      <td>3.31</td>\n",
              "      <td>1.25</td>\n",
              "      <td>2.06</td>\n",
              "      <td>3.31</td>\n",
              "      <td>1292.41</td>\n",
              "      <td>-0.516998</td>\n",
              "      <td>-0.215205</td>\n",
              "      <td>-0.923210</td>\n",
              "      <td>-0.384295</td>\n",
              "      <td>-0.216440</td>\n",
              "      <td>0.976296</td>\n",
              "      <td>0.009767</td>\n",
              "      <td>0.999952</td>\n",
              "    </tr>\n",
              "  </tbody>\n",
              "</table>\n",
              "<p>70091 rows × 19 columns</p>\n",
              "</div>"
            ],
            "text/plain": [
              "        p (mbar)  T (degC)  Tpot (K)  ...   Day cos  Year sin  Year cos\n",
              "5         996.50     -8.05    265.38  ...  0.965926  0.010049  0.999950\n",
              "11        996.62     -8.88    264.54  ...  0.866025  0.010766  0.999942\n",
              "17        996.84     -8.81    264.59  ...  0.707107  0.011483  0.999934\n",
              "23        996.99     -9.05    264.34  ...  0.500000  0.012199  0.999926\n",
              "29        997.46     -9.63    263.72  ...  0.258819  0.012916  0.999917\n",
              "...          ...       ...       ...  ...       ...       ...       ...\n",
              "420521   1002.18     -0.98    272.01  ...  0.300706  0.006900  0.999976\n",
              "420527   1001.40     -1.40    271.66  ...  0.537300  0.007617  0.999971\n",
              "420533   1001.19     -2.75    270.32  ...  0.737277  0.008334  0.999965\n",
              "420539   1000.65     -2.89    270.22  ...  0.887011  0.009050  0.999959\n",
              "420545   1000.11     -3.93    269.23  ...  0.976296  0.009767  0.999952\n",
              "\n",
              "[70091 rows x 19 columns]"
            ]
          },
          "metadata": {
            "tags": []
          },
          "execution_count": 30
        }
      ]
    },
    {
      "cell_type": "markdown",
      "metadata": {
        "id": "LoQ58lLf7BbQ"
      },
      "source": [
        "## Split the data into training, validation and testing\n",
        "\n",
        "We clearly split the data such that the order is preserved and such that each split is disjoint. No random shuffling like for the previous problems."
      ]
    },
    {
      "cell_type": "code",
      "metadata": {
        "id": "cbziZEqx7Bie"
      },
      "source": [
        "column_indices = {name: i for i, name in enumerate(df.columns)}\n",
        "\n",
        "n = len(df)\n",
        "train_df = df[0:int(n*0.7)]\n",
        "val_df = df[int(n*0.7):int(n*0.9)]\n",
        "test_df = df[int(n*0.9):]\n",
        "\n",
        "num_features = df.shape[1]\n"
      ],
      "execution_count": null,
      "outputs": []
    },
    {
      "cell_type": "markdown",
      "metadata": {
        "id": "le9uMAJ57K7h"
      },
      "source": [
        "## Normalise each split\n",
        "\n",
        "Note how we are using the mean and sdev from the training data and applying it to the validation and testing!"
      ]
    },
    {
      "cell_type": "code",
      "metadata": {
        "id": "5gLWrmMF7LCB"
      },
      "source": [
        "train_mean = train_df.mean()\n",
        "train_std = train_df.std()\n",
        "\n",
        "train_df = (train_df - train_mean) / train_std\n",
        "val_df = (val_df - train_mean) / train_std\n",
        "test_df = (test_df - train_mean) / train_std"
      ],
      "execution_count": null,
      "outputs": []
    },
    {
      "cell_type": "code",
      "metadata": {
        "colab": {
          "base_uri": "https://localhost:8080/",
          "height": 224
        },
        "id": "GBki5tpv7AFE",
        "outputId": "a272514a-7cd8-4b96-d3a1-79df075814f4"
      },
      "source": [
        "train_df.head()"
      ],
      "execution_count": null,
      "outputs": [
        {
          "output_type": "execute_result",
          "data": {
            "text/html": [
              "<div>\n",
              "<style scoped>\n",
              "    .dataframe tbody tr th:only-of-type {\n",
              "        vertical-align: middle;\n",
              "    }\n",
              "\n",
              "    .dataframe tbody tr th {\n",
              "        vertical-align: top;\n",
              "    }\n",
              "\n",
              "    .dataframe thead th {\n",
              "        text-align: right;\n",
              "    }\n",
              "</style>\n",
              "<table border=\"1\" class=\"dataframe\">\n",
              "  <thead>\n",
              "    <tr style=\"text-align: right;\">\n",
              "      <th></th>\n",
              "      <th>p (mbar)</th>\n",
              "      <th>T (degC)</th>\n",
              "      <th>Tpot (K)</th>\n",
              "      <th>Tdew (degC)</th>\n",
              "      <th>rh (%)</th>\n",
              "      <th>VPmax (mbar)</th>\n",
              "      <th>VPact (mbar)</th>\n",
              "      <th>VPdef (mbar)</th>\n",
              "      <th>sh (g/kg)</th>\n",
              "      <th>H2OC (mmol/mol)</th>\n",
              "      <th>rho (g/m**3)</th>\n",
              "      <th>Wx</th>\n",
              "      <th>Wy</th>\n",
              "      <th>max Wx</th>\n",
              "      <th>max Wy</th>\n",
              "      <th>Day sin</th>\n",
              "      <th>Day cos</th>\n",
              "      <th>Year sin</th>\n",
              "      <th>Year cos</th>\n",
              "    </tr>\n",
              "  </thead>\n",
              "  <tbody>\n",
              "    <tr>\n",
              "      <th>5</th>\n",
              "      <td>0.945308</td>\n",
              "      <td>-1.982473</td>\n",
              "      <td>-2.041888</td>\n",
              "      <td>-1.918973</td>\n",
              "      <td>1.117102</td>\n",
              "      <td>-1.302851</td>\n",
              "      <td>-1.477323</td>\n",
              "      <td>-0.790424</td>\n",
              "      <td>-1.480036</td>\n",
              "      <td>-1.482697</td>\n",
              "      <td>2.218524</td>\n",
              "      <td>0.193409</td>\n",
              "      <td>0.221161</td>\n",
              "      <td>0.111140</td>\n",
              "      <td>0.217928</td>\n",
              "      <td>0.366111</td>\n",
              "      <td>1.366069</td>\n",
              "      <td>-0.061052</td>\n",
              "      <td>1.428434</td>\n",
              "    </tr>\n",
              "    <tr>\n",
              "      <th>11</th>\n",
              "      <td>0.959770</td>\n",
              "      <td>-2.078372</td>\n",
              "      <td>-2.138166</td>\n",
              "      <td>-2.060964</td>\n",
              "      <td>1.044617</td>\n",
              "      <td>-1.330143</td>\n",
              "      <td>-1.534354</td>\n",
              "      <td>-0.786272</td>\n",
              "      <td>-1.536190</td>\n",
              "      <td>-1.539035</td>\n",
              "      <td>2.325708</td>\n",
              "      <td>0.172987</td>\n",
              "      <td>0.222101</td>\n",
              "      <td>0.109458</td>\n",
              "      <td>0.227798</td>\n",
              "      <td>0.707200</td>\n",
              "      <td>1.224794</td>\n",
              "      <td>-0.060029</td>\n",
              "      <td>1.428424</td>\n",
              "    </tr>\n",
              "    <tr>\n",
              "      <th>17</th>\n",
              "      <td>0.986284</td>\n",
              "      <td>-2.070284</td>\n",
              "      <td>-2.132435</td>\n",
              "      <td>-2.045187</td>\n",
              "      <td>1.062738</td>\n",
              "      <td>-1.328843</td>\n",
              "      <td>-1.527225</td>\n",
              "      <td>-0.788348</td>\n",
              "      <td>-1.528703</td>\n",
              "      <td>-1.531992</td>\n",
              "      <td>2.323998</td>\n",
              "      <td>0.207983</td>\n",
              "      <td>0.276266</td>\n",
              "      <td>0.111218</td>\n",
              "      <td>0.324078</td>\n",
              "      <td>1.000100</td>\n",
              "      <td>1.000059</td>\n",
              "      <td>-0.059006</td>\n",
              "      <td>1.428412</td>\n",
              "    </tr>\n",
              "    <tr>\n",
              "      <th>23</th>\n",
              "      <td>1.004362</td>\n",
              "      <td>-2.098014</td>\n",
              "      <td>-2.161090</td>\n",
              "      <td>-2.096820</td>\n",
              "      <td>1.008375</td>\n",
              "      <td>-1.336641</td>\n",
              "      <td>-1.546235</td>\n",
              "      <td>-0.782121</td>\n",
              "      <td>-1.547420</td>\n",
              "      <td>-1.553119</td>\n",
              "      <td>2.358913</td>\n",
              "      <td>0.270343</td>\n",
              "      <td>0.195267</td>\n",
              "      <td>0.246907</td>\n",
              "      <td>0.145176</td>\n",
              "      <td>1.224850</td>\n",
              "      <td>0.707179</td>\n",
              "      <td>-0.057983</td>\n",
              "      <td>1.428400</td>\n",
              "    </tr>\n",
              "    <tr>\n",
              "      <th>29</th>\n",
              "      <td>1.061006</td>\n",
              "      <td>-2.165028</td>\n",
              "      <td>-2.232152</td>\n",
              "      <td>-2.187178</td>\n",
              "      <td>0.984214</td>\n",
              "      <td>-1.353535</td>\n",
              "      <td>-1.579503</td>\n",
              "      <td>-0.782121</td>\n",
              "      <td>-1.581113</td>\n",
              "      <td>-1.585982</td>\n",
              "      <td>2.446320</td>\n",
              "      <td>0.112264</td>\n",
              "      <td>0.350818</td>\n",
              "      <td>0.048640</td>\n",
              "      <td>0.402053</td>\n",
              "      <td>1.366133</td>\n",
              "      <td>0.366112</td>\n",
              "      <td>-0.056960</td>\n",
              "      <td>1.428388</td>\n",
              "    </tr>\n",
              "  </tbody>\n",
              "</table>\n",
              "</div>"
            ],
            "text/plain": [
              "    p (mbar)  T (degC)  Tpot (K)  ...   Day cos  Year sin  Year cos\n",
              "5   0.945308 -1.982473 -2.041888  ...  1.366069 -0.061052  1.428434\n",
              "11  0.959770 -2.078372 -2.138166  ...  1.224794 -0.060029  1.428424\n",
              "17  0.986284 -2.070284 -2.132435  ...  1.000059 -0.059006  1.428412\n",
              "23  1.004362 -2.098014 -2.161090  ...  0.707179 -0.057983  1.428400\n",
              "29  1.061006 -2.165028 -2.232152  ...  0.366112 -0.056960  1.428388\n",
              "\n",
              "[5 rows x 19 columns]"
            ]
          },
          "metadata": {
            "tags": []
          },
          "execution_count": 33
        }
      ]
    },
    {
      "cell_type": "code",
      "metadata": {
        "colab": {
          "base_uri": "https://localhost:8080/",
          "height": 224
        },
        "id": "ZS3U0TOR7DwQ",
        "outputId": "5a50fca3-75fc-4303-ef07-097ae8f8e82e"
      },
      "source": [
        "val_df.head()"
      ],
      "execution_count": null,
      "outputs": [
        {
          "output_type": "execute_result",
          "data": {
            "text/html": [
              "<div>\n",
              "<style scoped>\n",
              "    .dataframe tbody tr th:only-of-type {\n",
              "        vertical-align: middle;\n",
              "    }\n",
              "\n",
              "    .dataframe tbody tr th {\n",
              "        vertical-align: top;\n",
              "    }\n",
              "\n",
              "    .dataframe thead th {\n",
              "        text-align: right;\n",
              "    }\n",
              "</style>\n",
              "<table border=\"1\" class=\"dataframe\">\n",
              "  <thead>\n",
              "    <tr style=\"text-align: right;\">\n",
              "      <th></th>\n",
              "      <th>p (mbar)</th>\n",
              "      <th>T (degC)</th>\n",
              "      <th>Tpot (K)</th>\n",
              "      <th>Tdew (degC)</th>\n",
              "      <th>rh (%)</th>\n",
              "      <th>VPmax (mbar)</th>\n",
              "      <th>VPact (mbar)</th>\n",
              "      <th>VPdef (mbar)</th>\n",
              "      <th>sh (g/kg)</th>\n",
              "      <th>H2OC (mmol/mol)</th>\n",
              "      <th>rho (g/m**3)</th>\n",
              "      <th>Wx</th>\n",
              "      <th>Wy</th>\n",
              "      <th>max Wx</th>\n",
              "      <th>max Wy</th>\n",
              "      <th>Day sin</th>\n",
              "      <th>Day cos</th>\n",
              "      <th>Year sin</th>\n",
              "      <th>Year cos</th>\n",
              "    </tr>\n",
              "  </thead>\n",
              "  <tbody>\n",
              "    <tr>\n",
              "      <th>294383</th>\n",
              "      <td>0.213759</td>\n",
              "      <td>0.618351</td>\n",
              "      <td>0.597730</td>\n",
              "      <td>1.321003</td>\n",
              "      <td>1.207707</td>\n",
              "      <td>0.407409</td>\n",
              "      <td>1.535799</td>\n",
              "      <td>-0.688716</td>\n",
              "      <td>1.526045</td>\n",
              "      <td>1.526654</td>\n",
              "      <td>-0.601703</td>\n",
              "      <td>0.072253</td>\n",
              "      <td>-0.639008</td>\n",
              "      <td>0.089478</td>\n",
              "      <td>-0.535618</td>\n",
              "      <td>0.759951</td>\n",
              "      <td>1.192787</td>\n",
              "      <td>-0.859306</td>\n",
              "      <td>-1.151853</td>\n",
              "    </tr>\n",
              "    <tr>\n",
              "      <th>294389</th>\n",
              "      <td>0.241478</td>\n",
              "      <td>0.545560</td>\n",
              "      <td>0.523229</td>\n",
              "      <td>1.260764</td>\n",
              "      <td>1.286231</td>\n",
              "      <td>0.321636</td>\n",
              "      <td>1.433619</td>\n",
              "      <td>-0.738532</td>\n",
              "      <td>1.424968</td>\n",
              "      <td>1.423369</td>\n",
              "      <td>-0.526259</td>\n",
              "      <td>0.071987</td>\n",
              "      <td>-0.233849</td>\n",
              "      <td>0.079109</td>\n",
              "      <td>-0.188724</td>\n",
              "      <td>1.042768</td>\n",
              "      <td>0.955490</td>\n",
              "      <td>-0.860161</td>\n",
              "      <td>-1.151299</td>\n",
              "    </tr>\n",
              "    <tr>\n",
              "      <th>294395</th>\n",
              "      <td>0.258351</td>\n",
              "      <td>0.510898</td>\n",
              "      <td>0.487698</td>\n",
              "      <td>1.249290</td>\n",
              "      <td>1.370796</td>\n",
              "      <td>0.282648</td>\n",
              "      <td>1.414609</td>\n",
              "      <td>-0.784197</td>\n",
              "      <td>1.406250</td>\n",
              "      <td>1.404590</td>\n",
              "      <td>-0.490612</td>\n",
              "      <td>-0.459268</td>\n",
              "      <td>0.629912</td>\n",
              "      <td>-0.526513</td>\n",
              "      <td>0.659056</td>\n",
              "      <td>1.254528</td>\n",
              "      <td>0.653085</td>\n",
              "      <td>-0.861015</td>\n",
              "      <td>-1.150745</td>\n",
              "    </tr>\n",
              "    <tr>\n",
              "      <th>294401</th>\n",
              "      <td>0.277634</td>\n",
              "      <td>0.487789</td>\n",
              "      <td>0.463629</td>\n",
              "      <td>1.227776</td>\n",
              "      <td>1.388917</td>\n",
              "      <td>0.256656</td>\n",
              "      <td>1.378964</td>\n",
              "      <td>-0.794575</td>\n",
              "      <td>1.368815</td>\n",
              "      <td>1.367032</td>\n",
              "      <td>-0.463755</td>\n",
              "      <td>-0.086355</td>\n",
              "      <td>-0.297434</td>\n",
              "      <td>-0.068182</td>\n",
              "      <td>-0.229261</td>\n",
              "      <td>1.380799</td>\n",
              "      <td>0.306181</td>\n",
              "      <td>-0.861869</td>\n",
              "      <td>-1.150190</td>\n",
              "    </tr>\n",
              "    <tr>\n",
              "      <th>294407</th>\n",
              "      <td>0.294506</td>\n",
              "      <td>0.502810</td>\n",
              "      <td>0.476236</td>\n",
              "      <td>1.255027</td>\n",
              "      <td>1.413079</td>\n",
              "      <td>0.273551</td>\n",
              "      <td>1.424114</td>\n",
              "      <td>-0.807029</td>\n",
              "      <td>1.413738</td>\n",
              "      <td>1.413979</td>\n",
              "      <td>-0.474987</td>\n",
              "      <td>-0.421783</td>\n",
              "      <td>0.109299</td>\n",
              "      <td>-0.413007</td>\n",
              "      <td>0.139150</td>\n",
              "      <td>1.412977</td>\n",
              "      <td>-0.061582</td>\n",
              "      <td>-0.862723</td>\n",
              "      <td>-1.149635</td>\n",
              "    </tr>\n",
              "  </tbody>\n",
              "</table>\n",
              "</div>"
            ],
            "text/plain": [
              "        p (mbar)  T (degC)  Tpot (K)  ...   Day cos  Year sin  Year cos\n",
              "294383  0.213759  0.618351  0.597730  ...  1.192787 -0.859306 -1.151853\n",
              "294389  0.241478  0.545560  0.523229  ...  0.955490 -0.860161 -1.151299\n",
              "294395  0.258351  0.510898  0.487698  ...  0.653085 -0.861015 -1.150745\n",
              "294401  0.277634  0.487789  0.463629  ...  0.306181 -0.861869 -1.150190\n",
              "294407  0.294506  0.502810  0.476236  ... -0.061582 -0.862723 -1.149635\n",
              "\n",
              "[5 rows x 19 columns]"
            ]
          },
          "metadata": {
            "tags": []
          },
          "execution_count": 34
        }
      ]
    },
    {
      "cell_type": "code",
      "metadata": {
        "colab": {
          "base_uri": "https://localhost:8080/",
          "height": 224
        },
        "id": "8yf_DwgN7FON",
        "outputId": "1f8bf6ce-ec4d-41b8-b6f4-ba5a62e9c068"
      },
      "source": [
        "test_df.head()"
      ],
      "execution_count": null,
      "outputs": [
        {
          "output_type": "execute_result",
          "data": {
            "text/html": [
              "<div>\n",
              "<style scoped>\n",
              "    .dataframe tbody tr th:only-of-type {\n",
              "        vertical-align: middle;\n",
              "    }\n",
              "\n",
              "    .dataframe tbody tr th {\n",
              "        vertical-align: top;\n",
              "    }\n",
              "\n",
              "    .dataframe thead th {\n",
              "        text-align: right;\n",
              "    }\n",
              "</style>\n",
              "<table border=\"1\" class=\"dataframe\">\n",
              "  <thead>\n",
              "    <tr style=\"text-align: right;\">\n",
              "      <th></th>\n",
              "      <th>p (mbar)</th>\n",
              "      <th>T (degC)</th>\n",
              "      <th>Tpot (K)</th>\n",
              "      <th>Tdew (degC)</th>\n",
              "      <th>rh (%)</th>\n",
              "      <th>VPmax (mbar)</th>\n",
              "      <th>VPact (mbar)</th>\n",
              "      <th>VPdef (mbar)</th>\n",
              "      <th>sh (g/kg)</th>\n",
              "      <th>H2OC (mmol/mol)</th>\n",
              "      <th>rho (g/m**3)</th>\n",
              "      <th>Wx</th>\n",
              "      <th>Wy</th>\n",
              "      <th>max Wx</th>\n",
              "      <th>max Wy</th>\n",
              "      <th>Day sin</th>\n",
              "      <th>Day cos</th>\n",
              "      <th>Year sin</th>\n",
              "      <th>Year cos</th>\n",
              "    </tr>\n",
              "  </thead>\n",
              "  <tbody>\n",
              "    <tr>\n",
              "      <th>378491</th>\n",
              "      <td>1.599724</td>\n",
              "      <td>-0.728855</td>\n",
              "      <td>-0.846438</td>\n",
              "      <td>-0.480418</td>\n",
              "      <td>0.821124</td>\n",
              "      <td>-0.764821</td>\n",
              "      <td>-0.633744</td>\n",
              "      <td>-0.667960</td>\n",
              "      <td>-0.656453</td>\n",
              "      <td>-0.654069</td>\n",
              "      <td>1.089310</td>\n",
              "      <td>1.623820</td>\n",
              "      <td>1.106908</td>\n",
              "      <td>1.557556</td>\n",
              "      <td>1.016688</td>\n",
              "      <td>-1.224696</td>\n",
              "      <td>0.707179</td>\n",
              "      <td>1.262942</td>\n",
              "      <td>0.511342</td>\n",
              "    </tr>\n",
              "    <tr>\n",
              "      <th>378497</th>\n",
              "      <td>1.653958</td>\n",
              "      <td>-0.734632</td>\n",
              "      <td>-0.856754</td>\n",
              "      <td>-0.563604</td>\n",
              "      <td>0.615753</td>\n",
              "      <td>-0.767420</td>\n",
              "      <td>-0.700280</td>\n",
              "      <td>-0.613992</td>\n",
              "      <td>-0.720093</td>\n",
              "      <td>-0.719796</td>\n",
              "      <td>1.112016</td>\n",
              "      <td>1.704558</td>\n",
              "      <td>0.855454</td>\n",
              "      <td>1.888362</td>\n",
              "      <td>0.898892</td>\n",
              "      <td>-0.999946</td>\n",
              "      <td>1.000059</td>\n",
              "      <td>1.263298</td>\n",
              "      <td>0.510397</td>\n",
              "    </tr>\n",
              "    <tr>\n",
              "      <th>378503</th>\n",
              "      <td>1.684087</td>\n",
              "      <td>-0.768139</td>\n",
              "      <td>-0.892285</td>\n",
              "      <td>-0.593724</td>\n",
              "      <td>0.645954</td>\n",
              "      <td>-0.788214</td>\n",
              "      <td>-0.721666</td>\n",
              "      <td>-0.626446</td>\n",
              "      <td>-0.742555</td>\n",
              "      <td>-0.743270</td>\n",
              "      <td>1.153523</td>\n",
              "      <td>1.660785</td>\n",
              "      <td>1.082109</td>\n",
              "      <td>1.443980</td>\n",
              "      <td>0.911444</td>\n",
              "      <td>-0.707046</td>\n",
              "      <td>1.224794</td>\n",
              "      <td>1.263652</td>\n",
              "      <td>0.509452</td>\n",
              "    </tr>\n",
              "    <tr>\n",
              "      <th>378509</th>\n",
              "      <td>1.666010</td>\n",
              "      <td>-0.829376</td>\n",
              "      <td>-0.950739</td>\n",
              "      <td>-0.542091</td>\n",
              "      <td>0.990254</td>\n",
              "      <td>-0.822003</td>\n",
              "      <td>-0.683646</td>\n",
              "      <td>-0.717775</td>\n",
              "      <td>-0.705119</td>\n",
              "      <td>-0.703364</td>\n",
              "      <td>1.205528</td>\n",
              "      <td>1.043796</td>\n",
              "      <td>1.479713</td>\n",
              "      <td>1.060063</td>\n",
              "      <td>1.414679</td>\n",
              "      <td>-0.365957</td>\n",
              "      <td>1.366069</td>\n",
              "      <td>1.264006</td>\n",
              "      <td>0.508506</td>\n",
              "    </tr>\n",
              "    <tr>\n",
              "      <th>378515</th>\n",
              "      <td>1.658778</td>\n",
              "      <td>-0.836308</td>\n",
              "      <td>-0.957616</td>\n",
              "      <td>-0.550696</td>\n",
              "      <td>0.990254</td>\n",
              "      <td>-0.827201</td>\n",
              "      <td>-0.690775</td>\n",
              "      <td>-0.717775</td>\n",
              "      <td>-0.712606</td>\n",
              "      <td>-0.710407</td>\n",
              "      <td>1.211876</td>\n",
              "      <td>1.804237</td>\n",
              "      <td>1.284633</td>\n",
              "      <td>1.767462</td>\n",
              "      <td>1.197013</td>\n",
              "      <td>0.000077</td>\n",
              "      <td>1.414255</td>\n",
              "      <td>1.264359</td>\n",
              "      <td>0.507561</td>\n",
              "    </tr>\n",
              "  </tbody>\n",
              "</table>\n",
              "</div>"
            ],
            "text/plain": [
              "        p (mbar)  T (degC)  Tpot (K)  ...   Day cos  Year sin  Year cos\n",
              "378491  1.599724 -0.728855 -0.846438  ...  0.707179  1.262942  0.511342\n",
              "378497  1.653958 -0.734632 -0.856754  ...  1.000059  1.263298  0.510397\n",
              "378503  1.684087 -0.768139 -0.892285  ...  1.224794  1.263652  0.509452\n",
              "378509  1.666010 -0.829376 -0.950739  ...  1.366069  1.264006  0.508506\n",
              "378515  1.658778 -0.836308 -0.957616  ...  1.414255  1.264359  0.507561\n",
              "\n",
              "[5 rows x 19 columns]"
            ]
          },
          "metadata": {
            "tags": []
          },
          "execution_count": 35
        }
      ]
    },
    {
      "cell_type": "markdown",
      "metadata": {
        "id": "ZaKaSctes1xf"
      },
      "source": [
        "## Class to create batches of data"
      ]
    },
    {
      "cell_type": "code",
      "metadata": {
        "id": "z1eF-igp7LXu"
      },
      "source": [
        "class WindowGenerator():\n",
        "  def __init__(self, input_width, label_width, shift,\n",
        "               train_df=train_df, val_df=val_df, test_df=test_df,\n",
        "               label_columns=None):\n",
        "    # Store the raw data.\n",
        "    self.train_df = train_df\n",
        "    self.val_df = val_df\n",
        "    self.test_df = test_df\n",
        "\n",
        "    # Work out the label column indices.\n",
        "    self.label_columns = label_columns\n",
        "    if label_columns is not None:\n",
        "      self.label_columns_indices = {name: i for i, name in\n",
        "                                    enumerate(label_columns)}\n",
        "    self.column_indices = {name: i for i, name in\n",
        "                           enumerate(train_df.columns)}\n",
        "\n",
        "    # Work out the window parameters.\n",
        "    self.input_width = input_width\n",
        "    self.label_width = label_width\n",
        "    self.shift = shift\n",
        "\n",
        "    self.total_window_size = input_width + shift\n",
        "\n",
        "    self.input_slice = slice(0, input_width)\n",
        "    self.input_indices = np.arange(self.total_window_size)[self.input_slice]\n",
        "\n",
        "    self.label_start = self.total_window_size - self.label_width\n",
        "    self.labels_slice = slice(self.label_start, None)\n",
        "    self.label_indices = np.arange(self.total_window_size)[self.labels_slice]\n",
        "\n",
        "  def __repr__(self):\n",
        "    return '\\n'.join([\n",
        "        f'Total window size: {self.total_window_size}',\n",
        "        f'Input indices: {self.input_indices}',\n",
        "        f'Label indices: {self.label_indices}',\n",
        "        f'Label column name(s): {self.label_columns}'])\n",
        "    \n",
        "  \n",
        "  def plot(self, model=None, plot_col='T (degC)', max_subplots=3):\n",
        "    inputs, labels = self.example\n",
        "    plt.figure(figsize=(12, 8))\n",
        "    plot_col_index = self.column_indices[plot_col]\n",
        "    max_n = min(max_subplots, len(inputs))\n",
        "    for n in range(max_n):\n",
        "      plt.subplot(max_n, 1, n+1)\n",
        "      plt.ylabel(f'{plot_col} [normed]')\n",
        "      plt.plot(self.input_indices, inputs[n, :, plot_col_index],\n",
        "              label='Inputs', marker='.', zorder=-10)\n",
        "\n",
        "      if self.label_columns:\n",
        "        label_col_index = self.label_columns_indices.get(plot_col, None)\n",
        "      else:\n",
        "        label_col_index = plot_col_index\n",
        "\n",
        "      if label_col_index is None:\n",
        "        continue\n",
        "\n",
        "      plt.scatter(self.label_indices, labels[n, :, label_col_index],\n",
        "                  edgecolors='k', label='Labels', c='#2ca02c', s=64)\n",
        "      if model is not None:\n",
        "        predictions = model(inputs)\n",
        "        plt.scatter(self.label_indices, predictions[n, :, label_col_index],\n",
        "                    marker='X', edgecolors='k', label='Predictions',\n",
        "                    c='#ff7f0e', s=64)\n",
        "\n",
        "      if n == 0:\n",
        "        plt.legend()\n",
        "\n",
        "    plt.xlabel('Time [h]')\n",
        "\n",
        "  def split_window(self, features):\n",
        "    inputs = features[:, self.input_slice, :]\n",
        "    labels = features[:, self.labels_slice, :]\n",
        "    if self.label_columns is not None:\n",
        "      labels = tf.stack(\n",
        "          [labels[:, :, self.column_indices[name]] for name in self.label_columns],\n",
        "          axis=-1)\n",
        "\n",
        "    # Slicing doesn't preserve static shape information, so set the shapes\n",
        "    # manually. This way the `tf.data.Datasets` are easier to inspect.\n",
        "    inputs.set_shape([None, self.input_width, None])\n",
        "    labels.set_shape([None, self.label_width, None])\n",
        "\n",
        "    return inputs, labels\n",
        "\n",
        "  # this make_dataset method will take a time series DataFrame and convert it to a tf.data.Dataset of (input_window, label_window) \n",
        "  # pairs using the preprocessing.timeseries_dataset_from_array function.\n",
        "  def make_dataset(self, data):\n",
        "    data = np.array(data, dtype=np.float32)\n",
        "    ds = tf.keras.preprocessing.timeseries_dataset_from_array(\n",
        "        data=data,\n",
        "        targets=None,\n",
        "        sequence_length=self.total_window_size,\n",
        "        sequence_stride=1,\n",
        "        shuffle=True,\n",
        "        batch_size=32,)\n",
        "\n",
        "    ds = ds.map(self.split_window)\n",
        "\n",
        "    return ds\n",
        "\n",
        "\n",
        "  @property\n",
        "  def train(self):\n",
        "    return self.make_dataset(self.train_df)\n",
        "\n",
        "  @property\n",
        "  def val(self):\n",
        "    return self.make_dataset(self.val_df)\n",
        "\n",
        "  @property\n",
        "  def test(self):\n",
        "    return self.make_dataset(self.test_df)\n",
        "\n",
        "  @property\n",
        "  def example(self):\n",
        "    \"\"\"Get and cache an example batch of `inputs, labels` for plotting.\"\"\"\n",
        "    result = getattr(self, '_example', None)\n",
        "    if result is None:\n",
        "      # No example batch was found, so get one from the `.train` dataset\n",
        "      result = next(iter(self.train))\n",
        "      # And cache it for next time\n",
        "      self._example = result\n",
        "    return result"
      ],
      "execution_count": null,
      "outputs": []
    },
    {
      "cell_type": "markdown",
      "metadata": {
        "id": "MkG5pISxtsuJ"
      },
      "source": [
        "## Using the Window Generator\n",
        "\n",
        "The WindowGenerator allows us to create different input/output pairs so we can train different types of models. The main types are: single step and multi step. In single step we consider 1 input and 1 output. In multi step we consider variable input and output. In the examples below we will use all input features but only 1 output feature, the temperature.\n",
        "\n",
        "### Single step window\n",
        "\n",
        "Single step here means one input and one label. This will create pairs of data to train models on a single input and a single output. Also a single feature input and output, in this example temperature."
      ]
    },
    {
      "cell_type": "markdown",
      "metadata": {
        "id": "4vnITD_U9urJ"
      },
      "source": [
        "The simplest model you can build on this sort of data is one that predicts a single feature's value, 1 timestep (1h) in the future based only on the current conditions.\n",
        "\n",
        "This first task is to predict temperature 1h in the future given the current value of all features. \n",
        "\n",
        "<center><img src=\"https://www.tensorflow.org/tutorials/structured_data/images/narrow_window.png\">"
      ]
    },
    {
      "cell_type": "markdown",
      "metadata": {
        "id": "jHRQ3xc7g_Nf"
      },
      "source": [
        "In the previous notebook we had:\n",
        "\n",
        "```\n",
        "single_step_window = WindowGenerator(\n",
        "    input_width=1, label_width=1, shift=1,\n",
        "    label_columns=['T (degC)'])\n",
        "single_step_window\n",
        "```\n",
        "\n",
        "now we have to shift the labels so that the labels are ahead in time. \n",
        "\n",
        "Take a look below, the input indices start from 0, 1, 2, ..., 23 and the labels go from 24, 25, ..., 47"
      ]
    },
    {
      "cell_type": "code",
      "metadata": {
        "colab": {
          "base_uri": "https://localhost:8080/",
          "height": 569
        },
        "id": "ci7QJ5yxtk4n",
        "outputId": "9376e775-1e21-40d9-cbfa-17cbb9e95910"
      },
      "source": [
        "OUT_STEPS = 24\n",
        "multi_window = WindowGenerator(input_width=24,\n",
        "                               label_width=OUT_STEPS,\n",
        "                               shift=OUT_STEPS)\n",
        "\n",
        "multi_window.plot()\n",
        "multi_window"
      ],
      "execution_count": null,
      "outputs": [
        {
          "output_type": "execute_result",
          "data": {
            "text/plain": [
              "Total window size: 48\n",
              "Input indices: [ 0  1  2  3  4  5  6  7  8  9 10 11 12 13 14 15 16 17 18 19 20 21 22 23]\n",
              "Label indices: [24 25 26 27 28 29 30 31 32 33 34 35 36 37 38 39 40 41 42 43 44 45 46 47]\n",
              "Label column name(s): None"
            ]
          },
          "metadata": {
            "tags": []
          },
          "execution_count": 37
        },
        {
          "output_type": "display_data",
          "data": {
            "image/png": "[encoded data removed]",
            "text/plain": [
              "<Figure size 864x576 with 3 Axes>"
            ]
          },
          "metadata": {
            "tags": [],
            "needs_background": "light"
          }
        }
      ]
    },
    {
      "cell_type": "markdown",
      "metadata": {
        "id": "AP4mQjh5-gnI"
      },
      "source": [
        "The ```.element_spec``` property allows us to take a look at the shapes of the window. Let's take a look below at what the shapes look like which help us decide on the network input. The shapes are in the format: (batch, time, features)\n",
        "\n",
        "For the multi-step model, the training data again consists of hourly samples. However, here, the models will learn to predict 24h of the future, given 24h of the past."
      ]
    },
    {
      "cell_type": "code",
      "metadata": {
        "colab": {
          "base_uri": "https://localhost:8080/"
        },
        "id": "oy1tcs568H-L",
        "outputId": "ac2764dd-ec6b-46a5-f7aa-577a97d32d76"
      },
      "source": [
        "multi_window.train.element_spec"
      ],
      "execution_count": null,
      "outputs": [
        {
          "output_type": "execute_result",
          "data": {
            "text/plain": [
              "(TensorSpec(shape=(None, 24, 19), dtype=tf.float32, name=None),\n",
              " TensorSpec(shape=(None, 24, 19), dtype=tf.float32, name=None))"
            ]
          },
          "metadata": {
            "tags": []
          },
          "execution_count": 38
        }
      ]
    },
    {
      "cell_type": "markdown",
      "metadata": {
        "id": "6okxMVLsAFIx"
      },
      "source": [
        "# Comparing various models"
      ]
    },
    {
      "cell_type": "markdown",
      "metadata": {
        "id": "ar_0lePZZfEs"
      },
      "source": [
        "First, let's define a function that will compile and fit any model."
      ]
    },
    {
      "cell_type": "code",
      "metadata": {
        "id": "IWaomFEZAFrd"
      },
      "source": [
        "def compile_and_fit(model, window, patience=2):\n",
        "\n",
        "  # Early stopping callback\n",
        "  early_stopping = tf.keras.callbacks.EarlyStopping(monitor='val_loss',\n",
        "                                                    patience=patience,\n",
        "                                                    mode='min')\n",
        "  # Compilte the model using MSE and Adam optimiser\n",
        "  model.compile(loss=tf.losses.MeanSquaredError(),\n",
        "                optimizer=tf.optimizers.Adam(),\n",
        "                metrics=[tf.metrics.MeanAbsoluteError()])\n",
        "  \n",
        "  print (model.summary())\n",
        "\n",
        "  # Train the model, her for 2 epochs\n",
        "  history = model.fit(window.train, epochs=2,\n",
        "                      validation_data=window.val,\n",
        "                      callbacks=[early_stopping])\n",
        "  return history"
      ],
      "execution_count": null,
      "outputs": []
    },
    {
      "cell_type": "markdown",
      "metadata": {
        "id": "vgUigb7HDHs0"
      },
      "source": [
        "## RNNS"
      ]
    },
    {
      "cell_type": "markdown",
      "metadata": {
        "id": "atvpzwtwDSPQ"
      },
      "source": [
        "First, let's create multi time step inputs. This is code you've seen before for plotting, but now we will use it for the model training and make some modifications. Now let's consider 24 time step inputs and 24 label outputs. Even though we create 24 hour outputs it doesn't mean we will predict 24 hours ahead. In this example we will train on 24 hours of data but only predict 1 hour ahead."
      ]
    },
    {
      "cell_type": "markdown",
      "metadata": {
        "id": "pQsbPVYsDVy8"
      },
      "source": [
        "### Create a RNN model\n",
        "\n",
        "Some differences here.\n",
        "\n",
        "* ```return_sequences``` arguement\n",
        "\n",
        "\n",
        "If you set ```return_sequences=False``` then the model only makes a prediction at the very last label.\n",
        "\n",
        "<img src=\"https://www.tensorflow.org/tutorials/structured_data/images/multistep_lstm.png\">\n",
        "\n",
        "If you set ```return_sequences=True``` then there will be a prediction for each time stamp but this doesn't make sense for our goal, e.g. time step 0 shouldn't be used to predict a value for time step 24. Thus, it makes more sense to set return_sequences to False if we want to predict ahead of time all in one go.\n",
        "\n",
        "\n",
        "\n"
      ]
    },
    {
      "cell_type": "markdown",
      "metadata": {
        "id": "8AuSsI1AqNdY"
      },
      "source": [
        "Defining the model is a little more complex than before.\n",
        "\n",
        "We know the input will be (batch, time, features). In our case (24,19) so setting ```input_shape = (24,19)``` makes sense just like before.\n",
        "\n",
        "But now we want to predict 24 timesteps for the 19 features, so we basically are producing 24*19 outputs and then need that many output units in our last layer.\n",
        "\n",
        "However, our output labels is also in the format (24,19) so we need to reshape out output from the last fully connected layer so match this shape. To do this, we include a Reshape layer. API for Reshape: https://www.tensorflow.org/api_docs/python/tf/keras/layers/Reshape\n",
        "\n",
        "The code below won't work if we set return_sequences=True as it will return an output for each 24 time steps."
      ]
    },
    {
      "cell_type": "code",
      "metadata": {
        "id": "JZLavmNcDVy-"
      },
      "source": [
        "multi_lstm_model = tf.keras.Sequential()\n",
        "multi_lstm_model.add(tf.keras.layers.LSTM(units=32,activation='relu', input_shape = (24,19), return_sequences=False))\n",
        "multi_lstm_model.add(tf.keras.layers.Dense(units=24*19, activation = 'linear'))\n",
        "multi_lstm_model.add(tf.keras.layers.Reshape([24, 19]))"
      ],
      "execution_count": null,
      "outputs": []
    },
    {
      "cell_type": "code",
      "metadata": {
        "colab": {
          "base_uri": "https://localhost:8080/",
          "height": 422
        },
        "id": "xStMQzHUsthe",
        "outputId": "7b42b6b4-af6e-45b1-cdd0-37b1cc2fbb49"
      },
      "source": [
        "from tensorflow.keras.utils import plot_model\n",
        "plot_model(multi_lstm_model, show_shapes=True)"
      ],
      "execution_count": null,
      "outputs": [
        {
          "output_type": "execute_result",
          "data": {
            "image/png": "[encoded data removed]",
            "text/plain": [
              "<IPython.core.display.Image object>"
            ]
          },
          "metadata": {
            "tags": []
          },
          "execution_count": 41
        }
      ]
    },
    {
      "cell_type": "markdown",
      "metadata": {
        "id": "a81d4OfWDVzB"
      },
      "source": [
        "### Fit the RNN model on the single step data"
      ]
    },
    {
      "cell_type": "code",
      "metadata": {
        "colab": {
          "base_uri": "https://localhost:8080/"
        },
        "id": "5o0YYTOzDVzB",
        "outputId": "79db126d-f04f-4e57-acea-4aa5316b580c"
      },
      "source": [
        "# Compile the train the model\n",
        "history = compile_and_fit(multi_lstm_model, multi_window)\n",
        "\n",
        "# Store the performance results on the validation data\n",
        "val_performance = multi_lstm_model.evaluate(multi_window.val)\n",
        "performance = multi_lstm_model.evaluate(multi_window.test, verbose=0)"
      ],
      "execution_count": null,
      "outputs": [
        {
          "output_type": "stream",
          "text": [
            "Model: \"sequential_1\"\n",
            "_________________________________________________________________\n",
            "Layer (type)                 Output Shape              Param #   \n",
            "=================================================================\n",
            "lstm_1 (LSTM)                (None, 32)                6656      \n",
            "_________________________________________________________________\n",
            "dense_1 (Dense)              (None, 456)               15048     \n",
            "_________________________________________________________________\n",
            "reshape_1 (Reshape)          (None, 24, 19)            0         \n",
            "=================================================================\n",
            "Total params: 21,704\n",
            "Trainable params: 21,704\n",
            "Non-trainable params: 0\n",
            "_________________________________________________________________\n",
            "None\n",
            "Epoch 1/2\n",
            "1532/1532 [==============================] - 31s 18ms/step - loss: 0.2740 - mean_absolute_error: 0.3452 - val_loss: 0.2251 - val_mean_absolute_error: 0.3007\n",
            "Epoch 2/2\n",
            "1532/1532 [==============================] - 23s 15ms/step - loss: 0.2170 - mean_absolute_error: 0.2936 - val_loss: 0.2188 - val_mean_absolute_error: 0.2936\n",
            "437/437 [==============================] - 3s 6ms/step - loss: 0.2188 - mean_absolute_error: 0.2936\n"
          ],
          "name": "stdout"
        }
      ]
    },
    {
      "cell_type": "markdown",
      "metadata": {
        "id": "hsmLZRHfDVzE"
      },
      "source": [
        "### Plot the results"
      ]
    },
    {
      "cell_type": "code",
      "metadata": {
        "colab": {
          "base_uri": "https://localhost:8080/",
          "height": 500
        },
        "id": "Mz2Vd8BlDVzF",
        "outputId": "f2f07326-d8ed-4e3e-f960-e892f8b3927b"
      },
      "source": [
        "multi_window.plot(multi_lstm_model)"
      ],
      "execution_count": null,
      "outputs": [
        {
          "output_type": "display_data",
          "data": {
            "image/png": "[encoded data removed]",
            "text/plain": [
              "<Figure size 864x576 with 3 Axes>"
            ]
          },
          "metadata": {
            "tags": [],
            "needs_background": "light"
          }
        }
      ]
    },
    {
      "cell_type": "markdown",
      "metadata": {
        "id": "aF9P8G840hnL"
      },
      "source": [
        "The above approach in a \"single-shot\" model. The model takes in all the inputs and then makes one prediction for all the future time stamps. The alternative is predict one time step ahead and feed that output back into the model to predict another time step. \n",
        "\n",
        "The above models all predict the entire output sequence in a single step.\n",
        "\n",
        "In some cases it may be helpful for the model to decompose this prediction into individual time steps. Then each model's output can be fed back into itself at each step and predictions can be made conditioned on the previous one. This is called autoregressive. This is more complex and left as further reading material to the reader: https://www.tensorflow.org/tutorials/structured_data/time_series#advanced_autoregressive_model\n",
        "\n",
        "One clear advantage to this style of model is that it can be set up to produce output with a varying length."
      ]
    },
    {
      "cell_type": "code",
      "metadata": {
        "id": "OklyiiVC1Alv"
      },
      "source": [
        ""
      ],
      "execution_count": null,
      "outputs": []
    }
  ]
}