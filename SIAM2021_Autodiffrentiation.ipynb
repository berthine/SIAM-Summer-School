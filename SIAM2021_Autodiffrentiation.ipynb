{
  "nbformat": 4,
  "nbformat_minor": 0,
  "metadata": {
    "colab": {
      "name": "SIAM2021 - Autodiffrentiation.ipynb",
      "provenance": [],
      "collapsed_sections": [],
      "include_colab_link": true
    },
    "kernelspec": {
      "name": "python3",
      "display_name": "Python 3"
    },
    "language_info": {
      "name": "python"
    }
  },
  "cells": [
    {
      "cell_type": "markdown",
      "metadata": {
        "id": "view-in-github",
        "colab_type": "text"
      },
      "source": [
        "<a href=\"https://colab.research.google.com/github/berthine/SIAM-Summer-School/blob/main/SIAM2021_Autodiffrentiation.ipynb\" target=\"_parent\"><img src=\"https://colab.research.google.com/assets/colab-badge.svg\" alt=\"Open In Colab\"/></a>"
      ]
    },
    {
      "cell_type": "markdown",
      "metadata": {
        "id": "tRKG6HXJ9m76"
      },
      "source": [
        "## Practical: Introduction to autodifferentiation\n",
        "(19/July/2021)\n",
        "\n",
        "### 2021 Gene Golub SIAM Summer School \n",
        "https://sites.google.com/aims.ac.za/g2s3/home \n",
        "\n",
        "Instructor\n",
        "\n",
        "<font color=\"green\">***Dr. Emmanuel Dufourq*** \n",
        "\n",
        "www.emmanueldufourq.com\n",
        "\n",
        "edufourq (['@']) gmail.com\n",
        "\n",
        "***African Institute for Mathematical Sciences***\n",
        "\n",
        "***Stellenbosch University***\n",
        "\n",
        "***2021***\n",
        "\n",
        "Material adapted from:\n",
        "\n",
        "https://d2l.ai/chapter_preliminaries/autograd.html\n",
        "\n",
        "https://www.tensorflow.org/guide/autodiff"
      ]
    },
    {
      "cell_type": "markdown",
      "metadata": {
        "id": "i0ObwFcniJR1"
      },
      "source": [
        "## <font color=\"green\"> Learning outcomes:\n",
        "\n",
        "* autodifferentiation using ```tf.GradientTape```\n",
        "\n",
        "* computing gradients\n",
        "\n",
        "\n",
        "## <font color=\"green\">Tasks for participants (boolean)?\n",
        "\n",
        "* No, follow along and make your own modifications and make sure you understand\n"
      ]
    },
    {
      "cell_type": "code",
      "metadata": {
        "id": "L__vfozW9sW-"
      },
      "source": [
        "import numpy as np\n",
        "import matplotlib.pyplot as plt\n",
        "import tensorflow as tf"
      ],
      "execution_count": null,
      "outputs": []
    },
    {
      "cell_type": "markdown",
      "metadata": {
        "id": "ScKpcQDp97Mp"
      },
      "source": [
        "### To differentiate automatically, TensorFlow needs to remember what operations happen in what order during the forward pass. Then, during the backward pass, TensorFlow traverses this list of operations in reverse order to compute gradients.\n",
        "\n",
        "TensorFlow provides the tf.GradientTape API for automatic differentiation; that is, computing the gradient of a computation with respect to some inputs, usually tf.Variables. \n",
        "\n",
        "API: https://www.tensorflow.org/api_docs/python/tf/GradientTape"
      ]
    },
    {
      "cell_type": "markdown",
      "metadata": {
        "id": "GWW_PqCR-JSV"
      },
      "source": [
        "Let's define a variable"
      ]
    },
    {
      "cell_type": "code",
      "metadata": {
        "id": "OA0icbbJ90Bm"
      },
      "source": [
        "x = tf.Variable(3.0)"
      ],
      "execution_count": null,
      "outputs": []
    },
    {
      "cell_type": "code",
      "metadata": {
        "id": "Ywld5dnx-K6S"
      },
      "source": [
        "# Record all computations onto a tape\n",
        "with tf.GradientTape() as tape:\n",
        "  y = x**2"
      ],
      "execution_count": null,
      "outputs": []
    },
    {
      "cell_type": "markdown",
      "metadata": {
        "id": "OT09NRhi-TAx"
      },
      "source": [
        "Once you've recorded some operations, use GradientTape.gradient(target, sources) to calculate the gradient of some target (often a loss) relative to some source (often the model's variables)"
      ]
    },
    {
      "cell_type": "code",
      "metadata": {
        "colab": {
          "base_uri": "https://localhost:8080/"
        },
        "id": "V2wFHGYk-LQF",
        "outputId": "3f98890d-41d5-4a96-dee8-1b54f37a570b"
      },
      "source": [
        "dy_dx = tape.gradient(y, x)\n",
        "dy_dx"
      ],
      "execution_count": null,
      "outputs": [
        {
          "output_type": "execute_result",
          "data": {
            "text/plain": [
              "<tf.Tensor: shape=(), dtype=float32, numpy=6.0>"
            ]
          },
          "metadata": {
            "tags": []
          },
          "execution_count": 4
        }
      ]
    },
    {
      "cell_type": "markdown",
      "metadata": {
        "id": "gzirmwdyGvZz"
      },
      "source": [
        "Gradient tapes use memory to store intermediate results, including inputs and outputs, for use during the backwards pass. By default, the resources held by a GradientTape are released as soon as the GradientTape.gradient method is called. To compute multiple gradients over the same computation, create a gradient tape with persistent=True."
      ]
    },
    {
      "cell_type": "code",
      "metadata": {
        "colab": {
          "base_uri": "https://localhost:8080/"
        },
        "id": "3uNtVE2VHLEn",
        "outputId": "e700e8f8-ebca-4211-d5f4-2d21bfb67644"
      },
      "source": [
        "x = tf.constant([1, 3.0])\n",
        "with tf.GradientTape(persistent=True) as tape:\n",
        "  tape.watch(x)\n",
        "  y = x * x\n",
        "  z = y * y\n",
        "\n",
        "print(tape.gradient(z, x).numpy())  # 108.0 (4 * x**3 at x = 3)\n",
        "print(tape.gradient(y, x).numpy())  # 6.0 (2 * x)"
      ],
      "execution_count": null,
      "outputs": [
        {
          "output_type": "stream",
          "text": [
            "[  4. 108.]\n",
            "[2. 6.]\n"
          ],
          "name": "stdout"
        }
      ]
    },
    {
      "cell_type": "markdown",
      "metadata": {
        "id": "lni3sWpt_N1a"
      },
      "source": [
        "Another example"
      ]
    },
    {
      "cell_type": "code",
      "metadata": {
        "id": "D3BGs5YC-Npw"
      },
      "source": [
        "w = tf.Variable(tf.random.normal((3, 2)), name='w')\n",
        "b = tf.Variable(tf.zeros(2, dtype=tf.float32), name='b')\n",
        "x = [[1., 2., 3.]]"
      ],
      "execution_count": null,
      "outputs": []
    },
    {
      "cell_type": "code",
      "metadata": {
        "colab": {
          "base_uri": "https://localhost:8080/"
        },
        "id": "NhV2bymb_O2x",
        "outputId": "b8a3cfe5-c1c1-4c72-a98e-40e1044b3f58"
      },
      "source": [
        "w"
      ],
      "execution_count": null,
      "outputs": [
        {
          "output_type": "execute_result",
          "data": {
            "text/plain": [
              "<tf.Variable 'w:0' shape=(3, 2) dtype=float32, numpy=\n",
              "array([[ 1.2121017 , -1.0957193 ],\n",
              "       [-0.03455495,  0.11712792],\n",
              "       [ 0.05705649, -1.4997364 ]], dtype=float32)>"
            ]
          },
          "metadata": {
            "tags": []
          },
          "execution_count": 7
        }
      ]
    },
    {
      "cell_type": "code",
      "metadata": {
        "colab": {
          "base_uri": "https://localhost:8080/"
        },
        "id": "YjAF_RZyAX71",
        "outputId": "bdb51c17-ca05-4ee5-f2d6-8ec5e6ccc43c"
      },
      "source": [
        "x"
      ],
      "execution_count": null,
      "outputs": [
        {
          "output_type": "execute_result",
          "data": {
            "text/plain": [
              "[[1.0, 2.0, 3.0]]"
            ]
          },
          "metadata": {
            "tags": []
          },
          "execution_count": 8
        }
      ]
    },
    {
      "cell_type": "code",
      "metadata": {
        "colab": {
          "base_uri": "https://localhost:8080/"
        },
        "id": "9rDymzx_AX-b",
        "outputId": "3a727201-3b46-44d2-f7c8-619ffb02f94e"
      },
      "source": [
        "b"
      ],
      "execution_count": null,
      "outputs": [
        {
          "output_type": "execute_result",
          "data": {
            "text/plain": [
              "<tf.Variable 'b:0' shape=(2,) dtype=float32, numpy=array([0., 0.], dtype=float32)>"
            ]
          },
          "metadata": {
            "tags": []
          },
          "execution_count": 9
        }
      ]
    },
    {
      "cell_type": "code",
      "metadata": {
        "colab": {
          "base_uri": "https://localhost:8080/"
        },
        "id": "pH7dCJ9DAs_N",
        "outputId": "06fbc18f-51be-4fd2-929e-f2eb77c9f4e4"
      },
      "source": [
        "tf.linalg.matmul(x,w) + b"
      ],
      "execution_count": null,
      "outputs": [
        {
          "output_type": "execute_result",
          "data": {
            "text/plain": [
              "<tf.Tensor: shape=(1, 2), dtype=float32, numpy=array([[ 1.3141613, -5.360673 ]], dtype=float32)>"
            ]
          },
          "metadata": {
            "tags": []
          },
          "execution_count": 10
        }
      ]
    },
    {
      "cell_type": "markdown",
      "metadata": {
        "id": "IlcQsHmTAct0"
      },
      "source": [
        ""
      ]
    },
    {
      "cell_type": "code",
      "metadata": {
        "id": "qXfrNONX_SE1"
      },
      "source": [
        "with tf.GradientTape(persistent=True) as tape:\n",
        "\n",
        "  # Define some loss function\n",
        "  y = tf.linalg.matmul(x,w) + b\n",
        "  loss = tf.reduce_mean(y**2)"
      ],
      "execution_count": null,
      "outputs": []
    },
    {
      "cell_type": "markdown",
      "metadata": {
        "id": "lORKMOPxBF5Q"
      },
      "source": [
        "Compute the gradient of the loss with respect to the data"
      ]
    },
    {
      "cell_type": "code",
      "metadata": {
        "id": "Rnwz85u7_Wky"
      },
      "source": [
        "[dl_dw, dl_db] = tape.gradient(loss, [w, b])"
      ],
      "execution_count": null,
      "outputs": []
    },
    {
      "cell_type": "code",
      "metadata": {
        "colab": {
          "base_uri": "https://localhost:8080/"
        },
        "id": "du9wE7tHA1eB",
        "outputId": "62399943-007d-41ea-d35d-b79c1ddf1e5e"
      },
      "source": [
        "dl_dw"
      ],
      "execution_count": null,
      "outputs": [
        {
          "output_type": "execute_result",
          "data": {
            "text/plain": [
              "<tf.Tensor: shape=(3, 2), dtype=float32, numpy=\n",
              "array([[  1.3141613,  -5.360673 ],\n",
              "       [  2.6283226, -10.721346 ],\n",
              "       [  3.942484 , -16.08202  ]], dtype=float32)>"
            ]
          },
          "metadata": {
            "tags": []
          },
          "execution_count": 13
        }
      ]
    },
    {
      "cell_type": "code",
      "metadata": {
        "colab": {
          "base_uri": "https://localhost:8080/"
        },
        "id": "dzoSwIYmBLZr",
        "outputId": "dfb115c3-9e9a-4557-95ef-5c85d5559512"
      },
      "source": [
        "dl_db"
      ],
      "execution_count": null,
      "outputs": [
        {
          "output_type": "execute_result",
          "data": {
            "text/plain": [
              "<tf.Tensor: shape=(2,), dtype=float32, numpy=array([ 1.3141613, -5.360673 ], dtype=float32)>"
            ]
          },
          "metadata": {
            "tags": []
          },
          "execution_count": 14
        }
      ]
    },
    {
      "cell_type": "markdown",
      "metadata": {
        "id": "VHnIQqRYFvVw"
      },
      "source": [
        "Providing a number of source values"
      ]
    },
    {
      "cell_type": "code",
      "metadata": {
        "colab": {
          "base_uri": "https://localhost:8080/"
        },
        "id": "tyhRK2ypBMiq",
        "outputId": "d2adee5b-8b3f-42bc-8129-8a7d8f75a004"
      },
      "source": [
        "x = tf.linspace(-10.0, 10.0, 200+1)\n",
        "x"
      ],
      "execution_count": null,
      "outputs": [
        {
          "output_type": "execute_result",
          "data": {
            "text/plain": [
              "<tf.Tensor: shape=(201,), dtype=float32, numpy=\n",
              "array([-10.        ,  -9.9       ,  -9.8       ,  -9.7       ,\n",
              "        -9.6       ,  -9.5       ,  -9.4       ,  -9.3       ,\n",
              "        -9.2       ,  -9.1       ,  -9.        ,  -8.9       ,\n",
              "        -8.8       ,  -8.7       ,  -8.6       ,  -8.5       ,\n",
              "        -8.4       ,  -8.3       ,  -8.2       ,  -8.1       ,\n",
              "        -8.        ,  -7.8999996 ,  -7.8       ,  -7.7       ,\n",
              "        -7.6       ,  -7.5       ,  -7.3999996 ,  -7.3       ,\n",
              "        -7.2       ,  -7.1       ,  -7.        ,  -6.8999996 ,\n",
              "        -6.8       ,  -6.7       ,  -6.6       ,  -6.5       ,\n",
              "        -6.3999996 ,  -6.3       ,  -6.2       ,  -6.1       ,\n",
              "        -6.        ,  -5.9       ,  -5.7999997 ,  -5.7       ,\n",
              "        -5.6       ,  -5.5       ,  -5.4       ,  -5.2999997 ,\n",
              "        -5.2       ,  -5.1       ,  -5.        ,  -4.9       ,\n",
              "        -4.7999997 ,  -4.7       ,  -4.6       ,  -4.5       ,\n",
              "        -4.4       ,  -4.2999997 ,  -4.2       ,  -4.1       ,\n",
              "        -4.        ,  -3.9       ,  -3.7999997 ,  -3.6999998 ,\n",
              "        -3.6       ,  -3.5       ,  -3.4       ,  -3.2999997 ,\n",
              "        -3.1999998 ,  -3.1       ,  -3.        ,  -2.9       ,\n",
              "        -2.7999997 ,  -2.6999998 ,  -2.6       ,  -2.5       ,\n",
              "        -2.4       ,  -2.2999997 ,  -2.1999998 ,  -2.1       ,\n",
              "        -2.        ,  -1.8999996 ,  -1.8000002 ,  -1.6999998 ,\n",
              "        -1.5999994 ,  -1.5       ,  -1.3999996 ,  -1.3000002 ,\n",
              "        -1.1999998 ,  -1.0999994 ,  -1.        ,  -0.8999996 ,\n",
              "        -0.8000002 ,  -0.6999998 ,  -0.5999994 ,  -0.5       ,\n",
              "        -0.39999962,  -0.3000002 ,  -0.19999981,  -0.09999943,\n",
              "         0.        ,   0.10000038,   0.19999981,   0.3000002 ,\n",
              "         0.40000057,   0.5       ,   0.6000004 ,   0.6999998 ,\n",
              "         0.8000002 ,   0.9000006 ,   1.        ,   1.1000004 ,\n",
              "         1.1999998 ,   1.3000002 ,   1.4000006 ,   1.5       ,\n",
              "         1.6000004 ,   1.6999998 ,   1.8000002 ,   1.9000006 ,\n",
              "         2.        ,   2.1000004 ,   2.1999998 ,   2.3000002 ,\n",
              "         2.4000006 ,   2.5       ,   2.6000004 ,   2.6999998 ,\n",
              "         2.8000002 ,   2.9000006 ,   3.        ,   3.1000004 ,\n",
              "         3.1999998 ,   3.3000002 ,   3.4000006 ,   3.5       ,\n",
              "         3.6000004 ,   3.6999998 ,   3.8000002 ,   3.9000006 ,\n",
              "         4.        ,   4.1000004 ,   4.2       ,   4.3       ,\n",
              "         4.4000006 ,   4.5       ,   4.6000004 ,   4.7       ,\n",
              "         4.8       ,   4.9000006 ,   5.        ,   5.1000004 ,\n",
              "         5.2       ,   5.3       ,   5.4000006 ,   5.5       ,\n",
              "         5.6000004 ,   5.7       ,   5.8       ,   5.9000006 ,\n",
              "         6.        ,   6.1000004 ,   6.200001  ,   6.300001  ,\n",
              "         6.3999996 ,   6.5       ,   6.6000004 ,   6.700001  ,\n",
              "         6.800001  ,   6.8999996 ,   7.        ,   7.1000004 ,\n",
              "         7.200001  ,   7.300001  ,   7.3999996 ,   7.5       ,\n",
              "         7.6000004 ,   7.700001  ,   7.800001  ,   7.8999996 ,\n",
              "         8.        ,   8.1       ,   8.200001  ,   8.300001  ,\n",
              "         8.4       ,   8.5       ,   8.6       ,   8.700001  ,\n",
              "         8.800001  ,   8.9       ,   9.        ,   9.1       ,\n",
              "         9.200001  ,   9.300001  ,   9.4       ,   9.5       ,\n",
              "         9.6       ,   9.700001  ,   9.800001  ,   9.9       ,\n",
              "        10.        ], dtype=float32)>"
            ]
          },
          "metadata": {
            "tags": []
          },
          "execution_count": 15
        }
      ]
    },
    {
      "cell_type": "markdown",
      "metadata": {
        "id": "Ziq5SKe5I8Dg"
      },
      "source": [
        " Tensors can be manually watched by invoking the watch method\n",
        "\n",
        " Sigmoid function is from here: https://www.tensorflow.org/api_docs/python/tf/keras/activations/sigmoid"
      ]
    },
    {
      "cell_type": "code",
      "metadata": {
        "id": "NXD0iQk0Ityd"
      },
      "source": [
        "with tf.GradientTape() as tape:\n",
        "  tape.watch(x)\n",
        "  y = tf.keras.activations.sigmoid(x)\n",
        "\n",
        "dy_dx = tape.gradient(y, x)"
      ],
      "execution_count": null,
      "outputs": []
    },
    {
      "cell_type": "code",
      "metadata": {
        "colab": {
          "base_uri": "https://localhost:8080/",
          "height": 279
        },
        "id": "iClmF4fbFv6S",
        "outputId": "cf8d0bb4-603b-4762-e4d6-101088282533"
      },
      "source": [
        "plt.plot(x, y, label='y')\n",
        "plt.plot(x, dy_dx, label='dy/dx')\n",
        "plt.legend()\n",
        "_ = plt.xlabel('x')"
      ],
      "execution_count": null,
      "outputs": [
        {
          "output_type": "display_data",
          "data": {
            "image/png": "[encoded data removed]",
            "text/plain": [
              "<Figure size 432x288 with 1 Axes>"
            ]
          },
          "metadata": {
            "tags": [],
            "needs_background": "light"
          }
        }
      ]
    },
    {
      "cell_type": "markdown",
      "metadata": {
        "id": "Ym_4onI5NJRa"
      },
      "source": [
        "## Task\n",
        "\n",
        "Take a look at the API https://www.tensorflow.org/api_docs/python/tf/keras/activations/ and try to compute the derivate for some other functions, .e.g linear, tanh and elu"
      ]
    }
  ]
}