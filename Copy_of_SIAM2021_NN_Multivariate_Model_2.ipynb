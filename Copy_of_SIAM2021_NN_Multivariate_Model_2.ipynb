{
  "nbformat": 4,
  "nbformat_minor": 0,
  "metadata": {
    "colab": {
      "name": "Copy of SIAM2021 NN Multivariate Model 2.ipynb",
      "provenance": [],
      "collapsed_sections": [],
      "include_colab_link": true
    },
    "kernelspec": {
      "name": "python3",
      "display_name": "Python 3"
    }
  },
  "cells": [
    {
      "cell_type": "markdown",
      "metadata": {
        "id": "view-in-github",
        "colab_type": "text"
      },
      "source": [
        "<a href=\"https://colab.research.google.com/github/berthine/SIAM-Summer-School/blob/main/Copy_of_SIAM2021_NN_Multivariate_Model_2.ipynb\" target=\"_parent\"><img src=\"https://colab.research.google.com/assets/colab-badge.svg\" alt=\"Open In Colab\"/></a>"
      ]
    },
    {
      "cell_type": "markdown",
      "metadata": {
        "id": "OpPhNErAUooE"
      },
      "source": [
        "## Practical: ANNs (multivariate)\n",
        "(20/July/2021)\n",
        "\n",
        "### 2021 Gene Golub SIAM Summer School \n",
        "https://sites.google.com/aims.ac.za/g2s3/home \n",
        "\n",
        "Instructor\n",
        "\n",
        "<font color=\"green\">***Dr. Emmanuel Dufourq*** \n",
        "\n",
        "www.emmanueldufourq.com\n",
        "\n",
        "edufourq (['@']) gmail.com\n",
        "\n",
        "***African Institute for Mathematical Sciences***\n",
        "\n",
        "***Stellenbosch University***\n",
        "\n",
        "***2021***"
      ]
    },
    {
      "cell_type": "markdown",
      "metadata": {
        "id": "XO7xEQ1hptjo"
      },
      "source": [
        "## <font color=\"green\"> Learning outcomes:\n",
        "\n",
        "* Splitting data into training/testing using Scikit-learn\n",
        "\n",
        "* use ```plot_model``` to get another view of the model\n",
        "\n",
        "* learn about ```tensorflow.keras.initializers```\n",
        "\n",
        "* use ```tf.random.set_seed``` for reproducible results\n",
        "\n",
        "* creating an ANN model\n",
        "\n",
        "## <font color=\"green\">Data information:\n",
        "\n",
        "* Features: 12 feature (real-valued) input\n",
        "\n",
        "* Output: 1 real valued output\n",
        "\n",
        "## <font color=\"green\">Tasks for participants (boolean)?\n",
        "\n",
        "* Yes, at the end (try avoid copy/pasting code, rather write it out)"
      ]
    },
    {
      "cell_type": "markdown",
      "metadata": {
        "id": "Odaw35SnUk6H"
      },
      "source": [
        "## Various Python imports"
      ]
    },
    {
      "cell_type": "code",
      "metadata": {
        "id": "U8M1nH2IzI7x"
      },
      "source": [
        "import numpy as np\n",
        "np.random.seed(1337) # for reproducibility\n",
        "import pandas\n",
        "from tensorflow.keras.models import Sequential\n",
        "from tensorflow.keras.layers import Dense\n",
        "from tensorflow.keras import metrics\n",
        "from tensorflow.keras.utils import plot_model\n",
        "\n",
        "from sklearn.metrics import mean_squared_error\n",
        "from sklearn.model_selection import train_test_split\n",
        "import matplotlib.pyplot as plt\n",
        "\n",
        "from tensorflow.keras.optimizers import Adam\n",
        "from tensorflow.keras.initializers import RandomNormal\n",
        "from tensorflow.keras.losses import MeanSquaredError\n",
        "from tensorflow.keras.losses import Huber\n",
        "import tensorflow as tf"
      ],
      "execution_count": 1,
      "outputs": []
    },
    {
      "cell_type": "markdown",
      "metadata": {
        "id": "H1VWGvj2zI8B"
      },
      "source": [
        "## Load the dataset\n",
        "\n",
        "There are 506 samples and 13 feature variables in this dataset. The objective is to predict the value of prices of the house using the given features. \n",
        "\n",
        "Here we use the pandas read_csv function which lets us read CSV-style files."
      ]
    },
    {
      "cell_type": "code",
      "metadata": {
        "id": "wae_HjknzI8E"
      },
      "source": [
        "dataframe = pandas.read_csv(\"http://www.emmanueldufourq.com/BostonHousePrice.txt\", header=None,delim_whitespace=True)"
      ],
      "execution_count": 2,
      "outputs": []
    },
    {
      "cell_type": "markdown",
      "metadata": {
        "id": "nP7i2EOwyZVa"
      },
      "source": [
        "## View top 5 records\n",
        "\n",
        "It's always a good idea to take a look at the data before doing any ML related task"
      ]
    },
    {
      "cell_type": "code",
      "metadata": {
        "id": "pM9-iHobzI8L",
        "colab": {
          "base_uri": "https://localhost:8080/",
          "height": 198
        },
        "outputId": "fda55b25-260e-4b85-9a9a-0db632f237c1"
      },
      "source": [
        "dataframe.head()"
      ],
      "execution_count": 3,
      "outputs": [
        {
          "output_type": "execute_result",
          "data": {
            "text/html": [
              "<div>\n",
              "<style scoped>\n",
              "    .dataframe tbody tr th:only-of-type {\n",
              "        vertical-align: middle;\n",
              "    }\n",
              "\n",
              "    .dataframe tbody tr th {\n",
              "        vertical-align: top;\n",
              "    }\n",
              "\n",
              "    .dataframe thead th {\n",
              "        text-align: right;\n",
              "    }\n",
              "</style>\n",
              "<table border=\"1\" class=\"dataframe\">\n",
              "  <thead>\n",
              "    <tr style=\"text-align: right;\">\n",
              "      <th></th>\n",
              "      <th>0</th>\n",
              "      <th>1</th>\n",
              "      <th>2</th>\n",
              "      <th>3</th>\n",
              "      <th>4</th>\n",
              "      <th>5</th>\n",
              "      <th>6</th>\n",
              "      <th>7</th>\n",
              "      <th>8</th>\n",
              "      <th>9</th>\n",
              "      <th>10</th>\n",
              "      <th>11</th>\n",
              "      <th>12</th>\n",
              "      <th>13</th>\n",
              "    </tr>\n",
              "  </thead>\n",
              "  <tbody>\n",
              "    <tr>\n",
              "      <th>0</th>\n",
              "      <td>0.00632</td>\n",
              "      <td>18.0</td>\n",
              "      <td>2.31</td>\n",
              "      <td>0</td>\n",
              "      <td>0.538</td>\n",
              "      <td>6.575</td>\n",
              "      <td>65.2</td>\n",
              "      <td>4.0900</td>\n",
              "      <td>1</td>\n",
              "      <td>296.0</td>\n",
              "      <td>15.3</td>\n",
              "      <td>396.90</td>\n",
              "      <td>4.98</td>\n",
              "      <td>24.0</td>\n",
              "    </tr>\n",
              "    <tr>\n",
              "      <th>1</th>\n",
              "      <td>0.02731</td>\n",
              "      <td>0.0</td>\n",
              "      <td>7.07</td>\n",
              "      <td>0</td>\n",
              "      <td>0.469</td>\n",
              "      <td>6.421</td>\n",
              "      <td>78.9</td>\n",
              "      <td>4.9671</td>\n",
              "      <td>2</td>\n",
              "      <td>242.0</td>\n",
              "      <td>17.8</td>\n",
              "      <td>396.90</td>\n",
              "      <td>9.14</td>\n",
              "      <td>21.6</td>\n",
              "    </tr>\n",
              "    <tr>\n",
              "      <th>2</th>\n",
              "      <td>0.02729</td>\n",
              "      <td>0.0</td>\n",
              "      <td>7.07</td>\n",
              "      <td>0</td>\n",
              "      <td>0.469</td>\n",
              "      <td>7.185</td>\n",
              "      <td>61.1</td>\n",
              "      <td>4.9671</td>\n",
              "      <td>2</td>\n",
              "      <td>242.0</td>\n",
              "      <td>17.8</td>\n",
              "      <td>392.83</td>\n",
              "      <td>4.03</td>\n",
              "      <td>34.7</td>\n",
              "    </tr>\n",
              "    <tr>\n",
              "      <th>3</th>\n",
              "      <td>0.03237</td>\n",
              "      <td>0.0</td>\n",
              "      <td>2.18</td>\n",
              "      <td>0</td>\n",
              "      <td>0.458</td>\n",
              "      <td>6.998</td>\n",
              "      <td>45.8</td>\n",
              "      <td>6.0622</td>\n",
              "      <td>3</td>\n",
              "      <td>222.0</td>\n",
              "      <td>18.7</td>\n",
              "      <td>394.63</td>\n",
              "      <td>2.94</td>\n",
              "      <td>33.4</td>\n",
              "    </tr>\n",
              "    <tr>\n",
              "      <th>4</th>\n",
              "      <td>0.06905</td>\n",
              "      <td>0.0</td>\n",
              "      <td>2.18</td>\n",
              "      <td>0</td>\n",
              "      <td>0.458</td>\n",
              "      <td>7.147</td>\n",
              "      <td>54.2</td>\n",
              "      <td>6.0622</td>\n",
              "      <td>3</td>\n",
              "      <td>222.0</td>\n",
              "      <td>18.7</td>\n",
              "      <td>396.90</td>\n",
              "      <td>5.33</td>\n",
              "      <td>36.2</td>\n",
              "    </tr>\n",
              "  </tbody>\n",
              "</table>\n",
              "</div>"
            ],
            "text/plain": [
              "        0     1     2   3      4      5   ...  8      9     10      11    12    13\n",
              "0  0.00632  18.0  2.31   0  0.538  6.575  ...   1  296.0  15.3  396.90  4.98  24.0\n",
              "1  0.02731   0.0  7.07   0  0.469  6.421  ...   2  242.0  17.8  396.90  9.14  21.6\n",
              "2  0.02729   0.0  7.07   0  0.469  7.185  ...   2  242.0  17.8  392.83  4.03  34.7\n",
              "3  0.03237   0.0  2.18   0  0.458  6.998  ...   3  222.0  18.7  394.63  2.94  33.4\n",
              "4  0.06905   0.0  2.18   0  0.458  7.147  ...   3  222.0  18.7  396.90  5.33  36.2\n",
              "\n",
              "[5 rows x 14 columns]"
            ]
          },
          "metadata": {
            "tags": []
          },
          "execution_count": 3
        }
      ]
    },
    {
      "cell_type": "markdown",
      "metadata": {
        "id": "jLCixezkWCWF"
      },
      "source": [
        "We can extract the values from the dataframe by calling the .values() function"
      ]
    },
    {
      "cell_type": "code",
      "metadata": {
        "id": "-P_3Nx9bWCdt"
      },
      "source": [
        "dataset = dataframe.values"
      ],
      "execution_count": 4,
      "outputs": []
    },
    {
      "cell_type": "markdown",
      "metadata": {
        "id": "J3tjP7gzybOr"
      },
      "source": [
        "## View all data"
      ]
    },
    {
      "cell_type": "code",
      "metadata": {
        "id": "36sq79_KzI8W",
        "colab": {
          "base_uri": "https://localhost:8080/"
        },
        "outputId": "ed9807a8-b281-46bf-d9de-6ebd8746d5c9"
      },
      "source": [
        "dataset"
      ],
      "execution_count": 5,
      "outputs": [
        {
          "output_type": "execute_result",
          "data": {
            "text/plain": [
              "array([[6.3200e-03, 1.8000e+01, 2.3100e+00, ..., 3.9690e+02, 4.9800e+00,\n",
              "        2.4000e+01],\n",
              "       [2.7310e-02, 0.0000e+00, 7.0700e+00, ..., 3.9690e+02, 9.1400e+00,\n",
              "        2.1600e+01],\n",
              "       [2.7290e-02, 0.0000e+00, 7.0700e+00, ..., 3.9283e+02, 4.0300e+00,\n",
              "        3.4700e+01],\n",
              "       ...,\n",
              "       [6.0760e-02, 0.0000e+00, 1.1930e+01, ..., 3.9690e+02, 5.6400e+00,\n",
              "        2.3900e+01],\n",
              "       [1.0959e-01, 0.0000e+00, 1.1930e+01, ..., 3.9345e+02, 6.4800e+00,\n",
              "        2.2000e+01],\n",
              "       [4.7410e-02, 0.0000e+00, 1.1930e+01, ..., 3.9690e+02, 7.8800e+00,\n",
              "        1.1900e+01]])"
            ]
          },
          "metadata": {
            "tags": []
          },
          "execution_count": 5
        }
      ]
    },
    {
      "cell_type": "code",
      "metadata": {
        "colab": {
          "base_uri": "https://localhost:8080/"
        },
        "id": "EFhRFDfjWKUj",
        "outputId": "eb41867f-35a4-48a5-b705-3659e875c084"
      },
      "source": [
        "dataset.shape"
      ],
      "execution_count": 6,
      "outputs": [
        {
          "output_type": "execute_result",
          "data": {
            "text/plain": [
              "(506, 14)"
            ]
          },
          "metadata": {
            "tags": []
          },
          "execution_count": 6
        }
      ]
    },
    {
      "cell_type": "markdown",
      "metadata": {
        "id": "_Uw5hFlSWPaV"
      },
      "source": [
        "Okay so we have 506 records and 14 columns. One column is the target class, namely the last column. So given this information, we can split the dataset into the features and the target class. The first 13 columns will be our features, typically denoted as X and the last column is the class, typically denoted as Y."
      ]
    },
    {
      "cell_type": "markdown",
      "metadata": {
        "id": "xkjvHAwIzI8d"
      },
      "source": [
        "## Split the data into features and the class values"
      ]
    },
    {
      "cell_type": "code",
      "metadata": {
        "id": "fpXOcpfNzI8f"
      },
      "source": [
        "X = dataset[:,0:13]\n",
        "Y = dataset[:,13]"
      ],
      "execution_count": 7,
      "outputs": []
    },
    {
      "cell_type": "markdown",
      "metadata": {
        "id": "ha1wy7GbWk1r"
      },
      "source": [
        "It is generally a good idea to check your data once you conduct some manipulation. Here we split the data so it would be wise to check that we did this correctly. One way would be to check the shapes of the data and then look at some values."
      ]
    },
    {
      "cell_type": "markdown",
      "metadata": {
        "id": "YiV6vedSyeKO"
      },
      "source": [
        "## Check the shapes of the data"
      ]
    },
    {
      "cell_type": "code",
      "metadata": {
        "id": "reP8T4fuzI8k",
        "colab": {
          "base_uri": "https://localhost:8080/"
        },
        "outputId": "0b1d6042-5891-46b8-bead-9c9cae73afcf"
      },
      "source": [
        "X.shape"
      ],
      "execution_count": 8,
      "outputs": [
        {
          "output_type": "execute_result",
          "data": {
            "text/plain": [
              "(506, 13)"
            ]
          },
          "metadata": {
            "tags": []
          },
          "execution_count": 8
        }
      ]
    },
    {
      "cell_type": "code",
      "metadata": {
        "id": "IThy90cczI8r",
        "colab": {
          "base_uri": "https://localhost:8080/"
        },
        "outputId": "cb1fc18c-de48-4fe8-8ee2-68e845341016"
      },
      "source": [
        "Y.shape"
      ],
      "execution_count": 9,
      "outputs": [
        {
          "output_type": "execute_result",
          "data": {
            "text/plain": [
              "(506,)"
            ]
          },
          "metadata": {
            "tags": []
          },
          "execution_count": 9
        }
      ]
    },
    {
      "cell_type": "code",
      "metadata": {
        "id": "d_HVtLIPzI8y",
        "colab": {
          "base_uri": "https://localhost:8080/"
        },
        "outputId": "6e86de9a-6b29-4ada-ec25-c2eaed3992b8"
      },
      "source": [
        "Y[0:5]"
      ],
      "execution_count": 10,
      "outputs": [
        {
          "output_type": "execute_result",
          "data": {
            "text/plain": [
              "array([24. , 21.6, 34.7, 33.4, 36.2])"
            ]
          },
          "metadata": {
            "tags": []
          },
          "execution_count": 10
        }
      ]
    },
    {
      "cell_type": "markdown",
      "metadata": {
        "id": "mGel5X9vW8WG"
      },
      "source": [
        "After inspection, the shapes look correct and the target values look correct too. Once we have our data into X (features) and Y (class) variables we can proceed to the next step which is to create training and testing data. It is typically a good idea to split the data into training, validation and testing.\n",
        "\n",
        "To do this, we can use Scikit learn's train_test_split function. Check out the documentation https://scikit-learn.org/stable/modules/generated/sklearn.model_selection.train_test_split.html?highlight=train_test#sklearn.model_selection.train_test_split\n",
        "\n",
        "We can use the function twice. The first time we split X and Y into two sets (training and testing). We then leave the testing data. We take the training data and then split it into two (training and validation). In doing so, we create three splits.\n",
        "\n",
        "Check out the two parameters: test_size and random_state."
      ]
    },
    {
      "cell_type": "markdown",
      "metadata": {
        "id": "ENDcb5y1zI85"
      },
      "source": [
        "## Split the data into training and test data"
      ]
    },
    {
      "cell_type": "code",
      "metadata": {
        "id": "KNRXxIANzI86"
      },
      "source": [
        "X_train, X_test, Y_train, Y_test = train_test_split(X, Y, test_size=0.2, random_state=1)\n",
        "\n",
        "X_train, X_val, Y_train, Y_val = train_test_split(X_train, Y_train, test_size=0.2, random_state=1) "
      ],
      "execution_count": 11,
      "outputs": []
    },
    {
      "cell_type": "markdown",
      "metadata": {
        "id": "Q9_lOUvLsnOd"
      },
      "source": [
        "It is generally a good idea to check your data once you conduct some manipulation. Here we split the data so it would be wise to check that we did this correctly. One way would be to check the shapes of the data and then look at some values."
      ]
    },
    {
      "cell_type": "code",
      "metadata": {
        "colab": {
          "base_uri": "https://localhost:8080/"
        },
        "id": "tmX1xhp2sO6T",
        "outputId": "f2b01612-957b-43ce-9ab7-2c28aa7e6f66"
      },
      "source": [
        "print ('X_train shape:',X_train.shape)\n",
        "print ('Y_train shape:',Y_train.shape)\n",
        "\n",
        "print ()\n",
        "\n",
        "print ('X_val shape:',X_val.shape)\n",
        "print ('Y_val shape:',Y_val.shape)\n",
        "\n",
        "print ()\n",
        "\n",
        "print ('X_test shape:',X_test.shape)\n",
        "print ('Y_test shape:',Y_test.shape)"
      ],
      "execution_count": 12,
      "outputs": [
        {
          "output_type": "stream",
          "text": [
            "X_train shape: (323, 13)\n",
            "Y_train shape: (323,)\n",
            "\n",
            "X_val shape: (81, 13)\n",
            "Y_val shape: (81,)\n",
            "\n",
            "X_test shape: (102, 13)\n",
            "Y_test shape: (102,)\n"
          ],
          "name": "stdout"
        }
      ]
    },
    {
      "cell_type": "markdown",
      "metadata": {
        "id": "248QHMZlzI9d"
      },
      "source": [
        "## Create a neural network model\n",
        "\n",
        "In the previous example, we created the model directly into the notebook cells. This time we will create the model in a Python function so that we can call it several times to re-create the model (should we wish to).\n",
        "\n",
        "The function below shows you how to stack layers, i.e. we call the .add() function twice. In this manner, you can add more layers and create deeper neural networks. After defining the architecture of the model we call the compile function with mean squared error loss. Finally, we return the whole model object.\n",
        "\n",
        "Note that here we call the Python function 'baseline'. You can all it anything you want; it is a normal Python function. Similarily, the variable 'model' in the code could be called anything you want. It helps to use meaninig names, just like with normal variables in any programming language.\n",
        "\n",
        "We add some more details this time:\n",
        "\n",
        "1) We define how the weights are initialised\n",
        "\n",
        "2) We define the optimiser.\n",
        "\n",
        "3) We set a seed\n",
        "\n",
        "4) We set the loss function\n",
        "\n",
        "For (1) here we specify that each weight parameter should be randomly sampled from a normal distribution with mean 0 and standard deviation 0.01. The bias parameter will be initialized to zero. We use the RandomNormal (https://tensorflow.google.cn/api_docs/python/tf/keras/initializers/RandomNormal). There are various initialisation methods, take a look at the API. Note that we added an extra import at the top of this notebook.\n",
        "\n",
        "For (2) here we specify that we want to use the Adam optimiser (https://tensorflow.google.cn/api_docs/python/tf/keras/optimizers/Adam) but there are of course other options (e.g. SGD) - take a look at the API. Note that we added an extra import at the top of this notebook.\n",
        "\n",
        "For (3) this allows us to get the same results everytime we create the model and execute training and predictions. If we remove this, and train various times we will get different results. Sometimes having reproducible results is desirable.  Documentation on reproducible results: https://www.tensorflow.org/api_docs/python/tf/random/set_seed\n",
        "\n",
        "For (4) we specify the loss function as a Tensorflow.keras.losses object https://tensorflow.google.cn/api_docs/python/tf/keras/losses/MeanSquaredError there are other loss functions available, check out the API. Of course, not all loss functions will make sense for a problem."
      ]
    },
    {
      "cell_type": "code",
      "metadata": {
        "id": "HJWPXPcfzI9f"
      },
      "source": [
        "# define the model\n",
        "def baseline():\n",
        "\n",
        "    # Seeting a seed so we can reproduce the results\n",
        "    tf.random.set_seed(1337)\n",
        "\n",
        "    # create model\n",
        "    model = Sequential()\n",
        "\n",
        "    # Define the initialisation method\n",
        "    initializer = RandomNormal(mean = 0.0, stddev=0.01)\n",
        "    \n",
        "    # add one fully connected layer\n",
        "    model.add(Dense(units = 13, input_dim=13, activation='relu', kernel_initializer = initializer))\n",
        "    \n",
        "    # add a fully connected layer for the output\n",
        "    model.add(Dense(1, activation='linear', kernel_initializer = initializer))\n",
        "    \n",
        "    # Define the optimiser\n",
        "    optimiser = Adam(learning_rate=0.001)\n",
        "\n",
        "    # Define the loss function\n",
        "    loss_mse = MeanSquaredError()\n",
        "    \n",
        "    # Compile model\n",
        "    model.compile(loss=loss_mse, optimizer=optimiser, metrics=[metrics.mse])\n",
        "    \n",
        "    return model"
      ],
      "execution_count": 13,
      "outputs": []
    },
    {
      "cell_type": "markdown",
      "metadata": {
        "id": "hS-Jr8DkRXWV"
      },
      "source": [
        "## Task: given the above function, can you draw the model on paper. When you are done, check your answer by comparing it to the plot below."
      ]
    },
    {
      "cell_type": "markdown",
      "metadata": {
        "id": "9Fdv_46LQPRL"
      },
      "source": [
        "## Initialise model\n",
        "\n",
        "To initialise the model, we call our Python function which contains the model."
      ]
    },
    {
      "cell_type": "code",
      "metadata": {
        "id": "5Ms-fKMnQBEu"
      },
      "source": [
        "model = baseline()"
      ],
      "execution_count": 14,
      "outputs": []
    },
    {
      "cell_type": "markdown",
      "metadata": {
        "id": "GyiaFBhbzI9p"
      },
      "source": [
        "## Determine the number of trainable parameters and view the model"
      ]
    },
    {
      "cell_type": "code",
      "metadata": {
        "id": "3OxKuQTCQDNC",
        "colab": {
          "base_uri": "https://localhost:8080/"
        },
        "outputId": "31f3ef6f-e7f1-4e91-fff9-eb067f76e3ba"
      },
      "source": [
        "model.summary()"
      ],
      "execution_count": 15,
      "outputs": [
        {
          "output_type": "stream",
          "text": [
            "Model: \"sequential\"\n",
            "_________________________________________________________________\n",
            "Layer (type)                 Output Shape              Param #   \n",
            "=================================================================\n",
            "dense (Dense)                (None, 13)                182       \n",
            "_________________________________________________________________\n",
            "dense_1 (Dense)              (None, 1)                 14        \n",
            "=================================================================\n",
            "Total params: 196\n",
            "Trainable params: 196\n",
            "Non-trainable params: 0\n",
            "_________________________________________________________________\n"
          ],
          "name": "stdout"
        }
      ]
    },
    {
      "cell_type": "markdown",
      "metadata": {
        "id": "0HEIR-vgUqD1"
      },
      "source": [
        "We can also view the model by plotting it. It gives a different perspective if you prefer this view. To do this we use the plot_model() function.\n",
        "\n",
        "API documentation for the plot_model() function https://www.tensorflow.org/api_docs/python/tf/keras/utils/plot_model?hl=en"
      ]
    },
    {
      "cell_type": "code",
      "metadata": {
        "colab": {
          "base_uri": "https://localhost:8080/",
          "height": 312
        },
        "id": "0u4Rm12cTGY4",
        "outputId": "01a8360a-93fa-497a-9a4c-863ce94b9125"
      },
      "source": [
        "plot_model(model, show_shapes=True)"
      ],
      "execution_count": 16,
      "outputs": [
        {
          "output_type": "execute_result",
          "data": {
            "image/png": "[encoded data removed]",
            "text/plain": [
              "<IPython.core.display.Image object>"
            ]
          },
          "metadata": {
            "tags": []
          },
          "execution_count": 16
        }
      ]
    },
    {
      "cell_type": "markdown",
      "metadata": {
        "id": "uJ8KXYqYzI9k"
      },
      "source": [
        "## Train the model\n",
        "\n",
        "Now that we have the training, validation and testing features and targets we can start training the network. To do this, we make use of the .fit() function like in the previous notebook. Take a moment to explore the different outputs that are obtained when using different 'verbose' values. Look at the API (https://www.tensorflow.org/api_docs/python/tf/keras/Model#fit) to find out the different values.\n",
        "\n",
        "Something is new here. We are specifying validation data."
      ]
    },
    {
      "cell_type": "code",
      "metadata": {
        "id": "kUjCbeYxzI9l",
        "colab": {
          "base_uri": "https://localhost:8080/"
        },
        "outputId": "e013e203-e734-4f00-e807-1010aec7196d"
      },
      "source": [
        "history = model.fit(X_train, Y_train, validation_data = (X_val, Y_val), epochs=20, batch_size=5, verbose=1)"
      ],
      "execution_count": 17,
      "outputs": [
        {
          "output_type": "stream",
          "text": [
            "Epoch 1/20\n",
            "65/65 [==============================] - 1s 4ms/step - loss: 388.6302 - mean_squared_error: 388.6302 - val_loss: 124.6787 - val_mean_squared_error: 124.6787\n",
            "Epoch 2/20\n",
            "65/65 [==============================] - 0s 2ms/step - loss: 120.3715 - mean_squared_error: 120.3715 - val_loss: 99.9814 - val_mean_squared_error: 99.9814\n",
            "Epoch 3/20\n",
            "65/65 [==============================] - 0s 2ms/step - loss: 96.7785 - mean_squared_error: 96.7785 - val_loss: 82.0480 - val_mean_squared_error: 82.0480\n",
            "Epoch 4/20\n",
            "65/65 [==============================] - 0s 2ms/step - loss: 81.6800 - mean_squared_error: 81.6800 - val_loss: 71.8240 - val_mean_squared_error: 71.8240\n",
            "Epoch 5/20\n",
            "65/65 [==============================] - 0s 2ms/step - loss: 73.4918 - mean_squared_error: 73.4918 - val_loss: 66.1938 - val_mean_squared_error: 66.1938\n",
            "Epoch 6/20\n",
            "65/65 [==============================] - 0s 3ms/step - loss: 68.6810 - mean_squared_error: 68.6810 - val_loss: 62.6227 - val_mean_squared_error: 62.6227\n",
            "Epoch 7/20\n",
            "65/65 [==============================] - 0s 2ms/step - loss: 64.3358 - mean_squared_error: 64.3358 - val_loss: 63.1559 - val_mean_squared_error: 63.1559\n",
            "Epoch 8/20\n",
            "65/65 [==============================] - 0s 2ms/step - loss: 62.5321 - mean_squared_error: 62.5321 - val_loss: 61.0340 - val_mean_squared_error: 61.0340\n",
            "Epoch 9/20\n",
            "65/65 [==============================] - 0s 2ms/step - loss: 63.1152 - mean_squared_error: 63.1152 - val_loss: 59.2074 - val_mean_squared_error: 59.2074\n",
            "Epoch 10/20\n",
            "65/65 [==============================] - 0s 2ms/step - loss: 61.4473 - mean_squared_error: 61.4473 - val_loss: 59.0996 - val_mean_squared_error: 59.0996\n",
            "Epoch 11/20\n",
            "65/65 [==============================] - 0s 2ms/step - loss: 60.9984 - mean_squared_error: 60.9984 - val_loss: 56.5177 - val_mean_squared_error: 56.5177\n",
            "Epoch 12/20\n",
            "65/65 [==============================] - 0s 2ms/step - loss: 57.9959 - mean_squared_error: 57.9959 - val_loss: 54.5043 - val_mean_squared_error: 54.5043\n",
            "Epoch 13/20\n",
            "65/65 [==============================] - 0s 2ms/step - loss: 57.2609 - mean_squared_error: 57.2609 - val_loss: 53.9285 - val_mean_squared_error: 53.9285\n",
            "Epoch 14/20\n",
            "65/65 [==============================] - 0s 2ms/step - loss: 56.0853 - mean_squared_error: 56.0853 - val_loss: 54.4266 - val_mean_squared_error: 54.4266\n",
            "Epoch 15/20\n",
            "65/65 [==============================] - 0s 2ms/step - loss: 54.8197 - mean_squared_error: 54.8197 - val_loss: 53.2228 - val_mean_squared_error: 53.2228\n",
            "Epoch 16/20\n",
            "65/65 [==============================] - 0s 2ms/step - loss: 54.1161 - mean_squared_error: 54.1161 - val_loss: 50.6857 - val_mean_squared_error: 50.6857\n",
            "Epoch 17/20\n",
            "65/65 [==============================] - 0s 2ms/step - loss: 52.7798 - mean_squared_error: 52.7798 - val_loss: 50.9298 - val_mean_squared_error: 50.9298\n",
            "Epoch 18/20\n",
            "65/65 [==============================] - 0s 2ms/step - loss: 51.5281 - mean_squared_error: 51.5281 - val_loss: 50.2741 - val_mean_squared_error: 50.2741\n",
            "Epoch 19/20\n",
            "65/65 [==============================] - 0s 2ms/step - loss: 51.7050 - mean_squared_error: 51.7050 - val_loss: 48.4094 - val_mean_squared_error: 48.4094\n",
            "Epoch 20/20\n",
            "65/65 [==============================] - 0s 2ms/step - loss: 50.0095 - mean_squared_error: 50.0095 - val_loss: 47.3507 - val_mean_squared_error: 47.3507\n"
          ],
          "name": "stdout"
        }
      ]
    },
    {
      "cell_type": "markdown",
      "metadata": {
        "id": "xP-Cv2PXzI-E"
      },
      "source": [
        "## Plot the loss\n",
        "\n",
        "Something new here too, we are plotting the training and validation loss. This helps us keep an eye out for over-fitting."
      ]
    },
    {
      "cell_type": "code",
      "metadata": {
        "id": "mnq0p4NEzI-G",
        "colab": {
          "base_uri": "https://localhost:8080/",
          "height": 513
        },
        "outputId": "23abaf3d-697d-4795-f11e-089446229b29"
      },
      "source": [
        "plt.figure(figsize=(8, 8))\n",
        "plt.plot(history.history['mean_squared_error'], label='training mse')\n",
        "plt.plot(history.history['val_mean_squared_error'], label='validation mse', linestyle='dashed')\n",
        "plt.title('Model loss')\n",
        "plt.ylabel('Mean Squared Error')\n",
        "plt.xlabel('Epoch')\n",
        "plt.legend(loc='right')\n",
        "plt.show()"
      ],
      "execution_count": 18,
      "outputs": [
        {
          "output_type": "display_data",
          "data": {
            "image/png": "[encoded data removed]",
            "text/plain": [
              "<Figure size 576x576 with 1 Axes>"
            ]
          },
          "metadata": {
            "tags": [],
            "needs_background": "light"
          }
        }
      ]
    },
    {
      "cell_type": "markdown",
      "metadata": {
        "id": "caGYh9CHtKsu"
      },
      "source": [
        "## Predict on the validation data\n",
        "\n",
        "In the previous notebook we used the .predict() function to predict on one value. Now we can predict on multiple values."
      ]
    },
    {
      "cell_type": "code",
      "metadata": {
        "id": "QgtYTrVttKsv"
      },
      "source": [
        "prediction_val = model.predict(X_val)"
      ],
      "execution_count": 19,
      "outputs": []
    },
    {
      "cell_type": "markdown",
      "metadata": {
        "id": "p79Vqrc7tGul"
      },
      "source": [
        "## Compute the mean squared error on the validation data"
      ]
    },
    {
      "cell_type": "code",
      "metadata": {
        "colab": {
          "base_uri": "https://localhost:8080/"
        },
        "id": "KibxojQ_tGup",
        "outputId": "2a849dd9-1ab8-4e55-9adc-e84aef5c9327"
      },
      "source": [
        "mean_squared_error(Y_val, prediction_val)"
      ],
      "execution_count": 20,
      "outputs": [
        {
          "output_type": "execute_result",
          "data": {
            "text/plain": [
              "47.35068105433894"
            ]
          },
          "metadata": {
            "tags": []
          },
          "execution_count": 20
        }
      ]
    },
    {
      "cell_type": "markdown",
      "metadata": {
        "id": "63MqBYyAsuBp"
      },
      "source": [
        "Typically, we would explore a variety of models on the validation data. Once we have our best model on the validation data we would then evaluate the model on the testing data. Hyper-parameter tuning (i.e. figuring out the best model etc) should not be done using the testing data, we should use the validation data instead.\n",
        "\n",
        "In our case let's assume that our model is good enough and let us proceed to evaluating on the testing data."
      ]
    },
    {
      "cell_type": "markdown",
      "metadata": {
        "id": "l85BylX5zI93"
      },
      "source": [
        "## Predict on the test data"
      ]
    },
    {
      "cell_type": "code",
      "metadata": {
        "id": "MBpk0OtRzI95"
      },
      "source": [
        "prediction_test = model.predict(X_test)"
      ],
      "execution_count": 21,
      "outputs": []
    },
    {
      "cell_type": "markdown",
      "metadata": {
        "id": "4eHpGjh1zI9-"
      },
      "source": [
        "## Compute the mean squared error"
      ]
    },
    {
      "cell_type": "code",
      "metadata": {
        "id": "JtqoZ6OuzI9_",
        "colab": {
          "base_uri": "https://localhost:8080/"
        },
        "outputId": "19f3cd77-6b56-4ca7-d658-eb7adfb467c5"
      },
      "source": [
        "mean_squared_error(Y_test, prediction_test)"
      ],
      "execution_count": 22,
      "outputs": [
        {
          "output_type": "execute_result",
          "data": {
            "text/plain": [
              "65.75112420058812"
            ]
          },
          "metadata": {
            "tags": []
          },
          "execution_count": 22
        }
      ]
    },
    {
      "cell_type": "markdown",
      "metadata": {
        "id": "TwPSwsF1zI-U"
      },
      "source": [
        "# <hr>\n",
        "## Task Create a deeper model with more layers!\n",
        "\n",
        "* Here, your task is to create a deeper model to improve the performance compared to the baseline model presented in this notebook.\n",
        "* Do not modify the 'baseline' function. Instead, create a new Python function for your new model.  Explore the following:\n",
        "\n",
        "1) Add more dense layers.\n",
        "\n",
        "2) You will have to decide on the number of dense layers and the number of units for each one.\n",
        "\n",
        "3) Once you have created your model you can run the cells again to train the model.\n",
        "\n",
        "4) Try different things! Change the number of units in all the layers. Do you get errors? If you get errors, why do you think they are happening? Change the activation function. Do they make sense? Does ReLU make sense on this data? What about sigmoid?\n",
        "\n",
        "5) Try the Huber loss instead of mean-squared error. API: https://www.tensorflow.org/api_docs/python/tf/keras/losses/Huber which one gave a better result (MSE vs Huber)?\n",
        "\n",
        "6) Try using SGD instead of Adam optimiser."
      ]
    },
    {
      "cell_type": "code",
      "metadata": {
        "id": "QLPGqy7Itwb3"
      },
      "source": [
        "## new model\n",
        "\n",
        "def deep_model():\n",
        "\n",
        "    # Seeting a seed so we can reproduce the results\n",
        "    tf.random.set_seed(1337)\n",
        "\n",
        "    # create model\n",
        "    model = Sequential()\n",
        "\n",
        "    # Define the initialisation method\n",
        "    initializer = RandomNormal(mean = 0.0, stddev=0.01)\n",
        "    \n",
        "    # add one fully connected layer\n",
        "    model.add(Dense(units = 10, input_dim=13, activation='relu', kernel_initializer = initializer))\n",
        "    model.add(Dense(units = 8, activation='relu', kernel_initializer = initializer))\n",
        "    #model.add(Dense(units= 64, activation='tanh'))\n",
        "    # add a fully connected layer for the output\n",
        "    model.add(Dense(1, activation='linear', kernel_initializer = initializer))\n",
        "    \n",
        "    # Define the optimiser\n",
        "    #optimiser = tf.keras.optimizers.SGD(learning_rate=0.01, momentum=0.0, nesterov=False, name='SGD')\n",
        "    optimiser = Adam(learning_rate=0.01)\n",
        "\n",
        "    # Define the loss function\n",
        "    loss_hub = tf.keras.losses.Huber() #MeanSquaredError()\n",
        "    \n",
        "    # Compile model\n",
        "    model.compile(loss=loss_hub, optimizer=optimiser, metrics=[metrics.mse])\n",
        "    \n",
        "    return model"
      ],
      "execution_count": 23,
      "outputs": []
    },
    {
      "cell_type": "code",
      "metadata": {
        "id": "xdMvhCKFF_uK"
      },
      "source": [
        "model1= deep_model()"
      ],
      "execution_count": 24,
      "outputs": []
    },
    {
      "cell_type": "code",
      "metadata": {
        "colab": {
          "base_uri": "https://localhost:8080/"
        },
        "id": "cSME68JZGD6F",
        "outputId": "54f64191-f141-40fd-fe91-7c55817ee805"
      },
      "source": [
        "model1.summary()"
      ],
      "execution_count": 25,
      "outputs": [
        {
          "output_type": "stream",
          "text": [
            "Model: \"sequential_1\"\n",
            "_________________________________________________________________\n",
            "Layer (type)                 Output Shape              Param #   \n",
            "=================================================================\n",
            "dense_2 (Dense)              (None, 10)                140       \n",
            "_________________________________________________________________\n",
            "dense_3 (Dense)              (None, 8)                 88        \n",
            "_________________________________________________________________\n",
            "dense_4 (Dense)              (None, 1)                 9         \n",
            "=================================================================\n",
            "Total params: 237\n",
            "Trainable params: 237\n",
            "Non-trainable params: 0\n",
            "_________________________________________________________________\n"
          ],
          "name": "stdout"
        }
      ]
    },
    {
      "cell_type": "code",
      "metadata": {
        "colab": {
          "base_uri": "https://localhost:8080/",
          "height": 422
        },
        "id": "hwBo0UtmGfrD",
        "outputId": "f7b45d39-ecd9-4aae-de36-3cc8835b65ac"
      },
      "source": [
        "\n",
        "plot_model(model1, show_shapes=True)"
      ],
      "execution_count": 26,
      "outputs": [
        {
          "output_type": "execute_result",
          "data": {
            "image/png": "[encoded data removed]",
            "text/plain": [
              "<IPython.core.display.Image object>"
            ]
          },
          "metadata": {
            "tags": []
          },
          "execution_count": 26
        }
      ]
    },
    {
      "cell_type": "code",
      "metadata": {
        "colab": {
          "base_uri": "https://localhost:8080/"
        },
        "id": "kxmT-sI6GpZA",
        "outputId": "49835b53-04e1-4d1f-afd3-2cf16f4c1c57"
      },
      "source": [
        "history1=model1.fit(X_train, Y_train, validation_data = (X_val, Y_val), epochs=20, batch_size=5, verbose=1)"
      ],
      "execution_count": 27,
      "outputs": [
        {
          "output_type": "stream",
          "text": [
            "Epoch 1/20\n",
            "65/65 [==============================] - 1s 4ms/step - loss: 10.3249 - mean_squared_error: 206.7215 - val_loss: 5.9478 - val_mean_squared_error: 76.8250\n",
            "Epoch 2/20\n",
            "65/65 [==============================] - 0s 2ms/step - loss: 5.7804 - mean_squared_error: 77.0111 - val_loss: 6.9759 - val_mean_squared_error: 78.5530\n",
            "Epoch 3/20\n",
            "65/65 [==============================] - 0s 2ms/step - loss: 6.7013 - mean_squared_error: 92.8293 - val_loss: 4.9147 - val_mean_squared_error: 67.1447\n",
            "Epoch 4/20\n",
            "65/65 [==============================] - 0s 2ms/step - loss: 5.5488 - mean_squared_error: 71.3967 - val_loss: 5.3059 - val_mean_squared_error: 62.6055\n",
            "Epoch 5/20\n",
            "65/65 [==============================] - 0s 2ms/step - loss: 5.4720 - mean_squared_error: 70.4486 - val_loss: 4.4267 - val_mean_squared_error: 55.8335\n",
            "Epoch 6/20\n",
            "65/65 [==============================] - 0s 2ms/step - loss: 4.6566 - mean_squared_error: 57.7957 - val_loss: 4.6384 - val_mean_squared_error: 50.8955\n",
            "Epoch 7/20\n",
            "65/65 [==============================] - 0s 2ms/step - loss: 4.5675 - mean_squared_error: 54.7139 - val_loss: 4.1528 - val_mean_squared_error: 57.2690\n",
            "Epoch 8/20\n",
            "65/65 [==============================] - 0s 2ms/step - loss: 4.2739 - mean_squared_error: 51.5206 - val_loss: 5.7260 - val_mean_squared_error: 80.0464\n",
            "Epoch 9/20\n",
            "65/65 [==============================] - 0s 2ms/step - loss: 4.2986 - mean_squared_error: 48.0162 - val_loss: 4.5408 - val_mean_squared_error: 61.7094\n",
            "Epoch 10/20\n",
            "65/65 [==============================] - 0s 2ms/step - loss: 4.2746 - mean_squared_error: 48.5009 - val_loss: 4.1083 - val_mean_squared_error: 41.1697\n",
            "Epoch 11/20\n",
            "65/65 [==============================] - 0s 2ms/step - loss: 4.0563 - mean_squared_error: 45.3901 - val_loss: 4.0707 - val_mean_squared_error: 40.3640\n",
            "Epoch 12/20\n",
            "65/65 [==============================] - 0s 2ms/step - loss: 3.9937 - mean_squared_error: 43.1576 - val_loss: 5.6102 - val_mean_squared_error: 55.3260\n",
            "Epoch 13/20\n",
            "65/65 [==============================] - 0s 2ms/step - loss: 3.9595 - mean_squared_error: 41.4261 - val_loss: 4.4655 - val_mean_squared_error: 40.7126\n",
            "Epoch 14/20\n",
            "65/65 [==============================] - 0s 2ms/step - loss: 4.0933 - mean_squared_error: 43.3308 - val_loss: 4.1741 - val_mean_squared_error: 37.5172\n",
            "Epoch 15/20\n",
            "65/65 [==============================] - 0s 2ms/step - loss: 4.2438 - mean_squared_error: 47.1863 - val_loss: 3.8649 - val_mean_squared_error: 37.8814\n",
            "Epoch 16/20\n",
            "65/65 [==============================] - 0s 2ms/step - loss: 4.0535 - mean_squared_error: 43.0214 - val_loss: 4.3516 - val_mean_squared_error: 53.2349\n",
            "Epoch 17/20\n",
            "65/65 [==============================] - 0s 2ms/step - loss: 4.0104 - mean_squared_error: 40.8280 - val_loss: 3.4732 - val_mean_squared_error: 36.6596\n",
            "Epoch 18/20\n",
            "65/65 [==============================] - 0s 2ms/step - loss: 3.7295 - mean_squared_error: 36.7225 - val_loss: 3.4162 - val_mean_squared_error: 36.5066\n",
            "Epoch 19/20\n",
            "65/65 [==============================] - 0s 2ms/step - loss: 3.8538 - mean_squared_error: 38.1174 - val_loss: 3.4894 - val_mean_squared_error: 39.3949\n",
            "Epoch 20/20\n",
            "65/65 [==============================] - 0s 2ms/step - loss: 3.7760 - mean_squared_error: 39.0571 - val_loss: 3.5470 - val_mean_squared_error: 40.4260\n"
          ],
          "name": "stdout"
        }
      ]
    },
    {
      "cell_type": "code",
      "metadata": {
        "colab": {
          "base_uri": "https://localhost:8080/"
        },
        "id": "2-Xu8U-DKDSj",
        "outputId": "1e297879-795f-4c53-9859-13200bee9c0e"
      },
      "source": [
        "history1.history"
      ],
      "execution_count": 28,
      "outputs": [
        {
          "output_type": "execute_result",
          "data": {
            "text/plain": [
              "{'loss': [10.324938774108887,\n",
              "  5.780365467071533,\n",
              "  6.701262474060059,\n",
              "  5.548769950866699,\n",
              "  5.472001075744629,\n",
              "  4.656594753265381,\n",
              "  4.567540645599365,\n",
              "  4.273911952972412,\n",
              "  4.298624515533447,\n",
              "  4.274608135223389,\n",
              "  4.056317329406738,\n",
              "  3.9937047958374023,\n",
              "  3.9594616889953613,\n",
              "  4.093313694000244,\n",
              "  4.2438130378723145,\n",
              "  4.053471565246582,\n",
              "  4.0103888511657715,\n",
              "  3.7294681072235107,\n",
              "  3.853813886642456,\n",
              "  3.7759628295898438],\n",
              " 'mean_squared_error': [206.72146606445312,\n",
              "  77.01110076904297,\n",
              "  92.82933807373047,\n",
              "  71.39666748046875,\n",
              "  70.4486312866211,\n",
              "  57.79567337036133,\n",
              "  54.713905334472656,\n",
              "  51.52055358886719,\n",
              "  48.01615524291992,\n",
              "  48.50090408325195,\n",
              "  45.39008331298828,\n",
              "  43.157554626464844,\n",
              "  41.426109313964844,\n",
              "  43.330806732177734,\n",
              "  47.18631362915039,\n",
              "  43.02138137817383,\n",
              "  40.8280143737793,\n",
              "  36.722511291503906,\n",
              "  38.11738586425781,\n",
              "  39.057106018066406],\n",
              " 'val_loss': [5.9478068351745605,\n",
              "  6.975924968719482,\n",
              "  4.914729595184326,\n",
              "  5.3058929443359375,\n",
              "  4.426732540130615,\n",
              "  4.638408660888672,\n",
              "  4.152842044830322,\n",
              "  5.726000785827637,\n",
              "  4.5408453941345215,\n",
              "  4.108265399932861,\n",
              "  4.070674419403076,\n",
              "  5.610236644744873,\n",
              "  4.465467929840088,\n",
              "  4.174142837524414,\n",
              "  3.864931344985962,\n",
              "  4.351626873016357,\n",
              "  3.4731969833374023,\n",
              "  3.4162402153015137,\n",
              "  3.4893994331359863,\n",
              "  3.547020435333252],\n",
              " 'val_mean_squared_error': [76.824951171875,\n",
              "  78.55304718017578,\n",
              "  67.14471435546875,\n",
              "  62.605533599853516,\n",
              "  55.83348846435547,\n",
              "  50.89551544189453,\n",
              "  57.26897048950195,\n",
              "  80.04640197753906,\n",
              "  61.7093505859375,\n",
              "  41.169677734375,\n",
              "  40.36397933959961,\n",
              "  55.326019287109375,\n",
              "  40.712581634521484,\n",
              "  37.51722717285156,\n",
              "  37.88137435913086,\n",
              "  53.23493576049805,\n",
              "  36.65962219238281,\n",
              "  36.5065803527832,\n",
              "  39.394935607910156,\n",
              "  40.426029205322266]}"
            ]
          },
          "metadata": {
            "tags": []
          },
          "execution_count": 28
        }
      ]
    },
    {
      "cell_type": "code",
      "metadata": {
        "colab": {
          "base_uri": "https://localhost:8080/",
          "height": 513
        },
        "id": "M2K7SU00G6OR",
        "outputId": "bb3d2f53-d693-4659-97db-4b52a147e365"
      },
      "source": [
        "plt.figure(figsize=(8, 8))\n",
        "plt.plot(history1.history['mean_squared_error'], label='training mse')\n",
        "plt.plot(history1.history['val_mean_squared_error'], label='validation mse', linestyle='dashed')\n",
        "plt.title('Model loss')\n",
        "plt.ylabel('Mean Squared Error')\n",
        "plt.xlabel('Epoch')\n",
        "plt.legend(loc='right')\n",
        "plt.show()"
      ],
      "execution_count": 29,
      "outputs": [
        {
          "output_type": "display_data",
          "data": {
            "image/png": "[encoded data removed]",
            "text/plain": [
              "<Figure size 576x576 with 1 Axes>"
            ]
          },
          "metadata": {
            "tags": [],
            "needs_background": "light"
          }
        }
      ]
    },
    {
      "cell_type": "code",
      "metadata": {
        "id": "ol2JGt_3HE9h"
      },
      "source": [
        "prediction_val = model1.predict(X_val)"
      ],
      "execution_count": 30,
      "outputs": []
    },
    {
      "cell_type": "code",
      "metadata": {
        "colab": {
          "base_uri": "https://localhost:8080/"
        },
        "id": "7qMl_U5lHLcw",
        "outputId": "21d64faa-4634-40b7-dad0-352bd6ab4723"
      },
      "source": [
        "mean_squared_error(Y_val, prediction_val)"
      ],
      "execution_count": 31,
      "outputs": [
        {
          "output_type": "execute_result",
          "data": {
            "text/plain": [
              "40.42602705987633"
            ]
          },
          "metadata": {
            "tags": []
          },
          "execution_count": 31
        }
      ]
    },
    {
      "cell_type": "code",
      "metadata": {
        "id": "pvV8kTZ6HPAC"
      },
      "source": [
        "prediction_test1 = model1.predict(X_test)"
      ],
      "execution_count": 32,
      "outputs": []
    },
    {
      "cell_type": "code",
      "metadata": {
        "colab": {
          "base_uri": "https://localhost:8080/"
        },
        "id": "G2LVA-YwJUju",
        "outputId": "7d475b72-7006-4cce-f674-fa65a247455e"
      },
      "source": [
        "mean_squared_error(Y_test, prediction_test1)"
      ],
      "execution_count": 33,
      "outputs": [
        {
          "output_type": "execute_result",
          "data": {
            "text/plain": [
              "56.09862086960217"
            ]
          },
          "metadata": {
            "tags": []
          },
          "execution_count": 33
        }
      ]
    },
    {
      "cell_type": "code",
      "metadata": {
        "id": "tEITmAPRJsq7"
      },
      "source": [
        ""
      ],
      "execution_count": 33,
      "outputs": []
    }
  ]
}