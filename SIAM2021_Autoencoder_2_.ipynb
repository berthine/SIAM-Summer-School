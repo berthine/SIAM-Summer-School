{
  "nbformat": 4,
  "nbformat_minor": 0,
  "metadata": {
    "accelerator": "GPU",
    "colab": {
      "name": "SIAM2021 - Autoencoder 2 .ipynb",
      "provenance": [],
      "collapsed_sections": [],
      "include_colab_link": true
    },
    "kernelspec": {
      "display_name": "Python 3",
      "name": "python3"
    }
  },
  "cells": [
    {
      "cell_type": "markdown",
      "metadata": {
        "id": "view-in-github",
        "colab_type": "text"
      },
      "source": [
        "<a href=\"https://colab.research.google.com/github/berthine/SIAM-Summer-School/blob/main/SIAM2021_Autoencoder_2_.ipynb\" target=\"_parent\"><img src=\"https://colab.research.google.com/assets/colab-badge.svg\" alt=\"Open In Colab\"/></a>"
      ]
    },
    {
      "cell_type": "markdown",
      "metadata": {
        "id": "YSon7FLdIS1O"
      },
      "source": [
        "## Practical: Autoencoders (MNIST)\n",
        "(26/July/2021)\n",
        "\n",
        "### 2021 Gene Golub SIAM Summer School \n",
        "https://sites.google.com/aims.ac.za/g2s3/home \n",
        "\n",
        "Instructor\n",
        "\n",
        "<font color=\"green\">***Dr. Emmanuel Dufourq*** \n",
        "\n",
        "www.emmanueldufourq.com\n",
        "\n",
        "edufourq (['@']) gmail.com\n",
        "\n",
        "***African Institute for Mathematical Sciences***\n",
        "\n",
        "***Stellenbosch University***\n",
        "\n",
        "***2021***\n",
        "\n",
        "Material adapted from: https://colab.research.google.com/github/tensorflow/docs/blob/master/site/en/tutorials/generative/autoencoder.ipynb\n",
        "\n",
        "Code licensed under https://www.apache.org/licenses/LICENSE-2.0\n",
        "\n",
        "\n"
      ]
    },
    {
      "cell_type": "markdown",
      "metadata": {
        "id": "BvHfszboNuKI"
      },
      "source": [
        "## <font color=\"green\"> Learning outcomes:\n",
        "\n",
        "* Implement the autoencoder using CNNs.\n",
        "\n",
        "* The ```Conv2DTranspose``` layer\n",
        "\n",
        "## <font color=\"green\">Data information:\n",
        "\n",
        "* Features: (28x28) image\n",
        "\n",
        "* Output: (28x28) image\n",
        "\n",
        "## <font color=\"green\">Tasks for participants (boolean)?\n",
        "\n",
        "* No, follow along and make your own modifications and make sure you understand\n"
      ]
    },
    {
      "cell_type": "markdown",
      "metadata": {
        "id": "e1_Y75QXJS6h"
      },
      "source": [
        "## Import TensorFlow and other libraries"
      ]
    },
    {
      "cell_type": "code",
      "metadata": {
        "id": "YfIk2es3hJEd"
      },
      "source": [
        "import matplotlib.pyplot as plt\n",
        "import numpy as np\n",
        "import pandas as pd\n",
        "import tensorflow as tf\n",
        "from tensorflow import keras\n",
        "from tensorflow.keras import layers\n",
        "from tensorflow.keras import backend as K\n",
        "import tensorflow as tf\n",
        "\n",
        "from sklearn.metrics import accuracy_score, precision_score, recall_score\n",
        "from sklearn.model_selection import train_test_split\n",
        "from tensorflow.keras import layers, losses\n",
        "from tensorflow.keras.datasets import mnist\n",
        "from tensorflow.keras.models import Model"
      ],
      "execution_count": null,
      "outputs": []
    },
    {
      "cell_type": "markdown",
      "metadata": {
        "id": "sRD3m-MYT6qJ"
      },
      "source": [
        "### Download the data\n",
        "\n",
        "Again this is an unsupervised problem so we don't need the labels"
      ]
    },
    {
      "cell_type": "code",
      "metadata": {
        "id": "xqGTf1Q9i84Q"
      },
      "source": [
        "(x_train, _), (x_test, _) = mnist.load_data()"
      ],
      "execution_count": null,
      "outputs": []
    },
    {
      "cell_type": "markdown",
      "metadata": {
        "id": "Y0J_uY7lT_X2"
      },
      "source": [
        "### Normalise the data\n",
        "\n",
        "Divide by the maximum pixel value, 255."
      ]
    },
    {
      "cell_type": "code",
      "metadata": {
        "id": "b1cW0HfYi86v"
      },
      "source": [
        "x_train = x_train.astype('float32') / 255.\n",
        "x_test = x_test.astype('float32') / 255."
      ],
      "execution_count": null,
      "outputs": []
    },
    {
      "cell_type": "code",
      "metadata": {
        "colab": {
          "base_uri": "https://localhost:8080/"
        },
        "id": "_ZCVNc46UKB8",
        "outputId": "719ad0e3-937a-4999-fb69-9808bfd0167c"
      },
      "source": [
        "x_train.shape"
      ],
      "execution_count": null,
      "outputs": [
        {
          "output_type": "execute_result",
          "data": {
            "text/plain": [
              "(60000, 28, 28)"
            ]
          },
          "metadata": {
            "tags": []
          },
          "execution_count": 33
        }
      ]
    },
    {
      "cell_type": "markdown",
      "metadata": {
        "id": "rv1JLVAZUEhV"
      },
      "source": [
        "### Reshape the data so that it has a 1 to indicate the depth of each image"
      ]
    },
    {
      "cell_type": "code",
      "metadata": {
        "id": "YsG2DF21niEv"
      },
      "source": [
        "x_train = x_train[..., tf.newaxis]\n",
        "x_test = x_test[..., tf.newaxis]"
      ],
      "execution_count": null,
      "outputs": []
    },
    {
      "cell_type": "code",
      "metadata": {
        "colab": {
          "base_uri": "https://localhost:8080/"
        },
        "id": "l4RIFtGxnY0D",
        "outputId": "426dedb5-67f6-41cc-e61c-5adee0460b70"
      },
      "source": [
        "x_train.shape"
      ],
      "execution_count": null,
      "outputs": [
        {
          "output_type": "execute_result",
          "data": {
            "text/plain": [
              "(60000, 28, 28, 1)"
            ]
          },
          "metadata": {
            "tags": []
          },
          "execution_count": 35
        }
      ]
    },
    {
      "cell_type": "markdown",
      "metadata": {
        "id": "8dPOSQwgUdmc"
      },
      "source": [
        "Instead of working on the class directly like in the last prac, let's build the encoder and decoded using the functional API separately to make sure we get the shapes correct."
      ]
    },
    {
      "cell_type": "markdown",
      "metadata": {
        "id": "ZjdkpnvbUOmb"
      },
      "source": [
        "### Encoder\n",
        "\n",
        "Here we want to input an image of (28,28,1) and output a shape of (16) which is the encoded image.\n",
        "\n",
        "So we need to build an appropriate architecture which will produce that output.\n",
        "\n"
      ]
    },
    {
      "cell_type": "code",
      "metadata": {
        "id": "OQx7glP75J_r"
      },
      "source": [
        "# Here we use the Functional API which requires 3 things (Input, model and output)\n",
        "\n",
        "# Specify the input layer here a shape of 28x28x1 (greyscale images)\n",
        "encoder_input = tf.keras.Input(shape=(28, 28, 1))\n",
        "\n",
        "# First conv layer which will reduce the shape by half given a stride of 2\n",
        "encoder = tf.keras.layers.Conv2D(16, (3, 3), activation='relu', padding='same', strides=2)(encoder_input)\n",
        "\n",
        "# Second conv layer which will reduce the shape by half given a stride of 2\n",
        "encoder = tf.keras.layers.Conv2D(8, (3, 3), activation='relu', padding='same', strides=2)(encoder)\n",
        "\n",
        "# Get the size of the current tensor - this will help us re-create this size when we create the decoder\n",
        "# This will make more sense below.\n",
        "tensor_shape = K.int_shape(encoder)\n",
        "\n",
        "# Flatten\n",
        "encoder = tf.keras.layers.Flatten()(encoder)\n",
        "\n",
        "# Output layer has units based on latent dimension - here 16.\n",
        "encoder_output = tf.keras.layers.Dense(16, activation = 'linear')(encoder)"
      ],
      "execution_count": null,
      "outputs": []
    },
    {
      "cell_type": "code",
      "metadata": {
        "id": "hboDnAaW6tu8"
      },
      "source": [
        "# Create a Model and specify the input and output\n",
        "# This is normal Keras functional API like in the ANN prac\n",
        "model = tf.keras.Model(encoder_input, encoder_output)"
      ],
      "execution_count": null,
      "outputs": []
    },
    {
      "cell_type": "code",
      "metadata": {
        "colab": {
          "base_uri": "https://localhost:8080/"
        },
        "id": "hJ6pfo4j6z4N",
        "outputId": "43d4f03f-5b02-4994-b556-21f5fbf91b41"
      },
      "source": [
        "model.summary()"
      ],
      "execution_count": null,
      "outputs": [
        {
          "output_type": "stream",
          "text": [
            "Model: \"model_4\"\n",
            "_________________________________________________________________\n",
            "Layer (type)                 Output Shape              Param #   \n",
            "=================================================================\n",
            "input_5 (InputLayer)         [(None, 28, 28, 1)]       0         \n",
            "_________________________________________________________________\n",
            "conv2d_6 (Conv2D)            (None, 14, 14, 16)        160       \n",
            "_________________________________________________________________\n",
            "conv2d_7 (Conv2D)            (None, 7, 7, 8)           1160      \n",
            "_________________________________________________________________\n",
            "flatten_2 (Flatten)          (None, 392)               0         \n",
            "_________________________________________________________________\n",
            "dense_4 (Dense)              (None, 16)                6288      \n",
            "=================================================================\n",
            "Total params: 7,608\n",
            "Trainable params: 7,608\n",
            "Non-trainable params: 0\n",
            "_________________________________________________________________\n"
          ],
          "name": "stdout"
        }
      ]
    },
    {
      "cell_type": "markdown",
      "metadata": {
        "id": "sN2W0JYXVK7A"
      },
      "source": [
        "here we see that we saved the volume as (7,7,8). So when we create the decoder, essentially we will go from 16 to 392 to (7,7,8). By saving this we can obtain two things: (1) the shape of 392 (7*7*8) and (2) the shape (7,7,8). We can do so without manually knowing these value and having to manually input them. See below from the two cells."
      ]
    },
    {
      "cell_type": "code",
      "metadata": {
        "colab": {
          "base_uri": "https://localhost:8080/"
        },
        "id": "hEHT9QR562Xk",
        "outputId": "a629fee7-dda6-4e23-d73d-78c2ff18b682"
      },
      "source": [
        "tensor_shape"
      ],
      "execution_count": null,
      "outputs": [
        {
          "output_type": "execute_result",
          "data": {
            "text/plain": [
              "(None, 7, 7, 8)"
            ]
          },
          "metadata": {
            "tags": []
          },
          "execution_count": 39
        }
      ]
    },
    {
      "cell_type": "code",
      "metadata": {
        "colab": {
          "base_uri": "https://localhost:8080/"
        },
        "id": "OMkNou5vV3DF",
        "outputId": "2aee651e-4fd8-4aa3-ff2c-31b25ab4d720"
      },
      "source": [
        "tensor_shape"
      ],
      "execution_count": null,
      "outputs": [
        {
          "output_type": "execute_result",
          "data": {
            "text/plain": [
              "(None, 7, 7, 8)"
            ]
          },
          "metadata": {
            "tags": []
          },
          "execution_count": 40
        }
      ]
    },
    {
      "cell_type": "code",
      "metadata": {
        "id": "kVcgKBz07y_h",
        "colab": {
          "base_uri": "https://localhost:8080/"
        },
        "outputId": "f5293888-bd83-46cf-f7de-6ab7e79d385e"
      },
      "source": [
        "np.prod(tensor_shape[1:])"
      ],
      "execution_count": null,
      "outputs": [
        {
          "output_type": "execute_result",
          "data": {
            "text/plain": [
              "392"
            ]
          },
          "metadata": {
            "tags": []
          },
          "execution_count": 41
        }
      ]
    },
    {
      "cell_type": "markdown",
      "metadata": {
        "id": "XInYfe46Votj"
      },
      "source": [
        "### Decoder\n",
        "\n",
        "Here we want to input a shape of (16) and output an image of (28,28,1) which is the decoded image.\n",
        "\n",
        "So we need to build an appropriate architecture which will produce that output.\n",
        "\n",
        "The decoder is essentially the inverse of the encoder."
      ]
    },
    {
      "cell_type": "code",
      "metadata": {
        "id": "TgmBipx15hrh"
      },
      "source": [
        "# Here we use the Functional API which requires 3 things (Input, model and output)\n",
        "\n",
        "# Specify the input layer here a shape of (16) (encoded images)\n",
        "decoder_input = tf.keras.Input(shape=(16,))\n",
        "\n",
        "# Now we create our first dense layer which will go from 16 -> 392. But we don't need to manually\n",
        "# enter the value of 392 since we have a way to automatically calculate this (see above)\n",
        "decoder = tf.keras.layers.Dense(np.prod(tensor_shape[1:]), activation = 'linear')(decoder_input)\n",
        "\n",
        "# If we look at the encoder, the step before 392 unit layer was a tensor of shape (7,7,8). Again\n",
        "# we don't have to manually enter these values.\n",
        "decoder = tf.keras.layers.Reshape((tensor_shape[1], tensor_shape[2], tensor_shape[3]))(decoder)\n",
        "\n",
        "# Working backwards, we can to the opposite of Conv2D which is Transpose convolution. \n",
        "# API https://www.tensorflow.org/api_docs/python/tf/keras/layers/Conv2DTranspose\n",
        "decoder = layers.Conv2DTranspose(8, kernel_size=3, strides=2, activation='relu', padding='same')(decoder)\n",
        "\n",
        "decoder = layers.Conv2DTranspose(16, kernel_size=3, strides=2, activation='relu', padding='same')(decoder)\n",
        "\n",
        "# At this point our shape is (28,28,16) but we want (28,28,1) so we can remove the 16 features by\n",
        "# applying a convolutional layer with 1 filter.\n",
        "decoder_output = layers.Conv2D(1, kernel_size=(3, 3), activation='sigmoid', padding='same')(decoder)"
      ],
      "execution_count": null,
      "outputs": []
    },
    {
      "cell_type": "code",
      "metadata": {
        "id": "TDiWLOig8HGN"
      },
      "source": [
        "model = tf.keras.Model(decoder_input, decoder_output)"
      ],
      "execution_count": null,
      "outputs": []
    },
    {
      "cell_type": "code",
      "metadata": {
        "colab": {
          "base_uri": "https://localhost:8080/"
        },
        "id": "jFyuGmSV5ht0",
        "outputId": "1288e7ff-41cb-4747-a3d1-f677e7bf55da"
      },
      "source": [
        "model.summary()"
      ],
      "execution_count": null,
      "outputs": [
        {
          "output_type": "stream",
          "text": [
            "Model: \"model_5\"\n",
            "_________________________________________________________________\n",
            "Layer (type)                 Output Shape              Param #   \n",
            "=================================================================\n",
            "input_6 (InputLayer)         [(None, 16)]              0         \n",
            "_________________________________________________________________\n",
            "dense_5 (Dense)              (None, 392)               6664      \n",
            "_________________________________________________________________\n",
            "reshape_2 (Reshape)          (None, 7, 7, 8)           0         \n",
            "_________________________________________________________________\n",
            "conv2d_transpose_4 (Conv2DTr (None, 14, 14, 8)         584       \n",
            "_________________________________________________________________\n",
            "conv2d_transpose_5 (Conv2DTr (None, 28, 28, 16)        1168      \n",
            "_________________________________________________________________\n",
            "conv2d_8 (Conv2D)            (None, 28, 28, 1)         145       \n",
            "=================================================================\n",
            "Total params: 8,561\n",
            "Trainable params: 8,561\n",
            "Non-trainable params: 0\n",
            "_________________________________________________________________\n"
          ],
          "name": "stdout"
        }
      ]
    },
    {
      "cell_type": "markdown",
      "metadata": {
        "id": "89MasJ8UlzLx"
      },
      "source": [
        "Now, let's take everything above and create our own Model object."
      ]
    },
    {
      "cell_type": "code",
      "metadata": {
        "id": "ef49wkt_i89Y"
      },
      "source": [
        "# Define the latent dimension\n",
        "latent_dim = 16\n",
        "\n",
        "class Autoencoder(Model):\n",
        "  def __init__(self, latent_dim, name=\"autoencoder\"):\n",
        "    super(Autoencoder, self).__init__()\n",
        "\n",
        "    # The latent dimension is a property of an autoencoder\n",
        "    self.latent_dim = latent_dim  \n",
        "\n",
        "    # The Autoencoder has an encoder which we can make using normal layers\n",
        "    # Here we use the Functional API which requires 3 things (Input, model and output)\n",
        "    # ------------------------------------------\n",
        "    # Specify the input layer here a shape of 28x28x1 (greyscale images)\n",
        "    self.encoder_input = tf.keras.Input(shape=(28, 28, 1))\n",
        "    self.encoder = tf.keras.layers.Conv2D(16, (3, 3), activation='relu', padding='same', strides=2)(self.encoder_input)\n",
        "    self.encoder = tf.keras.layers.Conv2D(8, (3, 3), activation='relu', padding='same', strides=2)(self.encoder)\n",
        "\n",
        "    # Get this size\n",
        "    volumeSize = K.int_shape(self.encoder)\n",
        "\n",
        "    # Flatten\n",
        "    self.encoder = tf.keras.layers.Flatten()(self.encoder)\n",
        "\n",
        "    # Output\n",
        "    self.encoder_output = tf.keras.layers.Dense(latent_dim, activation = 'linear')(self.encoder)\n",
        "\n",
        "    self.encoder_model = tf.keras.Model(self.encoder_input, self.encoder_output)\n",
        "    # ------------------------------------------\n",
        "\n",
        "    # The Autoencoder has an decoder  which we can make using normal layers\n",
        "    # Here we use the Functional API which requires 3 things (Input, model and output)\n",
        "    # ------------------------------------------\n",
        "\n",
        "    self.decoder_input = tf.keras.Input(shape=(latent_dim,))\n",
        "\n",
        "    self.decoder = tf.keras.layers.Dense(np.prod(tensor_shape[1:]), activation = 'linear')(self.decoder_input)\n",
        "\n",
        "    self.decoder = tf.keras.layers.Reshape((tensor_shape[1], tensor_shape[2], tensor_shape[3]))(self.decoder)\n",
        "\n",
        "    self.decoder = layers.Conv2DTranspose(8, kernel_size=3, strides=2, activation='relu', padding='same')(self.decoder)\n",
        "\n",
        "    self.decoder = layers.Conv2DTranspose(16, kernel_size=3, strides=2, activation='relu', padding='same')(self.decoder)\n",
        "\n",
        "    self.decoder_output = layers.Conv2D(1, kernel_size=(3, 3), activation='sigmoid', padding='same')(self.decoder)\n",
        "\n",
        "    self.decoder_model = tf.keras.Model(self.decoder_input, self.decoder_output)\n",
        "    # ------------------------------------------\n",
        "\n",
        "  # The forward pass\n",
        "  def call(self, x):\n",
        "\n",
        "    # Encode the inputs x using the propery defined above\n",
        "    # In the previous notebook we created the encoder and decoder as Sequential Models\n",
        "    # but now since we used the Functional API we need to call the Model objects we created above\n",
        "    encoded = self.encoder_model(x)\n",
        "\n",
        "    # Decode the encoded vector using the property defined above\n",
        "    decoded = self.decoder_model(encoded)\n",
        "\n",
        "    # Return the decoded (28,28) data\n",
        "    return decoded\n",
        "  \n",
        "autoencoder = Autoencoder(latent_dim) "
      ],
      "execution_count": null,
      "outputs": []
    },
    {
      "cell_type": "code",
      "metadata": {
        "id": "MDsPp1USi8_-"
      },
      "source": [
        "autoencoder.compile(optimizer='adam', loss=losses.MeanSquaredError())"
      ],
      "execution_count": null,
      "outputs": []
    },
    {
      "cell_type": "code",
      "metadata": {
        "colab": {
          "base_uri": "https://localhost:8080/"
        },
        "id": "QLUPvT_Ii9Ck",
        "outputId": "3b59007b-f6ba-46a3-8e4f-6b374c5cbebc"
      },
      "source": [
        "autoencoder.fit(x_train, x_train,\n",
        "                epochs=5,\n",
        "                shuffle=True,\n",
        "                validation_data=(x_test, x_test))"
      ],
      "execution_count": null,
      "outputs": [
        {
          "output_type": "stream",
          "text": [
            "Epoch 1/5\n",
            "1875/1875 [==============================] - 6s 3ms/step - loss: 0.0334 - val_loss: 0.0163\n",
            "Epoch 2/5\n",
            "1875/1875 [==============================] - 6s 3ms/step - loss: 0.0155 - val_loss: 0.0143\n",
            "Epoch 3/5\n",
            "1875/1875 [==============================] - 6s 3ms/step - loss: 0.0141 - val_loss: 0.0132\n",
            "Epoch 4/5\n",
            "1875/1875 [==============================] - 6s 3ms/step - loss: 0.0132 - val_loss: 0.0126\n",
            "Epoch 5/5\n",
            "1875/1875 [==============================] - 6s 3ms/step - loss: 0.0127 - val_loss: 0.0121\n"
          ],
          "name": "stdout"
        },
        {
          "output_type": "execute_result",
          "data": {
            "text/plain": [
              "<tensorflow.python.keras.callbacks.History at 0x7f123c8b7850>"
            ]
          },
          "metadata": {
            "tags": []
          },
          "execution_count": 47
        }
      ]
    },
    {
      "cell_type": "code",
      "metadata": {
        "colab": {
          "base_uri": "https://localhost:8080/"
        },
        "id": "4-MFPKXei9FL",
        "outputId": "3eeb3be3-568f-42af-9a22-ff09eb62bb76"
      },
      "source": [
        "autoencoder.summary()"
      ],
      "execution_count": null,
      "outputs": [
        {
          "output_type": "stream",
          "text": [
            "Model: \"autoencoder_1\"\n",
            "_________________________________________________________________\n",
            "Layer (type)                 Output Shape              Param #   \n",
            "=================================================================\n",
            "model_6 (Functional)         (None, 16)                7608      \n",
            "_________________________________________________________________\n",
            "model_7 (Functional)         (None, 28, 28, 1)         8561      \n",
            "=================================================================\n",
            "Total params: 16,169\n",
            "Trainable params: 16,169\n",
            "Non-trainable params: 0\n",
            "_________________________________________________________________\n"
          ],
          "name": "stdout"
        }
      ]
    },
    {
      "cell_type": "code",
      "metadata": {
        "colab": {
          "base_uri": "https://localhost:8080/"
        },
        "id": "qV8kHSieonBg",
        "outputId": "9542896c-cf26-4e4f-f3e0-82c6680bc2fd"
      },
      "source": [
        "x_test[0,:,:,0].shape"
      ],
      "execution_count": null,
      "outputs": [
        {
          "output_type": "execute_result",
          "data": {
            "text/plain": [
              "(28, 28)"
            ]
          },
          "metadata": {
            "tags": []
          },
          "execution_count": 49
        }
      ]
    },
    {
      "cell_type": "code",
      "metadata": {
        "colab": {
          "base_uri": "https://localhost:8080/",
          "height": 265
        },
        "id": "w8uZpo6Hi9Hz",
        "outputId": "4e830c13-980d-4a21-f3f9-7016eeae1782"
      },
      "source": [
        "plt.imshow(x_test[0,:,:,0])\n",
        "plt.gray()"
      ],
      "execution_count": null,
      "outputs": [
        {
          "output_type": "display_data",
          "data": {
            "image/png": "[encoded data removed]",
            "text/plain": [
              "<Figure size 432x288 with 1 Axes>"
            ]
          },
          "metadata": {
            "tags": [],
            "needs_background": "light"
          }
        }
      ]
    },
    {
      "cell_type": "code",
      "metadata": {
        "id": "zl8weMhci9Ku"
      },
      "source": [
        "encoded_img = autoencoder.encoder_model(np.expand_dims(x_test[0],0)).numpy()"
      ],
      "execution_count": null,
      "outputs": []
    },
    {
      "cell_type": "code",
      "metadata": {
        "colab": {
          "base_uri": "https://localhost:8080/"
        },
        "id": "GOQOuPRri9Mu",
        "outputId": "57172373-da42-4099-d8e8-f4b6e848751c"
      },
      "source": [
        "encoded_img"
      ],
      "execution_count": null,
      "outputs": [
        {
          "output_type": "execute_result",
          "data": {
            "text/plain": [
              "array([[ 1.703819 , -3.2177696,  2.7978425, -5.9454947, -5.514705 ,\n",
              "         1.8593644, -4.9334435,  4.713081 , -1.545662 ,  2.3990078,\n",
              "        -1.7224666, -1.2832268,  4.051668 ,  7.952004 ,  1.0967995,\n",
              "        -1.0422331]], dtype=float32)"
            ]
          },
          "metadata": {
            "tags": []
          },
          "execution_count": 52
        }
      ]
    },
    {
      "cell_type": "code",
      "metadata": {
        "colab": {
          "base_uri": "https://localhost:8080/"
        },
        "id": "YpyOM9t1o0hb",
        "outputId": "487073e2-e891-4f93-f1ab-502ba2c88ff5"
      },
      "source": [
        "encoded_img.shape"
      ],
      "execution_count": null,
      "outputs": [
        {
          "output_type": "execute_result",
          "data": {
            "text/plain": [
              "(1, 16)"
            ]
          },
          "metadata": {
            "tags": []
          },
          "execution_count": 53
        }
      ]
    },
    {
      "cell_type": "code",
      "metadata": {
        "id": "Pm6sVs2_o4Hk"
      },
      "source": [
        "decoded_img = autoencoder.decoder_model(encoded_img).numpy()"
      ],
      "execution_count": null,
      "outputs": []
    },
    {
      "cell_type": "code",
      "metadata": {
        "colab": {
          "base_uri": "https://localhost:8080/"
        },
        "id": "7dPKImAWo4KP",
        "outputId": "7833c68c-a064-402f-ba54-965a363072bd"
      },
      "source": [
        "decoded_img.shape"
      ],
      "execution_count": null,
      "outputs": [
        {
          "output_type": "execute_result",
          "data": {
            "text/plain": [
              "(1, 28, 28, 1)"
            ]
          },
          "metadata": {
            "tags": []
          },
          "execution_count": 55
        }
      ]
    },
    {
      "cell_type": "code",
      "metadata": {
        "colab": {
          "base_uri": "https://localhost:8080/",
          "height": 265
        },
        "id": "VAs8Xt5Ko4Rk",
        "outputId": "df534e7a-8394-408a-8e2e-c1babddc190d"
      },
      "source": [
        "plt.imshow(decoded_img[0,:,:,0])\n",
        "plt.gray()"
      ],
      "execution_count": null,
      "outputs": [
        {
          "output_type": "display_data",
          "data": {
            "image/png": "[encoded data removed]",
            "text/plain": [
              "<Figure size 432x288 with 1 Axes>"
            ]
          },
          "metadata": {
            "tags": [],
            "needs_background": "light"
          }
        }
      ]
    },
    {
      "cell_type": "markdown",
      "metadata": {
        "id": "8BWCx-rOPWWl"
      },
      "source": [
        "## Now let's compare the original images to the recontructed images on all of the testing data"
      ]
    },
    {
      "cell_type": "code",
      "metadata": {
        "id": "lfZF_P7kPeyT"
      },
      "source": [
        "encoded_imgs = autoencoder.encoder_model(x_test).numpy()\n",
        "decoded_imgs = autoencoder.decoder_model(encoded_imgs).numpy()"
      ],
      "execution_count": null,
      "outputs": []
    },
    {
      "cell_type": "code",
      "metadata": {
        "id": "s4LlDOS6FUA1",
        "colab": {
          "base_uri": "https://localhost:8080/",
          "height": 264
        },
        "outputId": "b56c444b-14e8-4ec3-cb09-8f929ce60b3a"
      },
      "source": [
        "n = 10\n",
        "plt.figure(figsize=(20, 4))\n",
        "for i in range(n):\n",
        "  # display original\n",
        "  ax = plt.subplot(2, n, i + 1)\n",
        "  plt.imshow(x_test[i,:,:,0])\n",
        "  plt.title(\"original\")\n",
        "  plt.gray()\n",
        "  ax.get_xaxis().set_visible(False)\n",
        "  ax.get_yaxis().set_visible(False)\n",
        "\n",
        "  # display reconstruction\n",
        "  ax = plt.subplot(2, n, i + 1 + n)\n",
        "  plt.imshow(decoded_imgs[i,:,:,0])\n",
        "  plt.title(\"reconstructed\")\n",
        "  plt.gray()\n",
        "  ax.get_xaxis().set_visible(False)\n",
        "  ax.get_yaxis().set_visible(False)\n",
        "plt.show()"
      ],
      "execution_count": null,
      "outputs": [
        {
          "output_type": "display_data",
          "data": {
            "image/png": "[encoded data removed]",
            "text/plain": [
              "<Figure size 1440x288 with 20 Axes>"
            ]
          },
          "metadata": {
            "tags": [],
            "needs_background": "light"
          }
        }
      ]
    },
    {
      "cell_type": "markdown",
      "metadata": {
        "id": "mll7JUsSeMrI"
      },
      "source": [
        "## Task:\n",
        "\n",
        "* Explore modifications to the encoder and decoder (i.e. different conv layers in the encoder and decover).\n",
        "\n",
        "* Try different values for the latent dimensions\n",
        "\n"
      ]
    },
    {
      "cell_type": "code",
      "metadata": {
        "id": "sVRPQaTQeY4f"
      },
      "source": [
        ""
      ],
      "execution_count": null,
      "outputs": []
    }
  ]
}