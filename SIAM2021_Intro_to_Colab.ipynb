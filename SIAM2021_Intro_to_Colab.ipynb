{
  "nbformat": 4,
  "nbformat_minor": 0,
  "metadata": {
    "colab": {
      "name": "SIAM2021 - Intro to Colab.ipynb",
      "provenance": [],
      "collapsed_sections": [],
      "include_colab_link": true
    },
    "kernelspec": {
      "name": "python3",
      "display_name": "Python 3"
    },
    "language_info": {
      "name": "python"
    }
  },
  "cells": [
    {
      "cell_type": "markdown",
      "metadata": {
        "id": "view-in-github",
        "colab_type": "text"
      },
      "source": [
        "<a href=\"https://colab.research.google.com/github/berthine/SIAM-Summer-School/blob/main/SIAM2021_Intro_to_Colab.ipynb\" target=\"_parent\"><img src=\"https://colab.research.google.com/assets/colab-badge.svg\" alt=\"Open In Colab\"/></a>"
      ]
    },
    {
      "cell_type": "markdown",
      "metadata": {
        "id": "tPLI9NUVbaQj"
      },
      "source": [
        "# Some useful Google Colab things:"
      ]
    },
    {
      "cell_type": "markdown",
      "metadata": {
        "id": "8BrLJSEhbeeK"
      },
      "source": [
        "## 1) Insert text and code"
      ]
    },
    {
      "cell_type": "markdown",
      "metadata": {
        "id": "vIBPcD-CblKw"
      },
      "source": [
        "Click on + Code"
      ]
    },
    {
      "cell_type": "markdown",
      "metadata": {
        "id": "aOFPYt1rbn3h"
      },
      "source": [
        "Click on + Text"
      ]
    },
    {
      "cell_type": "markdown",
      "metadata": {
        "id": "PHLiMs7CjE_F"
      },
      "source": [
        "You can add headings by using '#' before text. This only works if you start the line with '#'. You can create different levels of headings using '#' (largest heading), '##', '###' and '####' (smallest heading)."
      ]
    },
    {
      "cell_type": "markdown",
      "metadata": {
        "id": "rm-tQMv_ji_C"
      },
      "source": [
        "You can add an image using the following code in a text cell:\n",
        "\n",
        "```<img src=\"source here\">```\n",
        "\n",
        "<img src=\"data:image/png;base64,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\" alt = \"alternative\">"
      ]
    },
    {
      "cell_type": "markdown",
      "metadata": {
        "id": "omU3UjnSbqtw"
      },
      "source": [
        "## 2) Saving a copy"
      ]
    },
    {
      "cell_type": "markdown",
      "metadata": {
        "id": "wjE8BGvvbueH"
      },
      "source": [
        "Click on File > \"Save a Copy in Drive\".\n",
        "\n",
        "This will allow you to take someone else's notebook and create a copy in your own Google drive so that you can modify the code etc..."
      ]
    },
    {
      "cell_type": "markdown",
      "metadata": {
        "id": "bl2W3-uBb81H"
      },
      "source": [
        "## 3) Downloading/Saving"
      ]
    },
    {
      "cell_type": "markdown",
      "metadata": {
        "id": "1xsLru4-b4cD"
      },
      "source": [
        "Click on File > Download > Download.ipynb allows you to save the notebook to your local computer."
      ]
    },
    {
      "cell_type": "markdown",
      "metadata": {
        "id": "RDU-r-sXcJ1J"
      },
      "source": [
        "## 4) Managing notebook sessions\n",
        "\n",
        "You cannot have a lot of notebooks open at the same time unless you switch to a Pro account. Pro accounts are unfortunately not available in Africa. To terminate a session click on Runtime > Manage sessions > \"TERMINATE\" (select which notebook to terminate). You know that you have an active session by looking at the top right, if you see a green tick mark then you're connected. You can also monitor how much RAM you have used there."
      ]
    },
    {
      "cell_type": "markdown",
      "metadata": {
        "id": "rwBbGzagddM3"
      },
      "source": [
        "## 5) Changing to GPU/CPU compute\n",
        "\n",
        "Click on Runtime > change runtime type. Select \"None\" for CPU and \"GPU\". \n",
        "\n",
        "Try to avoid using the GPU compute as you only get a few hours of usage per day when you don't use a Pro account. You only benefit significantly from the GPU when using convolutional layers."
      ]
    },
    {
      "cell_type": "markdown",
      "metadata": {
        "id": "kxhzaMcDilsJ"
      },
      "source": [
        "## 6) Accessing the file system\n",
        "\n",
        "On the top left, click on the file icon to gain access to the file system. In some practicals we will download data and you'll be able to view the data there."
      ]
    },
    {
      "cell_type": "markdown",
      "metadata": {
        "id": "T0vxzg8VjB5f"
      },
      "source": [
        "## 7) Sharing a notebook\n",
        "\n",
        "If you want to share a notebook with a tutor or someone else, you can do so by clicking on 'share' on the top right. Click on \"restricted\" to decide how you want to share this."
      ]
    },
    {
      "cell_type": "markdown",
      "metadata": {
        "id": "KZXhmiyhlXzf"
      },
      "source": [
        "## 8) Restarting the notebook\n",
        "\n",
        "To restart the Python runtime, click on Runtime > Restart runtime."
      ]
    }
  ]
}