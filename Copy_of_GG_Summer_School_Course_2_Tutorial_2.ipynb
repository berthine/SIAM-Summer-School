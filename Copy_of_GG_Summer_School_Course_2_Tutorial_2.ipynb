{
  "nbformat": 4,
  "nbformat_minor": 0,
  "metadata": {
    "colab": {
      "name": "Copy of GG_Summer_School_Course_2_Tutorial_2.ipynb",
      "provenance": [],
      "collapsed_sections": [],
      "include_colab_link": true
    },
    "kernelspec": {
      "display_name": "Python 3",
      "name": "python3"
    }
  },
  "cells": [
    {
      "cell_type": "markdown",
      "metadata": {
        "id": "view-in-github",
        "colab_type": "text"
      },
      "source": [
        "<a href=\"https://colab.research.google.com/github/berthine/SIAM-Summer-School/blob/main/Copy_of_GG_Summer_School_Course_2_Tutorial_2.ipynb\" target=\"_parent\"><img src=\"https://colab.research.google.com/assets/colab-badge.svg\" alt=\"Open In Colab\"/></a>"
      ]
    },
    {
      "cell_type": "code",
      "metadata": {
        "id": "t4f5tTJTxnYN"
      },
      "source": [
        "import tensorflow as tf\n",
        "from tensorflow.keras import backend as K\n",
        "from tensorflow.keras.models import Sequential\n",
        "from tensorflow.keras.layers import Dense, Flatten, Activation\n",
        "from keras.datasets import mnist\n",
        "import matplotlib.pyplot as plt\n",
        "import numpy as np\n",
        "import scipy as sp\n",
        "import scipy.integrate\n",
        "tf.keras.backend.set_floatx('float64')"
      ],
      "execution_count": 1,
      "outputs": []
    },
    {
      "cell_type": "markdown",
      "metadata": {
        "id": "dIXfZbygNScn"
      },
      "source": [
        "##Question 2.a"
      ]
    },
    {
      "cell_type": "markdown",
      "metadata": {
        "id": "CzT9RhhKhdG_"
      },
      "source": [
        "First, lets calculate $q^*$ by iteratively solving for $q^l$, using equation (3) from the paper by Poole et al."
      ]
    },
    {
      "cell_type": "code",
      "metadata": {
        "colab": {
          "base_uri": "https://localhost:8080/",
          "height": 315
        },
        "id": "700UdbKjfYJ_",
        "outputId": "4a664755-2c35-47f0-9b68-16efc05d0a37"
      },
      "source": [
        "def normal(z):\n",
        "  return (1/np.sqrt(2*np.pi))*np.exp(-(z**2)/2)\n",
        "\n",
        "def integrand(z,q):\n",
        "  return normal(z)*(np.tanh(np.sqrt(q)*z)**2)\n",
        "\n",
        "\n",
        "\n",
        "N = 1000 #layer width\n",
        "x = np.random.normal(size=N)\n",
        "\n",
        "#use initial condition given in the paper\n",
        "q0 = (1/len(x))*np.dot(x,x)\n",
        "sw = 2.5\n",
        "sb= 0.3\n",
        "q1 = (sw**2)*q0 + sb**2 \n",
        "\n",
        "qs = []\n",
        "qs.append(q0)\n",
        "qs.append(q1)\n",
        "\n",
        "\n",
        "#iterate to convergence within specified tolerance\n",
        "count = 0\n",
        "while np.abs(qs[count+1]-qs[count])>1e-04:\n",
        "  q1,_ = sp.integrate.quad(lambda z: integrand(z,q1), -np.inf, np.inf)\n",
        "  q1 = (sw**2)*q1 + sb**2\n",
        "  qs.append(q1)\n",
        "  count+=1\n",
        "\n",
        "# Display and plot the results\n",
        "plt.plot(qs)\n",
        "plt.xlabel('$\\ell$')\n",
        "plt.ylabel('$q^\\ell$')\n",
        "print(np.array(qs))\n"
      ],
      "execution_count": 3,
      "outputs": [
        {
          "output_type": "stream",
          "text": [
            "[0.96191186 6.10194911 4.44125522 4.15932025 4.09765146 4.08344536\n",
            " 4.08013408 4.07936015 4.07917914 4.0791368 ]\n"
          ],
          "name": "stdout"
        },
        {
          "output_type": "display_data",
          "data": {
            "image/png": "[encoded data removed]",
            "text/plain": [
              "<Figure size 432x288 with 1 Axes>"
            ]
          },
          "metadata": {
            "tags": [],
            "needs_background": "light"
          }
        }
      ]
    },
    {
      "cell_type": "markdown",
      "metadata": {
        "id": "OtXB98hw92yz"
      },
      "source": [
        "## Question 2.b"
      ]
    },
    {
      "cell_type": "markdown",
      "metadata": {
        "id": "0fjZMOrhULcS"
      },
      "source": [
        "Next, lets design a feedforward networks, and calculate the length of each layer, averaged of the weights and biases\n",
        "\n"
      ]
    },
    {
      "cell_type": "code",
      "metadata": {
        "id": "xw173yhPfYQr"
      },
      "source": [
        "#function to  build feed fordward tanh net\n",
        "def get_model(num_layers, width = N, sigma_w = 2.5, sigma_b = 0.3):  \n",
        "  model = Sequential()\n",
        "  kernel_initialiser = tf.random_normal_initializer(mean=0.0, stddev=sigma_w/np.sqrt(N))\n",
        "  bias_initialiser = tf.random_normal_initializer(mean=0.0, stddev=sigma_b)\n",
        "  for i in range(num_layers):\n",
        "    a = Dense(width, kernel_initializer=kernel_initialiser, use_bias=True, bias_initializer=bias_initialiser)\n",
        "    model.add(a)\n",
        "    model.add(Activation('tanh'))\n",
        "\n",
        "  return model"
      ],
      "execution_count": 4,
      "outputs": []
    },
    {
      "cell_type": "code",
      "metadata": {
        "id": "yH7zSBzyAHCD"
      },
      "source": [
        ""
      ],
      "execution_count": null,
      "outputs": []
    },
    {
      "cell_type": "code",
      "metadata": {
        "colab": {
          "base_uri": "https://localhost:8080/"
        },
        "id": "FAMqn6ENiepH",
        "outputId": "f45e0fb0-ebb1-4e4a-cbff-2681d879f054"
      },
      "source": [
        "x = np.random.normal(size=(1,N))\n",
        "\n",
        "num_layers = 7\n",
        "num_samples = 100\n",
        "\n",
        "average_layer_norms = np.zeros(num_layers)\n",
        "for i in range(num_samples):\n",
        "  # build new instance of model (i.e. new weights and biases)\n",
        "  model = get_model(num_layers, width=N)\n",
        "  model.build((None, N))\n",
        "  #for\n",
        "  \n",
        "  # build function to collect pre-activation layers when an input is passed into the net\n",
        "  inp = model.input\n",
        "  out = [layer.output for layer in model.layers if isinstance(layer, Dense)]\n",
        "  get_lay_outputs = K.function(inp, out)\n",
        "\n",
        "  # Pass input  through the net to get layer outputs \n",
        "  pre_activation_layers = get_lay_outputs(x)\n",
        "\n",
        "  # calculate squared 2-norm of each pre-activation layer\n",
        "  for l, lay in enumerate(pre_activation_layers):\n",
        "    h = lay[0,:]\n",
        "    average_layer_norms[l]+=(np.linalg.norm(h,2)**2)/N\n",
        "  \n",
        "  #avoid memory problems by deleting model and clearing session\n",
        "  del model\n",
        "  tf.keras.backend.clear_session()\n",
        "\n",
        "average_layer_norms=np.divide(average_layer_norms, num_samples)\n",
        "average_layer_norms"
      ],
      "execution_count": 6,
      "outputs": [
        {
          "output_type": "execute_result",
          "data": {
            "text/plain": [
              "array([6.57529283, 4.51258158, 4.17441143, 4.05544799, 4.07909194,\n",
              "       4.05079124, 4.07772408])"
            ]
          },
          "metadata": {
            "tags": []
          },
          "execution_count": 6
        }
      ]
    },
    {
      "cell_type": "code",
      "metadata": {
        "id": "b6gaMq_1AGFm",
        "colab": {
          "base_uri": "https://localhost:8080/"
        },
        "outputId": "5502a2e3-25a2-4a1f-d23e-c2d643b1f6a2"
      },
      "source": [
        "average_layer_norms==np.array(qs)"
      ],
      "execution_count": 7,
      "outputs": [
        {
          "output_type": "stream",
          "text": [
            "/usr/local/lib/python3.7/dist-packages/ipykernel_launcher.py:1: DeprecationWarning: elementwise comparison failed; this will raise an error in the future.\n",
            "  \"\"\"Entry point for launching an IPython kernel.\n"
          ],
          "name": "stderr"
        },
        {
          "output_type": "execute_result",
          "data": {
            "text/plain": [
              "False"
            ]
          },
          "metadata": {
            "tags": []
          },
          "execution_count": 7
        }
      ]
    },
    {
      "cell_type": "markdown",
      "metadata": {
        "id": "_KQhgA0CB3ib"
      },
      "source": [
        "## Question 2.c"
      ]
    },
    {
      "cell_type": "markdown",
      "metadata": {
        "id": "Lr5-kuxQmsQ1"
      },
      "source": [
        "Here,  we simply use what you proved in questiton 3, to calculate $\\sigma_w$ from $q^*$, and the equation (3) - used above - to calculate $\\sigma_b$ from $\\sigma_w$ and $q^*$\n"
      ]
    },
    {
      "cell_type": "code",
      "metadata": {
        "id": "c8g_KKLU8HK1"
      },
      "source": [
        "def d_tanh(z):\n",
        "  return np.subtract(1, np.square(np.tanh(z)))\n",
        "\n",
        "def chi_1_integrand(z, qstar):\n",
        "  return normal(z)*(d_tanh(np.sqrt(qstar)*z))**2\n",
        "  \n",
        "def calc_sw(qstar):\n",
        "  integral, _ = sp.integrate.quad(lambda z: chi_1_integrand(z,qstar), -np.inf, np.inf)\n",
        "  return np.sqrt(np.divide(1,integral))\n",
        "\n",
        "def calc_sb(qstar, sw):\n",
        "  integral,_ = sp.integrate.quad(lambda z: integrand(z,qstar), -np.inf, np.inf)\n",
        "  return np.sqrt(qstar - (sw**2)*integral)"
      ],
      "execution_count": null,
      "outputs": []
    },
    {
      "cell_type": "code",
      "metadata": {
        "id": "iSEZ2a3o-9qe"
      },
      "source": [
        "sigma_ws = []\n",
        "sigma_bs = []\n",
        "for qstar in np.linspace(0.1, 500, 1000):\n",
        "  sw = calc_sw(qstar)\n",
        "  sb = calc_sb(qstar, sw)\n",
        "  sigma_ws.append(sw)\n",
        "  sigma_bs.append(sb)"
      ],
      "execution_count": null,
      "outputs": []
    },
    {
      "cell_type": "code",
      "metadata": {
        "colab": {
          "base_uri": "https://localhost:8080/",
          "height": 303
        },
        "id": "xzEL4Gft-90E",
        "outputId": "79c40d0f-15cf-422e-b682-e24045244237"
      },
      "source": [
        "#recreating the plot of the edge of chaos from Figure 2c in the Poole et al. paper\n",
        "plt.plot(sigma_bs, sigma_ws, label = '$\\chi_1 = 1$')\n",
        "plt.xlim([0,4])\n",
        "plt.ylim([1,5])\n",
        "plt.xlabel('$\\sigma_b$')\n",
        "plt.ylabel('$\\sigma_w$')\n",
        "plt.legend()"
      ],
      "execution_count": null,
      "outputs": [
        {
          "output_type": "execute_result",
          "data": {
            "text/plain": [
              "<matplotlib.legend.Legend at 0x7f066675b0b8>"
            ]
          },
          "metadata": {
            "tags": []
          },
          "execution_count": 7
        },
        {
          "output_type": "display_data",
          "data": {
            "image/png": "[encoded data removed]",
            "text/plain": [
              "<Figure size 432x288 with 1 Axes>"
            ]
          },
          "metadata": {
            "tags": []
          }
        }
      ]
    },
    {
      "cell_type": "code",
      "metadata": {
        "id": "sqKK8YJa-928"
      },
      "source": [
        ""
      ],
      "execution_count": null,
      "outputs": []
    },
    {
      "cell_type": "markdown",
      "metadata": {
        "id": "3I2ToNaOFsp3"
      },
      "source": [
        "## Question 2.d"
      ]
    },
    {
      "cell_type": "markdown",
      "metadata": {
        "id": "hCg8ZOD_ntDU"
      },
      "source": [
        "In this question, we will pass 2 inputs through our feedforward net, and check their correlations $c_{12}$ at each  layer. Vary the values of $\\sigma_w$ and $\\sigma_b$ and see what happens. Note that one type of behaviour is easier to see when starting with correlated inputs, and the other is more easily visible when starting with uncorrelated inputs."
      ]
    },
    {
      "cell_type": "code",
      "metadata": {
        "id": "CC1SIR66-95y"
      },
      "source": [
        "N = 1000\n",
        "\n",
        "x1 = np.random.normal(size=(1,N))\n",
        "x2_sim = 3*x1.copy()\n",
        "x2 = np.random.normal(size=(1,N))\n",
        "\n",
        "\n",
        "num_samples = 20\n",
        "num_layers = 25\n",
        "\n",
        "#vary these\n",
        "sigma_w1 = 1.3\n",
        "sigma_w2 = 2.5\n",
        "sigma_w3 = 4\n",
        "sigma_b = 0.3\n",
        "\n",
        "average_layer_corrs1 = np.zeros(num_layers)\n",
        "average_layer_corrs2 = np.zeros(num_layers)\n",
        "average_layer_corrs3 = np.zeros(num_layers)\n",
        "\n",
        "for i in range(num_samples):\n",
        "  model1 = get_model(num_layers, sigma_w = sigma_w1, sigma_b = sigma_b,width=N)\n",
        "  model1.build((None, N))\n",
        "  model2 = get_model(num_layers, sigma_w = sigma_w2, sigma_b = sigma_b,width=N)\n",
        "  model2.build((None, N))\n",
        "  model3 = get_model(num_layers, sigma_w = sigma_w3, sigma_b = sigma_b,width=N)\n",
        "  model3.build((None, N))\n",
        "  \n",
        "  inp1 = model1.input\n",
        "  out1 = [layer.output for layer in model1.layers if isinstance(layer, Dense)]\n",
        "  get_lay_outputs1 = K.function(inp1, out1)\n",
        "  pre_activation_layers11 = get_lay_outputs1(x1)\n",
        "  pre_activation_layers12 = get_lay_outputs1(x2)\n",
        "  \n",
        "  for l in range(len(pre_activation_layers11)):\n",
        "    h11 = pre_activation_layers11[l][0,:]\n",
        "    h12 = pre_activation_layers12[l][0,:]\n",
        "    average_layer_corrs1[l]+= np.corrcoef(h11, h12)[0,1]\n",
        "\n",
        "  inp2 = model2.input\n",
        "  out2 = [layer.output for layer in model2.layers if isinstance(layer, Dense)]\n",
        "  get_lay_outputs2 = K.function(inp2, out2)\n",
        "  pre_activation_layers21 = get_lay_outputs2(x1)\n",
        "  pre_activation_layers22 = get_lay_outputs2(x2_sim)\n",
        "\n",
        "\n",
        "  for l in range(len(pre_activation_layers21)):\n",
        "    h21 = pre_activation_layers21[l][0,:]\n",
        "    h22 = pre_activation_layers22[l][0,:]\n",
        "    average_layer_corrs2[l]+= np.corrcoef(h21, h22)[0,1]\n",
        "\n",
        "  inp3 = model3.input\n",
        "  out3 = [layer.output for layer in model3.layers if isinstance(layer, Dense)]\n",
        "  get_lay_outputs3 = K.function(inp3, out3)\n",
        "  pre_activation_layers31 = get_lay_outputs3(x1)\n",
        "  pre_activation_layers32 = get_lay_outputs3(x2_sim)\n",
        "\n",
        "\n",
        "  for l in range(len(pre_activation_layers31)):\n",
        "    h31 = pre_activation_layers31[l][0,:]\n",
        "    h32 = pre_activation_layers32[l][0,:]\n",
        "    average_layer_corrs3[l]+= np.corrcoef(h31, h32)[0,1]\n",
        "\n",
        "\n",
        "  del model1, model2, model3\n",
        "  tf.keras.backend.clear_session()\n",
        "\n",
        "average_layer_corrs1=np.divide(average_layer_corrs1, num_samples)\n",
        "average_layer_corrs2=np.divide(average_layer_corrs2, num_samples)\n",
        "average_layer_corrs3=np.divide(average_layer_corrs3, num_samples)"
      ],
      "execution_count": null,
      "outputs": []
    },
    {
      "cell_type": "code",
      "metadata": {
        "colab": {
          "base_uri": "https://localhost:8080/",
          "height": 297
        },
        "id": "hIdAvQxIM2CQ",
        "outputId": "9d707192-0736-496d-f16b-3a9fb6f04a85"
      },
      "source": [
        "plt.plot(np.arange(num_layers)+1, average_layer_corrs1)\n",
        "plt.plot(np.arange(num_layers)+1, average_layer_corrs2)\n",
        "plt.plot(np.arange(num_layers)+1, average_layer_corrs3)\n",
        "plt.xlabel('Layer')\n",
        "plt.ylabel('$c_{12}^l$')\n",
        "plt.legend(('$\\sigma_w$=1.3', '$\\sigma_w$=2.5', '$\\sigma_w$=4'))"
      ],
      "execution_count": null,
      "outputs": [
        {
          "output_type": "execute_result",
          "data": {
            "text/plain": [
              "<matplotlib.legend.Legend at 0x7f61cd67a128>"
            ]
          },
          "metadata": {
            "tags": []
          },
          "execution_count": 13
        },
        {
          "output_type": "display_data",
          "data": {
            "image/png": "[encoded data removed]",
            "text/plain": [
              "<Figure size 432x288 with 1 Axes>"
            ]
          },
          "metadata": {
            "tags": []
          }
        }
      ]
    },
    {
      "cell_type": "markdown",
      "metadata": {
        "id": "lpsr_hkfNMyD"
      },
      "source": [
        "## Question 7"
      ]
    },
    {
      "cell_type": "markdown",
      "metadata": {
        "id": "gkpw3mbIozHS"
      },
      "source": [
        "For this question we will need a loss function, and so we will need dat with labels. We may as well use MNIST - though synthetic data would do just fine. "
      ]
    },
    {
      "cell_type": "code",
      "metadata": {
        "colab": {
          "base_uri": "https://localhost:8080/"
        },
        "id": "YFaeznhjzBu3",
        "outputId": "6149a903-a181-4955-ba71-a29f62e8ccd2"
      },
      "source": [
        "# Sample batch of MNIST data\n",
        "(x_train, y_train), (x_test, y_test)= mnist.load_data()\n",
        "batch_size = 128\n",
        "x_batch = x_train[:batch_size, :, :]\n",
        "y_batch = y_train[:batch_size]"
      ],
      "execution_count": null,
      "outputs": [
        {
          "output_type": "stream",
          "text": [
            "Downloading data from https://storage.googleapis.com/tensorflow/tf-keras-datasets/mnist.npz\n",
            "11493376/11490434 [==============================] - 0s 0us/step\n"
          ],
          "name": "stdout"
        }
      ]
    },
    {
      "cell_type": "code",
      "metadata": {
        "id": "Tgva7iI2xuWY"
      },
      "source": [
        "loss_object = tf.keras.losses.SparseCategoricalCrossentropy(from_logits=True)\n",
        "\n",
        "# functions to compute loss and gradients\n",
        "\n",
        "def loss(model, x, y, training):\n",
        "  y_hat = model(x)\n",
        "  return loss_object(y_true=y, y_pred=y_hat)\n",
        "\n",
        "def grad(model, inputs, targets):\n",
        "  with tf.GradientTape() as tape:\n",
        "    loss_value = loss(model, inputs, targets, training=True)\n",
        "  return loss_value, tape.gradient(loss_value, model.trainable_variables)\n",
        "\n",
        "\n",
        "# Function to build model\n",
        "\n",
        "def get_model(num_layers, width = N, sigma_w = 2.5, sigma_b = 0.3):  \n",
        "  model = Sequential()\n",
        "  model.add(Flatten())\n",
        "  kernel_initialiser = tf.random_normal_initializer(mean=0.0, stddev=sigma_w/np.sqrt(N))\n",
        "  bias_initialiser = tf.random_normal_initializer(mean=0.0, stddev=sigma_b)\n",
        "  for i in range(num_layers):\n",
        "    model.add(Dense(width, kernel_initializer=kernel_initialiser, use_bias=True, bias_initializer=bias_initialiser))\n",
        "    model.add(Activation('tanh'))\n",
        "  model.add(Dense(10, kernel_initializer=kernel_initialiser, use_bias=True, bias_initializer=bias_initialiser))\n",
        "  return model"
      ],
      "execution_count": null,
      "outputs": []
    },
    {
      "cell_type": "markdown",
      "metadata": {
        "id": "fSLrsW0upxMq"
      },
      "source": [
        "Now we build a deep net, and vary $\\sigma_w$ and $\\sigma_b$ and examine the impact on the gradients"
      ]
    },
    {
      "cell_type": "code",
      "metadata": {
        "colab": {
          "base_uri": "https://localhost:8080/",
          "height": 265
        },
        "id": "Di_K0A9KyJIE",
        "outputId": "fd735293-657f-47a0-c5f8-504518e04600"
      },
      "source": [
        "num_layers = 30\n",
        "#vary these\n",
        "sigma_w = 1.3\n",
        "sigma_b = 0.3\n",
        "N = 28*28\n",
        "\n",
        "model = get_model(num_layers, sigma_w = sigma_w, sigma_b = sigma_b,width=N)\n",
        "loss_value,  grads = grad(model, x_batch, y_batch)\n",
        "\n",
        "# plt.plot(np.concatenate([tf.reshape(g, -1) for g in grads]))\n",
        "\n",
        "plt.hist(np.concatenate([tf.reshape(g, -1) for g in grads]), bins = 100, log=True);"
      ],
      "execution_count": null,
      "outputs": [
        {
          "output_type": "display_data",
          "data": {
            "image/png": "[encoded data removed]",
            "text/plain": [
              "<Figure size 432x288 with 1 Axes>"
            ]
          },
          "metadata": {
            "tags": []
          }
        }
      ]
    },
    {
      "cell_type": "code",
      "metadata": {
        "colab": {
          "base_uri": "https://localhost:8080/",
          "height": 265
        },
        "id": "8y1aGpbF0chz",
        "outputId": "14443211-47e4-410a-dd31-88b2a225317b"
      },
      "source": [
        "num_layers = 30\n",
        "#vary these\n",
        "sigma_w = 4\n",
        "sigma_b = 0.3\n",
        "N = 28*28\n",
        "\n",
        "model = get_model(num_layers, sigma_w = sigma_w, sigma_b = sigma_b,width=N)\n",
        "loss_value,  grads = grad(model, x_batch, y_batch)\n",
        "\n",
        "\n",
        "plt.hist(np.concatenate([tf.reshape(g, -1) for g in grads]), bins = 100, log=True);"
      ],
      "execution_count": null,
      "outputs": [
        {
          "output_type": "display_data",
          "data": {
            "image/png": "[encoded data removed]",
            "text/plain": [
              "<Figure size 432x288 with 1 Axes>"
            ]
          },
          "metadata": {
            "tags": []
          }
        }
      ]
    },
    {
      "cell_type": "code",
      "metadata": {
        "id": "uSxK95utsOKJ"
      },
      "source": [
        ""
      ],
      "execution_count": null,
      "outputs": []
    }
  ]
}