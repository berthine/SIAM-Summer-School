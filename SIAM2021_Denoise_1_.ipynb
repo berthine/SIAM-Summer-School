{
  "nbformat": 4,
  "nbformat_minor": 0,
  "metadata": {
    "accelerator": "GPU",
    "colab": {
      "name": "SIAM2021 - Denoise 1 .ipynb",
      "provenance": [],
      "collapsed_sections": [],
      "include_colab_link": true
    },
    "kernelspec": {
      "display_name": "Python 3",
      "name": "python3"
    }
  },
  "cells": [
    {
      "cell_type": "markdown",
      "metadata": {
        "id": "view-in-github",
        "colab_type": "text"
      },
      "source": [
        "<a href=\"https://colab.research.google.com/github/berthine/SIAM-Summer-School/blob/main/SIAM2021_Denoise_1_.ipynb\" target=\"_parent\"><img src=\"https://colab.research.google.com/assets/colab-badge.svg\" alt=\"Open In Colab\"/></a>"
      ]
    },
    {
      "cell_type": "markdown",
      "metadata": {
        "id": "YSon7FLdIS1O"
      },
      "source": [
        "## Practical: Denoising Images 1 (MNIST)\n",
        "(26/July/2021)\n",
        "\n",
        "### 2021 Gene Golub SIAM Summer School \n",
        "https://sites.google.com/aims.ac.za/g2s3/home \n",
        "\n",
        "Instructor\n",
        "\n",
        "<font color=\"green\">***Dr. Emmanuel Dufourq*** \n",
        "\n",
        "www.emmanueldufourq.com\n",
        "\n",
        "edufourq (['@']) gmail.com\n",
        "\n",
        "***African Institute for Mathematical Sciences***\n",
        "\n",
        "***Stellenbosch University***\n",
        "\n",
        "***2021***\n",
        "\n",
        "Material adapted from: https://colab.research.google.com/github/tensorflow/docs/blob/master/site/en/tutorials/generative/autoencoder.ipynb\n",
        "\n",
        "Code licensed under https://www.apache.org/licenses/LICENSE-2.0\n",
        "\n",
        "\n"
      ]
    },
    {
      "cell_type": "markdown",
      "metadata": {
        "id": "KhYimPzrcwIq"
      },
      "source": [
        "## <font color=\"green\"> Learning outcomes:\n",
        "\n",
        "* implement the autoencoder using CNNs to denoise images\n",
        "\n",
        "## <font color=\"green\">Data information:\n",
        "\n",
        "* Features: (28x28) images\n",
        "\n",
        "* Output: (28x28) images\n",
        "\n",
        "## <font color=\"green\">Tasks for participants (boolean)?\n",
        "\n",
        "* Yes, at the end (try avoid copy/pasting code, rather write it out)\n"
      ]
    },
    {
      "cell_type": "markdown",
      "metadata": {
        "id": "e1_Y75QXJS6h"
      },
      "source": [
        "## Import TensorFlow and other libraries"
      ]
    },
    {
      "cell_type": "code",
      "metadata": {
        "id": "YfIk2es3hJEd"
      },
      "source": [
        "import matplotlib.pyplot as plt\n",
        "import numpy as np\n",
        "import tensorflow as tf\n",
        "from tensorflow import keras\n",
        "from tensorflow.keras import backend as K\n",
        "from tensorflow.keras import layers, losses\n",
        "from tensorflow.keras.datasets import mnist\n",
        "from tensorflow.keras.models import Model"
      ],
      "execution_count": null,
      "outputs": []
    },
    {
      "cell_type": "markdown",
      "metadata": {
        "id": "O1TopU_LubWg"
      },
      "source": [
        "In this prac we will train a network to remove noise from an image.\n",
        "\n",
        "![Image denoising results](https://raw.githubusercontent.com/tensorflow/docs/master/site/en/tutorials/generative/images/image_denoise_fmnist_results.png)"
      ]
    },
    {
      "cell_type": "markdown",
      "metadata": {
        "id": "sRD3m-MYT6qJ"
      },
      "source": [
        "### Download the data\n",
        "\n",
        "Again this is an unsupervised problem so we don't need the labels"
      ]
    },
    {
      "cell_type": "code",
      "metadata": {
        "id": "xqGTf1Q9i84Q",
        "colab": {
          "base_uri": "https://localhost:8080/"
        },
        "outputId": "0c7d04a6-047f-4d03-ad80-253017c44770"
      },
      "source": [
        "(x_train, _), (x_test, _) = mnist.load_data()"
      ],
      "execution_count": null,
      "outputs": [
        {
          "output_type": "stream",
          "text": [
            "Downloading data from https://storage.googleapis.com/tensorflow/tf-keras-datasets/mnist.npz\n",
            "11493376/11490434 [==============================] - 0s 0us/step\n"
          ],
          "name": "stdout"
        }
      ]
    },
    {
      "cell_type": "markdown",
      "metadata": {
        "id": "Y0J_uY7lT_X2"
      },
      "source": [
        "### Normalise the data\n",
        "\n",
        "Divide by the maximum pixel value, 255."
      ]
    },
    {
      "cell_type": "code",
      "metadata": {
        "id": "b1cW0HfYi86v"
      },
      "source": [
        "x_train = x_train.astype('float32') / 255.\n",
        "x_test = x_test.astype('float32') / 255."
      ],
      "execution_count": null,
      "outputs": []
    },
    {
      "cell_type": "code",
      "metadata": {
        "colab": {
          "base_uri": "https://localhost:8080/"
        },
        "id": "_ZCVNc46UKB8",
        "outputId": "b4fb068d-a19c-40e5-8e49-e0b20a65b800"
      },
      "source": [
        "x_train.shape"
      ],
      "execution_count": null,
      "outputs": [
        {
          "output_type": "execute_result",
          "data": {
            "text/plain": [
              "(60000, 28, 28)"
            ]
          },
          "metadata": {
            "tags": []
          },
          "execution_count": 4
        }
      ]
    },
    {
      "cell_type": "markdown",
      "metadata": {
        "id": "rv1JLVAZUEhV"
      },
      "source": [
        "### Reshape the data so that it has a 1 to indicate the depth of each image"
      ]
    },
    {
      "cell_type": "code",
      "metadata": {
        "id": "YsG2DF21niEv"
      },
      "source": [
        "x_train = x_train[..., tf.newaxis]\n",
        "x_test = x_test[..., tf.newaxis]"
      ],
      "execution_count": null,
      "outputs": []
    },
    {
      "cell_type": "code",
      "metadata": {
        "colab": {
          "base_uri": "https://localhost:8080/"
        },
        "id": "l4RIFtGxnY0D",
        "outputId": "7bb24f7e-7e00-4c3c-9edb-22da73759015"
      },
      "source": [
        "x_train.shape"
      ],
      "execution_count": null,
      "outputs": [
        {
          "output_type": "execute_result",
          "data": {
            "text/plain": [
              "(60000, 28, 28, 1)"
            ]
          },
          "metadata": {
            "tags": []
          },
          "execution_count": 6
        }
      ]
    },
    {
      "cell_type": "markdown",
      "metadata": {
        "id": "aPZl_6P65_8R"
      },
      "source": [
        "### Create some noise\n",
        "\n",
        "Adding random noise to the images\n",
        "\n",
        "If you change the value of ```noise_factor``` you will make the resulting images more/less noisy."
      ]
    },
    {
      "cell_type": "code",
      "metadata": {
        "id": "axSMyxC354fc"
      },
      "source": [
        "noise_factor = 0.2\n",
        "x_train_noisy = x_train + noise_factor * tf.random.normal(shape=x_train.shape) \n",
        "x_test_noisy = x_test + noise_factor * tf.random.normal(shape=x_test.shape) \n",
        "\n",
        "x_train_noisy = tf.clip_by_value(x_train_noisy, clip_value_min=0., clip_value_max=1.)\n",
        "x_test_noisy = tf.clip_by_value(x_test_noisy, clip_value_min=0., clip_value_max=1.)"
      ],
      "execution_count": null,
      "outputs": []
    },
    {
      "cell_type": "markdown",
      "metadata": {
        "id": "wRxHe4XXltNd"
      },
      "source": [
        "Plot the noisy images.\n"
      ]
    },
    {
      "cell_type": "code",
      "metadata": {
        "id": "thKUmbVVCQpt",
        "colab": {
          "base_uri": "https://localhost:8080/",
          "height": 158
        },
        "outputId": "d489cc52-f3e7-4bd1-bfc4-c8f42535df43"
      },
      "source": [
        "n = 10\n",
        "plt.figure(figsize=(20, 2))\n",
        "for i in range(n):\n",
        "    ax = plt.subplot(1, n, i + 1)\n",
        "    plt.title(\"original + noise\")\n",
        "    plt.imshow(tf.squeeze(x_test_noisy[i]))\n",
        "    plt.gray()\n",
        "plt.show()"
      ],
      "execution_count": null,
      "outputs": [
        {
          "output_type": "display_data",
          "data": {
            "image/png": "[encoded data removed]",
            "text/plain": [
              "<Figure size 1440x144 with 10 Axes>"
            ]
          },
          "metadata": {
            "tags": [],
            "needs_background": "light"
          }
        }
      ]
    },
    {
      "cell_type": "markdown",
      "metadata": {
        "id": "HeEb5e6B0ay5"
      },
      "source": [
        "Plot the original images"
      ]
    },
    {
      "cell_type": "code",
      "metadata": {
        "colab": {
          "base_uri": "https://localhost:8080/",
          "height": 158
        },
        "id": "cjsVeRMS0a32",
        "outputId": "ada7483e-82ab-48b7-c669-d2e3fbba1166"
      },
      "source": [
        "n = 10\n",
        "plt.figure(figsize=(20, 2))\n",
        "for i in range(n):\n",
        "    ax = plt.subplot(1, n, i + 1)\n",
        "    plt.title(\"original\")\n",
        "    plt.imshow(tf.squeeze(x_test[i]))\n",
        "    plt.gray()\n",
        "plt.show()"
      ],
      "execution_count": null,
      "outputs": [
        {
          "output_type": "display_data",
          "data": {
            "image/png": "[encoded data removed]",
            "text/plain": [
              "<Figure size 1440x144 with 10 Axes>"
            ]
          },
          "metadata": {
            "tags": [],
            "needs_background": "light"
          }
        }
      ]
    },
    {
      "cell_type": "markdown",
      "metadata": {
        "id": "8dPOSQwgUdmc"
      },
      "source": [
        "Instead of working on the class directly like in the last prac, let's build the encoder and decoded using the functional API separately to make sure we get the shapes correct."
      ]
    },
    {
      "cell_type": "markdown",
      "metadata": {
        "id": "ZjdkpnvbUOmb"
      },
      "source": [
        "### Encoder\n",
        "\n",
        "Here we want to input an image of (28,28,1) and output a shape of (7,7,8) which is the encoded image.\n",
        "\n",
        "So we need to build an appropriate architecture which will produce that output.\n",
        "\n"
      ]
    },
    {
      "cell_type": "code",
      "metadata": {
        "id": "OQx7glP75J_r"
      },
      "source": [
        "# Here we use the Functional API which requires 3 things (Input, model and output)\n",
        "\n",
        "# Specify the input layer here a shape of 28x28x1 (greyscale images)\n",
        "encoder_input = tf.keras.Input(shape=(28, 28, 1))\n",
        "\n",
        "# First conv layer which will reduce the shape by half given a stride of 2\n",
        "encoder = tf.keras.layers.Conv2D(16, (3, 3), activation='relu', padding='same', strides=2)(encoder_input)\n",
        "\n",
        "# Second conv layer which will reduce the shape by half given a stride of 2\n",
        "encoder_output = tf.keras.layers.Conv2D(8, (3, 3), activation='relu', padding='same', strides=2)(encoder)"
      ],
      "execution_count": null,
      "outputs": []
    },
    {
      "cell_type": "code",
      "metadata": {
        "id": "hboDnAaW6tu8"
      },
      "source": [
        "# Create a Model and specify the input and output\n",
        "# This is normal Keras functional API like in the ANN prac\n",
        "model = tf.keras.Model(encoder_input, encoder_output)"
      ],
      "execution_count": null,
      "outputs": []
    },
    {
      "cell_type": "code",
      "metadata": {
        "colab": {
          "base_uri": "https://localhost:8080/"
        },
        "id": "hJ6pfo4j6z4N",
        "outputId": "ba8ef797-0735-43e1-ffc3-a1fdf748e502"
      },
      "source": [
        "model.summary()"
      ],
      "execution_count": null,
      "outputs": [
        {
          "output_type": "stream",
          "text": [
            "Model: \"model\"\n",
            "_________________________________________________________________\n",
            "Layer (type)                 Output Shape              Param #   \n",
            "=================================================================\n",
            "input_1 (InputLayer)         [(None, 28, 28, 1)]       0         \n",
            "_________________________________________________________________\n",
            "conv2d (Conv2D)              (None, 14, 14, 16)        160       \n",
            "_________________________________________________________________\n",
            "conv2d_1 (Conv2D)            (None, 7, 7, 8)           1160      \n",
            "=================================================================\n",
            "Total params: 1,320\n",
            "Trainable params: 1,320\n",
            "Non-trainable params: 0\n",
            "_________________________________________________________________\n"
          ],
          "name": "stdout"
        }
      ]
    },
    {
      "cell_type": "markdown",
      "metadata": {
        "id": "XInYfe46Votj"
      },
      "source": [
        "### Decoder\n",
        "\n",
        "Here we want to input a shape of (7,7,8) and output an image of (28,28,1) which is the decoded image.\n",
        "\n",
        "So we need to build an appropriate architecture which will produce that output.\n",
        "\n",
        "The decoder is essentially the inverse of the encoder."
      ]
    },
    {
      "cell_type": "code",
      "metadata": {
        "id": "TgmBipx15hrh"
      },
      "source": [
        "# Here we use the Functional API which requires 3 things (Input, model and output)\n",
        "\n",
        "# Specify the input layer here a shape of (16) (encoded images)\n",
        "decoder_input = tf.keras.Input(shape=(7,7,8))\n",
        "\n",
        "# Working backwards, we can to the opposite of Conv2D which is Transpose convolution. \n",
        "# API https://www.tensorflow.org/api_docs/python/tf/keras/layers/Conv2DTranspose\n",
        "decoder = layers.Conv2DTranspose(8, kernel_size=3, strides=2, activation='relu', padding='same')(decoder_input)\n",
        "\n",
        "decoder = layers.Conv2DTranspose(16, kernel_size=3, strides=2, activation='relu', padding='same')(decoder)\n",
        "\n",
        "# At this point our shape is (28,28,16) but we want (28,28,1) so we can remove the 16 features by\n",
        "# applying a convolutional layer with 1 filter.\n",
        "decoder_output = layers.Conv2D(1, kernel_size=(3, 3), activation='sigmoid', padding='same')(decoder)"
      ],
      "execution_count": null,
      "outputs": []
    },
    {
      "cell_type": "code",
      "metadata": {
        "id": "TDiWLOig8HGN"
      },
      "source": [
        "model = tf.keras.Model(decoder_input, decoder_output)"
      ],
      "execution_count": null,
      "outputs": []
    },
    {
      "cell_type": "code",
      "metadata": {
        "colab": {
          "base_uri": "https://localhost:8080/"
        },
        "id": "jFyuGmSV5ht0",
        "outputId": "bfbdfad1-359f-4d5e-c1a5-c7be52b2690c"
      },
      "source": [
        "model.summary()"
      ],
      "execution_count": null,
      "outputs": [
        {
          "output_type": "stream",
          "text": [
            "Model: \"model_1\"\n",
            "_________________________________________________________________\n",
            "Layer (type)                 Output Shape              Param #   \n",
            "=================================================================\n",
            "input_2 (InputLayer)         [(None, 7, 7, 8)]         0         \n",
            "_________________________________________________________________\n",
            "conv2d_transpose (Conv2DTran (None, 14, 14, 8)         584       \n",
            "_________________________________________________________________\n",
            "conv2d_transpose_1 (Conv2DTr (None, 28, 28, 16)        1168      \n",
            "_________________________________________________________________\n",
            "conv2d_2 (Conv2D)            (None, 28, 28, 1)         145       \n",
            "=================================================================\n",
            "Total params: 1,897\n",
            "Trainable params: 1,897\n",
            "Non-trainable params: 0\n",
            "_________________________________________________________________\n"
          ],
          "name": "stdout"
        }
      ]
    },
    {
      "cell_type": "code",
      "metadata": {
        "id": "GGT4tfSA-nny"
      },
      "source": [
        "del model, encoder, decoder, encoder_input, encoder_output, decoder_input, decoder_output"
      ],
      "execution_count": null,
      "outputs": []
    },
    {
      "cell_type": "markdown",
      "metadata": {
        "id": "89MasJ8UlzLx"
      },
      "source": [
        "Now, let's take everything above and create our own Model object."
      ]
    },
    {
      "cell_type": "code",
      "metadata": {
        "id": "ef49wkt_i89Y"
      },
      "source": [
        "from tensorflow.keras.initializers import HeNormal\n",
        "\n",
        "class Autoencoder(Model):\n",
        "  def __init__(self, name=\"autoencoder\"):\n",
        "    super(Autoencoder, self).__init__()\n",
        "\n",
        "    # The Autoencoder has an encoder which we can make using normal layers\n",
        "    # Here we use the Functional API which requires 3 things (Input, model and output)\n",
        "    # ------------------------------------------\n",
        "    # Specify the input layer here a shape of 28x28x1 (greyscale images)\n",
        "    self.encoder_input = tf.keras.Input(shape=(28, 28, 1))\n",
        "\n",
        "    self.encoder = layers.Conv2D(16, (3, 3), activation='relu', padding='same', strides=2, kernel_initializer=HeNormal())(self.encoder_input)\n",
        "\n",
        "    self.encoder_output = layers.Conv2D(8, (3, 3), activation='relu', padding='same', strides=2, kernel_initializer=HeNormal())(self.encoder)\n",
        "\n",
        "    self.encoder_model = tf.keras.Model(self.encoder_input, self.encoder_output)\n",
        "    # ------------------------------------------\n",
        "\n",
        "    # The Autoencoder has an decoder  which we can make using normal layers\n",
        "    # Here we use the Functional API which requires 3 things (Input, model and output)\n",
        "    # ------------------------------------------\n",
        "\n",
        "    self.decoder_input = tf.keras.Input(shape=(7,7,8))\n",
        "\n",
        "    self.decoder = layers.Conv2DTranspose(8, kernel_size=3, strides=2, activation='relu', padding='same', kernel_initializer=HeNormal())(self.decoder_input)\n",
        "    self.decoder = layers.Conv2DTranspose(16, kernel_size=3, strides=2, activation='relu', padding='same', kernel_initializer=HeNormal())(self.decoder)\n",
        "    self.decoder_output = layers.Conv2D(1, kernel_size=(3, 3), activation='sigmoid', padding='same', kernel_initializer=HeNormal())(self.decoder)\n",
        "\n",
        "    self.decoder_model = tf.keras.Model(self.decoder_input, self.decoder_output)\n",
        "    # ------------------------------------------\n",
        "\n",
        "  # The forward pass\n",
        "  def call(self, x):\n",
        "\n",
        "    # Encode the inputs x using the propery defined above\n",
        "    # In the previous notebook we created the encoder and decoder as Sequential Models\n",
        "    # but now since we used the Functional API we need to call the Model objects we created above\n",
        "    encoded = self.encoder_model(x)\n",
        "\n",
        "    # Decode the encoded vector using the property defined above\n",
        "    decoded = self.decoder_model(encoded)\n",
        "\n",
        "    # Return the decoded (28,28) data\n",
        "    return decoded\n",
        "    \n",
        "autoencoder = Autoencoder() "
      ],
      "execution_count": null,
      "outputs": []
    },
    {
      "cell_type": "code",
      "metadata": {
        "id": "MDsPp1USi8_-"
      },
      "source": [
        "autoencoder.compile(optimizer = tf.keras.optimizers.Adam(), loss='binary_crossentropy')"
      ],
      "execution_count": null,
      "outputs": []
    },
    {
      "cell_type": "code",
      "metadata": {
        "colab": {
          "base_uri": "https://localhost:8080/"
        },
        "id": "QLUPvT_Ii9Ck",
        "outputId": "79a74d7b-701f-49ac-c43a-63754ffdaa4b"
      },
      "source": [
        "autoencoder.fit(x_train_noisy, x_train,\n",
        "                epochs=6,\n",
        "                shuffle=True,\n",
        "                validation_data=(x_test_noisy, x_test))"
      ],
      "execution_count": null,
      "outputs": [
        {
          "output_type": "stream",
          "text": [
            "Epoch 1/6\n",
            "1875/1875 [==============================] - 38s 3ms/step - loss: 0.1039 - val_loss: 0.0744\n",
            "Epoch 2/6\n",
            "1875/1875 [==============================] - 6s 3ms/step - loss: 0.0740 - val_loss: 0.0728\n",
            "Epoch 3/6\n",
            "1875/1875 [==============================] - 6s 3ms/step - loss: 0.0730 - val_loss: 0.0724\n",
            "Epoch 4/6\n",
            "1875/1875 [==============================] - 6s 3ms/step - loss: 0.0724 - val_loss: 0.0718\n",
            "Epoch 5/6\n",
            "1875/1875 [==============================] - 5s 3ms/step - loss: 0.0721 - val_loss: 0.0715\n",
            "Epoch 6/6\n",
            "1875/1875 [==============================] - 6s 3ms/step - loss: 0.0719 - val_loss: 0.0720\n"
          ],
          "name": "stdout"
        },
        {
          "output_type": "execute_result",
          "data": {
            "text/plain": [
              "<tensorflow.python.keras.callbacks.History at 0x7fe8219a3e50>"
            ]
          },
          "metadata": {
            "tags": []
          },
          "execution_count": 19
        }
      ]
    },
    {
      "cell_type": "code",
      "metadata": {
        "colab": {
          "base_uri": "https://localhost:8080/"
        },
        "id": "4-MFPKXei9FL",
        "outputId": "6381e145-88f7-4bc2-d857-87246062105d"
      },
      "source": [
        "autoencoder.summary()"
      ],
      "execution_count": null,
      "outputs": [
        {
          "output_type": "stream",
          "text": [
            "Model: \"autoencoder\"\n",
            "_________________________________________________________________\n",
            "Layer (type)                 Output Shape              Param #   \n",
            "=================================================================\n",
            "model_2 (Functional)         (None, 7, 7, 8)           1320      \n",
            "_________________________________________________________________\n",
            "model_3 (Functional)         (None, 28, 28, 1)         1897      \n",
            "=================================================================\n",
            "Total params: 3,217\n",
            "Trainable params: 3,217\n",
            "Non-trainable params: 0\n",
            "_________________________________________________________________\n"
          ],
          "name": "stdout"
        }
      ]
    },
    {
      "cell_type": "code",
      "metadata": {
        "colab": {
          "base_uri": "https://localhost:8080/",
          "height": 265
        },
        "id": "w8uZpo6Hi9Hz",
        "outputId": "39687897-6073-489f-ed2b-6ddff04c7867"
      },
      "source": [
        "plt.imshow(x_test_noisy[0,:,:,0])\n",
        "plt.gray()"
      ],
      "execution_count": null,
      "outputs": [
        {
          "output_type": "display_data",
          "data": {
            "image/png": "[encoded data removed]",
            "text/plain": [
              "<Figure size 432x288 with 1 Axes>"
            ]
          },
          "metadata": {
            "tags": [],
            "needs_background": "light"
          }
        }
      ]
    },
    {
      "cell_type": "code",
      "metadata": {
        "id": "zl8weMhci9Ku"
      },
      "source": [
        "encoded_img = autoencoder.encoder_model(np.expand_dims(x_test_noisy[0],0)).numpy()"
      ],
      "execution_count": null,
      "outputs": []
    },
    {
      "cell_type": "code",
      "metadata": {
        "colab": {
          "base_uri": "https://localhost:8080/"
        },
        "id": "Kf3zacoKzJFO",
        "outputId": "23429160-5910-402d-c88d-eaa582431d08"
      },
      "source": [
        "encoded_img.shape"
      ],
      "execution_count": null,
      "outputs": [
        {
          "output_type": "execute_result",
          "data": {
            "text/plain": [
              "(1, 7, 7, 8)"
            ]
          },
          "metadata": {
            "tags": []
          },
          "execution_count": 23
        }
      ]
    },
    {
      "cell_type": "code",
      "metadata": {
        "id": "Pm6sVs2_o4Hk"
      },
      "source": [
        "decoded_img = autoencoder.decoder_model(encoded_img).numpy()"
      ],
      "execution_count": null,
      "outputs": []
    },
    {
      "cell_type": "code",
      "metadata": {
        "colab": {
          "base_uri": "https://localhost:8080/"
        },
        "id": "7dPKImAWo4KP",
        "outputId": "19c60d28-4eb3-4b9b-c486-4e61fae64c4d"
      },
      "source": [
        "decoded_img.shape"
      ],
      "execution_count": null,
      "outputs": [
        {
          "output_type": "execute_result",
          "data": {
            "text/plain": [
              "(1, 28, 28, 1)"
            ]
          },
          "metadata": {
            "tags": []
          },
          "execution_count": 25
        }
      ]
    },
    {
      "cell_type": "code",
      "metadata": {
        "colab": {
          "base_uri": "https://localhost:8080/",
          "height": 265
        },
        "id": "VAs8Xt5Ko4Rk",
        "outputId": "a816e160-e02f-459c-d477-a538d52edf48"
      },
      "source": [
        "plt.imshow(decoded_img[0,:,:,0])\n",
        "plt.gray()"
      ],
      "execution_count": null,
      "outputs": [
        {
          "output_type": "display_data",
          "data": {
            "image/png": "[encoded data removed]",
            "text/plain": [
              "<Figure size 432x288 with 1 Axes>"
            ]
          },
          "metadata": {
            "tags": [],
            "needs_background": "light"
          }
        }
      ]
    },
    {
      "cell_type": "markdown",
      "metadata": {
        "id": "8BWCx-rOPWWl"
      },
      "source": [
        "## Now let's compare the original images to the recontructed images on all of the testing data"
      ]
    },
    {
      "cell_type": "code",
      "metadata": {
        "id": "lfZF_P7kPeyT"
      },
      "source": [
        "encoded_imgs = autoencoder.encoder_model(x_test_noisy).numpy()\n",
        "decoded_imgs = autoencoder.decoder_model(encoded_imgs).numpy()"
      ],
      "execution_count": null,
      "outputs": []
    },
    {
      "cell_type": "code",
      "metadata": {
        "id": "s4LlDOS6FUA1",
        "colab": {
          "base_uri": "https://localhost:8080/",
          "height": 264
        },
        "outputId": "7a7f91b8-54fd-44f4-a69f-1ef9b6f7a66d"
      },
      "source": [
        "n = 10\n",
        "plt.figure(figsize=(20, 4))\n",
        "for i in range(n):\n",
        "  # display original\n",
        "  ax = plt.subplot(2, n, i + 1)\n",
        "  plt.imshow(x_test_noisy[i,:,:,0])\n",
        "  plt.title(\"original\")\n",
        "  plt.gray()\n",
        "  ax.get_xaxis().set_visible(False)\n",
        "  ax.get_yaxis().set_visible(False)\n",
        "\n",
        "  # display reconstruction\n",
        "  ax = plt.subplot(2, n, i + 1 + n)\n",
        "  plt.imshow(decoded_imgs[i,:,:,0])\n",
        "  plt.title(\"reconstructed\")\n",
        "  plt.gray()\n",
        "  ax.get_xaxis().set_visible(False)\n",
        "  ax.get_yaxis().set_visible(False)\n",
        "plt.show()"
      ],
      "execution_count": null,
      "outputs": [
        {
          "output_type": "display_data",
          "data": {
            "image/png": "[encoded data removed]",
            "text/plain": [
              "<Figure size 1440x288 with 20 Axes>"
            ]
          },
          "metadata": {
            "tags": [],
            "needs_background": "light"
          }
        }
      ]
    },
    {
      "cell_type": "markdown",
      "metadata": {
        "id": "mll7JUsSeMrI"
      },
      "source": [
        "## Task:\n",
        "\n",
        "* Explore modifications to the encoder and decoder (i.e. different conv layers in the encoder and decover).\n",
        "\n",
        "* Try different values for the noise.\n",
        "\n",
        "* What about using a different loss function? Does it always produce good results, say meansquared error.\n",
        "\n"
      ]
    },
    {
      "cell_type": "code",
      "metadata": {
        "id": "sVRPQaTQeY4f"
      },
      "source": [
        ""
      ],
      "execution_count": null,
      "outputs": []
    }
  ]
}