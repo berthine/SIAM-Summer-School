{
  "nbformat": 4,
  "nbformat_minor": 0,
  "metadata": {
    "colab": {
      "name": "SIAM2021 - Linear Reg 3 (short).ipynb",
      "provenance": [],
      "collapsed_sections": [],
      "include_colab_link": true
    },
    "kernelspec": {
      "name": "python3",
      "display_name": "Python 3"
    },
    "language_info": {
      "name": "python"
    }
  },
  "cells": [
    {
      "cell_type": "markdown",
      "metadata": {
        "id": "view-in-github",
        "colab_type": "text"
      },
      "source": [
        "<a href=\"https://colab.research.google.com/github/berthine/SIAM-Summer-School/blob/main/SIAM2021_Linear_Reg_3_(short).ipynb\" target=\"_parent\"><img src=\"https://colab.research.google.com/assets/colab-badge.svg\" alt=\"Open In Colab\"/></a>"
      ]
    },
    {
      "cell_type": "markdown",
      "metadata": {
        "id": "5eK-854jPC00"
      },
      "source": [
        "## Practical: Introduction (3) to linear regression using Tensorflow (short approach)\n",
        "(19/July/2021)\n",
        "\n",
        "### 2021 Gene Golub SIAM Summer School \n",
        "https://sites.google.com/aims.ac.za/g2s3/home \n",
        "\n",
        "Instructor\n",
        "\n",
        "<font color=\"green\">***Dr. Emmanuel Dufourq*** \n",
        "\n",
        "www.emmanueldufourq.com\n",
        "\n",
        "edufourq (['@']) gmail.com\n",
        "\n",
        "***African Institute for Mathematical Sciences***\n",
        "\n",
        "***Stellenbosch University***\n",
        "\n",
        "***2021***\n",
        "\n",
        "\n",
        "Material adapted from:\n",
        "\n",
        "https://www.tensorflow.org/guide/basic_training_loops"
      ]
    },
    {
      "cell_type": "markdown",
      "metadata": {
        "id": "VJ3GsFUglPdl"
      },
      "source": [
        "## <font color=\"green\"> Learning outcomes:\n",
        "\n",
        "* Your first encounter of the ```Model.fit()``` function which simplies the training loop\n",
        "\n",
        "## <font color=\"green\">Data information:\n",
        "\n",
        "* Features: two real valued features\n",
        "\n",
        "* Output: one real valued label\n",
        "\n",
        "## <font color=\"green\">Tasks for participants (boolean)?\n",
        "\n",
        "\n",
        "* No, follow along and make your own modifications and make sure you understand\n"
      ]
    },
    {
      "cell_type": "markdown",
      "metadata": {
        "id": "7cVRaZ4YPa7i"
      },
      "source": [
        "In this notebook we'll create a dataset that has two features. We will create a linear model"
      ]
    },
    {
      "cell_type": "code",
      "metadata": {
        "id": "1lrD1PE5PKns"
      },
      "source": [
        "import tensorflow as tf\n",
        "import random\n",
        "import matplotlib.pyplot as plt\n",
        "import numpy as np\n",
        "%matplotlib inline"
      ],
      "execution_count": null,
      "outputs": []
    },
    {
      "cell_type": "markdown",
      "metadata": {
        "id": "UXPN3KU6QIQK"
      },
      "source": [
        "## First we generate some data"
      ]
    },
    {
      "cell_type": "code",
      "metadata": {
        "id": "2z6mdDK1QFSz"
      },
      "source": [
        "def synthetic_data(w, b, num_examples):\n",
        "    \"\"\"Generate y = Xw + b + noise.\"\"\"\n",
        "    X = tf.zeros((num_examples, w.shape[0]))\n",
        "    X += tf.random.normal(shape=X.shape)\n",
        "    y = tf.matmul(X, tf.reshape(w, (-1, 1))) + b\n",
        "    y += tf.random.normal(shape=y.shape, stddev=0.01)\n",
        "    y = tf.reshape(y, (-1, 1))\n",
        "    return X, y\n",
        "\n",
        "# True values\n",
        "true_w = tf.constant([-2, -3.4])\n",
        "true_b = -1.9\n",
        "\n",
        "features, labels = synthetic_data(true_w, true_b, 1000)"
      ],
      "execution_count": null,
      "outputs": []
    },
    {
      "cell_type": "code",
      "metadata": {
        "id": "6uvWLWBdyW5d",
        "colab": {
          "base_uri": "https://localhost:8080/"
        },
        "outputId": "4ab55c01-7f51-4eb3-e1c6-080310ec3527"
      },
      "source": [
        "features.shape"
      ],
      "execution_count": null,
      "outputs": [
        {
          "output_type": "execute_result",
          "data": {
            "text/plain": [
              "TensorShape([1000, 2])"
            ]
          },
          "metadata": {
            "tags": []
          },
          "execution_count": 21
        }
      ]
    },
    {
      "cell_type": "code",
      "metadata": {
        "id": "8JKYYnNNyW7q",
        "colab": {
          "base_uri": "https://localhost:8080/"
        },
        "outputId": "79d73452-b28a-495e-97d2-9a165d72c107"
      },
      "source": [
        "labels.shape"
      ],
      "execution_count": null,
      "outputs": [
        {
          "output_type": "execute_result",
          "data": {
            "text/plain": [
              "TensorShape([1000, 1])"
            ]
          },
          "metadata": {
            "tags": []
          },
          "execution_count": 22
        }
      ]
    },
    {
      "cell_type": "markdown",
      "metadata": {
        "id": "mgyRBrySy6bR"
      },
      "source": [
        "## Plot the data\n",
        "\n",
        "Plotting the first feature"
      ]
    },
    {
      "cell_type": "code",
      "metadata": {
        "id": "U_pvGdH_P20X",
        "colab": {
          "base_uri": "https://localhost:8080/",
          "height": 265
        },
        "outputId": "1ef5379a-35c9-4210-b554-5a1b74349efe"
      },
      "source": [
        "plt.scatter(features[:,0].numpy(), labels.numpy(), c=\"b\")\n",
        "plt.show()"
      ],
      "execution_count": null,
      "outputs": [
        {
          "output_type": "display_data",
          "data": {
            "image/png": "[encoded data removed]",
            "text/plain": [
              "<Figure size 432x288 with 1 Axes>"
            ]
          },
          "metadata": {
            "tags": [],
            "needs_background": "light"
          }
        }
      ]
    },
    {
      "cell_type": "markdown",
      "metadata": {
        "id": "H4z_QKwIy_sa"
      },
      "source": [
        "Plotting the second feature"
      ]
    },
    {
      "cell_type": "code",
      "metadata": {
        "id": "4hM13MEVynmn",
        "colab": {
          "base_uri": "https://localhost:8080/",
          "height": 265
        },
        "outputId": "af68d8f4-4671-4b2c-cdf7-be52a40528c8"
      },
      "source": [
        "plt.scatter(features[:,1].numpy(), labels.numpy(), c=\"b\")\n",
        "plt.show()"
      ],
      "execution_count": null,
      "outputs": [
        {
          "output_type": "display_data",
          "data": {
            "image/png": "[encoded data removed]",
            "text/plain": [
              "<Figure size 432x288 with 1 Axes>"
            ]
          },
          "metadata": {
            "tags": [],
            "needs_background": "light"
          }
        }
      ]
    },
    {
      "cell_type": "markdown",
      "metadata": {
        "id": "tgNJOkkzRhN8"
      },
      "source": [
        "Recall that training models consists of making multiple passes over the dataset, grabbing one minibatch of examples at a time, and using them to update our model. \n",
        "\n",
        "Each minibatch consists of a tuple of features and labels.\n",
        "\n",
        "The function below creates an iterator which can generate mini-batches of X-y pairs\n",
        "\n"
      ]
    },
    {
      "cell_type": "code",
      "metadata": {
        "id": "d3OHbtWXP7_j"
      },
      "source": [
        "def data_iter(batch_size, features, labels):\n",
        "    num_examples = len(features)\n",
        "    indices = list(range(num_examples))\n",
        "    \n",
        "    # The examples are read at random, in no particular order\n",
        "    random.shuffle(indices)\n",
        "\n",
        "    for i in range(0, num_examples, batch_size):\n",
        "        j = tf.constant(indices[i:min(i + batch_size, num_examples)])\n",
        "\n",
        "        # Return a tuple of features and labels\n",
        "        yield tf.gather(features, j), tf.gather(labels, j)"
      ],
      "execution_count": null,
      "outputs": []
    },
    {
      "cell_type": "markdown",
      "metadata": {
        "id": "6xt2tgL2SmYJ"
      },
      "source": [
        "Let's take a look at a mini batch"
      ]
    },
    {
      "cell_type": "code",
      "metadata": {
        "id": "43DIqFVFQ7Xh",
        "colab": {
          "base_uri": "https://localhost:8080/"
        },
        "outputId": "c5a670b4-cdc0-4b65-827e-9117a1897f1e"
      },
      "source": [
        "batch_size = 10\n",
        "\n",
        "for X, y in data_iter(batch_size, features, labels):\n",
        "    print ('mini batch X')\n",
        "    print(X)\n",
        "    print ('\\nmini batch Y')\n",
        "    print (y)\n",
        "    break"
      ],
      "execution_count": null,
      "outputs": [
        {
          "output_type": "stream",
          "text": [
            "mini batch X\n",
            "tf.Tensor(\n",
            "[[-0.06169691  1.3336644 ]\n",
            " [-0.20368214  0.20611808]\n",
            " [ 0.2006544   0.711664  ]\n",
            " [-1.6556935   2.6122277 ]\n",
            " [-0.3316214   1.4712697 ]\n",
            " [-0.53962195  0.44333452]\n",
            " [ 0.9359236  -0.64163005]\n",
            " [-1.8678107   0.39284563]\n",
            " [-0.6673618   0.5022949 ]\n",
            " [ 1.6325883   1.7032566 ]], shape=(10, 2), dtype=float32)\n",
            "\n",
            "mini batch Y\n",
            "tf.Tensor(\n",
            "[[ -6.321569 ]\n",
            " [ -2.2035964]\n",
            " [ -4.7326794]\n",
            " [ -7.470832 ]\n",
            " [ -6.2314224]\n",
            " [ -2.3340766]\n",
            " [ -1.5952168]\n",
            " [  0.5164884]\n",
            " [ -2.276303 ]\n",
            " [-10.943001 ]], shape=(10, 1), dtype=float32)\n"
          ],
          "name": "stdout"
        }
      ]
    },
    {
      "cell_type": "markdown",
      "metadata": {
        "id": "PozOzgeiUns5"
      },
      "source": [
        "## Define the model using ```tf.keras.Model```\n",
        "\n",
        "https://www.tensorflow.org/api_docs/python/tf/keras/Model"
      ]
    },
    {
      "cell_type": "code",
      "metadata": {
        "id": "Ukj8UMcFUDno"
      },
      "source": [
        "class MyThirdModel(tf.keras.Model):\n",
        "  def __init__(self):\n",
        "    super().__init__()\n",
        "\n",
        "    # Weights\n",
        "    self.w = tf.Variable(tf.random.normal(shape=(2, 1), mean=0, stddev=0.01))\n",
        "    # Bias\n",
        "    self.b = tf.Variable(tf.zeros(1))\n",
        "\n",
        "  def __call__(self, x, training=True):\n",
        "    # Let's make use of what we learnt in the last notebook, i.e., tf.matmul()\n",
        "    return tf.matmul(x, self.w) + self.b"
      ],
      "execution_count": null,
      "outputs": []
    },
    {
      "cell_type": "code",
      "metadata": {
        "id": "yvjR4EO7Vhys"
      },
      "source": [
        "linear_reg = MyThirdModel()"
      ],
      "execution_count": null,
      "outputs": []
    },
    {
      "cell_type": "markdown",
      "metadata": {
        "id": "8P9Iapwk3ZfC"
      },
      "source": [
        "## Display the variables"
      ]
    },
    {
      "cell_type": "code",
      "metadata": {
        "id": "wLg5dj32Vj_w",
        "colab": {
          "base_uri": "https://localhost:8080/"
        },
        "outputId": "546f068c-7c01-401d-af4d-dea463f125e7"
      },
      "source": [
        "linear_reg.variables"
      ],
      "execution_count": null,
      "outputs": [
        {
          "output_type": "execute_result",
          "data": {
            "text/plain": [
              "[<tf.Variable 'Variable:0' shape=(2, 1) dtype=float32, numpy=\n",
              " array([[ 0.0033869],\n",
              "        [-0.0067752]], dtype=float32)>,\n",
              " <tf.Variable 'Variable:0' shape=(1,) dtype=float32, numpy=array([0.], dtype=float32)>]"
            ]
          },
          "metadata": {
            "tags": []
          },
          "execution_count": 29
        }
      ]
    },
    {
      "cell_type": "markdown",
      "metadata": {
        "id": "2Pi6JG2HYqWT"
      },
      "source": [
        "Plot the predictions before the optimisation process\n",
        "\n",
        "Feature 0"
      ]
    },
    {
      "cell_type": "code",
      "metadata": {
        "id": "bNBfgAhm04Xi",
        "colab": {
          "base_uri": "https://localhost:8080/",
          "height": 265
        },
        "outputId": "3ce8923a-199f-4675-dcbc-2504300696a8"
      },
      "source": [
        "plt.scatter(X[:,0], y, c=\"b\")\n",
        "plt.scatter(X[:,0], linear_reg(X).numpy(), c=\"r\")\n",
        "plt.show()"
      ],
      "execution_count": null,
      "outputs": [
        {
          "output_type": "display_data",
          "data": {
            "image/png": "[encoded data removed]",
            "text/plain": [
              "<Figure size 432x288 with 1 Axes>"
            ]
          },
          "metadata": {
            "tags": [],
            "needs_background": "light"
          }
        }
      ]
    },
    {
      "cell_type": "markdown",
      "metadata": {
        "id": "WNzQfPsJ07uB"
      },
      "source": [
        "Feature 1"
      ]
    },
    {
      "cell_type": "code",
      "metadata": {
        "id": "y5iHMvD0XZJh",
        "colab": {
          "base_uri": "https://localhost:8080/",
          "height": 265
        },
        "outputId": "be18b074-8a5a-47b8-98fc-74891f6dd951"
      },
      "source": [
        "plt.scatter(X[:,1], y, c=\"b\")\n",
        "plt.scatter(X[:,1], linear_reg(X).numpy(), c=\"r\")\n",
        "plt.show()"
      ],
      "execution_count": null,
      "outputs": [
        {
          "output_type": "display_data",
          "data": {
            "image/png": "[encoded data removed]",
            "text/plain": [
              "<Figure size 432x288 with 1 Axes>"
            ]
          },
          "metadata": {
            "tags": [],
            "needs_background": "light"
          }
        }
      ]
    },
    {
      "cell_type": "markdown",
      "metadata": {
        "id": "hf6Q5vkXWKHg"
      },
      "source": [
        "## Define the loss function\n",
        "\n",
        "optimiser : https://www.tensorflow.org/api_docs/python/tf/keras/optimizers/SGD\n",
        "\n",
        "loss : https://www.tensorflow.org/api_docs/python/tf/keras/losses"
      ]
    },
    {
      "cell_type": "code",
      "metadata": {
        "id": "0GUiWojUV5En"
      },
      "source": [
        "linear_reg.compile(\n",
        "    optimizer=tf.keras.optimizers.SGD(learning_rate=0.1),\n",
        "\n",
        "    # Keras comes with built-in MSE error\n",
        "    loss=tf.keras.losses.mean_squared_error,\n",
        ")"
      ],
      "execution_count": null,
      "outputs": []
    },
    {
      "cell_type": "markdown",
      "metadata": {
        "id": "B7OKJjIXYxb6"
      },
      "source": [
        "## Training\n",
        "\n",
        "fit: https://www.tensorflow.org/api_docs/python/tf/keras/Model#fit"
      ]
    },
    {
      "cell_type": "code",
      "metadata": {
        "id": "SdVK5GF2Yxic",
        "colab": {
          "base_uri": "https://localhost:8080/"
        },
        "outputId": "7ca9a963-35b9-49e3-dbd2-f0e96944431b"
      },
      "source": [
        "linear_reg.fit(features.numpy(), labels.numpy(), epochs=10, batch_size=10)"
      ],
      "execution_count": null,
      "outputs": [
        {
          "output_type": "stream",
          "text": [
            "Epoch 1/10\n",
            "100/100 [==============================] - 0s 789us/step - loss: 0.5526\n",
            "Epoch 2/10\n",
            "100/100 [==============================] - 0s 756us/step - loss: 1.0754e-04\n",
            "Epoch 3/10\n",
            "100/100 [==============================] - 0s 752us/step - loss: 1.0769e-04\n",
            "Epoch 4/10\n",
            "100/100 [==============================] - 0s 829us/step - loss: 1.0781e-04\n",
            "Epoch 5/10\n",
            "100/100 [==============================] - 0s 846us/step - loss: 1.1012e-04\n",
            "Epoch 6/10\n",
            "100/100 [==============================] - 0s 847us/step - loss: 1.0865e-04\n",
            "Epoch 7/10\n",
            "100/100 [==============================] - 0s 867us/step - loss: 1.0752e-04\n",
            "Epoch 8/10\n",
            "100/100 [==============================] - 0s 883us/step - loss: 1.0728e-04\n",
            "Epoch 9/10\n",
            "100/100 [==============================] - 0s 984us/step - loss: 1.0875e-04\n",
            "Epoch 10/10\n",
            "100/100 [==============================] - 0s 771us/step - loss: 1.0791e-04\n"
          ],
          "name": "stdout"
        },
        {
          "output_type": "execute_result",
          "data": {
            "text/plain": [
              "<tensorflow.python.keras.callbacks.History at 0x7fe8b764aed0>"
            ]
          },
          "metadata": {
            "tags": []
          },
          "execution_count": 33
        }
      ]
    },
    {
      "cell_type": "markdown",
      "metadata": {
        "id": "9oSB2mjNhFVj"
      },
      "source": [
        "## Evaluate\n"
      ]
    },
    {
      "cell_type": "code",
      "metadata": {
        "colab": {
          "base_uri": "https://localhost:8080/"
        },
        "id": "8UfoltS7AbkB",
        "outputId": "6705377a-ea49-473b-fe8f-3a872556abcc"
      },
      "source": [
        "print(f'error in estimating w: {true_w - tf.reshape(linear_reg.w, true_w.shape)}')\n",
        "print(f'error in estimating b: {true_b - linear_reg.b}')"
      ],
      "execution_count": null,
      "outputs": [
        {
          "output_type": "stream",
          "text": [
            "error in estimating w: [-0.00183523  0.00091982]\n",
            "error in estimating b: [-0.00079942]\n"
          ],
          "name": "stdout"
        }
      ]
    },
    {
      "cell_type": "markdown",
      "metadata": {
        "id": "NdxXaCNgBXnj"
      },
      "source": [
        "Weights from the model"
      ]
    },
    {
      "cell_type": "code",
      "metadata": {
        "colab": {
          "base_uri": "https://localhost:8080/"
        },
        "id": "4sfMiR6eBT9s",
        "outputId": "7b598d8e-6f70-4bcf-8547-2e8859141118"
      },
      "source": [
        "linear_reg.w, linear_reg.b"
      ],
      "execution_count": null,
      "outputs": [
        {
          "output_type": "execute_result",
          "data": {
            "text/plain": [
              "(<tf.Variable 'Variable:0' shape=(2, 1) dtype=float32, numpy=\n",
              " array([[-1.9981648],\n",
              "        [-3.40092  ]], dtype=float32)>,\n",
              " <tf.Variable 'Variable:0' shape=(1,) dtype=float32, numpy=array([-1.8992006], dtype=float32)>)"
            ]
          },
          "metadata": {
            "tags": []
          },
          "execution_count": 35
        }
      ]
    },
    {
      "cell_type": "markdown",
      "metadata": {
        "id": "oFmhOrTlBdqc"
      },
      "source": [
        "True values"
      ]
    },
    {
      "cell_type": "code",
      "metadata": {
        "colab": {
          "base_uri": "https://localhost:8080/"
        },
        "id": "B7Q_WzJIBXKs",
        "outputId": "15436b7c-2e95-4981-d24f-8975bcd19450"
      },
      "source": [
        "true_w, true_b"
      ],
      "execution_count": null,
      "outputs": [
        {
          "output_type": "execute_result",
          "data": {
            "text/plain": [
              "(<tf.Tensor: shape=(2,), dtype=float32, numpy=array([-2. , -3.4], dtype=float32)>,\n",
              " -1.9)"
            ]
          },
          "metadata": {
            "tags": []
          },
          "execution_count": 36
        }
      ]
    }
  ]
}