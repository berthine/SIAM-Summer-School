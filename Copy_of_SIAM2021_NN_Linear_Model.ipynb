{
  "nbformat": 4,
  "nbformat_minor": 0,
  "metadata": {
    "colab": {
      "name": "Copy of SIAM2021 NN Linear Model.ipynb",
      "provenance": [],
      "collapsed_sections": [],
      "include_colab_link": true
    },
    "kernelspec": {
      "name": "python3",
      "display_name": "Python 3"
    }
  },
  "cells": [
    {
      "cell_type": "markdown",
      "metadata": {
        "id": "view-in-github",
        "colab_type": "text"
      },
      "source": [
        "<a href=\"https://colab.research.google.com/github/berthine/SIAM-Summer-School/blob/main/Copy_of_SIAM2021_NN_Linear_Model.ipynb\" target=\"_parent\"><img src=\"https://colab.research.google.com/assets/colab-badge.svg\" alt=\"Open In Colab\"/></a>"
      ]
    },
    {
      "cell_type": "markdown",
      "metadata": {
        "id": "OpPhNErAUooE"
      },
      "source": [
        "## Practical: Linear Models as Neural Networks\n",
        "(20/July/2021)\n",
        "\n",
        "### 2021 Gene Golub SIAM Summer School \n",
        "https://sites.google.com/aims.ac.za/g2s3/home \n",
        "\n",
        "Instructor\n",
        "\n",
        "<font color=\"green\">***Dr. Emmanuel Dufourq*** \n",
        "\n",
        "www.emmanueldufourq.com\n",
        "\n",
        "edufourq (['@']) gmail.com\n",
        "\n",
        "***African Institute for Mathematical Sciences***\n",
        "\n",
        "***Stellenbosch University***\n",
        "\n",
        "***2021***\n"
      ]
    },
    {
      "cell_type": "markdown",
      "metadata": {
        "id": "dV_1aPXOg_dl"
      },
      "source": [
        "## <font color=\"green\"> Learning outcomes:\n",
        "\n",
        "* Creating a linear regression model using Tensorflow and Dense layers - concise approach\n",
        "\n",
        "* Learning about the Sequential Model\n",
        "\n",
        "* How to view summary trainable weights\n",
        "\n",
        "## <font color=\"green\">Data information:\n",
        "\n",
        "* Features: one variable real-valued\n",
        "\n",
        "* Output: one variable real-valued\n",
        "\n",
        "## <font color=\"green\">Tasks for participants (boolean)?\n",
        "\n",
        "* * Yes, at the end (try avoid copy/pasting code, rather write it out)"
      ]
    },
    {
      "cell_type": "markdown",
      "metadata": {
        "id": "Odaw35SnUk6H"
      },
      "source": [
        "## Various Python imports"
      ]
    },
    {
      "cell_type": "code",
      "metadata": {
        "id": "fpwaJGV_za2Z"
      },
      "source": [
        "from tensorflow import keras\n",
        "import numpy as np\n",
        "import tensorflow as tf\n",
        "import matplotlib.pyplot as plt"
      ],
      "execution_count": 1,
      "outputs": []
    },
    {
      "cell_type": "markdown",
      "metadata": {
        "id": "PtQ6RX8OUqrI"
      },
      "source": [
        "### Let's create some data"
      ]
    },
    {
      "cell_type": "code",
      "metadata": {
        "id": "fms0XDGyzeJb"
      },
      "source": [
        "X=np.arange(-10, 15, 0.1).reshape(-1, 1)\n",
        "Y=X+4"
      ],
      "execution_count": 2,
      "outputs": []
    },
    {
      "cell_type": "markdown",
      "metadata": {
        "id": "Ca7n0ktoT0_p"
      },
      "source": [
        "View the first value X and Y values"
      ]
    },
    {
      "cell_type": "code",
      "metadata": {
        "colab": {
          "base_uri": "https://localhost:8080/"
        },
        "id": "fr9_lJ8NT1H0",
        "outputId": "742d2862-abeb-42f0-9645-dec6b3a1f6d2"
      },
      "source": [
        "X[0:5]"
      ],
      "execution_count": 3,
      "outputs": [
        {
          "output_type": "execute_result",
          "data": {
            "text/plain": [
              "array([[-10. ],\n",
              "       [ -9.9],\n",
              "       [ -9.8],\n",
              "       [ -9.7],\n",
              "       [ -9.6]])"
            ]
          },
          "metadata": {
            "tags": []
          },
          "execution_count": 3
        }
      ]
    },
    {
      "cell_type": "code",
      "metadata": {
        "colab": {
          "base_uri": "https://localhost:8080/"
        },
        "id": "YlAfjqTfT4jI",
        "outputId": "d4b39b8b-04ff-463c-a2f3-9dcdb96c4120"
      },
      "source": [
        "Y[0:5]"
      ],
      "execution_count": 4,
      "outputs": [
        {
          "output_type": "execute_result",
          "data": {
            "text/plain": [
              "array([[-6. ],\n",
              "       [-5.9],\n",
              "       [-5.8],\n",
              "       [-5.7],\n",
              "       [-5.6]])"
            ]
          },
          "metadata": {
            "tags": []
          },
          "execution_count": 4
        }
      ]
    },
    {
      "cell_type": "markdown",
      "metadata": {
        "id": "VBotBx-EbU-w"
      },
      "source": [
        "Let's plot our data"
      ]
    },
    {
      "cell_type": "code",
      "metadata": {
        "colab": {
          "base_uri": "https://localhost:8080/",
          "height": 295
        },
        "id": "LIoE8f22bVFA",
        "outputId": "fc8af710-cb71-4cbb-9fe3-f044f79381e2"
      },
      "source": [
        "plt.plot(X,Y,color='r',label='Data line')\n",
        "plt.legend(loc='right')\n",
        "plt.xlabel(\"X\")\n",
        "plt.ylabel(\"Y\")\n",
        "plt.title('Our data')\n",
        "plt.show()"
      ],
      "execution_count": 5,
      "outputs": [
        {
          "output_type": "display_data",
          "data": {
            "image/png": "[encoded data removed]",
            "text/plain": [
              "<Figure size 432x288 with 1 Axes>"
            ]
          },
          "metadata": {
            "tags": [],
            "needs_background": "light"
          }
        }
      ]
    },
    {
      "cell_type": "markdown",
      "metadata": {
        "id": "_QMU1gJwVLxB"
      },
      "source": [
        "### Task: What simple linear model do you think could be used to solve this problem? Express the model as y = .... ?"
      ]
    },
    {
      "cell_type": "markdown",
      "metadata": {
        "id": "2JoAI27Z2vR_"
      },
      "source": [
        "Simple linear regression. y=f(x)"
      ]
    },
    {
      "cell_type": "markdown",
      "metadata": {
        "id": "QN88rOm-U0GG"
      },
      "source": [
        "## Step 1: Define a sequential model\n",
        "\n",
        "API documentation for Sequential https://www.tensorflow.org/api_docs/python/tf/keras/Sequential\n",
        "\n",
        "Definition: Sequential groups a linear stack of layers.\n",
        "\n",
        "Below we assign it to the variable 'model' but you can use any variable name, just like with normal Python."
      ]
    },
    {
      "cell_type": "code",
      "metadata": {
        "id": "fkbCxRIhzofE"
      },
      "source": [
        "model = tf.keras.Sequential()"
      ],
      "execution_count": 6,
      "outputs": []
    },
    {
      "cell_type": "code",
      "metadata": {
        "colab": {
          "base_uri": "https://localhost:8080/"
        },
        "id": "teioBvACUzOP",
        "outputId": "ede33648-94cc-4abb-e916-955f316b0905"
      },
      "source": [
        "model"
      ],
      "execution_count": 7,
      "outputs": [
        {
          "output_type": "execute_result",
          "data": {
            "text/plain": [
              "<tensorflow.python.keras.engine.sequential.Sequential at 0x7fe6cbc8ef10>"
            ]
          },
          "metadata": {
            "tags": []
          },
          "execution_count": 7
        }
      ]
    },
    {
      "cell_type": "markdown",
      "metadata": {
        "id": "3YqW0vLiU2Qj"
      },
      "source": [
        "## Step 2: Add the first layer\n",
        "\n",
        "Below we create the first hidden layer which has 1 unit.\n",
        "\n",
        "To add layer to our model we use the .add() function. Our network was stored in the variable 'model' so hence we use 'model.add()'.\n",
        "\n",
        "In the example below we are adding a fully connected layer which in Tensorflow is called a 'Dense' layer. The dense layer has a number of arguements, just like a normal Python function might have. Take a moment to look at the API to see which arguements it can take.\n",
        "\n",
        "API documentation for Dense https://www.tensorflow.org/api_docs/python/tf/keras/layers/Dense\n",
        "\n",
        "The Dense layer takes on a number of arguements such as 'kernel_initializer', 'bias_initializer', ... . But to start off with we won't specify values ourselves for all of those, instead, we will use the default values to make this example easier. The absolute minimum is to specify the number of units.\n",
        "\n",
        "We also need to specify the input shape *only* on the very first hidden layer in a Tensorflow model. This makes sense as the code needs to know how many inputs there are so that it can create the correct weights.\n",
        "\n",
        "We also specify an activation function, in this case the linear function"
      ]
    },
    {
      "cell_type": "code",
      "metadata": {
        "id": "BaqVpp-8zuSz"
      },
      "source": [
        "model.add(keras.layers.Dense(units=1, input_shape=[1], activation='linear'))"
      ],
      "execution_count": 8,
      "outputs": []
    },
    {
      "cell_type": "markdown",
      "metadata": {
        "id": "IX8I5x2xZ-nt"
      },
      "source": [
        "## Task: what do you think the model looks like if you had to draw it on paper?"
      ]
    },
    {
      "cell_type": "markdown",
      "metadata": {
        "id": "ksv1Ax3fU4Mp"
      },
      "source": [
        "## Step 3: Compile the model\n",
        "\n",
        "Before training a model, we need to compile it. This allows us to provide the loss function and the optimiser."
      ]
    },
    {
      "cell_type": "code",
      "metadata": {
        "id": "B3E8n9b9z3wz"
      },
      "source": [
        "model.compile(loss = \"mean_squared_error\", optimizer=\"sgd\", metrics=['mse'])"
      ],
      "execution_count": 9,
      "outputs": []
    },
    {
      "cell_type": "markdown",
      "metadata": {
        "id": "LQfSstLIYC9y"
      },
      "source": [
        "## Take a look at the model before training\n",
        "\n",
        "The output contains three columns. Take a moment to look at them.\n",
        "\n",
        "* Does the output shape make sense for our data?\n",
        "\n",
        "* Why are there only two parameters (column named: Param #)?\n",
        "\n",
        "* What does trainable/non-trainable mean?\n",
        "\n",
        "* Why is there \"None\" in the output shape?"
      ]
    },
    {
      "cell_type": "code",
      "metadata": {
        "id": "Z5isFn42YDFj",
        "colab": {
          "base_uri": "https://localhost:8080/"
        },
        "outputId": "6daa69ba-9410-4467-95af-ca9c71c45d1b"
      },
      "source": [
        "model.summary()"
      ],
      "execution_count": 10,
      "outputs": [
        {
          "output_type": "stream",
          "text": [
            "Model: \"sequential\"\n",
            "_________________________________________________________________\n",
            "Layer (type)                 Output Shape              Param #   \n",
            "=================================================================\n",
            "dense (Dense)                (None, 1)                 2         \n",
            "=================================================================\n",
            "Total params: 2\n",
            "Trainable params: 2\n",
            "Non-trainable params: 0\n",
            "_________________________________________________________________\n"
          ],
          "name": "stdout"
        }
      ]
    },
    {
      "cell_type": "markdown",
      "metadata": {
        "id": "AQinhsDxU6mJ"
      },
      "source": [
        "## View the weights of the model\n",
        "\n",
        "Now that we have defined and compiled our model let's take a moment to see what the randomly initialised weights are. The array below contains 2 values. Does this make sense? What could each one represent?"
      ]
    },
    {
      "cell_type": "code",
      "metadata": {
        "id": "WFJ7BBtW3zfT",
        "colab": {
          "base_uri": "https://localhost:8080/"
        },
        "outputId": "087924a1-cc83-47bc-c225-5ccae028fb2b"
      },
      "source": [
        "model.get_weights()"
      ],
      "execution_count": 11,
      "outputs": [
        {
          "output_type": "execute_result",
          "data": {
            "text/plain": [
              "[array([[0.1291436]], dtype=float32), array([0.], dtype=float32)]"
            ]
          },
          "metadata": {
            "tags": []
          },
          "execution_count": 11
        }
      ]
    },
    {
      "cell_type": "markdown",
      "metadata": {
        "id": "3sXpNaW6XOcs"
      },
      "source": [
        "## Given the values above, what does the model now represent if you had to write it out\n",
        "\n",
        "## y = ... ?"
      ]
    },
    {
      "cell_type": "markdown",
      "metadata": {
        "id": "NUzso3zu5oGN"
      },
      "source": [
        "y=0.1291436 *x + 0.0"
      ]
    },
    {
      "cell_type": "markdown",
      "metadata": {
        "id": "QyxYpCH1U8Qa"
      },
      "source": [
        "## Let's see what the model will predict on some arbitrary value (e.g. 34). Note that we haven't trained the model yet so it would be reasonable to expect an incorrect output.\n",
        "\n",
        "## What should the correct output actually be for our example input of 34?"
      ]
    },
    {
      "cell_type": "code",
      "metadata": {
        "id": "D1HQyeE332cM",
        "colab": {
          "base_uri": "https://localhost:8080/"
        },
        "outputId": "92bd4b8a-0a36-490a-c653-bb13b72b0e52"
      },
      "source": [
        "model.predict([34.0])"
      ],
      "execution_count": 12,
      "outputs": [
        {
          "output_type": "execute_result",
          "data": {
            "text/plain": [
              "array([[4.3908825]], dtype=float32)"
            ]
          },
          "metadata": {
            "tags": []
          },
          "execution_count": 12
        }
      ]
    },
    {
      "cell_type": "markdown",
      "metadata": {
        "id": "liOHf0iOVAqO"
      },
      "source": [
        "## Step 4: Train the network\n",
        "\n",
        "To train the model we use the .fit() function.\n",
        "\n",
        "API for the .fit() https://www.tensorflow.org/api_docs/python/tf/keras/Model#fit is actually in the Model object. This makes sense as we had essentially created a Model object for which one of it's properties is 'fit'. This function takes on many parameters, let's ignore a lot of them for now. The minimum is to provide the features (X), targets (Y) and number of epochs.\n",
        "\n",
        "Let's keep it simple and train for 15 epochs.\n",
        "\n",
        "Take a look at the output. Information about each epoch is provided.\n",
        "\n",
        "Note that we store the result of this function call into a variable called 'history'. This will allow us to extract information about the loss and the 'metric' over each epoch - essentially allowing us to make plots.\n",
        "\n"
      ]
    },
    {
      "cell_type": "code",
      "metadata": {
        "id": "ay5LYPLE0QAc",
        "colab": {
          "base_uri": "https://localhost:8080/"
        },
        "outputId": "dc17c833-ded5-48e6-bfe1-e737b39f3f45"
      },
      "source": [
        "history = model.fit(X, Y, epochs=15)"
      ],
      "execution_count": 13,
      "outputs": [
        {
          "output_type": "stream",
          "text": [
            "Epoch 1/15\n",
            "8/8 [==============================] - 0s 2ms/step - loss: 21.6484 - mse: 21.6484\n",
            "Epoch 2/15\n",
            "8/8 [==============================] - 0s 1ms/step - loss: 9.7713 - mse: 9.7713\n",
            "Epoch 3/15\n",
            "8/8 [==============================] - 0s 1ms/step - loss: 7.5259 - mse: 7.5259\n",
            "Epoch 4/15\n",
            "8/8 [==============================] - 0s 2ms/step - loss: 5.4555 - mse: 5.4555\n",
            "Epoch 5/15\n",
            "8/8 [==============================] - 0s 1ms/step - loss: 3.9993 - mse: 3.9993\n",
            "Epoch 6/15\n",
            "8/8 [==============================] - 0s 2ms/step - loss: 2.9904 - mse: 2.9904\n",
            "Epoch 7/15\n",
            "8/8 [==============================] - 0s 2ms/step - loss: 2.2921 - mse: 2.2921\n",
            "Epoch 8/15\n",
            "8/8 [==============================] - 0s 2ms/step - loss: 1.6704 - mse: 1.6704\n",
            "Epoch 9/15\n",
            "8/8 [==============================] - 0s 3ms/step - loss: 1.2358 - mse: 1.2358\n",
            "Epoch 10/15\n",
            "8/8 [==============================] - 0s 2ms/step - loss: 0.9444 - mse: 0.9444\n",
            "Epoch 11/15\n",
            "8/8 [==============================] - 0s 2ms/step - loss: 0.7298 - mse: 0.7298\n",
            "Epoch 12/15\n",
            "8/8 [==============================] - 0s 2ms/step - loss: 0.5293 - mse: 0.5293\n",
            "Epoch 13/15\n",
            "8/8 [==============================] - 0s 2ms/step - loss: 0.4034 - mse: 0.4034\n",
            "Epoch 14/15\n",
            "8/8 [==============================] - 0s 2ms/step - loss: 0.3324 - mse: 0.3324\n",
            "Epoch 15/15\n",
            "8/8 [==============================] - 0s 2ms/step - loss: 0.2198 - mse: 0.2198\n"
          ],
          "name": "stdout"
        }
      ]
    },
    {
      "cell_type": "markdown",
      "metadata": {
        "id": "vonx2u7zX2Sg"
      },
      "source": [
        "## Plot the training history\n",
        "\n",
        "To plot the history of the training, we make use of the 'history' variable defined above. Note that you can name it anything you want, just like with any Python variable. First let's see what is inside the history variable. It contains a property called '.history'. Let's view it"
      ]
    },
    {
      "cell_type": "code",
      "metadata": {
        "colab": {
          "base_uri": "https://localhost:8080/"
        },
        "id": "AgJ-IE7KY86h",
        "outputId": "60106b9b-2d72-45d3-b414-23791d47ee1d"
      },
      "source": [
        "history.history"
      ],
      "execution_count": 14,
      "outputs": [
        {
          "output_type": "execute_result",
          "data": {
            "text/plain": [
              "{'loss': [21.648427963256836,\n",
              "  9.77131462097168,\n",
              "  7.525886535644531,\n",
              "  5.455487251281738,\n",
              "  3.9992988109588623,\n",
              "  2.990408182144165,\n",
              "  2.2921197414398193,\n",
              "  1.6703546047210693,\n",
              "  1.2357851266860962,\n",
              "  0.9443555474281311,\n",
              "  0.7297877073287964,\n",
              "  0.5293111801147461,\n",
              "  0.403351366519928,\n",
              "  0.3324146866798401,\n",
              "  0.21983416378498077],\n",
              " 'mse': [21.648427963256836,\n",
              "  9.77131462097168,\n",
              "  7.525886535644531,\n",
              "  5.455487251281738,\n",
              "  3.9992988109588623,\n",
              "  2.990408182144165,\n",
              "  2.2921197414398193,\n",
              "  1.6703546047210693,\n",
              "  1.2357851266860962,\n",
              "  0.9443555474281311,\n",
              "  0.7297877073287964,\n",
              "  0.5293111801147461,\n",
              "  0.403351366519928,\n",
              "  0.3324146866798401,\n",
              "  0.21983416378498077]}"
            ]
          },
          "metadata": {
            "tags": []
          },
          "execution_count": 14
        }
      ]
    },
    {
      "cell_type": "code",
      "metadata": {
        "id": "73VxGbc2V0X6",
        "colab": {
          "base_uri": "https://localhost:8080/",
          "height": 513
        },
        "outputId": "2aa2f6ca-e83a-4382-a5b1-ec7604d46ddc"
      },
      "source": [
        "plt.figure(figsize=(8, 8))\n",
        "plt.plot(history.history['mse'])\n",
        "plt.title('Model loss')\n",
        "plt.ylabel('Mean Squared Error')\n",
        "plt.xlabel('Epoch')\n",
        "plt.show()"
      ],
      "execution_count": 15,
      "outputs": [
        {
          "output_type": "display_data",
          "data": {
            "image/png": "[encoded data removed]",
            "text/plain": [
              "<Figure size 576x576 with 1 Axes>"
            ]
          },
          "metadata": {
            "tags": [],
            "needs_background": "light"
          }
        }
      ]
    },
    {
      "cell_type": "markdown",
      "metadata": {
        "id": "EW2R3xkRX64b"
      },
      "source": [
        "## Predict on some value\n",
        "\n",
        "We can use the .prediction() function to make predictions. API https://www.tensorflow.org/api_docs/python/tf/keras/Model#predict"
      ]
    },
    {
      "cell_type": "code",
      "metadata": {
        "id": "NM-xR-gQ0UUk",
        "colab": {
          "base_uri": "https://localhost:8080/"
        },
        "outputId": "51fef83e-b80f-4fc3-bd91-5ac56dce43d1"
      },
      "source": [
        "model.predict([34.0])"
      ],
      "execution_count": 16,
      "outputs": [
        {
          "output_type": "execute_result",
          "data": {
            "text/plain": [
              "array([[38.32168]], dtype=float32)"
            ]
          },
          "metadata": {
            "tags": []
          },
          "execution_count": 16
        }
      ]
    },
    {
      "cell_type": "markdown",
      "metadata": {
        "id": "PILO7dc3X8-C"
      },
      "source": [
        "## View the weights of the model (after training) Compare these to the weights you got before training."
      ]
    },
    {
      "cell_type": "code",
      "metadata": {
        "id": "Lb-IoZjr0Xlv",
        "colab": {
          "base_uri": "https://localhost:8080/"
        },
        "outputId": "57c30a9f-e5b3-4064-acc0-fbe46c5e99cf"
      },
      "source": [
        "model.get_weights()"
      ],
      "execution_count": 17,
      "outputs": [
        {
          "output_type": "execute_result",
          "data": {
            "text/plain": [
              "[array([[1.02266]], dtype=float32), array([3.5512397], dtype=float32)]"
            ]
          },
          "metadata": {
            "tags": []
          },
          "execution_count": 17
        }
      ]
    },
    {
      "cell_type": "markdown",
      "metadata": {
        "id": "Poxi1m3RYKAL"
      },
      "source": [
        "## Extract the first weight"
      ]
    },
    {
      "cell_type": "code",
      "metadata": {
        "colab": {
          "base_uri": "https://localhost:8080/"
        },
        "id": "PKk0FtaR7DbP",
        "outputId": "b3ed8dd4-865a-4ff1-d5f2-1c93afa4db04"
      },
      "source": [
        "model.layers[0].get_weights()[0]"
      ],
      "execution_count": 22,
      "outputs": [
        {
          "output_type": "execute_result",
          "data": {
            "text/plain": [
              "array([[1.02266]], dtype=float32)"
            ]
          },
          "metadata": {
            "tags": []
          },
          "execution_count": 22
        }
      ]
    },
    {
      "cell_type": "code",
      "metadata": {
        "id": "FweQvgdT0-gw",
        "colab": {
          "base_uri": "https://localhost:8080/"
        },
        "outputId": "962806f8-9d40-4f61-f1bb-9c46cbae2384"
      },
      "source": [
        "model.layers[0].get_weights()[0][0][0]"
      ],
      "execution_count": 18,
      "outputs": [
        {
          "output_type": "execute_result",
          "data": {
            "text/plain": [
              "1.02266"
            ]
          },
          "metadata": {
            "tags": []
          },
          "execution_count": 18
        }
      ]
    },
    {
      "cell_type": "markdown",
      "metadata": {
        "id": "KF4bhUCHYMUn"
      },
      "source": [
        "## Extract the bias"
      ]
    },
    {
      "cell_type": "code",
      "metadata": {
        "id": "CIRl5-0D1SB_",
        "colab": {
          "base_uri": "https://localhost:8080/"
        },
        "outputId": "954ea753-9cdb-4e83-8916-142b7732d595"
      },
      "source": [
        "model.layers[0].get_weights()[1][0]"
      ],
      "execution_count": 23,
      "outputs": [
        {
          "output_type": "execute_result",
          "data": {
            "text/plain": [
              "3.5512397"
            ]
          },
          "metadata": {
            "tags": []
          },
          "execution_count": 23
        }
      ]
    },
    {
      "cell_type": "markdown",
      "metadata": {
        "id": "tOr7mYWIYN74"
      },
      "source": [
        "## Insert the values into the equation w_1 X + b, where X = 34. Does this give the same result as the predict function above? Based on the weight and bias you obtained, do these values seem reasonable for our data?"
      ]
    },
    {
      "cell_type": "code",
      "metadata": {
        "id": "aHzEw_gE1k5V",
        "colab": {
          "base_uri": "https://localhost:8080/"
        },
        "outputId": "10177080-2765-4817-82de-58572cfc3c5d"
      },
      "source": [
        "34*model.layers[0].get_weights()[0][0][0] + model.layers[0].get_weights()[1][0]"
      ],
      "execution_count": 24,
      "outputs": [
        {
          "output_type": "execute_result",
          "data": {
            "text/plain": [
              "38.321680307388306"
            ]
          },
          "metadata": {
            "tags": []
          },
          "execution_count": 24
        }
      ]
    },
    {
      "cell_type": "markdown",
      "metadata": {
        "id": "x5RTMm6_Mt8T"
      },
      "source": [
        "## Plot the results"
      ]
    },
    {
      "cell_type": "code",
      "metadata": {
        "id": "PDnULuxYMuBx",
        "colab": {
          "base_uri": "https://localhost:8080/",
          "height": 295
        },
        "outputId": "b7fd43a0-71c5-458e-f332-b7954f715736"
      },
      "source": [
        "plt.plot(X,Y,color='r',label='Correct output')\n",
        "plt.plot(X,model.predict(X),color='b', linestyle='dashed',label='Network output')\n",
        "plt.legend(loc='right')\n",
        "plt.xlabel(\"X\")\n",
        "plt.ylabel(\"Y\")\n",
        "plt.title('Simple linear neural network')\n",
        "plt.show()"
      ],
      "execution_count": 25,
      "outputs": [
        {
          "output_type": "display_data",
          "data": {
            "image/png": "[encoded data removed]",
            "text/plain": [
              "<Figure size 432x288 with 1 Axes>"
            ]
          },
          "metadata": {
            "tags": [],
            "needs_background": "light"
          }
        }
      ]
    },
    {
      "cell_type": "markdown",
      "metadata": {
        "id": "ZIj4X767Yk-3"
      },
      "source": [
        "## Tasks\n",
        "\n",
        "* Run the notebook yourself and check that you understand the various aspects\n",
        "\n",
        "* Try predicting for another value (e.g. 10), is the answer correct?\n",
        "\n",
        "* Train the model for a different number of epochs (e.g. small number of epochs and then a large number), are the results as good? ***NOTE: if you want to train a model again after changing a hyper-parameter you need to execute the model initialisation again (Steps 1, 2 and 3 above). If not, you will resume training from whatever state the weights and biases were previously! Try this out for yourself without re-initialising.***\n",
        "\n",
        "* Try using a different activation function, eg: sigmoid, relu or tanh. Which one would make sense for our data? Does Relu make sense for our data? Does sigmoid make sense given our Y values?\n",
        "\n",
        "\n"
      ]
    },
    {
      "cell_type": "code",
      "metadata": {
        "id": "N2L3NNX0ZR2l",
        "colab": {
          "base_uri": "https://localhost:8080/"
        },
        "outputId": "ea03b0b8-9c54-4d2e-f385-668ed1cbc0ea"
      },
      "source": [
        "#When x=10\n",
        "10*model.layers[0].get_weights()[0][0][0] + model.layers[0].get_weights()[1][0] "
      ],
      "execution_count": 28,
      "outputs": [
        {
          "output_type": "execute_result",
          "data": {
            "text/plain": [
              "13.77783989906311"
            ]
          },
          "metadata": {
            "tags": []
          },
          "execution_count": 28
        }
      ]
    },
    {
      "cell_type": "code",
      "metadata": {
        "id": "pclKTI2q8GY7"
      },
      "source": [
        "##Train different model\n",
        "\n",
        "model1 = tf.keras.Sequential()\n",
        "\n",
        "model1.add(keras.layers.Dense(units=1,input_shape = [1],activation = 'relu' ))\n",
        "model1.compile(loss='mean_squared_error', optimizer = 'sgd', metrics= ['mse'])"
      ],
      "execution_count": 50,
      "outputs": []
    },
    {
      "cell_type": "code",
      "metadata": {
        "colab": {
          "base_uri": "https://localhost:8080/"
        },
        "id": "0MSDCKLf9QyM",
        "outputId": "3d234c63-dbf9-4685-af89-906dd26a1362"
      },
      "source": [
        "model1.summary()"
      ],
      "execution_count": 51,
      "outputs": [
        {
          "output_type": "stream",
          "text": [
            "Model: \"sequential_4\"\n",
            "_________________________________________________________________\n",
            "Layer (type)                 Output Shape              Param #   \n",
            "=================================================================\n",
            "dense_4 (Dense)              (None, 1)                 2         \n",
            "=================================================================\n",
            "Total params: 2\n",
            "Trainable params: 2\n",
            "Non-trainable params: 0\n",
            "_________________________________________________________________\n"
          ],
          "name": "stdout"
        }
      ]
    },
    {
      "cell_type": "code",
      "metadata": {
        "colab": {
          "base_uri": "https://localhost:8080/"
        },
        "id": "RsqtKwhp9VJw",
        "outputId": "ab4bd07c-17b0-4895-bf40-4f9262ab47b6"
      },
      "source": [
        "model1.get_weights()"
      ],
      "execution_count": 52,
      "outputs": [
        {
          "output_type": "execute_result",
          "data": {
            "text/plain": [
              "[array([[0.3913449]], dtype=float32), array([0.], dtype=float32)]"
            ]
          },
          "metadata": {
            "tags": []
          },
          "execution_count": 52
        }
      ]
    },
    {
      "cell_type": "code",
      "metadata": {
        "colab": {
          "base_uri": "https://localhost:8080/"
        },
        "id": "mfeD4WbO9b3Z",
        "outputId": "fc27d526-32c2-4736-d548-29fd546c654a"
      },
      "source": [
        "model1.predict([34.0])"
      ],
      "execution_count": 53,
      "outputs": [
        {
          "output_type": "execute_result",
          "data": {
            "text/plain": [
              "array([[13.305727]], dtype=float32)"
            ]
          },
          "metadata": {
            "tags": []
          },
          "execution_count": 53
        }
      ]
    },
    {
      "cell_type": "code",
      "metadata": {
        "colab": {
          "base_uri": "https://localhost:8080/"
        },
        "id": "wPRzJVM79g9E",
        "outputId": "73fbc88d-9511-44fd-8935-7dee9a4baf7a"
      },
      "source": [
        "history=model1.fit(X,Y, epochs = 25)"
      ],
      "execution_count": 55,
      "outputs": [
        {
          "output_type": "stream",
          "text": [
            "Epoch 1/25\n",
            "8/8 [==============================] - 0s 2ms/step - loss: 5.0511 - mse: 5.0511\n",
            "Epoch 2/25\n",
            "8/8 [==============================] - 0s 2ms/step - loss: 4.9131 - mse: 4.9131\n",
            "Epoch 3/25\n",
            "8/8 [==============================] - 0s 2ms/step - loss: 4.8981 - mse: 4.8981\n",
            "Epoch 4/25\n",
            "8/8 [==============================] - 0s 2ms/step - loss: 4.7581 - mse: 4.7581\n",
            "Epoch 5/25\n",
            "8/8 [==============================] - 0s 1ms/step - loss: 4.6437 - mse: 4.6437\n",
            "Epoch 6/25\n",
            "8/8 [==============================] - 0s 1ms/step - loss: 4.5662 - mse: 4.5662\n",
            "Epoch 7/25\n",
            "8/8 [==============================] - 0s 2ms/step - loss: 4.4893 - mse: 4.4893\n",
            "Epoch 8/25\n",
            "8/8 [==============================] - 0s 2ms/step - loss: 4.4060 - mse: 4.4060\n",
            "Epoch 9/25\n",
            "8/8 [==============================] - 0s 2ms/step - loss: 4.3491 - mse: 4.3491\n",
            "Epoch 10/25\n",
            "8/8 [==============================] - 0s 2ms/step - loss: 4.2501 - mse: 4.2501\n",
            "Epoch 11/25\n",
            "8/8 [==============================] - 0s 2ms/step - loss: 4.1991 - mse: 4.1991\n",
            "Epoch 12/25\n",
            "8/8 [==============================] - 0s 2ms/step - loss: 4.1120 - mse: 4.1120\n",
            "Epoch 13/25\n",
            "8/8 [==============================] - 0s 2ms/step - loss: 4.0389 - mse: 4.0389\n",
            "Epoch 14/25\n",
            "8/8 [==============================] - 0s 2ms/step - loss: 3.9727 - mse: 3.9727\n",
            "Epoch 15/25\n",
            "8/8 [==============================] - 0s 2ms/step - loss: 3.9233 - mse: 3.9233\n",
            "Epoch 16/25\n",
            "8/8 [==============================] - 0s 2ms/step - loss: 3.8595 - mse: 3.8595\n",
            "Epoch 17/25\n",
            "8/8 [==============================] - 0s 2ms/step - loss: 3.7987 - mse: 3.7987\n",
            "Epoch 18/25\n",
            "8/8 [==============================] - 0s 2ms/step - loss: 3.7452 - mse: 3.7452\n",
            "Epoch 19/25\n",
            "8/8 [==============================] - 0s 2ms/step - loss: 3.6885 - mse: 3.6885\n",
            "Epoch 20/25\n",
            "8/8 [==============================] - 0s 2ms/step - loss: 3.6364 - mse: 3.6364\n",
            "Epoch 21/25\n",
            "8/8 [==============================] - 0s 2ms/step - loss: 3.5892 - mse: 3.5892\n",
            "Epoch 22/25\n",
            "8/8 [==============================] - 0s 2ms/step - loss: 3.5576 - mse: 3.5576\n",
            "Epoch 23/25\n",
            "8/8 [==============================] - 0s 2ms/step - loss: 3.5023 - mse: 3.5023\n",
            "Epoch 24/25\n",
            "8/8 [==============================] - 0s 2ms/step - loss: 3.4617 - mse: 3.4617\n",
            "Epoch 25/25\n",
            "8/8 [==============================] - 0s 2ms/step - loss: 3.4239 - mse: 3.4239\n"
          ],
          "name": "stdout"
        }
      ]
    },
    {
      "cell_type": "code",
      "metadata": {
        "colab": {
          "base_uri": "https://localhost:8080/"
        },
        "id": "63WroK0z9rP9",
        "outputId": "dc7b503f-792f-4be7-fcf2-a384b1676808"
      },
      "source": [
        "history.history"
      ],
      "execution_count": 56,
      "outputs": [
        {
          "output_type": "execute_result",
          "data": {
            "text/plain": [
              "{'loss': [5.051102638244629,\n",
              "  4.913092136383057,\n",
              "  4.8980865478515625,\n",
              "  4.758131980895996,\n",
              "  4.643668174743652,\n",
              "  4.566153049468994,\n",
              "  4.489306926727295,\n",
              "  4.406000137329102,\n",
              "  4.349128723144531,\n",
              "  4.250052452087402,\n",
              "  4.199143409729004,\n",
              "  4.111950874328613,\n",
              "  4.038873195648193,\n",
              "  3.9726555347442627,\n",
              "  3.923281669616699,\n",
              "  3.859525203704834,\n",
              "  3.7987167835235596,\n",
              "  3.745163679122925,\n",
              "  3.6884706020355225,\n",
              "  3.6364002227783203,\n",
              "  3.5891668796539307,\n",
              "  3.557600259780884,\n",
              "  3.5023300647735596,\n",
              "  3.461662769317627,\n",
              "  3.423882246017456],\n",
              " 'mse': [5.051102638244629,\n",
              "  4.913092136383057,\n",
              "  4.8980865478515625,\n",
              "  4.758131980895996,\n",
              "  4.643668174743652,\n",
              "  4.566153049468994,\n",
              "  4.489306926727295,\n",
              "  4.406000137329102,\n",
              "  4.349128723144531,\n",
              "  4.250052452087402,\n",
              "  4.199143409729004,\n",
              "  4.111950874328613,\n",
              "  4.038873195648193,\n",
              "  3.9726555347442627,\n",
              "  3.923281669616699,\n",
              "  3.859525203704834,\n",
              "  3.7987167835235596,\n",
              "  3.745163679122925,\n",
              "  3.6884706020355225,\n",
              "  3.6364002227783203,\n",
              "  3.5891668796539307,\n",
              "  3.557600259780884,\n",
              "  3.5023300647735596,\n",
              "  3.461662769317627,\n",
              "  3.423882246017456]}"
            ]
          },
          "metadata": {
            "tags": []
          },
          "execution_count": 56
        }
      ]
    },
    {
      "cell_type": "code",
      "metadata": {
        "colab": {
          "base_uri": "https://localhost:8080/",
          "height": 513
        },
        "id": "Lp-cd1O890oQ",
        "outputId": "f871de10-6ce5-48da-f27d-91afa6129211"
      },
      "source": [
        "plt.figure(figsize=(8, 8))\n",
        "plt.plot(history.history['mse'])\n",
        "plt.title('Model loss')\n",
        "plt.ylabel('Mean Squared Error')\n",
        "plt.xlabel('Epoch')\n",
        "plt.show()"
      ],
      "execution_count": 57,
      "outputs": [
        {
          "output_type": "display_data",
          "data": {
            "image/png": "[encoded data removed]",
            "text/plain": [
              "<Figure size 576x576 with 1 Axes>"
            ]
          },
          "metadata": {
            "tags": [],
            "needs_background": "light"
          }
        }
      ]
    },
    {
      "cell_type": "code",
      "metadata": {
        "colab": {
          "base_uri": "https://localhost:8080/",
          "height": 295
        },
        "id": "f80iEcBY942Z",
        "outputId": "58a34cb2-40be-4f5e-e407-22ab253f2801"
      },
      "source": [
        "plt.plot(X,Y,color='r',label='Correct output')\n",
        "plt.plot(X,model1.predict(X),color='b', linestyle='dashed',label='Network output')\n",
        "plt.legend(loc='right')\n",
        "plt.xlabel(\"X\")\n",
        "plt.ylabel(\"Y\")\n",
        "plt.title('Simple linear neural network')\n",
        "plt.show()"
      ],
      "execution_count": 58,
      "outputs": [
        {
          "output_type": "display_data",
          "data": {
            "image/png": "[encoded data removed]",
            "text/plain": [
              "<Figure size 432x288 with 1 Axes>"
            ]
          },
          "metadata": {
            "tags": [],
            "needs_background": "light"
          }
        }
      ]
    },
    {
      "cell_type": "code",
      "metadata": {
        "id": "JRMJsyzy-UGm",
        "outputId": "5c1334b3-0f28-44c6-969f-71fd89a752f7",
        "colab": {
          "base_uri": "https://localhost:8080/"
        }
      },
      "source": [
        "34*model1.layers[0].get_weights()[0][0][0] + model1.layers[0].get_weights()[1][0]"
      ],
      "execution_count": 59,
      "outputs": [
        {
          "output_type": "execute_result",
          "data": {
            "text/plain": [
              "40.46163201332092"
            ]
          },
          "metadata": {
            "tags": []
          },
          "execution_count": 59
        }
      ]
    },
    {
      "cell_type": "code",
      "metadata": {
        "id": "dT6S4wUy-aeW"
      },
      "source": [
        ""
      ],
      "execution_count": null,
      "outputs": []
    }
  ]
}