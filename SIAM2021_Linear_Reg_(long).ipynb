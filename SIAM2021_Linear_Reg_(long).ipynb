{
  "nbformat": 4,
  "nbformat_minor": 0,
  "metadata": {
    "colab": {
      "name": "SIAM2021 - Linear Reg (long).ipynb",
      "provenance": [],
      "collapsed_sections": [],
      "include_colab_link": true
    },
    "kernelspec": {
      "name": "python3",
      "display_name": "Python 3"
    },
    "language_info": {
      "name": "python"
    }
  },
  "cells": [
    {
      "cell_type": "markdown",
      "metadata": {
        "id": "view-in-github",
        "colab_type": "text"
      },
      "source": [
        "<a href=\"https://colab.research.google.com/github/berthine/SIAM-Summer-School/blob/main/SIAM2021_Linear_Reg_(long).ipynb\" target=\"_parent\"><img src=\"https://colab.research.google.com/assets/colab-badge.svg\" alt=\"Open In Colab\"/></a>"
      ]
    },
    {
      "cell_type": "markdown",
      "metadata": {
        "id": "5eK-854jPC00"
      },
      "source": [
        "## Practical: Introduction to linear regression using Tensorflow (long approach)\n",
        "(19/July/2021)\n",
        "\n",
        "### 2021 Gene Golub SIAM Summer School \n",
        "https://sites.google.com/aims.ac.za/g2s3/home \n",
        "\n",
        "Instructor\n",
        "\n",
        "<font color=\"green\">***Dr. Emmanuel Dufourq*** \n",
        "\n",
        "www.emmanueldufourq.com\n",
        "\n",
        "edufourq (['@']) gmail.com\n",
        "\n",
        "***African Institute for Mathematical Sciences***\n",
        "\n",
        "***Stellenbosch University***\n",
        "\n",
        "***2021***\n",
        "\n",
        "\n",
        "Material adapted from:\n",
        "\n",
        "https://d2l.ai/chapter_linear-networks/linear-regression-scratch.html\n",
        "\n",
        "https://www.tensorflow.org/guide/basic_training_loops"
      ]
    },
    {
      "cell_type": "markdown",
      "metadata": {
        "id": "Tp8Zq85oiu9i"
      },
      "source": [
        "## <font color=\"green\"> Learning outcomes:\n",
        "\n",
        "* initialising a ```tf.Variable`` using ```tf.random.normal```\n",
        "\n",
        "* how to define a loss function\n",
        "\n",
        "* how to implement a training loop\n",
        "\n",
        "* how to create a model using ```tf.Module```\n",
        "\n",
        "## <font color=\"green\">Data information:\n",
        "\n",
        "* Features: one real-valued feature\n",
        "\n",
        "* Output: one real valued label\n",
        "\n",
        "## <font color=\"green\">Tasks for participants (boolean)?\n",
        "\n",
        "* No, follow along and make your own modifications and make sure you understand\n"
      ]
    },
    {
      "cell_type": "markdown",
      "metadata": {
        "id": "7cVRaZ4YPa7i"
      },
      "source": [
        "Solving a machine learning problem usually consists of the following steps:\n",
        "\n",
        " - Obtain training data.\n",
        " - Define the model.\n",
        " - Define a loss function.\n",
        " - Run through the training data, calculating loss from the ideal value\n",
        " - Calculate gradients for that loss and use an *optimizer* to adjust the variables to fit the data.\n",
        " - Evaluate your results.\n",
        "\n",
        "For illustration purposes, in this guide you'll develop a simple linear model, $f(x) = x * W + b$, which has two variables: $W$ (weights) and $b$ (bias).\n",
        "\n",
        "This notebook is built with the above points in time and we will spend a bit of effort with the Tensorflow details. In future practicals we will only implement the \"concise\"/shorter versions."
      ]
    },
    {
      "cell_type": "code",
      "metadata": {
        "id": "1lrD1PE5PKns"
      },
      "source": [
        "import tensorflow as tf\n",
        "import random\n",
        "import matplotlib.pyplot as plt\n",
        "%matplotlib inline"
      ],
      "execution_count": null,
      "outputs": []
    },
    {
      "cell_type": "markdown",
      "metadata": {
        "id": "UXPN3KU6QIQK"
      },
      "source": [
        "## First we generate some data"
      ]
    },
    {
      "cell_type": "code",
      "metadata": {
        "id": "2z6mdDK1QFSz"
      },
      "source": [
        "# The actual line\n",
        "TRUE_W = 3.0\n",
        "TRUE_B = 2.0\n",
        "\n",
        "NUM_EXAMPLES = 1000\n",
        "\n",
        "# A vector of random x values\n",
        "x = tf.random.normal(shape=[NUM_EXAMPLES])\n",
        "\n",
        "# Generate some noise\n",
        "noise = tf.random.normal(shape=[NUM_EXAMPLES])\n",
        "\n",
        "# Calculate y\n",
        "y = x * TRUE_W + TRUE_B + noise\n",
        "\n",
        "features = x\n",
        "labels = y"
      ],
      "execution_count": null,
      "outputs": []
    },
    {
      "cell_type": "code",
      "metadata": {
        "colab": {
          "base_uri": "https://localhost:8080/",
          "height": 265
        },
        "id": "U_pvGdH_P20X",
        "outputId": "8e339a01-44e9-4d1b-aaea-12ca0de94633"
      },
      "source": [
        "plt.scatter(x, y, c=\"b\")\n",
        "plt.show()"
      ],
      "execution_count": null,
      "outputs": [
        {
          "output_type": "display_data",
          "data": {
            "image/png": "[encoded data removed]",
            "text/plain": [
              "<Figure size 432x288 with 1 Axes>"
            ]
          },
          "metadata": {
            "tags": [],
            "needs_background": "light"
          }
        }
      ]
    },
    {
      "cell_type": "markdown",
      "metadata": {
        "id": "tgNJOkkzRhN8"
      },
      "source": [
        "Recall that training models consists of making multiple passes over the dataset, grabbing one minibatch of examples at a time, and using them to update our model. \n",
        "\n",
        "Each minibatch consists of a tuple of features and labels.\n",
        "\n",
        "The function below creates an iterator which can generate mini-batches of X-y pairs\n",
        "\n"
      ]
    },
    {
      "cell_type": "code",
      "metadata": {
        "id": "d3OHbtWXP7_j"
      },
      "source": [
        "def data_iter(batch_size, features, labels):\n",
        "    num_examples = len(features)\n",
        "    indices = list(range(num_examples))\n",
        "    \n",
        "    # The examples are read at random, in no particular order\n",
        "    random.shuffle(indices)\n",
        "\n",
        "    for i in range(0, num_examples, batch_size):\n",
        "        j = tf.constant(indices[i:min(i + batch_size, num_examples)])\n",
        "\n",
        "        # Return a tuple of features and labels\n",
        "        yield tf.gather(features, j), tf.gather(labels, j)"
      ],
      "execution_count": null,
      "outputs": []
    },
    {
      "cell_type": "markdown",
      "metadata": {
        "id": "6xt2tgL2SmYJ"
      },
      "source": [
        "Let's take a look at a mini batch"
      ]
    },
    {
      "cell_type": "code",
      "metadata": {
        "colab": {
          "base_uri": "https://localhost:8080/"
        },
        "id": "43DIqFVFQ7Xh",
        "outputId": "08f4725e-4cb8-407e-8216-8f75f84c0947"
      },
      "source": [
        "batch_size = 10\n",
        "\n",
        "for X, y in data_iter(batch_size, features, labels):\n",
        "    print ('mini batch X')\n",
        "    print(X)\n",
        "    print ('\\nmini batch Y')\n",
        "    print (y)\n",
        "    break"
      ],
      "execution_count": null,
      "outputs": [
        {
          "output_type": "stream",
          "text": [
            "mini batch X\n",
            "tf.Tensor(\n",
            "[ 0.98331404  0.06941333 -0.04209832  0.4019146  -1.4332167  -0.76408404\n",
            " -0.85331774  0.88181895 -0.6238408  -0.74457437], shape=(10,), dtype=float32)\n",
            "\n",
            "mini batch Y\n",
            "tf.Tensor(\n",
            "[ 5.1743126   2.6530383   2.9406776   3.7471578  -2.288357    0.39210385\n",
            "  0.29372722  4.412133   -2.3663294   0.15522236], shape=(10,), dtype=float32)\n"
          ],
          "name": "stdout"
        }
      ]
    },
    {
      "cell_type": "markdown",
      "metadata": {
        "id": "FQ_GXiCKTcIj"
      },
      "source": [
        "## Define the model part a) initialise parameters\n",
        "\n",
        "Let's create a weight and a bias that we would like to optimise.\n",
        "\n",
        "Use ```tf.Variable``` to represent all weights in a model. A ```tf.Variable``` stores a value and provides this in tensor form as needed. \n",
        "\n",
        "API: https://www.tensorflow.org/api_docs/python/tf/Variable"
      ]
    },
    {
      "cell_type": "markdown",
      "metadata": {
        "id": "i4vMUSvRUbve"
      },
      "source": [
        "Weight, w"
      ]
    },
    {
      "cell_type": "code",
      "metadata": {
        "id": "ZCdHbPA8Q8yi"
      },
      "source": [
        "w = tf.Variable(tf.random.normal(shape=[1], mean=0, stddev=0.01),\n",
        "                trainable=True)"
      ],
      "execution_count": null,
      "outputs": []
    },
    {
      "cell_type": "code",
      "metadata": {
        "colab": {
          "base_uri": "https://localhost:8080/"
        },
        "id": "3rnUbkeBTzO8",
        "outputId": "0fc158ea-6a7f-40f6-a065-7271f229888b"
      },
      "source": [
        "w"
      ],
      "execution_count": null,
      "outputs": [
        {
          "output_type": "execute_result",
          "data": {
            "text/plain": [
              "<tf.Variable 'Variable:0' shape=(1,) dtype=float32, numpy=array([0.00780163], dtype=float32)>"
            ]
          },
          "metadata": {
            "tags": []
          },
          "execution_count": 7
        }
      ]
    },
    {
      "cell_type": "markdown",
      "metadata": {
        "id": "RH5XNJlzUdIa"
      },
      "source": [
        "bias, b"
      ]
    },
    {
      "cell_type": "code",
      "metadata": {
        "id": "XFPKpFdoTdO6"
      },
      "source": [
        "b = tf.Variable(tf.zeros(1), trainable=True)"
      ],
      "execution_count": null,
      "outputs": []
    },
    {
      "cell_type": "code",
      "metadata": {
        "colab": {
          "base_uri": "https://localhost:8080/"
        },
        "id": "FC1gq5R3UDfL",
        "outputId": "72db983a-9784-4578-b4f7-b4faf061abe5"
      },
      "source": [
        "b"
      ],
      "execution_count": null,
      "outputs": [
        {
          "output_type": "execute_result",
          "data": {
            "text/plain": [
              "<tf.Variable 'Variable:0' shape=(1,) dtype=float32, numpy=array([0.], dtype=float32)>"
            ]
          },
          "metadata": {
            "tags": []
          },
          "execution_count": 9
        }
      ]
    },
    {
      "cell_type": "markdown",
      "metadata": {
        "id": "3tFQ3EAFUjmP"
      },
      "source": [
        "After initializing our parameters, our next task is to update them until they fit our data sufficiently well. Each update requires taking the gradient of our loss function with respect to the parameters."
      ]
    },
    {
      "cell_type": "markdown",
      "metadata": {
        "id": "PozOzgeiUns5"
      },
      "source": [
        "## Define the model part b) create the actual model\n",
        "\n",
        "Next, we must define our model, relating its inputs and parameters to its outputs. Recall that to calculate the output of the linear model, we simply take the matrix-vector dot product of the input features X and the model weights w, and add the offset b to each example. \n",
        "\n",
        "Here let's write the model using ```tf.Module``` and embrace some object-oriented programming.\n",
        "\n",
        "API https://www.tensorflow.org/api_docs/python/tf/Module?hl=en"
      ]
    },
    {
      "cell_type": "code",
      "metadata": {
        "id": "Ukj8UMcFUDno"
      },
      "source": [
        "class MyFirstModel(tf.Module):\n",
        "  def __init__(self, **kwargs):\n",
        "    super().__init__(**kwargs)\n",
        "\n",
        "    # Let's re-define our variables here\n",
        "    self.w = tf.Variable(tf.random.normal(shape=[1], mean=0, stddev=0.01), trainable=True)\n",
        "    self.b = tf.Variable(tf.zeros(1), trainable=True)\n",
        "\n",
        "  def __call__(self, x):\n",
        "    return (x * self.w) + self.b"
      ],
      "execution_count": null,
      "outputs": []
    },
    {
      "cell_type": "code",
      "metadata": {
        "id": "yvjR4EO7Vhys"
      },
      "source": [
        "linear_reg = MyFirstModel()"
      ],
      "execution_count": null,
      "outputs": []
    },
    {
      "cell_type": "code",
      "metadata": {
        "colab": {
          "base_uri": "https://localhost:8080/"
        },
        "id": "wLg5dj32Vj_w",
        "outputId": "55871c72-2c17-47b1-868d-7b3b8ea89122"
      },
      "source": [
        "linear_reg.variables"
      ],
      "execution_count": null,
      "outputs": [
        {
          "output_type": "execute_result",
          "data": {
            "text/plain": [
              "(<tf.Variable 'Variable:0' shape=(1,) dtype=float32, numpy=array([0.], dtype=float32)>,\n",
              " <tf.Variable 'Variable:0' shape=(1,) dtype=float32, numpy=array([0.00331406], dtype=float32)>)"
            ]
          },
          "metadata": {
            "tags": []
          },
          "execution_count": 12
        }
      ]
    },
    {
      "cell_type": "code",
      "metadata": {
        "colab": {
          "base_uri": "https://localhost:8080/"
        },
        "id": "IrcUejFGWRkr",
        "outputId": "0641c75d-0387-48a7-9851-56d968f8cef9"
      },
      "source": [
        "linear_reg(3.0)"
      ],
      "execution_count": null,
      "outputs": [
        {
          "output_type": "execute_result",
          "data": {
            "text/plain": [
              "<tf.Tensor: shape=(1,), dtype=float32, numpy=array([0.00994217], dtype=float32)>"
            ]
          },
          "metadata": {
            "tags": []
          },
          "execution_count": 13
        }
      ]
    },
    {
      "cell_type": "markdown",
      "metadata": {
        "id": "2Pi6JG2HYqWT"
      },
      "source": [
        "Plot the predictions before the optimisation process"
      ]
    },
    {
      "cell_type": "code",
      "metadata": {
        "colab": {
          "base_uri": "https://localhost:8080/",
          "height": 265
        },
        "id": "y5iHMvD0XZJh",
        "outputId": "cf1b824e-116c-40ce-c38f-d7018f7d7283"
      },
      "source": [
        "plt.scatter(X, y, c=\"b\")\n",
        "plt.scatter(X, linear_reg(X), c=\"r\")\n",
        "plt.show()"
      ],
      "execution_count": null,
      "outputs": [
        {
          "output_type": "display_data",
          "data": {
            "image/png": "[encoded data removed]",
            "text/plain": [
              "<Figure size 432x288 with 1 Axes>"
            ]
          },
          "metadata": {
            "tags": [],
            "needs_background": "light"
          }
        }
      ]
    },
    {
      "cell_type": "markdown",
      "metadata": {
        "id": "hf6Q5vkXWKHg"
      },
      "source": [
        "## Define the loss function\n",
        "\n",
        "reduce_mean : https://www.tensorflow.org/api_docs/python/tf/math/reduce_mean?hl=en\n",
        "\n",
        "squre : https://www.tensorflow.org/api_docs/python/tf/math/square?hl=en"
      ]
    },
    {
      "cell_type": "code",
      "metadata": {
        "id": "0GUiWojUV5En"
      },
      "source": [
        "# This computes a single loss value for an entire batch\n",
        "def loss(target_y, predicted_y):\n",
        "  return tf.reduce_mean(tf.math.square(target_y - predicted_y))"
      ],
      "execution_count": null,
      "outputs": []
    },
    {
      "cell_type": "markdown",
      "metadata": {
        "id": "B7OKJjIXYxb6"
      },
      "source": [
        "## Training"
      ]
    },
    {
      "cell_type": "code",
      "metadata": {
        "colab": {
          "base_uri": "https://localhost:8080/"
        },
        "id": "SdVK5GF2Yxic",
        "outputId": "72d9fb62-c488-479d-ff78-87e7357eca22"
      },
      "source": [
        "# Define a learning rate\n",
        "lr = 0.01\n",
        "\n",
        "# Define number of epochs\n",
        "num_epochs = 30\n",
        "\n",
        "# We will keep track of the weights so we can plot them over the epochs\n",
        "Ws, bs = [], []\n",
        "\n",
        "# Iterate for a number of epochs\n",
        "for epoch in range(num_epochs):\n",
        "\n",
        "    # In each epoch generate batches of training data\n",
        "    for X, y in data_iter(batch_size, features, labels):\n",
        "\n",
        "        # Trainable variables are automatically tracked by GradientTape\n",
        "        with tf.GradientTape() as g:\n",
        "            l = loss(linear_reg(X), y)  # Minibatch loss in `X` and `y`\n",
        "\n",
        "        # Compute gradient on l with respect to [`w`, `b`] which are on\n",
        "        # inside the model (self.w and self.b)\n",
        "        dw, db = g.gradient(l, [linear_reg.w, linear_reg.b])\n",
        "\n",
        "        # Subtract the gradient scaled by the learning rate\n",
        "        linear_reg.w.assign_sub((lr * dw)/batch_size)\n",
        "        linear_reg.b.assign_sub((lr * db)/batch_size)\n",
        "\n",
        "    # Keep track of the weights so we can make a nice plot\n",
        "    Ws.append(linear_reg.w.numpy())\n",
        "    bs.append(linear_reg.b.numpy())\n",
        "\n",
        "    # Compute this epochs's training loss\n",
        "    train_l = loss(linear_reg(features), labels)\n",
        "\n",
        "    # Print to the screen\n",
        "    print(f'epoch {epoch + 1}, loss {float(tf.reduce_mean(train_l)):f}, w: {linear_reg.w.numpy()}, b: {linear_reg.b.numpy()}')"
      ],
      "execution_count": null,
      "outputs": [
        {
          "output_type": "stream",
          "text": [
            "epoch 1, loss 6.947443, w: [0.50435585], b: [0.35064498]\n",
            "epoch 2, loss 7.294414, w: [0.9223909], b: [0.63905233]\n",
            "epoch 3, loss 3.140060, w: [1.2712542], b: [0.8766365]\n",
            "epoch 4, loss 3.481427, w: [1.5622636], b: [1.0724792]\n",
            "epoch 5, loss 1.877817, w: [1.8053612], b: [1.2343408]\n",
            "epoch 6, loss 1.466125, w: [2.0081193], b: [1.3679719]\n",
            "epoch 7, loss 1.433790, w: [2.1767917], b: [1.478495]\n",
            "epoch 8, loss 1.423829, w: [2.317609], b: [1.5684817]\n",
            "epoch 9, loss 1.856348, w: [2.4353871], b: [1.6433233]\n",
            "epoch 10, loss 1.059382, w: [2.5332282], b: [1.704873]\n",
            "epoch 11, loss 0.364805, w: [2.6141853], b: [1.7568412]\n",
            "epoch 12, loss 1.616191, w: [2.681855], b: [1.7989444]\n",
            "epoch 13, loss 1.209385, w: [2.738776], b: [1.8341955]\n",
            "epoch 14, loss 0.305315, w: [2.7859726], b: [1.8631991]\n",
            "epoch 15, loss 1.051127, w: [2.82569], b: [1.8869275]\n",
            "epoch 16, loss 1.235542, w: [2.8588486], b: [1.906573]\n",
            "epoch 17, loss 1.848067, w: [2.885967], b: [1.9229707]\n",
            "epoch 18, loss 0.878257, w: [2.909348], b: [1.9369556]\n",
            "epoch 19, loss 0.972013, w: [2.9291084], b: [1.9482167]\n",
            "epoch 20, loss 1.158967, w: [2.9448357], b: [1.9572357]\n",
            "epoch 21, loss 0.753851, w: [2.9578588], b: [1.9650491]\n",
            "epoch 22, loss 0.992287, w: [2.9691796], b: [1.9712164]\n",
            "epoch 23, loss 0.794137, w: [2.9787529], b: [1.9761668]\n",
            "epoch 24, loss 1.775693, w: [2.9865808], b: [1.9809213]\n",
            "epoch 25, loss 0.481349, w: [2.9928997], b: [1.9843303]\n",
            "epoch 26, loss 2.101148, w: [2.9980261], b: [1.9866967]\n",
            "epoch 27, loss 0.710674, w: [3.0028982], b: [1.988856]\n",
            "epoch 28, loss 1.218569, w: [3.0063868], b: [1.9909651]\n",
            "epoch 29, loss 0.899185, w: [3.0101173], b: [1.9926052]\n",
            "epoch 30, loss 0.752899, w: [3.012581], b: [1.9937534]\n"
          ],
          "name": "stdout"
        }
      ]
    },
    {
      "cell_type": "markdown",
      "metadata": {
        "id": "9oSB2mjNhFVj"
      },
      "source": [
        "## Evaluate\n",
        "\n",
        "Plot the change in weights compared to the true ones"
      ]
    },
    {
      "cell_type": "code",
      "metadata": {
        "colab": {
          "base_uri": "https://localhost:8080/",
          "height": 265
        },
        "id": "FqpwK3nQY2s2",
        "outputId": "40e81832-5aa5-46e0-eb0d-cf57210fe879"
      },
      "source": [
        "plt.plot(range(num_epochs), Ws, \"r\",\n",
        "         range(num_epochs), bs, \"b\")\n",
        "\n",
        "plt.plot([TRUE_W] * len(range(num_epochs)), \"r--\",\n",
        "         [TRUE_B] * len(range(num_epochs)), \"b--\")\n",
        "\n",
        "plt.legend([\"W\", \"b\", \"True W\", \"True b\"])\n",
        "plt.show()"
      ],
      "execution_count": null,
      "outputs": [
        {
          "output_type": "display_data",
          "data": {
            "image/png": "[encoded data removed]",
            "text/plain": [
              "<Figure size 432x288 with 1 Axes>"
            ]
          },
          "metadata": {
            "tags": [],
            "needs_background": "light"
          }
        }
      ]
    },
    {
      "cell_type": "code",
      "metadata": {
        "id": "G_AsyThLfmCz"
      },
      "source": [
        ""
      ],
      "execution_count": null,
      "outputs": []
    }
  ]
}