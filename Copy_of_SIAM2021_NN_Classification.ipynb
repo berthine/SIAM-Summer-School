{
  "nbformat": 4,
  "nbformat_minor": 0,
  "metadata": {
    "colab": {
      "name": "Copy of SIAM2021 NN Classification.ipynb",
      "provenance": [],
      "collapsed_sections": [],
      "include_colab_link": true
    },
    "kernelspec": {
      "name": "python3",
      "display_name": "Python 3"
    }
  },
  "cells": [
    {
      "cell_type": "markdown",
      "metadata": {
        "id": "view-in-github",
        "colab_type": "text"
      },
      "source": [
        "<a href=\"https://colab.research.google.com/github/berthine/SIAM-Summer-School/blob/main/Copy_of_SIAM2021_NN_Classification.ipynb\" target=\"_parent\"><img src=\"https://colab.research.google.com/assets/colab-badge.svg\" alt=\"Open In Colab\"/></a>"
      ]
    },
    {
      "cell_type": "markdown",
      "metadata": {
        "id": "OpPhNErAUooE"
      },
      "source": [
        "## Practical: Feature based classification\n",
        "(20/July/2021)\n",
        "\n",
        "### 2021 Gene Golub SIAM Summer School \n",
        "https://sites.google.com/aims.ac.za/g2s3/home \n",
        "\n",
        "Instructor\n",
        "\n",
        "<font color=\"green\">***Dr. Emmanuel Dufourq*** \n",
        "\n",
        "www.emmanueldufourq.com\n",
        "\n",
        "edufourq (['@']) gmail.com\n",
        "\n",
        "***African Institute for Mathematical Sciences***\n",
        "\n",
        "***Stellenbosch University***\n",
        "\n",
        "***2021***\n",
        "\n"
      ]
    },
    {
      "cell_type": "markdown",
      "metadata": {
        "id": "btOg-H31IWAY"
      },
      "source": [
        "## <font color=\"green\"> Learning outcomes:\n",
        "\n",
        "* Implementing a neural network for feature based classification\n",
        "\n",
        "* Using the ```CategoricalCrossentropy``` loss\n",
        "\n",
        "* How to use ```EarlyStopping``` to prevent overfitting.\n",
        "\n",
        "* Uses the build in softmax function\n",
        "\n",
        "* Obtaining confusion matrix\n",
        "\n",
        "## <font color=\"green\">Data information:\n",
        "\n",
        "* Features: 4 real-valued features\n",
        "\n",
        "* Output: 3-class target represented by strings\n",
        "\n",
        "## <font color=\"green\">Tasks for participants (boolean)?\n",
        "\n",
        "* No, follow along."
      ]
    },
    {
      "cell_type": "markdown",
      "metadata": {
        "id": "Odaw35SnUk6H"
      },
      "source": [
        "## Various Python imports"
      ]
    },
    {
      "cell_type": "code",
      "metadata": {
        "id": "U8M1nH2IzI7x"
      },
      "source": [
        "import numpy as np\n",
        "np.random.seed(1337)\n",
        "import pandas\n",
        "\n",
        "from tensorflow.keras.models import Sequential\n",
        "from tensorflow.keras.layers import Dense\n",
        "from tensorflow.keras import metrics\n",
        "from keras.utils import np_utils\n",
        "import tensorflow as tf\n",
        "from tensorflow.keras.optimizers import Adam\n",
        "from tensorflow.keras.initializers import RandomNormal\n",
        "from tensorflow.keras.losses import CategoricalCrossentropy\n",
        "from tensorflow.keras.utils import plot_model\n",
        "from keras.callbacks import EarlyStopping\n",
        "\n",
        "\n",
        "from sklearn.preprocessing import StandardScaler\n",
        "from sklearn.model_selection import train_test_split\n",
        "from sklearn.metrics import confusion_matrix, accuracy_score\n",
        "from sklearn.datasets import load_iris\n",
        "\n",
        "import matplotlib.pyplot as plt\n",
        "%matplotlib inline"
      ],
      "execution_count": 1,
      "outputs": []
    },
    {
      "cell_type": "markdown",
      "metadata": {
        "id": "H1VWGvj2zI8B"
      },
      "source": [
        "## Load the dataset\n",
        "\n",
        "This data sets consists of 3 different types of irises’ (Setosa, Versicolour, and Virginica) petal and sepal length, stored in a 150x4 numpy.ndarray\n",
        "\n",
        "The rows being the samples and the columns being: Sepal Length, Sepal Width, Petal Length and Petal Width.\n",
        "\n",
        "The dataset is obtained from scikit learn https://scikit-learn.org/stable/auto_examples/datasets/plot_iris_dataset.html"
      ]
    },
    {
      "cell_type": "code",
      "metadata": {
        "id": "wae_HjknzI8E"
      },
      "source": [
        "iris_data = load_iris()"
      ],
      "execution_count": 2,
      "outputs": []
    },
    {
      "cell_type": "markdown",
      "metadata": {
        "id": "IZ6eY3coY_QZ"
      },
      "source": [
        "The load_iris() returns a 'sklearn.utils.Bunch' which is kind of like a Python dictionary with the following keys. In our case we don't need all of that information, we really just need the actual data (i.e. features and class variables). \n",
        "\n",
        "Bunch objects are sometimes used as an output for functions and methods. They extend dictionaries by enabling values to be accessed by key, bunch[\"value_key\"], or by an attribute, bunch.value_key.\n",
        "\n",
        "If you are interested in the Bunch object, here is the API https://scikit-learn.org/stable/modules/generated/sklearn.utils.Bunch.html"
      ]
    },
    {
      "cell_type": "code",
      "metadata": {
        "colab": {
          "base_uri": "https://localhost:8080/"
        },
        "id": "bf-ucxEEeEFU",
        "outputId": "f7cb5461-d7aa-47e1-dfa8-2556e3f08525"
      },
      "source": [
        "type(iris_data)"
      ],
      "execution_count": 3,
      "outputs": [
        {
          "output_type": "execute_result",
          "data": {
            "text/plain": [
              "sklearn.utils.Bunch"
            ]
          },
          "metadata": {
            "tags": []
          },
          "execution_count": 3
        }
      ]
    },
    {
      "cell_type": "code",
      "metadata": {
        "colab": {
          "base_uri": "https://localhost:8080/"
        },
        "id": "ZURN_IUhY8lA",
        "outputId": "744ea8fb-6fca-444a-e5f6-d71d69aae894"
      },
      "source": [
        "iris_data.keys()"
      ],
      "execution_count": 4,
      "outputs": [
        {
          "output_type": "execute_result",
          "data": {
            "text/plain": [
              "dict_keys(['data', 'target', 'target_names', 'DESCR', 'feature_names', 'filename'])"
            ]
          },
          "metadata": {
            "tags": []
          },
          "execution_count": 4
        }
      ]
    },
    {
      "cell_type": "markdown",
      "metadata": {
        "id": "viKnwTKXZN3R"
      },
      "source": [
        "Nonetheless let's take a look at everything that we get when we call the iris_data() function."
      ]
    },
    {
      "cell_type": "code",
      "metadata": {
        "id": "zPMKxNaNw8af",
        "colab": {
          "base_uri": "https://localhost:8080/"
        },
        "outputId": "bd21cd15-a7fa-4734-c0ca-7f9fd6e6137e"
      },
      "source": [
        "iris_data"
      ],
      "execution_count": 5,
      "outputs": [
        {
          "output_type": "execute_result",
          "data": {
            "text/plain": [
              "{'DESCR': '.. _iris_dataset:\\n\\nIris plants dataset\\n--------------------\\n\\n**Data Set Characteristics:**\\n\\n    :Number of Instances: 150 (50 in each of three classes)\\n    :Number of Attributes: 4 numeric, predictive attributes and the class\\n    :Attribute Information:\\n        - sepal length in cm\\n        - sepal width in cm\\n        - petal length in cm\\n        - petal width in cm\\n        - class:\\n                - Iris-Setosa\\n                - Iris-Versicolour\\n                - Iris-Virginica\\n                \\n    :Summary Statistics:\\n\\n    ============== ==== ==== ======= ===== ====================\\n                    Min  Max   Mean    SD   Class Correlation\\n    ============== ==== ==== ======= ===== ====================\\n    sepal length:   4.3  7.9   5.84   0.83    0.7826\\n    sepal width:    2.0  4.4   3.05   0.43   -0.4194\\n    petal length:   1.0  6.9   3.76   1.76    0.9490  (high!)\\n    petal width:    0.1  2.5   1.20   0.76    0.9565  (high!)\\n    ============== ==== ==== ======= ===== ====================\\n\\n    :Missing Attribute Values: None\\n    :Class Distribution: 33.3% for each of 3 classes.\\n    :Creator: R.A. Fisher\\n    :Donor: Michael Marshall (MARSHALL%PLU@io.arc.nasa.gov)\\n    :Date: July, 1988\\n\\nThe famous Iris database, first used by Sir R.A. Fisher. The dataset is taken\\nfrom Fisher\\'s paper. Note that it\\'s the same as in R, but not as in the UCI\\nMachine Learning Repository, which has two wrong data points.\\n\\nThis is perhaps the best known database to be found in the\\npattern recognition literature.  Fisher\\'s paper is a classic in the field and\\nis referenced frequently to this day.  (See Duda & Hart, for example.)  The\\ndata set contains 3 classes of 50 instances each, where each class refers to a\\ntype of iris plant.  One class is linearly separable from the other 2; the\\nlatter are NOT linearly separable from each other.\\n\\n.. topic:: References\\n\\n   - Fisher, R.A. \"The use of multiple measurements in taxonomic problems\"\\n     Annual Eugenics, 7, Part II, 179-188 (1936); also in \"Contributions to\\n     Mathematical Statistics\" (John Wiley, NY, 1950).\\n   - Duda, R.O., & Hart, P.E. (1973) Pattern Classification and Scene Analysis.\\n     (Q327.D83) John Wiley & Sons.  ISBN 0-471-22361-1.  See page 218.\\n   - Dasarathy, B.V. (1980) \"Nosing Around the Neighborhood: A New System\\n     Structure and Classification Rule for Recognition in Partially Exposed\\n     Environments\".  IEEE Transactions on Pattern Analysis and Machine\\n     Intelligence, Vol. PAMI-2, No. 1, 67-71.\\n   - Gates, G.W. (1972) \"The Reduced Nearest Neighbor Rule\".  IEEE Transactions\\n     on Information Theory, May 1972, 431-433.\\n   - See also: 1988 MLC Proceedings, 54-64.  Cheeseman et al\"s AUTOCLASS II\\n     conceptual clustering system finds 3 classes in the data.\\n   - Many, many more ...',\n",
              " 'data': array([[5.1, 3.5, 1.4, 0.2],\n",
              "        [4.9, 3. , 1.4, 0.2],\n",
              "        [4.7, 3.2, 1.3, 0.2],\n",
              "        [4.6, 3.1, 1.5, 0.2],\n",
              "        [5. , 3.6, 1.4, 0.2],\n",
              "        [5.4, 3.9, 1.7, 0.4],\n",
              "        [4.6, 3.4, 1.4, 0.3],\n",
              "        [5. , 3.4, 1.5, 0.2],\n",
              "        [4.4, 2.9, 1.4, 0.2],\n",
              "        [4.9, 3.1, 1.5, 0.1],\n",
              "        [5.4, 3.7, 1.5, 0.2],\n",
              "        [4.8, 3.4, 1.6, 0.2],\n",
              "        [4.8, 3. , 1.4, 0.1],\n",
              "        [4.3, 3. , 1.1, 0.1],\n",
              "        [5.8, 4. , 1.2, 0.2],\n",
              "        [5.7, 4.4, 1.5, 0.4],\n",
              "        [5.4, 3.9, 1.3, 0.4],\n",
              "        [5.1, 3.5, 1.4, 0.3],\n",
              "        [5.7, 3.8, 1.7, 0.3],\n",
              "        [5.1, 3.8, 1.5, 0.3],\n",
              "        [5.4, 3.4, 1.7, 0.2],\n",
              "        [5.1, 3.7, 1.5, 0.4],\n",
              "        [4.6, 3.6, 1. , 0.2],\n",
              "        [5.1, 3.3, 1.7, 0.5],\n",
              "        [4.8, 3.4, 1.9, 0.2],\n",
              "        [5. , 3. , 1.6, 0.2],\n",
              "        [5. , 3.4, 1.6, 0.4],\n",
              "        [5.2, 3.5, 1.5, 0.2],\n",
              "        [5.2, 3.4, 1.4, 0.2],\n",
              "        [4.7, 3.2, 1.6, 0.2],\n",
              "        [4.8, 3.1, 1.6, 0.2],\n",
              "        [5.4, 3.4, 1.5, 0.4],\n",
              "        [5.2, 4.1, 1.5, 0.1],\n",
              "        [5.5, 4.2, 1.4, 0.2],\n",
              "        [4.9, 3.1, 1.5, 0.2],\n",
              "        [5. , 3.2, 1.2, 0.2],\n",
              "        [5.5, 3.5, 1.3, 0.2],\n",
              "        [4.9, 3.6, 1.4, 0.1],\n",
              "        [4.4, 3. , 1.3, 0.2],\n",
              "        [5.1, 3.4, 1.5, 0.2],\n",
              "        [5. , 3.5, 1.3, 0.3],\n",
              "        [4.5, 2.3, 1.3, 0.3],\n",
              "        [4.4, 3.2, 1.3, 0.2],\n",
              "        [5. , 3.5, 1.6, 0.6],\n",
              "        [5.1, 3.8, 1.9, 0.4],\n",
              "        [4.8, 3. , 1.4, 0.3],\n",
              "        [5.1, 3.8, 1.6, 0.2],\n",
              "        [4.6, 3.2, 1.4, 0.2],\n",
              "        [5.3, 3.7, 1.5, 0.2],\n",
              "        [5. , 3.3, 1.4, 0.2],\n",
              "        [7. , 3.2, 4.7, 1.4],\n",
              "        [6.4, 3.2, 4.5, 1.5],\n",
              "        [6.9, 3.1, 4.9, 1.5],\n",
              "        [5.5, 2.3, 4. , 1.3],\n",
              "        [6.5, 2.8, 4.6, 1.5],\n",
              "        [5.7, 2.8, 4.5, 1.3],\n",
              "        [6.3, 3.3, 4.7, 1.6],\n",
              "        [4.9, 2.4, 3.3, 1. ],\n",
              "        [6.6, 2.9, 4.6, 1.3],\n",
              "        [5.2, 2.7, 3.9, 1.4],\n",
              "        [5. , 2. , 3.5, 1. ],\n",
              "        [5.9, 3. , 4.2, 1.5],\n",
              "        [6. , 2.2, 4. , 1. ],\n",
              "        [6.1, 2.9, 4.7, 1.4],\n",
              "        [5.6, 2.9, 3.6, 1.3],\n",
              "        [6.7, 3.1, 4.4, 1.4],\n",
              "        [5.6, 3. , 4.5, 1.5],\n",
              "        [5.8, 2.7, 4.1, 1. ],\n",
              "        [6.2, 2.2, 4.5, 1.5],\n",
              "        [5.6, 2.5, 3.9, 1.1],\n",
              "        [5.9, 3.2, 4.8, 1.8],\n",
              "        [6.1, 2.8, 4. , 1.3],\n",
              "        [6.3, 2.5, 4.9, 1.5],\n",
              "        [6.1, 2.8, 4.7, 1.2],\n",
              "        [6.4, 2.9, 4.3, 1.3],\n",
              "        [6.6, 3. , 4.4, 1.4],\n",
              "        [6.8, 2.8, 4.8, 1.4],\n",
              "        [6.7, 3. , 5. , 1.7],\n",
              "        [6. , 2.9, 4.5, 1.5],\n",
              "        [5.7, 2.6, 3.5, 1. ],\n",
              "        [5.5, 2.4, 3.8, 1.1],\n",
              "        [5.5, 2.4, 3.7, 1. ],\n",
              "        [5.8, 2.7, 3.9, 1.2],\n",
              "        [6. , 2.7, 5.1, 1.6],\n",
              "        [5.4, 3. , 4.5, 1.5],\n",
              "        [6. , 3.4, 4.5, 1.6],\n",
              "        [6.7, 3.1, 4.7, 1.5],\n",
              "        [6.3, 2.3, 4.4, 1.3],\n",
              "        [5.6, 3. , 4.1, 1.3],\n",
              "        [5.5, 2.5, 4. , 1.3],\n",
              "        [5.5, 2.6, 4.4, 1.2],\n",
              "        [6.1, 3. , 4.6, 1.4],\n",
              "        [5.8, 2.6, 4. , 1.2],\n",
              "        [5. , 2.3, 3.3, 1. ],\n",
              "        [5.6, 2.7, 4.2, 1.3],\n",
              "        [5.7, 3. , 4.2, 1.2],\n",
              "        [5.7, 2.9, 4.2, 1.3],\n",
              "        [6.2, 2.9, 4.3, 1.3],\n",
              "        [5.1, 2.5, 3. , 1.1],\n",
              "        [5.7, 2.8, 4.1, 1.3],\n",
              "        [6.3, 3.3, 6. , 2.5],\n",
              "        [5.8, 2.7, 5.1, 1.9],\n",
              "        [7.1, 3. , 5.9, 2.1],\n",
              "        [6.3, 2.9, 5.6, 1.8],\n",
              "        [6.5, 3. , 5.8, 2.2],\n",
              "        [7.6, 3. , 6.6, 2.1],\n",
              "        [4.9, 2.5, 4.5, 1.7],\n",
              "        [7.3, 2.9, 6.3, 1.8],\n",
              "        [6.7, 2.5, 5.8, 1.8],\n",
              "        [7.2, 3.6, 6.1, 2.5],\n",
              "        [6.5, 3.2, 5.1, 2. ],\n",
              "        [6.4, 2.7, 5.3, 1.9],\n",
              "        [6.8, 3. , 5.5, 2.1],\n",
              "        [5.7, 2.5, 5. , 2. ],\n",
              "        [5.8, 2.8, 5.1, 2.4],\n",
              "        [6.4, 3.2, 5.3, 2.3],\n",
              "        [6.5, 3. , 5.5, 1.8],\n",
              "        [7.7, 3.8, 6.7, 2.2],\n",
              "        [7.7, 2.6, 6.9, 2.3],\n",
              "        [6. , 2.2, 5. , 1.5],\n",
              "        [6.9, 3.2, 5.7, 2.3],\n",
              "        [5.6, 2.8, 4.9, 2. ],\n",
              "        [7.7, 2.8, 6.7, 2. ],\n",
              "        [6.3, 2.7, 4.9, 1.8],\n",
              "        [6.7, 3.3, 5.7, 2.1],\n",
              "        [7.2, 3.2, 6. , 1.8],\n",
              "        [6.2, 2.8, 4.8, 1.8],\n",
              "        [6.1, 3. , 4.9, 1.8],\n",
              "        [6.4, 2.8, 5.6, 2.1],\n",
              "        [7.2, 3. , 5.8, 1.6],\n",
              "        [7.4, 2.8, 6.1, 1.9],\n",
              "        [7.9, 3.8, 6.4, 2. ],\n",
              "        [6.4, 2.8, 5.6, 2.2],\n",
              "        [6.3, 2.8, 5.1, 1.5],\n",
              "        [6.1, 2.6, 5.6, 1.4],\n",
              "        [7.7, 3. , 6.1, 2.3],\n",
              "        [6.3, 3.4, 5.6, 2.4],\n",
              "        [6.4, 3.1, 5.5, 1.8],\n",
              "        [6. , 3. , 4.8, 1.8],\n",
              "        [6.9, 3.1, 5.4, 2.1],\n",
              "        [6.7, 3.1, 5.6, 2.4],\n",
              "        [6.9, 3.1, 5.1, 2.3],\n",
              "        [5.8, 2.7, 5.1, 1.9],\n",
              "        [6.8, 3.2, 5.9, 2.3],\n",
              "        [6.7, 3.3, 5.7, 2.5],\n",
              "        [6.7, 3. , 5.2, 2.3],\n",
              "        [6.3, 2.5, 5. , 1.9],\n",
              "        [6.5, 3. , 5.2, 2. ],\n",
              "        [6.2, 3.4, 5.4, 2.3],\n",
              "        [5.9, 3. , 5.1, 1.8]]),\n",
              " 'feature_names': ['sepal length (cm)',\n",
              "  'sepal width (cm)',\n",
              "  'petal length (cm)',\n",
              "  'petal width (cm)'],\n",
              " 'filename': '/usr/local/lib/python3.7/dist-packages/sklearn/datasets/data/iris.csv',\n",
              " 'target': array([0, 0, 0, 0, 0, 0, 0, 0, 0, 0, 0, 0, 0, 0, 0, 0, 0, 0, 0, 0, 0, 0,\n",
              "        0, 0, 0, 0, 0, 0, 0, 0, 0, 0, 0, 0, 0, 0, 0, 0, 0, 0, 0, 0, 0, 0,\n",
              "        0, 0, 0, 0, 0, 0, 1, 1, 1, 1, 1, 1, 1, 1, 1, 1, 1, 1, 1, 1, 1, 1,\n",
              "        1, 1, 1, 1, 1, 1, 1, 1, 1, 1, 1, 1, 1, 1, 1, 1, 1, 1, 1, 1, 1, 1,\n",
              "        1, 1, 1, 1, 1, 1, 1, 1, 1, 1, 1, 1, 2, 2, 2, 2, 2, 2, 2, 2, 2, 2,\n",
              "        2, 2, 2, 2, 2, 2, 2, 2, 2, 2, 2, 2, 2, 2, 2, 2, 2, 2, 2, 2, 2, 2,\n",
              "        2, 2, 2, 2, 2, 2, 2, 2, 2, 2, 2, 2, 2, 2, 2, 2, 2, 2]),\n",
              " 'target_names': array(['setosa', 'versicolor', 'virginica'], dtype='<U10')}"
            ]
          },
          "metadata": {
            "tags": []
          },
          "execution_count": 5
        }
      ]
    },
    {
      "cell_type": "markdown",
      "metadata": {
        "id": "QoQte1UJZT4l"
      },
      "source": [
        "Now let's extract what we really want, the data, which is stored in the 'data' key in this iris_data dictionary. Calling the data key will provide us with the features in this case. Remember, this dataset is formatted in this particular way. Not every dataset will be stored in this way."
      ]
    },
    {
      "cell_type": "code",
      "metadata": {
        "id": "6whopOpnZT9B"
      },
      "source": [
        "dataset = iris_data.data"
      ],
      "execution_count": 6,
      "outputs": []
    },
    {
      "cell_type": "markdown",
      "metadata": {
        "id": "nP7i2EOwyZVa"
      },
      "source": [
        "## View the data"
      ]
    },
    {
      "cell_type": "code",
      "metadata": {
        "id": "pM9-iHobzI8L",
        "colab": {
          "base_uri": "https://localhost:8080/"
        },
        "outputId": "93f230bc-9d9b-45da-a649-7e15d4ff9ba2"
      },
      "source": [
        "dataset"
      ],
      "execution_count": 7,
      "outputs": [
        {
          "output_type": "execute_result",
          "data": {
            "text/plain": [
              "array([[5.1, 3.5, 1.4, 0.2],\n",
              "       [4.9, 3. , 1.4, 0.2],\n",
              "       [4.7, 3.2, 1.3, 0.2],\n",
              "       [4.6, 3.1, 1.5, 0.2],\n",
              "       [5. , 3.6, 1.4, 0.2],\n",
              "       [5.4, 3.9, 1.7, 0.4],\n",
              "       [4.6, 3.4, 1.4, 0.3],\n",
              "       [5. , 3.4, 1.5, 0.2],\n",
              "       [4.4, 2.9, 1.4, 0.2],\n",
              "       [4.9, 3.1, 1.5, 0.1],\n",
              "       [5.4, 3.7, 1.5, 0.2],\n",
              "       [4.8, 3.4, 1.6, 0.2],\n",
              "       [4.8, 3. , 1.4, 0.1],\n",
              "       [4.3, 3. , 1.1, 0.1],\n",
              "       [5.8, 4. , 1.2, 0.2],\n",
              "       [5.7, 4.4, 1.5, 0.4],\n",
              "       [5.4, 3.9, 1.3, 0.4],\n",
              "       [5.1, 3.5, 1.4, 0.3],\n",
              "       [5.7, 3.8, 1.7, 0.3],\n",
              "       [5.1, 3.8, 1.5, 0.3],\n",
              "       [5.4, 3.4, 1.7, 0.2],\n",
              "       [5.1, 3.7, 1.5, 0.4],\n",
              "       [4.6, 3.6, 1. , 0.2],\n",
              "       [5.1, 3.3, 1.7, 0.5],\n",
              "       [4.8, 3.4, 1.9, 0.2],\n",
              "       [5. , 3. , 1.6, 0.2],\n",
              "       [5. , 3.4, 1.6, 0.4],\n",
              "       [5.2, 3.5, 1.5, 0.2],\n",
              "       [5.2, 3.4, 1.4, 0.2],\n",
              "       [4.7, 3.2, 1.6, 0.2],\n",
              "       [4.8, 3.1, 1.6, 0.2],\n",
              "       [5.4, 3.4, 1.5, 0.4],\n",
              "       [5.2, 4.1, 1.5, 0.1],\n",
              "       [5.5, 4.2, 1.4, 0.2],\n",
              "       [4.9, 3.1, 1.5, 0.2],\n",
              "       [5. , 3.2, 1.2, 0.2],\n",
              "       [5.5, 3.5, 1.3, 0.2],\n",
              "       [4.9, 3.6, 1.4, 0.1],\n",
              "       [4.4, 3. , 1.3, 0.2],\n",
              "       [5.1, 3.4, 1.5, 0.2],\n",
              "       [5. , 3.5, 1.3, 0.3],\n",
              "       [4.5, 2.3, 1.3, 0.3],\n",
              "       [4.4, 3.2, 1.3, 0.2],\n",
              "       [5. , 3.5, 1.6, 0.6],\n",
              "       [5.1, 3.8, 1.9, 0.4],\n",
              "       [4.8, 3. , 1.4, 0.3],\n",
              "       [5.1, 3.8, 1.6, 0.2],\n",
              "       [4.6, 3.2, 1.4, 0.2],\n",
              "       [5.3, 3.7, 1.5, 0.2],\n",
              "       [5. , 3.3, 1.4, 0.2],\n",
              "       [7. , 3.2, 4.7, 1.4],\n",
              "       [6.4, 3.2, 4.5, 1.5],\n",
              "       [6.9, 3.1, 4.9, 1.5],\n",
              "       [5.5, 2.3, 4. , 1.3],\n",
              "       [6.5, 2.8, 4.6, 1.5],\n",
              "       [5.7, 2.8, 4.5, 1.3],\n",
              "       [6.3, 3.3, 4.7, 1.6],\n",
              "       [4.9, 2.4, 3.3, 1. ],\n",
              "       [6.6, 2.9, 4.6, 1.3],\n",
              "       [5.2, 2.7, 3.9, 1.4],\n",
              "       [5. , 2. , 3.5, 1. ],\n",
              "       [5.9, 3. , 4.2, 1.5],\n",
              "       [6. , 2.2, 4. , 1. ],\n",
              "       [6.1, 2.9, 4.7, 1.4],\n",
              "       [5.6, 2.9, 3.6, 1.3],\n",
              "       [6.7, 3.1, 4.4, 1.4],\n",
              "       [5.6, 3. , 4.5, 1.5],\n",
              "       [5.8, 2.7, 4.1, 1. ],\n",
              "       [6.2, 2.2, 4.5, 1.5],\n",
              "       [5.6, 2.5, 3.9, 1.1],\n",
              "       [5.9, 3.2, 4.8, 1.8],\n",
              "       [6.1, 2.8, 4. , 1.3],\n",
              "       [6.3, 2.5, 4.9, 1.5],\n",
              "       [6.1, 2.8, 4.7, 1.2],\n",
              "       [6.4, 2.9, 4.3, 1.3],\n",
              "       [6.6, 3. , 4.4, 1.4],\n",
              "       [6.8, 2.8, 4.8, 1.4],\n",
              "       [6.7, 3. , 5. , 1.7],\n",
              "       [6. , 2.9, 4.5, 1.5],\n",
              "       [5.7, 2.6, 3.5, 1. ],\n",
              "       [5.5, 2.4, 3.8, 1.1],\n",
              "       [5.5, 2.4, 3.7, 1. ],\n",
              "       [5.8, 2.7, 3.9, 1.2],\n",
              "       [6. , 2.7, 5.1, 1.6],\n",
              "       [5.4, 3. , 4.5, 1.5],\n",
              "       [6. , 3.4, 4.5, 1.6],\n",
              "       [6.7, 3.1, 4.7, 1.5],\n",
              "       [6.3, 2.3, 4.4, 1.3],\n",
              "       [5.6, 3. , 4.1, 1.3],\n",
              "       [5.5, 2.5, 4. , 1.3],\n",
              "       [5.5, 2.6, 4.4, 1.2],\n",
              "       [6.1, 3. , 4.6, 1.4],\n",
              "       [5.8, 2.6, 4. , 1.2],\n",
              "       [5. , 2.3, 3.3, 1. ],\n",
              "       [5.6, 2.7, 4.2, 1.3],\n",
              "       [5.7, 3. , 4.2, 1.2],\n",
              "       [5.7, 2.9, 4.2, 1.3],\n",
              "       [6.2, 2.9, 4.3, 1.3],\n",
              "       [5.1, 2.5, 3. , 1.1],\n",
              "       [5.7, 2.8, 4.1, 1.3],\n",
              "       [6.3, 3.3, 6. , 2.5],\n",
              "       [5.8, 2.7, 5.1, 1.9],\n",
              "       [7.1, 3. , 5.9, 2.1],\n",
              "       [6.3, 2.9, 5.6, 1.8],\n",
              "       [6.5, 3. , 5.8, 2.2],\n",
              "       [7.6, 3. , 6.6, 2.1],\n",
              "       [4.9, 2.5, 4.5, 1.7],\n",
              "       [7.3, 2.9, 6.3, 1.8],\n",
              "       [6.7, 2.5, 5.8, 1.8],\n",
              "       [7.2, 3.6, 6.1, 2.5],\n",
              "       [6.5, 3.2, 5.1, 2. ],\n",
              "       [6.4, 2.7, 5.3, 1.9],\n",
              "       [6.8, 3. , 5.5, 2.1],\n",
              "       [5.7, 2.5, 5. , 2. ],\n",
              "       [5.8, 2.8, 5.1, 2.4],\n",
              "       [6.4, 3.2, 5.3, 2.3],\n",
              "       [6.5, 3. , 5.5, 1.8],\n",
              "       [7.7, 3.8, 6.7, 2.2],\n",
              "       [7.7, 2.6, 6.9, 2.3],\n",
              "       [6. , 2.2, 5. , 1.5],\n",
              "       [6.9, 3.2, 5.7, 2.3],\n",
              "       [5.6, 2.8, 4.9, 2. ],\n",
              "       [7.7, 2.8, 6.7, 2. ],\n",
              "       [6.3, 2.7, 4.9, 1.8],\n",
              "       [6.7, 3.3, 5.7, 2.1],\n",
              "       [7.2, 3.2, 6. , 1.8],\n",
              "       [6.2, 2.8, 4.8, 1.8],\n",
              "       [6.1, 3. , 4.9, 1.8],\n",
              "       [6.4, 2.8, 5.6, 2.1],\n",
              "       [7.2, 3. , 5.8, 1.6],\n",
              "       [7.4, 2.8, 6.1, 1.9],\n",
              "       [7.9, 3.8, 6.4, 2. ],\n",
              "       [6.4, 2.8, 5.6, 2.2],\n",
              "       [6.3, 2.8, 5.1, 1.5],\n",
              "       [6.1, 2.6, 5.6, 1.4],\n",
              "       [7.7, 3. , 6.1, 2.3],\n",
              "       [6.3, 3.4, 5.6, 2.4],\n",
              "       [6.4, 3.1, 5.5, 1.8],\n",
              "       [6. , 3. , 4.8, 1.8],\n",
              "       [6.9, 3.1, 5.4, 2.1],\n",
              "       [6.7, 3.1, 5.6, 2.4],\n",
              "       [6.9, 3.1, 5.1, 2.3],\n",
              "       [5.8, 2.7, 5.1, 1.9],\n",
              "       [6.8, 3.2, 5.9, 2.3],\n",
              "       [6.7, 3.3, 5.7, 2.5],\n",
              "       [6.7, 3. , 5.2, 2.3],\n",
              "       [6.3, 2.5, 5. , 1.9],\n",
              "       [6.5, 3. , 5.2, 2. ],\n",
              "       [6.2, 3.4, 5.4, 2.3],\n",
              "       [5.9, 3. , 5.1, 1.8]])"
            ]
          },
          "metadata": {
            "tags": []
          },
          "execution_count": 7
        }
      ]
    },
    {
      "cell_type": "markdown",
      "metadata": {
        "id": "UfeDy2AP1p2T"
      },
      "source": [
        "## Scaling\n",
        "\n",
        "You might already know that neural networks perform best when the features are scaled/normalised instead of being on different scales. Let's take a look and check if the features are on similar scales."
      ]
    },
    {
      "cell_type": "code",
      "metadata": {
        "colab": {
          "base_uri": "https://localhost:8080/",
          "height": 281
        },
        "id": "qD6qAWBWZ01b",
        "outputId": "9f2fccc6-f11c-4dca-fe15-8bb219474e4c"
      },
      "source": [
        "plt.hist(dataset[:,0])\n",
        "plt.title('Feature 0')\n",
        "plt.show()"
      ],
      "execution_count": 8,
      "outputs": [
        {
          "output_type": "display_data",
          "data": {
            "image/png": "[encoded data removed]",
            "text/plain": [
              "<Figure size 432x288 with 1 Axes>"
            ]
          },
          "metadata": {
            "tags": [],
            "needs_background": "light"
          }
        }
      ]
    },
    {
      "cell_type": "code",
      "metadata": {
        "colab": {
          "base_uri": "https://localhost:8080/"
        },
        "id": "v7p5uS7iccSr",
        "outputId": "6e3a48bd-981a-4e7f-94f1-1f3984bf07fd"
      },
      "source": [
        "print ('mean feature 0:',np.mean(dataset[:,0]))\n",
        "print ('sdev feature 0:',np.std(dataset[:,0]))"
      ],
      "execution_count": 9,
      "outputs": [
        {
          "output_type": "stream",
          "text": [
            "mean feature 0: 5.843333333333334\n",
            "sdev feature 0: 0.8253012917851409\n"
          ],
          "name": "stdout"
        }
      ]
    },
    {
      "cell_type": "code",
      "metadata": {
        "id": "0ARdO7yaBKfo"
      },
      "source": [
        ""
      ],
      "execution_count": 9,
      "outputs": []
    },
    {
      "cell_type": "code",
      "metadata": {
        "colab": {
          "base_uri": "https://localhost:8080/",
          "height": 281
        },
        "id": "yDIBsadwbLUo",
        "outputId": "7414759c-fd9e-4cf3-ceba-3d503b3fb17a"
      },
      "source": [
        "plt.hist(dataset[:,1])\n",
        "plt.title('Feature 1')\n",
        "plt.show()"
      ],
      "execution_count": 10,
      "outputs": [
        {
          "output_type": "display_data",
          "data": {
            "image/png": "[encoded data removed]",
            "text/plain": [
              "<Figure size 432x288 with 1 Axes>"
            ]
          },
          "metadata": {
            "tags": [],
            "needs_background": "light"
          }
        }
      ]
    },
    {
      "cell_type": "code",
      "metadata": {
        "colab": {
          "base_uri": "https://localhost:8080/"
        },
        "id": "_m_6Oyl-cr-k",
        "outputId": "464077fa-19b0-4dca-b798-e503333ac45c"
      },
      "source": [
        "print ('mean feature 1:',np.mean(dataset[:,1]))\n",
        "print ('sdev feature 1:',np.std(dataset[:,1]))"
      ],
      "execution_count": 11,
      "outputs": [
        {
          "output_type": "stream",
          "text": [
            "mean feature 1: 3.0573333333333337\n",
            "sdev feature 1: 0.4344109677354946\n"
          ],
          "name": "stdout"
        }
      ]
    },
    {
      "cell_type": "code",
      "metadata": {
        "colab": {
          "base_uri": "https://localhost:8080/",
          "height": 281
        },
        "id": "O67lFO1UbLXc",
        "outputId": "557dfbf6-52f8-4c56-cc0e-b47d037b55ec"
      },
      "source": [
        "plt.hist(dataset[:,2])\n",
        "plt.title('Feature 2')\n",
        "plt.show()"
      ],
      "execution_count": 12,
      "outputs": [
        {
          "output_type": "display_data",
          "data": {
            "image/png": "[encoded data removed]",
            "text/plain": [
              "<Figure size 432x288 with 1 Axes>"
            ]
          },
          "metadata": {
            "tags": [],
            "needs_background": "light"
          }
        }
      ]
    },
    {
      "cell_type": "code",
      "metadata": {
        "colab": {
          "base_uri": "https://localhost:8080/"
        },
        "id": "44mkcVhict1M",
        "outputId": "13b39c59-32f2-424a-f0d3-6dc9d0ece83a"
      },
      "source": [
        "print ('mean feature 2:',np.mean(dataset[:,2]))\n",
        "print ('sdev feature 2:',np.std(dataset[:,2]))"
      ],
      "execution_count": 13,
      "outputs": [
        {
          "output_type": "stream",
          "text": [
            "mean feature 2: 3.7580000000000005\n",
            "sdev feature 2: 1.759404065775303\n"
          ],
          "name": "stdout"
        }
      ]
    },
    {
      "cell_type": "code",
      "metadata": {
        "colab": {
          "base_uri": "https://localhost:8080/",
          "height": 281
        },
        "id": "EejB2t52bMCN",
        "outputId": "c9f940fb-7a87-496f-9632-c0c2e0cf2f5b"
      },
      "source": [
        "plt.hist(dataset[:,3])\n",
        "plt.title('Feature 3')\n",
        "plt.show()"
      ],
      "execution_count": 14,
      "outputs": [
        {
          "output_type": "display_data",
          "data": {
            "image/png": "[encoded data removed]",
            "text/plain": [
              "<Figure size 432x288 with 1 Axes>"
            ]
          },
          "metadata": {
            "tags": [],
            "needs_background": "light"
          }
        }
      ]
    },
    {
      "cell_type": "code",
      "metadata": {
        "colab": {
          "base_uri": "https://localhost:8080/"
        },
        "id": "6JavQjIocwJg",
        "outputId": "fb69c786-284e-4af7-b98b-817bb210b133"
      },
      "source": [
        "print ('mean feature 3:',np.mean(dataset[:,3]))\n",
        "print ('sdev feature 3:',np.std(dataset[:,3]))"
      ],
      "execution_count": 15,
      "outputs": [
        {
          "output_type": "stream",
          "text": [
            "mean feature 3: 1.1993333333333336\n",
            "sdev feature 3: 0.7596926279021594\n"
          ],
          "name": "stdout"
        }
      ]
    },
    {
      "cell_type": "markdown",
      "metadata": {
        "id": "qSc-zD35dIvf"
      },
      "source": [
        "## Now let's scale the data"
      ]
    },
    {
      "cell_type": "code",
      "metadata": {
        "id": "7a8npr1R1p8q"
      },
      "source": [
        "scaler = StandardScaler()\n",
        "scaler.fit(dataset)\n",
        "scaled_dataset = scaler.transform(dataset)"
      ],
      "execution_count": 16,
      "outputs": []
    },
    {
      "cell_type": "code",
      "metadata": {
        "colab": {
          "base_uri": "https://localhost:8080/",
          "height": 281
        },
        "id": "POpe1yfbbmY6",
        "outputId": "e255e3d6-bb65-4a37-8735-81571d608a2d"
      },
      "source": [
        "plt.hist(scaled_dataset[:,0])\n",
        "plt.title('Feature 0')\n",
        "plt.show()"
      ],
      "execution_count": 17,
      "outputs": [
        {
          "output_type": "display_data",
          "data": {
            "image/png": "[encoded data removed]",
            "text/plain": [
              "<Figure size 432x288 with 1 Axes>"
            ]
          },
          "metadata": {
            "tags": [],
            "needs_background": "light"
          }
        }
      ]
    },
    {
      "cell_type": "code",
      "metadata": {
        "colab": {
          "base_uri": "https://localhost:8080/"
        },
        "id": "hRx3qER8cM8q",
        "outputId": "31a3f3b0-6f2e-48b1-d934-9acd02d34c59"
      },
      "source": [
        "print ('mean feature 0:',np.mean(scaled_dataset[:,0]))\n",
        "print ('sdev feature 0:',np.std(scaled_dataset[:,0]))"
      ],
      "execution_count": 18,
      "outputs": [
        {
          "output_type": "stream",
          "text": [
            "mean feature 0: -1.4684549872375404e-15\n",
            "sdev feature 0: 1.0\n"
          ],
          "name": "stdout"
        }
      ]
    },
    {
      "cell_type": "code",
      "metadata": {
        "colab": {
          "base_uri": "https://localhost:8080/",
          "height": 281
        },
        "id": "6sIQCY8SbmZB",
        "outputId": "fb47f6d3-bb99-49ee-f178-d269f093ddd7"
      },
      "source": [
        "plt.hist(scaled_dataset[:,1])\n",
        "plt.title('Feature 1')\n",
        "plt.show()"
      ],
      "execution_count": 19,
      "outputs": [
        {
          "output_type": "display_data",
          "data": {
            "image/png": "[encoded data removed]",
            "text/plain": [
              "<Figure size 432x288 with 1 Axes>"
            ]
          },
          "metadata": {
            "tags": [],
            "needs_background": "light"
          }
        }
      ]
    },
    {
      "cell_type": "code",
      "metadata": {
        "colab": {
          "base_uri": "https://localhost:8080/"
        },
        "id": "hN6GLVSKcUKi",
        "outputId": "f6daf0d2-1190-49b7-f619-78fb4959926c"
      },
      "source": [
        "print ('mean feature 1:',np.mean(scaled_dataset[:,1]))\n",
        "print ('sdev feature 1:',np.std(scaled_dataset[:,1]))"
      ],
      "execution_count": 20,
      "outputs": [
        {
          "output_type": "stream",
          "text": [
            "mean feature 1: -1.8237263551175904e-15\n",
            "sdev feature 1: 1.0000000000000004\n"
          ],
          "name": "stdout"
        }
      ]
    },
    {
      "cell_type": "code",
      "metadata": {
        "colab": {
          "base_uri": "https://localhost:8080/",
          "height": 281
        },
        "id": "1HLslloubmZG",
        "outputId": "29d95890-b4ce-476f-919c-d4736af806bc"
      },
      "source": [
        "plt.hist(scaled_dataset[:,2])\n",
        "plt.title('Feature 2')\n",
        "plt.show()"
      ],
      "execution_count": 21,
      "outputs": [
        {
          "output_type": "display_data",
          "data": {
            "image/png": "[encoded data removed]",
            "text/plain": [
              "<Figure size 432x288 with 1 Axes>"
            ]
          },
          "metadata": {
            "tags": [],
            "needs_background": "light"
          }
        }
      ]
    },
    {
      "cell_type": "code",
      "metadata": {
        "colab": {
          "base_uri": "https://localhost:8080/"
        },
        "id": "aFu9vnEPc4i_",
        "outputId": "770b6d3c-a2e6-43b7-9984-c983bedd0319"
      },
      "source": [
        "print ('mean feature 2:',np.mean(scaled_dataset[:,2]))\n",
        "print ('sdev feature 2:',np.std(scaled_dataset[:,2]))"
      ],
      "execution_count": 22,
      "outputs": [
        {
          "output_type": "stream",
          "text": [
            "mean feature 2: -1.6105635343895603e-15\n",
            "sdev feature 2: 0.9999999999999999\n"
          ],
          "name": "stdout"
        }
      ]
    },
    {
      "cell_type": "code",
      "metadata": {
        "colab": {
          "base_uri": "https://localhost:8080/",
          "height": 281
        },
        "id": "FgTEruT2bmZM",
        "outputId": "e57317a5-0ca2-46be-da8c-cd4e46ca39ce"
      },
      "source": [
        "plt.hist(scaled_dataset[:,3])\n",
        "plt.title('Feature 3')\n",
        "plt.show()"
      ],
      "execution_count": 23,
      "outputs": [
        {
          "output_type": "display_data",
          "data": {
            "image/png": "[encoded data removed]",
            "text/plain": [
              "<Figure size 432x288 with 1 Axes>"
            ]
          },
          "metadata": {
            "tags": [],
            "needs_background": "light"
          }
        }
      ]
    },
    {
      "cell_type": "code",
      "metadata": {
        "colab": {
          "base_uri": "https://localhost:8080/"
        },
        "id": "3QZoFrCUcW1d",
        "outputId": "aaaef00b-7f22-41c1-d6c9-2b86e687f42c"
      },
      "source": [
        "print ('mean feature 3:',np.mean(scaled_dataset[:,3]))\n",
        "print ('sdev feature 3:',np.std(scaled_dataset[:,3]))"
      ],
      "execution_count": 24,
      "outputs": [
        {
          "output_type": "stream",
          "text": [
            "mean feature 3: -9.473903143468002e-16\n",
            "sdev feature 3: 1.0\n"
          ],
          "name": "stdout"
        }
      ]
    },
    {
      "cell_type": "markdown",
      "metadata": {
        "id": "_5OWXzlh2QfI"
      },
      "source": [
        "## Check the shape of the data\n",
        "\n",
        "It is generally a good idea to check your data once you conduct some manipulation."
      ]
    },
    {
      "cell_type": "code",
      "metadata": {
        "id": "zJRYNPCb2DKh",
        "colab": {
          "base_uri": "https://localhost:8080/"
        },
        "outputId": "2e65e525-0d1b-4885-f880-faa68ca45557"
      },
      "source": [
        "scaled_dataset.shape"
      ],
      "execution_count": 25,
      "outputs": [
        {
          "output_type": "execute_result",
          "data": {
            "text/plain": [
              "(150, 4)"
            ]
          },
          "metadata": {
            "tags": []
          },
          "execution_count": 25
        }
      ]
    },
    {
      "cell_type": "markdown",
      "metadata": {
        "id": "CvgD4qrRdv6S"
      },
      "source": [
        "Okay so we have 150 examples and 4 features. Next we need to create our X and Y variables."
      ]
    },
    {
      "cell_type": "markdown",
      "metadata": {
        "id": "xkjvHAwIzI8d"
      },
      "source": [
        "## Split the data into features and the class values\n",
        "\n",
        "The dataset above (when we loaded it) had another key in the 'Bunch' called 'target'. So we can call that key and get the values of the classes."
      ]
    },
    {
      "cell_type": "code",
      "metadata": {
        "id": "fpXOcpfNzI8f"
      },
      "source": [
        "X = scaled_dataset\n",
        "Y = iris_data.target"
      ],
      "execution_count": 26,
      "outputs": []
    },
    {
      "cell_type": "markdown",
      "metadata": {
        "id": "veL9WiQKeg11"
      },
      "source": [
        "Let's take a look at the unique values in the Y target variable"
      ]
    },
    {
      "cell_type": "code",
      "metadata": {
        "colab": {
          "base_uri": "https://localhost:8080/"
        },
        "id": "wXGGVScBeg7d",
        "outputId": "6af96645-cfd3-4d68-daec-16b535fc1db3"
      },
      "source": [
        "np.unique(Y)"
      ],
      "execution_count": 27,
      "outputs": [
        {
          "output_type": "execute_result",
          "data": {
            "text/plain": [
              "array([0, 1, 2])"
            ]
          },
          "metadata": {
            "tags": []
          },
          "execution_count": 27
        }
      ]
    },
    {
      "cell_type": "markdown",
      "metadata": {
        "id": "YISLUOeIerCn"
      },
      "source": [
        "Okay so we cannot leave the targets as integer values. We don't want a neural network to assume that 2 is greater than 1 or that the targets have ordinal meaning (1 > 0, 2> 1 etc...). \n",
        "\n",
        "We also cannot train a neural network on categorical data represented as text. For example in this example, [0,1,2] corresponds to ['setosa', 'versicolor', 'virginica']. If instead of the numbers, the Y variable had strings of classes (e.g. Y = ['setosa', 'setosa', 'versicolor' ...  , 'versicolor'])\n",
        "\n",
        "To deal with this, we can convert out targets into one-hot encoded vectors. Keras has a function called 'np_utils.to_categorical()' which helps us achieve this."
      ]
    },
    {
      "cell_type": "markdown",
      "metadata": {
        "id": "8IN7hHj3Afac"
      },
      "source": [
        "## One hot encoding"
      ]
    },
    {
      "cell_type": "code",
      "metadata": {
        "id": "maplMBltAfh-"
      },
      "source": [
        "Y = np_utils.to_categorical(Y)"
      ],
      "execution_count": 28,
      "outputs": []
    },
    {
      "cell_type": "markdown",
      "metadata": {
        "id": "N-1lUjmxf3Dg"
      },
      "source": [
        "Let's take a look at the first 5 examples after applying the encoding:"
      ]
    },
    {
      "cell_type": "code",
      "metadata": {
        "colab": {
          "base_uri": "https://localhost:8080/"
        },
        "id": "7-q0xQbXfvfY",
        "outputId": "feed9ed2-7416-4ece-e499-fd45e08e5e34"
      },
      "source": [
        "Y[0:5]"
      ],
      "execution_count": 29,
      "outputs": [
        {
          "output_type": "execute_result",
          "data": {
            "text/plain": [
              "array([[1., 0., 0.],\n",
              "       [1., 0., 0.],\n",
              "       [1., 0., 0.],\n",
              "       [1., 0., 0.],\n",
              "       [1., 0., 0.]], dtype=float32)"
            ]
          },
          "metadata": {
            "tags": []
          },
          "execution_count": 29
        }
      ]
    },
    {
      "cell_type": "markdown",
      "metadata": {
        "id": "-0n53sxnf66W"
      },
      "source": [
        "Okay so clearly the targets have been converted into their one-hot encoded vectors! Great, now let's double check the shapes of X and Y before creatining our training, validation and test splits."
      ]
    },
    {
      "cell_type": "markdown",
      "metadata": {
        "id": "YiV6vedSyeKO"
      },
      "source": [
        "## Check the shapes of the data"
      ]
    },
    {
      "cell_type": "code",
      "metadata": {
        "id": "reP8T4fuzI8k",
        "colab": {
          "base_uri": "https://localhost:8080/"
        },
        "outputId": "4af3f0bb-fb71-4dc8-dffe-7756daa692a8"
      },
      "source": [
        "X.shape"
      ],
      "execution_count": 30,
      "outputs": [
        {
          "output_type": "execute_result",
          "data": {
            "text/plain": [
              "(150, 4)"
            ]
          },
          "metadata": {
            "tags": []
          },
          "execution_count": 30
        }
      ]
    },
    {
      "cell_type": "code",
      "metadata": {
        "id": "IThy90cczI8r",
        "colab": {
          "base_uri": "https://localhost:8080/"
        },
        "outputId": "a46fe877-6185-4207-f74f-b6d14ca02c54"
      },
      "source": [
        "Y.shape"
      ],
      "execution_count": 31,
      "outputs": [
        {
          "output_type": "execute_result",
          "data": {
            "text/plain": [
              "(150, 3)"
            ]
          },
          "metadata": {
            "tags": []
          },
          "execution_count": 31
        }
      ]
    },
    {
      "cell_type": "markdown",
      "metadata": {
        "id": "ENDcb5y1zI85"
      },
      "source": [
        "## Split the data into training and test data\n",
        "\n",
        "After inspection, the shapes look correct and the target values look correct too (dimensions of 3 since we have 3 unique classes). Once we have our data into X (features) and Y (class) variables we can proceed to the next step which is to create training and testing data. This is similar to the previous notebook."
      ]
    },
    {
      "cell_type": "code",
      "metadata": {
        "id": "KNRXxIANzI86"
      },
      "source": [
        "X_train, X_test, Y_train, Y_test = train_test_split(X, Y, test_size=0.3)\n",
        "X_train, X_val, Y_train, Y_val = train_test_split(X_train, Y_train, test_size=0.3)"
      ],
      "execution_count": 32,
      "outputs": []
    },
    {
      "cell_type": "markdown",
      "metadata": {
        "id": "248QHMZlzI9d"
      },
      "source": [
        "## Create a neural network model\n",
        "\n",
        "Some points to keep in mind everytime you define a model:\n",
        "\n",
        "* Remember to specify and intput dimension for the first layer (this is always  the case for the first layer only)\n",
        "* You will have to define a model architecture, how many layers, how many units etc...\n",
        "* You will have to compile the model, specify a loss function and optimiser. The metric is not used in any calculation, it is an easy-to-use evaluation metric for us humans to monitor the model. API documentation on metrics is here: https://www.tensorflow.org/api_docs/python/tf/keras/metrics\n",
        "\n",
        "We specify the loss function as a Tensorflow.keras.losses object, in this case categorical cross entropy loss. The API documentation is here: https://www.tensorflow.org/api_docs/python/tf/keras/losses/CategoricalCrossentropy \n",
        "\n",
        "In the examples so far we have been calling activation functions by their pre-defined names such as 'linear', 'relu' and 'softmax'. But other activation functions exist. The formal document is available, here is an example for ReLU https://www.tensorflow.org/api_docs/python/tf/keras/activations/relu and you can see that we can use it as: tf.keras.activations.relu we can import it and then use it as follows:\n",
        "\n",
        "```from tensorflow.keras.activations import relu```\n",
        "\n",
        "and then we would use it within a layer as follows\n",
        "\n",
        "```model.add(Dense(2, input_dim=4, activation=relu, kernel_initializer = initializer))```\n",
        "\n",
        "Notice in the above example we wrote ```activation=relu``` instead of ```activation='relu'```. \n"
      ]
    },
    {
      "cell_type": "code",
      "metadata": {
        "id": "HJWPXPcfzI9f"
      },
      "source": [
        "def baseline():\n",
        "  \n",
        "    # Seeting a seed so we can reproduce the results\n",
        "    tf.random.set_seed(137)\n",
        "\n",
        "    # Define the initialisation method\n",
        "    initializer = RandomNormal(mean = 0.0, stddev=0.01)\n",
        "\n",
        "    # create a squential model\n",
        "    model = Sequential()\n",
        "\n",
        "    # add one fully connected layer\n",
        "    model.add(Dense(2, input_dim=4, activation='relu', kernel_initializer = initializer))\n",
        "\n",
        "    # add one fully connected output layer with a softmax activation\n",
        "    model.add(Dense(3, activation='softmax', kernel_initializer = initializer))\n",
        "\n",
        "    # Define the optimiser\n",
        "    optimiser = Adam(learning_rate=0.001)\n",
        "\n",
        "    # Define the loss function\n",
        "    loss = CategoricalCrossentropy()\n",
        "    \n",
        "    # Compile model\n",
        "    model.compile(loss=loss, \n",
        "                  optimizer=optimiser, \n",
        "                  metrics=['accuracy'])\n",
        "    \n",
        "    return model"
      ],
      "execution_count": 33,
      "outputs": []
    },
    {
      "cell_type": "markdown",
      "metadata": {
        "id": "uJ8KXYqYzI9k"
      },
      "source": [
        "## Initialise the model\n",
        "\n",
        "To initialise the model, we call our Python function which contains the model."
      ]
    },
    {
      "cell_type": "code",
      "metadata": {
        "id": "kUjCbeYxzI9l"
      },
      "source": [
        "model = baseline()"
      ],
      "execution_count": 34,
      "outputs": []
    },
    {
      "cell_type": "markdown",
      "metadata": {
        "id": "GyiaFBhbzI9p"
      },
      "source": [
        "## Determine the number of trainable parameters"
      ]
    },
    {
      "cell_type": "code",
      "metadata": {
        "id": "dbOE34EezI9q",
        "colab": {
          "base_uri": "https://localhost:8080/"
        },
        "outputId": "a07c9f24-5ce1-43c7-de37-a8a8b1ae120c"
      },
      "source": [
        "model.summary()"
      ],
      "execution_count": 35,
      "outputs": [
        {
          "output_type": "stream",
          "text": [
            "Model: \"sequential\"\n",
            "_________________________________________________________________\n",
            "Layer (type)                 Output Shape              Param #   \n",
            "=================================================================\n",
            "dense (Dense)                (None, 2)                 10        \n",
            "_________________________________________________________________\n",
            "dense_1 (Dense)              (None, 3)                 9         \n",
            "=================================================================\n",
            "Total params: 19\n",
            "Trainable params: 19\n",
            "Non-trainable params: 0\n",
            "_________________________________________________________________\n"
          ],
          "name": "stdout"
        }
      ]
    },
    {
      "cell_type": "markdown",
      "metadata": {
        "id": "ht6sxL85iCVC"
      },
      "source": [
        "We can also view the model by plotting it. It gives a different perspective if you prefer this view. To do this we use the plot_model() function.\n",
        "\n",
        "API documentation for the plot_model() function https://www.tensorflow.org/api_docs/python/tf/keras/utils/plot_model?hl=en"
      ]
    },
    {
      "cell_type": "code",
      "metadata": {
        "colab": {
          "base_uri": "https://localhost:8080/",
          "height": 312
        },
        "id": "78a2zQoBiCaD",
        "outputId": "538be8a8-be0b-48d4-c579-d4f8b1a8aa74"
      },
      "source": [
        "plot_model(model, show_shapes=True)"
      ],
      "execution_count": 36,
      "outputs": [
        {
          "output_type": "execute_result",
          "data": {
            "image/png": "[encoded data removed]",
            "text/plain": [
              "<IPython.core.display.Image object>"
            ]
          },
          "metadata": {
            "tags": []
          },
          "execution_count": 36
        }
      ]
    },
    {
      "cell_type": "markdown",
      "metadata": {
        "id": "hxBBOszLm0HO"
      },
      "source": [
        "Let's add something new.\n",
        "\n",
        "Sometimes when we train models we can end up in situations where the network overfits and only gets worse. One way to handle this is to stop training once the validation loss does not improve over a certain number of epochs. Tensorflow has something called 'EarlyStopping' which does exactly that. Namely, it will stop training when a monitored metric has stopped improving. API: https://www.tensorflow.org/api_docs/python/tf/keras/callbacks/EarlyStopping?hl=en\n",
        "\n",
        "In this example, we can monitor the validation accuracy. We want the validation loss to increase so we tell it that the 'mode' is to keep an eye if the validation accuracy is increasing. Formally, \"in min mode, training will stop when the quantity monitored has stopped decreasing\" The converse for max.\n",
        "\n",
        "We also specify a patience arguement. Formally, \"number of epochs with no improvement after which training will be stopped\". In our example, we will wait for 10 epochs.\n",
        "\n",
        "Here is the code to create this and then we need to add it to our fit function."
      ]
    },
    {
      "cell_type": "code",
      "metadata": {
        "id": "x0PURx6fm0Q8"
      },
      "source": [
        "stopping = EarlyStopping(monitor='val_accuracy', mode='max', verbose=1, patience=10)"
      ],
      "execution_count": 37,
      "outputs": []
    },
    {
      "cell_type": "markdown",
      "metadata": {
        "id": "HUPUuRN0zI9w"
      },
      "source": [
        "## Fit the model\n",
        "\n",
        "Now that we have the training, validation and testing features and targets we can start training the network. To do this, we make use of the .fit() function like in the previous notebook. \n",
        "\n",
        "Here we add our callback which we created above 'stopping'. A callback is formally defined as \"utilities called at certain points during model training.\" We specify them in an array as we can add multiple callsbacks. In this example we only have one. In this example I specify a high number of epochs, let's see what happens, will it run for 400 epochs or stop before that?"
      ]
    },
    {
      "cell_type": "code",
      "metadata": {
        "id": "VACKCprNzI9y",
        "colab": {
          "base_uri": "https://localhost:8080/"
        },
        "outputId": "1c0920e3-a815-42e2-e931-da941427fac3"
      },
      "source": [
        "history = model.fit(X_train, Y_train, validation_data=(X_val, Y_val), epochs = 400, callbacks=[stopping])"
      ],
      "execution_count": 38,
      "outputs": [
        {
          "output_type": "stream",
          "text": [
            "Epoch 1/400\n",
            "3/3 [==============================] - 1s 91ms/step - loss: 1.0985 - accuracy: 0.3562 - val_loss: 1.0981 - val_accuracy: 0.4375\n",
            "Epoch 2/400\n",
            "3/3 [==============================] - 0s 13ms/step - loss: 1.0984 - accuracy: 0.3699 - val_loss: 1.0978 - val_accuracy: 0.4375\n",
            "Epoch 3/400\n",
            "3/3 [==============================] - 0s 12ms/step - loss: 1.0980 - accuracy: 0.3699 - val_loss: 1.0978 - val_accuracy: 0.4375\n",
            "Epoch 4/400\n",
            "3/3 [==============================] - 0s 13ms/step - loss: 1.0976 - accuracy: 0.4384 - val_loss: 1.0976 - val_accuracy: 0.5312\n",
            "Epoch 5/400\n",
            "3/3 [==============================] - 0s 12ms/step - loss: 1.0972 - accuracy: 0.5890 - val_loss: 1.0973 - val_accuracy: 0.5625\n",
            "Epoch 6/400\n",
            "3/3 [==============================] - 0s 12ms/step - loss: 1.0966 - accuracy: 0.6849 - val_loss: 1.0969 - val_accuracy: 0.5938\n",
            "Epoch 7/400\n",
            "3/3 [==============================] - 0s 11ms/step - loss: 1.0958 - accuracy: 0.6986 - val_loss: 1.0966 - val_accuracy: 0.6250\n",
            "Epoch 8/400\n",
            "3/3 [==============================] - 0s 16ms/step - loss: 1.0950 - accuracy: 0.6986 - val_loss: 1.0962 - val_accuracy: 0.6250\n",
            "Epoch 9/400\n",
            "3/3 [==============================] - 0s 13ms/step - loss: 1.0940 - accuracy: 0.6986 - val_loss: 1.0958 - val_accuracy: 0.6250\n",
            "Epoch 10/400\n",
            "3/3 [==============================] - 0s 13ms/step - loss: 1.0929 - accuracy: 0.6986 - val_loss: 1.0953 - val_accuracy: 0.6250\n",
            "Epoch 11/400\n",
            "3/3 [==============================] - 0s 12ms/step - loss: 1.0918 - accuracy: 0.6986 - val_loss: 1.0947 - val_accuracy: 0.6250\n",
            "Epoch 12/400\n",
            "3/3 [==============================] - 0s 15ms/step - loss: 1.0905 - accuracy: 0.6986 - val_loss: 1.0940 - val_accuracy: 0.6250\n",
            "Epoch 13/400\n",
            "3/3 [==============================] - 0s 23ms/step - loss: 1.0889 - accuracy: 0.6986 - val_loss: 1.0932 - val_accuracy: 0.6250\n",
            "Epoch 14/400\n",
            "3/3 [==============================] - 0s 13ms/step - loss: 1.0872 - accuracy: 0.6986 - val_loss: 1.0923 - val_accuracy: 0.6250\n",
            "Epoch 15/400\n",
            "3/3 [==============================] - 0s 12ms/step - loss: 1.0854 - accuracy: 0.6986 - val_loss: 1.0913 - val_accuracy: 0.6250\n",
            "Epoch 16/400\n",
            "3/3 [==============================] - 0s 11ms/step - loss: 1.0836 - accuracy: 0.6986 - val_loss: 1.0902 - val_accuracy: 0.6250\n",
            "Epoch 17/400\n",
            "3/3 [==============================] - 0s 12ms/step - loss: 1.0816 - accuracy: 0.6986 - val_loss: 1.0891 - val_accuracy: 0.6250\n",
            "Epoch 00017: early stopping\n"
          ],
          "name": "stdout"
        }
      ]
    },
    {
      "cell_type": "markdown",
      "metadata": {
        "id": "xP-Cv2PXzI-E"
      },
      "source": [
        "## Plot the loss over the epochs\n",
        "\n",
        "Keep an eye out for over fitting."
      ]
    },
    {
      "cell_type": "code",
      "metadata": {
        "colab": {
          "base_uri": "https://localhost:8080/",
          "height": 513
        },
        "id": "203wHuoUmT2E",
        "outputId": "77db5f6b-96d6-41b9-f4ca-8ee798c2596d"
      },
      "source": [
        "plt.figure(figsize=(8, 8))\n",
        "plt.plot(history.history['loss'], label='training loss')\n",
        "plt.plot(history.history['val_loss'], label='validation loss', linestyle='dashed')\n",
        "plt.title('Model loss')\n",
        "plt.ylabel('Cross entropy loss')\n",
        "plt.xlabel('Epoch')\n",
        "plt.legend(loc='upper right')\n",
        "plt.show()"
      ],
      "execution_count": 39,
      "outputs": [
        {
          "output_type": "display_data",
          "data": {
            "image/png": "[encoded data removed]",
            "text/plain": [
              "<Figure size 576x576 with 1 Axes>"
            ]
          },
          "metadata": {
            "tags": [],
            "needs_background": "light"
          }
        }
      ]
    },
    {
      "cell_type": "code",
      "metadata": {
        "colab": {
          "base_uri": "https://localhost:8080/",
          "height": 513
        },
        "id": "rb8PjGLBpYMh",
        "outputId": "fc32d0f1-f735-45fe-835f-a982f80bf6b2"
      },
      "source": [
        "plt.figure(figsize=(8, 8))\n",
        "plt.plot(history.history['accuracy'], label='training accuracy')\n",
        "plt.plot(history.history['val_accuracy'], label='validation accuracy', linestyle='dashed')\n",
        "plt.title('Model accuracy')\n",
        "plt.ylabel('Accuracy')\n",
        "plt.xlabel('Epoch')\n",
        "plt.legend(loc='upper left')\n",
        "plt.show()"
      ],
      "execution_count": 40,
      "outputs": [
        {
          "output_type": "display_data",
          "data": {
            "image/png": "[encoded data removed]",
            "text/plain": [
              "<Figure size 576x576 with 1 Axes>"
            ]
          },
          "metadata": {
            "tags": [],
            "needs_background": "light"
          }
        }
      ]
    },
    {
      "cell_type": "markdown",
      "metadata": {
        "id": "l85BylX5zI93"
      },
      "source": [
        "## Predict on the test data"
      ]
    },
    {
      "cell_type": "code",
      "metadata": {
        "id": "MBpk0OtRzI95"
      },
      "source": [
        "prediction = model.predict(X_test)"
      ],
      "execution_count": 41,
      "outputs": []
    },
    {
      "cell_type": "markdown",
      "metadata": {
        "id": "1-d6T3yCEA9D"
      },
      "source": [
        "## View predictions\n",
        "\n",
        "The predictions in this example are different to the previous notebooks. In this example the output is softmax outputs. Note the performance is pretty bad. The model provided above is not necessarily the best model :) Here we display the predictions on the first 5 testing examples"
      ]
    },
    {
      "cell_type": "code",
      "metadata": {
        "id": "BIZzxdWxEBE2",
        "colab": {
          "base_uri": "https://localhost:8080/"
        },
        "outputId": "0a4ccfc1-4747-4677-edd0-b84869abfa51"
      },
      "source": [
        "prediction[0:5]"
      ],
      "execution_count": 42,
      "outputs": [
        {
          "output_type": "execute_result",
          "data": {
            "text/plain": [
              "array([[0.335138  , 0.33867076, 0.3261912 ],\n",
              "       [0.3515605 , 0.33040816, 0.31803128],\n",
              "       [0.33406746, 0.33920953, 0.326723  ],\n",
              "       [0.351882  , 0.33024597, 0.317872  ],\n",
              "       [0.33406746, 0.33920953, 0.326723  ]], dtype=float32)"
            ]
          },
          "metadata": {
            "tags": []
          },
          "execution_count": 42
        }
      ]
    },
    {
      "cell_type": "markdown",
      "metadata": {
        "id": "sJJbCzFxEDLx"
      },
      "source": [
        "## Predict classes (instead of softmax output)\n",
        "\n",
        "Here we use np.argmax() on the predictions to get the corresponding class (i.e. not the softmax but the iteger representations)\n"
      ]
    },
    {
      "cell_type": "code",
      "metadata": {
        "id": "KFp91RkdEDSX"
      },
      "source": [
        "prediction_classes = np.argmax(model.predict(X_test), axis=-1)"
      ],
      "execution_count": 43,
      "outputs": []
    },
    {
      "cell_type": "markdown",
      "metadata": {
        "id": "AlHWbAEwtV8c"
      },
      "source": [
        "Let's take a look at the predictions for the first 10 testing points and compare them to the correct values."
      ]
    },
    {
      "cell_type": "code",
      "metadata": {
        "id": "vdIZKOZmEQfA",
        "colab": {
          "base_uri": "https://localhost:8080/"
        },
        "outputId": "390a9f39-46c7-4900-b181-b402b38c511b"
      },
      "source": [
        "prediction_classes[0:10]"
      ],
      "execution_count": 44,
      "outputs": [
        {
          "output_type": "execute_result",
          "data": {
            "text/plain": [
              "array([1, 0, 1, 0, 1, 0, 0, 0, 1, 1])"
            ]
          },
          "metadata": {
            "tags": []
          },
          "execution_count": 44
        }
      ]
    },
    {
      "cell_type": "markdown",
      "metadata": {
        "id": "P7cJA4jWtkY7"
      },
      "source": [
        "Y_test is currently in one-hot encoded vector form. We can use the np.argmax() function to convert the vectors back into integer values."
      ]
    },
    {
      "cell_type": "code",
      "metadata": {
        "colab": {
          "base_uri": "https://localhost:8080/"
        },
        "id": "eDl6QROptbUE",
        "outputId": "1eb91265-713c-4463-93db-f406fa5f956c"
      },
      "source": [
        "np.argmax(Y_test,axis=1)[0:10]"
      ],
      "execution_count": 45,
      "outputs": [
        {
          "output_type": "execute_result",
          "data": {
            "text/plain": [
              "array([1, 0, 2, 0, 2, 0, 0, 0, 1, 2])"
            ]
          },
          "metadata": {
            "tags": []
          },
          "execution_count": 45
        }
      ]
    },
    {
      "cell_type": "markdown",
      "metadata": {
        "id": "4eHpGjh1zI9-"
      },
      "source": [
        "## Compute the confusion matrix\n",
        "\n",
        "Scikit learn has a class called confusion_matrix API: https://scikit-learn.org/stable/modules/generated/sklearn.metrics.confusion_matrix.html?highlight=confusion#sklearn.metrics.confusion_matrix which can compute the confusion matrix for us. This won't work on softmax output so we need to apply ```np.argmax()```. We have already done this for the model predictions. We imported this at the very top of the script."
      ]
    },
    {
      "cell_type": "code",
      "metadata": {
        "id": "JtqoZ6OuzI9_",
        "colab": {
          "base_uri": "https://localhost:8080/"
        },
        "outputId": "c2c1fa50-9d6c-4886-bda6-94c02cb71a71"
      },
      "source": [
        "confusion_matrix(np.argmax(Y_test,1), prediction_classes)"
      ],
      "execution_count": 46,
      "outputs": [
        {
          "output_type": "execute_result",
          "data": {
            "text/plain": [
              "array([[20,  0,  0],\n",
              "       [ 0,  9,  0],\n",
              "       [ 0, 16,  0]])"
            ]
          },
          "metadata": {
            "tags": []
          },
          "execution_count": 46
        }
      ]
    },
    {
      "cell_type": "markdown",
      "metadata": {
        "id": "1OyzzA6HEaBh"
      },
      "source": [
        "## Compute the accuracy\n",
        "\n",
        "Scikit learn has a class called accuracy_score, API: https://scikit-learn.org/stable/modules/generated/sklearn.metrics.accuracy_score.html#sklearn.metrics.accuracy_score which can compute multiclass/binary class accuracy. We imported this at the top of the script. Again, it does not work on softmax values.\n",
        "\n",
        "Accuracy is suitable in this example but for some examples one might want to consider different performance metrics. Additional options are available, take a look here: https://scikit-learn.org/stable/modules/classes.html#module-sklearn.metrics"
      ]
    },
    {
      "cell_type": "code",
      "metadata": {
        "id": "sTgIAAHIEaH2",
        "colab": {
          "base_uri": "https://localhost:8080/"
        },
        "outputId": "dff4f9db-1550-421e-9785-e62e32728de8"
      },
      "source": [
        "accuracy_score(np.argmax(Y_test,1), prediction_classes)"
      ],
      "execution_count": 47,
      "outputs": [
        {
          "output_type": "execute_result",
          "data": {
            "text/plain": [
              "0.6444444444444445"
            ]
          },
          "metadata": {
            "tags": []
          },
          "execution_count": 47
        }
      ]
    },
    {
      "cell_type": "markdown",
      "metadata": {
        "id": "Vcc_SPx05hvi"
      },
      "source": [
        "# Task\n",
        "\n",
        "Try to improve the model accuracy by modifying the network. \n",
        "\n",
        "* You could try adding more layers, using different activation functions or \n",
        "\n",
        "* changing the number of units in each fully connected layer. \n",
        "\n",
        "The particular network I provided here was deliberately not optimal and thus the performance can definitely be improved :)"
      ]
    },
    {
      "cell_type": "code",
      "metadata": {
        "id": "9sgSDDqE2uXx"
      },
      "source": [
        "def baseline_mod():\n",
        "  \n",
        "    # Seeting a seed so we can reproduce the results\n",
        "    tf.random.set_seed(137)\n",
        "\n",
        "    # Define the initialisation method\n",
        "    initializer = RandomNormal(mean = 0.0, stddev=0.01)\n",
        "\n",
        "    # create a squential model\n",
        "    model = Sequential()\n",
        "\n",
        "    # add one fully connected layer\n",
        "    model.add(Dense(4, input_dim=4, activation='relu', kernel_initializer = initializer))\n",
        "    model.add(Dense(8, activation='relu', kernel_initializer = initializer))\n",
        "    #model.add(Dense(16,  activation='relu', kernel_initializer = initializer))\n",
        "    # add one fully connected output layer with a softmax activation\n",
        "    model.add(Dense(3, activation='softmax', kernel_initializer = initializer))\n",
        "\n",
        "    # Define the optimiser\n",
        "    optimiser = Adam(learning_rate=0.01)\n",
        "\n",
        "    # Define the loss function\n",
        "    loss = CategoricalCrossentropy()\n",
        "    \n",
        "    # Compile model\n",
        "    model.compile(loss=loss, \n",
        "                  optimizer=optimiser, \n",
        "                  metrics=['accuracy'])\n",
        "    \n",
        "    return model"
      ],
      "execution_count": 48,
      "outputs": []
    },
    {
      "cell_type": "code",
      "metadata": {
        "id": "UsQ7jnxRHQ_c"
      },
      "source": [
        "model1 = baseline_mod()"
      ],
      "execution_count": 49,
      "outputs": []
    },
    {
      "cell_type": "code",
      "metadata": {
        "colab": {
          "base_uri": "https://localhost:8080/"
        },
        "id": "it2oP8lZHRB3",
        "outputId": "687140de-c658-41ab-cd3b-17803c8568d6"
      },
      "source": [
        "model1.summary()"
      ],
      "execution_count": 50,
      "outputs": [
        {
          "output_type": "stream",
          "text": [
            "Model: \"sequential_1\"\n",
            "_________________________________________________________________\n",
            "Layer (type)                 Output Shape              Param #   \n",
            "=================================================================\n",
            "dense_2 (Dense)              (None, 4)                 20        \n",
            "_________________________________________________________________\n",
            "dense_3 (Dense)              (None, 8)                 40        \n",
            "_________________________________________________________________\n",
            "dense_4 (Dense)              (None, 3)                 27        \n",
            "=================================================================\n",
            "Total params: 87\n",
            "Trainable params: 87\n",
            "Non-trainable params: 0\n",
            "_________________________________________________________________\n"
          ],
          "name": "stdout"
        }
      ]
    },
    {
      "cell_type": "code",
      "metadata": {
        "colab": {
          "base_uri": "https://localhost:8080/",
          "height": 422
        },
        "id": "JLv9iyDmHRD4",
        "outputId": "de2a0848-594f-458b-fbc8-185e972c4a25"
      },
      "source": [
        "plot_model(model1, show_shapes=True)"
      ],
      "execution_count": 51,
      "outputs": [
        {
          "output_type": "execute_result",
          "data": {
            "image/png": "[encoded data removed]",
            "text/plain": [
              "<IPython.core.display.Image object>"
            ]
          },
          "metadata": {
            "tags": []
          },
          "execution_count": 51
        }
      ]
    },
    {
      "cell_type": "code",
      "metadata": {
        "id": "BVtU8uzxHcNv"
      },
      "source": [
        "stopping = EarlyStopping(monitor='val_accuracy', mode='max', verbose=1, patience=10)"
      ],
      "execution_count": 52,
      "outputs": []
    },
    {
      "cell_type": "code",
      "metadata": {
        "colab": {
          "base_uri": "https://localhost:8080/"
        },
        "id": "zxdZMcG6HlW-",
        "outputId": "4d2d7697-176a-4903-acfa-e779bd6f5c4b"
      },
      "source": [
        "history1 = model1.fit(X_train, Y_train, validation_data=(X_val, Y_val), epochs = 200, callbacks=[stopping])"
      ],
      "execution_count": 53,
      "outputs": [
        {
          "output_type": "stream",
          "text": [
            "Epoch 1/200\n",
            "3/3 [==============================] - 1s 74ms/step - loss: 1.0989 - accuracy: 0.3425 - val_loss: 1.0947 - val_accuracy: 0.4375\n",
            "Epoch 2/200\n",
            "3/3 [==============================] - 0s 13ms/step - loss: 1.0986 - accuracy: 0.3699 - val_loss: 1.0918 - val_accuracy: 0.4375\n",
            "Epoch 3/200\n",
            "3/3 [==============================] - 0s 12ms/step - loss: 1.0958 - accuracy: 0.3699 - val_loss: 1.0887 - val_accuracy: 0.4375\n",
            "Epoch 4/200\n",
            "3/3 [==============================] - 0s 10ms/step - loss: 1.0895 - accuracy: 0.3699 - val_loss: 1.0772 - val_accuracy: 0.4375\n",
            "Epoch 5/200\n",
            "3/3 [==============================] - 0s 10ms/step - loss: 1.0755 - accuracy: 0.3699 - val_loss: 1.0528 - val_accuracy: 0.4375\n",
            "Epoch 6/200\n",
            "3/3 [==============================] - 0s 12ms/step - loss: 1.0501 - accuracy: 0.3973 - val_loss: 1.0138 - val_accuracy: 0.5938\n",
            "Epoch 7/200\n",
            "3/3 [==============================] - 0s 12ms/step - loss: 1.0110 - accuracy: 0.7534 - val_loss: 0.9603 - val_accuracy: 0.8438\n",
            "Epoch 8/200\n",
            "3/3 [==============================] - 0s 11ms/step - loss: 0.9574 - accuracy: 0.9315 - val_loss: 0.8962 - val_accuracy: 0.6875\n",
            "Epoch 9/200\n",
            "3/3 [==============================] - 0s 11ms/step - loss: 0.8942 - accuracy: 0.7260 - val_loss: 0.8300 - val_accuracy: 0.5938\n",
            "Epoch 10/200\n",
            "3/3 [==============================] - 0s 11ms/step - loss: 0.8262 - accuracy: 0.6438 - val_loss: 0.7718 - val_accuracy: 0.5625\n",
            "Epoch 11/200\n",
            "3/3 [==============================] - 0s 11ms/step - loss: 0.7618 - accuracy: 0.6438 - val_loss: 0.7259 - val_accuracy: 0.5625\n",
            "Epoch 12/200\n",
            "3/3 [==============================] - 0s 14ms/step - loss: 0.7059 - accuracy: 0.6438 - val_loss: 0.6881 - val_accuracy: 0.5625\n",
            "Epoch 13/200\n",
            "3/3 [==============================] - 0s 12ms/step - loss: 0.6495 - accuracy: 0.6438 - val_loss: 0.6500 - val_accuracy: 0.5625\n",
            "Epoch 14/200\n",
            "3/3 [==============================] - 0s 11ms/step - loss: 0.5992 - accuracy: 0.6712 - val_loss: 0.6172 - val_accuracy: 0.5938\n",
            "Epoch 15/200\n",
            "3/3 [==============================] - 0s 11ms/step - loss: 0.5561 - accuracy: 0.7123 - val_loss: 0.5901 - val_accuracy: 0.6875\n",
            "Epoch 16/200\n",
            "3/3 [==============================] - 0s 11ms/step - loss: 0.5172 - accuracy: 0.7534 - val_loss: 0.5676 - val_accuracy: 0.6875\n",
            "Epoch 17/200\n",
            "3/3 [==============================] - 0s 14ms/step - loss: 0.4861 - accuracy: 0.7123 - val_loss: 0.5502 - val_accuracy: 0.6562\n",
            "Epoch 00017: early stopping\n"
          ],
          "name": "stdout"
        }
      ]
    },
    {
      "cell_type": "code",
      "metadata": {
        "colab": {
          "base_uri": "https://localhost:8080/",
          "height": 513
        },
        "id": "vhTKf9P7HleV",
        "outputId": "4532c5e5-4e58-48e6-fc69-68a742dabedf"
      },
      "source": [
        "plt.figure(figsize=(8, 8))\n",
        "plt.plot(history1.history['loss'], label='training loss')\n",
        "plt.plot(history1.history['val_loss'], label='validation loss', linestyle='dashed')\n",
        "plt.title('Model loss')\n",
        "plt.ylabel('Cross entropy loss')\n",
        "plt.xlabel('Epoch')\n",
        "plt.legend(loc='upper right')\n",
        "plt.show()"
      ],
      "execution_count": 54,
      "outputs": [
        {
          "output_type": "display_data",
          "data": {
            "image/png": "[encoded data removed]",
            "text/plain": [
              "<Figure size 576x576 with 1 Axes>"
            ]
          },
          "metadata": {
            "tags": [],
            "needs_background": "light"
          }
        }
      ]
    },
    {
      "cell_type": "code",
      "metadata": {
        "colab": {
          "base_uri": "https://localhost:8080/",
          "height": 513
        },
        "id": "aY7PB1ZfHllY",
        "outputId": "df399c44-65a9-484f-c6dc-bfe97e47ea2f"
      },
      "source": [
        "plt.figure(figsize=(8, 8))\n",
        "plt.plot(history1.history['accuracy'], label='training accuracy')\n",
        "plt.plot(history1.history['val_accuracy'], label='validation accuracy', linestyle='dashed')\n",
        "plt.title('Model accuracy')\n",
        "plt.ylabel('Accuracy')\n",
        "plt.xlabel('Epoch')\n",
        "plt.legend(loc='upper left')\n",
        "plt.show()"
      ],
      "execution_count": 55,
      "outputs": [
        {
          "output_type": "display_data",
          "data": {
            "image/png": "[encoded data removed]",
            "text/plain": [
              "<Figure size 576x576 with 1 Axes>"
            ]
          },
          "metadata": {
            "tags": [],
            "needs_background": "light"
          }
        }
      ]
    },
    {
      "cell_type": "code",
      "metadata": {
        "id": "Mhj2ZSBgInJe"
      },
      "source": [
        "prediction = model1.predict(X_test)"
      ],
      "execution_count": 56,
      "outputs": []
    },
    {
      "cell_type": "code",
      "metadata": {
        "id": "wNRSeXP-InL9"
      },
      "source": [
        "prediction_classes = np.argmax(model1.predict(X_test), axis=-1)"
      ],
      "execution_count": 57,
      "outputs": []
    },
    {
      "cell_type": "code",
      "metadata": {
        "colab": {
          "base_uri": "https://localhost:8080/"
        },
        "id": "9nkuEqxjInPI",
        "outputId": "be54ea64-99bf-4f8e-dfb9-fe0376b75d69"
      },
      "source": [
        "prediction_classes[0:10]"
      ],
      "execution_count": 58,
      "outputs": [
        {
          "output_type": "execute_result",
          "data": {
            "text/plain": [
              "array([1, 0, 2, 0, 2, 0, 0, 0, 2, 2])"
            ]
          },
          "metadata": {
            "tags": []
          },
          "execution_count": 58
        }
      ]
    },
    {
      "cell_type": "code",
      "metadata": {
        "colab": {
          "base_uri": "https://localhost:8080/"
        },
        "id": "eam-_ZPVInRz",
        "outputId": "eea75313-f5b4-4122-eac2-44de25dfb8bd"
      },
      "source": [
        "np.argmax(Y_test,axis=1)[0:10]"
      ],
      "execution_count": 59,
      "outputs": [
        {
          "output_type": "execute_result",
          "data": {
            "text/plain": [
              "array([1, 0, 2, 0, 2, 0, 0, 0, 1, 2])"
            ]
          },
          "metadata": {
            "tags": []
          },
          "execution_count": 59
        }
      ]
    },
    {
      "cell_type": "code",
      "metadata": {
        "colab": {
          "base_uri": "https://localhost:8080/"
        },
        "id": "itTtkqC7JzZP",
        "outputId": "8bbc469a-c41f-42eb-b824-343e0c6696d2"
      },
      "source": [
        "confusion_matrix(np.argmax(Y_test,1), prediction_classes)"
      ],
      "execution_count": 60,
      "outputs": [
        {
          "output_type": "execute_result",
          "data": {
            "text/plain": [
              "array([[20,  0,  0],\n",
              "       [ 0,  3,  6],\n",
              "       [ 0,  0, 16]])"
            ]
          },
          "metadata": {
            "tags": []
          },
          "execution_count": 60
        }
      ]
    },
    {
      "cell_type": "code",
      "metadata": {
        "colab": {
          "base_uri": "https://localhost:8080/"
        },
        "id": "t2fbro_JKdQB",
        "outputId": "74c8386f-22ef-48cc-ddf9-555a92ac5293"
      },
      "source": [
        "accuracy_score(np.argmax(Y_test,1), prediction_classes)"
      ],
      "execution_count": 61,
      "outputs": [
        {
          "output_type": "execute_result",
          "data": {
            "text/plain": [
              "0.8666666666666667"
            ]
          },
          "metadata": {
            "tags": []
          },
          "execution_count": 61
        }
      ]
    }
  ]
}