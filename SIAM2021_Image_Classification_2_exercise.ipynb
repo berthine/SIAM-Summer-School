{
  "nbformat": 4,
  "nbformat_minor": 0,
  "metadata": {
    "colab": {
      "name": "Copy of SIAM2021 Image Classification 2_exercise.ipynb",
      "provenance": [],
      "collapsed_sections": [],
      "include_colab_link": true
    },
    "kernelspec": {
      "name": "python3",
      "display_name": "Python 3"
    },
    "accelerator": "GPU"
  },
  "cells": [
    {
      "cell_type": "markdown",
      "metadata": {
        "id": "view-in-github",
        "colab_type": "text"
      },
      "source": [
        "<a href=\"https://colab.research.google.com/github/berthine/SIAM-Summer-School/blob/main/SIAM2021_Image_Classification_2_exercise.ipynb\" target=\"_parent\"><img src=\"https://colab.research.google.com/assets/colab-badge.svg\" alt=\"Open In Colab\"/></a>"
      ]
    },
    {
      "cell_type": "markdown",
      "metadata": {
        "id": "Zs3Vxo5dmP7j"
      },
      "source": [
        "## Practical: Image classification Prac 2\n",
        "(20/July/2021)\n",
        "\n",
        "### 2021 Gene Golub SIAM Summer School \n",
        "https://sites.google.com/aims.ac.za/g2s3/home \n",
        "\n",
        "Instructor\n",
        "\n",
        "<font color=\"green\">***Dr. Emmanuel Dufourq*** \n",
        "\n",
        "www.emmanueldufourq.com\n",
        "\n",
        "edufourq (['@']) gmail.com\n",
        "\n",
        "***African Institute for Mathematical Sciences***\n",
        "\n",
        "***Stellenbosch University***\n",
        "\n",
        "***2021***\n",
        "\n",
        "***NOTE***\n",
        "\n",
        "<font color=\"red\">**Be sure to use hardware acceleration to use the GPU. Click on `Runtime`, change `runtime type`, and select `GPU` for the *hardware accelerator* option. Try to limit your time with the GPU. Terminate the session when possible due to limitations.**"
      ]
    },
    {
      "cell_type": "markdown",
      "metadata": {
        "id": "cBD1X9sShC2N"
      },
      "source": [
        "## <font color=\"green\"> Learning outcomes:\n",
        "\n",
        "* Implement your own CNN \n",
        "\n",
        "* Adding a ```BatchNormalization``` operation\n",
        "\n",
        "## <font color=\"green\">Data information:\n",
        "\n",
        "* Features: (32x32x3) images\n",
        "\n",
        "* Output: 10 classes represented as integers\n",
        "\n",
        "## <font color=\"green\">Tasks for participants (boolean)?\n",
        "\n",
        "* Yes, at the end (try avoid copy/pasting code, rather write it out)"
      ]
    },
    {
      "cell_type": "markdown",
      "metadata": {
        "id": "gpvo-bqTmP7m"
      },
      "source": [
        "## Imports first"
      ]
    },
    {
      "cell_type": "code",
      "metadata": {
        "id": "nvCXvXq5mP7p"
      },
      "source": [
        "from tensorflow.keras.models import Sequential\n",
        "from tensorflow.keras.layers import Dense, Conv2D, MaxPool2D, Flatten, Dropout,LeakyReLU, BatchNormalization\n",
        "from tensorflow.keras.losses import CategoricalCrossentropy\n",
        "from tensorflow.keras.optimizers import Adam\n",
        "from tensorflow.keras.datasets import cifar10\n",
        "from tensorflow.keras.callbacks import ModelCheckpoint\n",
        "import numpy as np\n",
        "import matplotlib.pyplot as plt\n",
        "from keras.utils import np_utils\n",
        "from sklearn.metrics import accuracy_score, confusion_matrix\n",
        "from tensorflow.keras.utils import to_categorical\n",
        "from sklearn.preprocessing import LabelEncoder\n",
        "import pandas as pd\n",
        "from sklearn.model_selection import train_test_split\n",
        "%matplotlib inline"
      ],
      "execution_count": 1,
      "outputs": []
    },
    {
      "cell_type": "markdown",
      "metadata": {
        "id": "X1GTR35cmP7v"
      },
      "source": [
        "## Load the dataset\n",
        "\n",
        "We will use the CIFAR10 dataset. Documentation https://www.tensorflow.org/datasets/catalog/cifar10\n",
        "\n",
        "The CIFAR-10 dataset consists of 60000 32x32 **colour images** in 10 classes, with 6000 images per class. There are 50000 training images and 10000 test images."
      ]
    },
    {
      "cell_type": "code",
      "metadata": {
        "id": "uQ_KjFJomP7x"
      },
      "source": [
        "# load data\n",
        "(X_train, Y_train), (X_test, Y_test) = cifar10.load_data()"
      ],
      "execution_count": 2,
      "outputs": []
    },
    {
      "cell_type": "markdown",
      "metadata": {
        "id": "6suNqQVyF_5I"
      },
      "source": [
        "## Task: create a validation set\n",
        "\n",
        "The data is obtained as a training and testing set. Typically, it's a good idea to create a validation set from the training set. Hint: previous pracs illustrated how to do this. Name the validation data as `X_val` and `Y_val`. Hint2: you might need to import a Python library to assist here. Check previous pracs.\n"
      ]
    },
    {
      "cell_type": "code",
      "metadata": {
        "id": "Or94V_cAGACd"
      },
      "source": [
        "# to do\n",
        "X_train,X_val, Y_train, Y_val = train_test_split(X_train, Y_train, test_size = 0.2, random_state=1)\n",
        "\n"
      ],
      "execution_count": 3,
      "outputs": []
    },
    {
      "cell_type": "markdown",
      "metadata": {
        "id": "E-Lw_bPQKQFX"
      },
      "source": [
        "## View the shape of all the datasets\n",
        "\n",
        "print the shape of the training, validation and testing features/targets."
      ]
    },
    {
      "cell_type": "code",
      "metadata": {
        "id": "ueyWl-aUmP72",
        "colab": {
          "base_uri": "https://localhost:8080/"
        },
        "outputId": "bcac698b-9924-4b47-a51d-6e315b64b8d8"
      },
      "source": [
        "# to do\n",
        "print(X_train.shape)\n",
        "print(Y_train.shape)\n",
        "print(X_val.shape)\n",
        "print(Y_val.shape)\n",
        "print(X_test.shape)\n",
        "print(X_test.shape)"
      ],
      "execution_count": 4,
      "outputs": [
        {
          "output_type": "stream",
          "text": [
            "(40000, 32, 32, 3)\n",
            "(40000, 1)\n",
            "(10000, 32, 32, 3)\n",
            "(10000, 1)\n",
            "(10000, 32, 32, 3)\n",
            "(10000, 32, 32, 3)\n"
          ],
          "name": "stdout"
        }
      ]
    },
    {
      "cell_type": "markdown",
      "metadata": {
        "id": "z51sdOntmP78"
      },
      "source": [
        "## Find the unique numbers from the train labels"
      ]
    },
    {
      "cell_type": "code",
      "metadata": {
        "id": "o29O_gUTmP79",
        "colab": {
          "base_uri": "https://localhost:8080/"
        },
        "outputId": "d273ed56-d9f3-4def-afa6-3e8834529418"
      },
      "source": [
        "classes = np.unique(Y_train)\n",
        "nClasses = len(classes)\n",
        "print('Total number of outputs : ', nClasses)\n",
        "print('Output classes : ', classes)"
      ],
      "execution_count": 5,
      "outputs": [
        {
          "output_type": "stream",
          "text": [
            "Total number of outputs :  10\n",
            "Output classes :  [0 1 2 3 4 5 6 7 8 9]\n"
          ],
          "name": "stdout"
        }
      ]
    },
    {
      "cell_type": "markdown",
      "metadata": {
        "id": "GMMjLgbimP8B"
      },
      "source": [
        "## Plot some of the data"
      ]
    },
    {
      "cell_type": "code",
      "metadata": {
        "id": "qQpW4rajmP8C",
        "colab": {
          "base_uri": "https://localhost:8080/",
          "height": 335
        },
        "outputId": "d4fc7d21-f802-4b9f-aa42-ba7858592ba7"
      },
      "source": [
        "plt.figure(figsize=[10,5])\n",
        " \n",
        "# Display the first image in training data\n",
        "plt.subplot(121)\n",
        "plt.imshow(X_train[0,:,:], cmap='gray')\n",
        "plt.title(\"Ground Truth : {}\".format(Y_train[0]))\n",
        " \n",
        "# Display the first image in testing data\n",
        "plt.subplot(122)\n",
        "plt.imshow(X_test[0,:,:], cmap='gray')\n",
        "plt.title(\"Ground Truth : {}\".format(Y_test[0]))"
      ],
      "execution_count": 6,
      "outputs": [
        {
          "output_type": "execute_result",
          "data": {
            "text/plain": [
              "Text(0.5, 1.0, 'Ground Truth : [3]')"
            ]
          },
          "metadata": {
            "tags": []
          },
          "execution_count": 6
        },
        {
          "output_type": "display_data",
          "data": {
            "image/png": "[encoded data removed]",
            "text/plain": [
              "<Figure size 720x360 with 2 Axes>"
            ]
          },
          "metadata": {
            "tags": [],
            "needs_background": "light"
          }
        }
      ]
    },
    {
      "cell_type": "markdown",
      "metadata": {
        "id": "BykRwF2UmP8b"
      },
      "source": [
        "## Normalise\n",
        "\n",
        "We need to normalise the data since the values range from 0 to 255. Training NNs on data ranging between [0,1] can be better. You will need to do this for the training, validation and testing features."
      ]
    },
    {
      "cell_type": "code",
      "metadata": {
        "id": "FH2lcHF3mP8c"
      },
      "source": [
        "# to do\n",
        "X_train = X_train / 255\n",
        "X_test = X_test / 255\n",
        "X_val = X_val / 255"
      ],
      "execution_count": 7,
      "outputs": []
    },
    {
      "cell_type": "markdown",
      "metadata": {
        "id": "BoGIsfzxq94W"
      },
      "source": [
        "# Check the data after normalising\n",
        "\n",
        "Are the values in each of the data splits between 0 and 1? You can print the minimum and maximum for each of the splits."
      ]
    },
    {
      "cell_type": "code",
      "metadata": {
        "id": "Q-Y3helZq9_m",
        "colab": {
          "base_uri": "https://localhost:8080/"
        },
        "outputId": "d20bd265-0ca7-4e46-8eff-4648e9a655e1"
      },
      "source": [
        "# to do\n",
        "X_train[0]"
      ],
      "execution_count": 8,
      "outputs": [
        {
          "output_type": "execute_result",
          "data": {
            "text/plain": [
              "array([[[0.07058824, 0.07058824, 0.06666667],\n",
              "        [0.08627451, 0.09019608, 0.0745098 ],\n",
              "        [0.14509804, 0.14901961, 0.12941176],\n",
              "        ...,\n",
              "        [0.75686275, 0.84313725, 0.89411765],\n",
              "        [0.74117647, 0.82352941, 0.8745098 ],\n",
              "        [0.74901961, 0.83529412, 0.88627451]],\n",
              "\n",
              "       [[0.09019608, 0.09803922, 0.08235294],\n",
              "        [0.10196078, 0.10588235, 0.08235294],\n",
              "        [0.1254902 , 0.12156863, 0.09019608],\n",
              "        ...,\n",
              "        [0.47058824, 0.56470588, 0.50196078],\n",
              "        [0.41568627, 0.50980392, 0.44705882],\n",
              "        [0.47843137, 0.57254902, 0.50980392]],\n",
              "\n",
              "       [[0.09411765, 0.11764706, 0.08627451],\n",
              "        [0.09019608, 0.09019608, 0.05882353],\n",
              "        [0.16470588, 0.14901961, 0.11372549],\n",
              "        ...,\n",
              "        [0.33333333, 0.41568627, 0.25490196],\n",
              "        [0.33333333, 0.41568627, 0.25490196],\n",
              "        [0.3372549 , 0.41960784, 0.25882353]],\n",
              "\n",
              "       ...,\n",
              "\n",
              "       [[0.70196078, 0.58431373, 0.46666667],\n",
              "        [0.69019608, 0.56862745, 0.45490196],\n",
              "        [0.70196078, 0.58431373, 0.46666667],\n",
              "        ...,\n",
              "        [0.6745098 , 0.58823529, 0.4745098 ],\n",
              "        [0.72941176, 0.63137255, 0.50980392],\n",
              "        [0.75294118, 0.64313725, 0.51372549]],\n",
              "\n",
              "       [[0.69803922, 0.58823529, 0.47058824],\n",
              "        [0.6745098 , 0.56862745, 0.45098039],\n",
              "        [0.69019608, 0.58431373, 0.46666667],\n",
              "        ...,\n",
              "        [0.77254902, 0.65882353, 0.5254902 ],\n",
              "        [0.76078431, 0.64313725, 0.51372549],\n",
              "        [0.75294118, 0.63921569, 0.50196078]],\n",
              "\n",
              "       [[0.68235294, 0.57647059, 0.45490196],\n",
              "        [0.68235294, 0.57647059, 0.45490196],\n",
              "        [0.69411765, 0.58823529, 0.46666667],\n",
              "        ...,\n",
              "        [0.76470588, 0.63921569, 0.52156863],\n",
              "        [0.75294118, 0.63529412, 0.51764706],\n",
              "        [0.75294118, 0.63529412, 0.51764706]]])"
            ]
          },
          "metadata": {
            "tags": []
          },
          "execution_count": 8
        }
      ]
    },
    {
      "cell_type": "code",
      "metadata": {
        "colab": {
          "base_uri": "https://localhost:8080/"
        },
        "id": "9wV0OCVmiv3C",
        "outputId": "91ab2b78-8404-44b1-f220-b0f49b38b13e"
      },
      "source": [
        "np.min(X_train[0])"
      ],
      "execution_count": 9,
      "outputs": [
        {
          "output_type": "execute_result",
          "data": {
            "text/plain": [
              "0.058823529411764705"
            ]
          },
          "metadata": {
            "tags": []
          },
          "execution_count": 9
        }
      ]
    },
    {
      "cell_type": "code",
      "metadata": {
        "colab": {
          "base_uri": "https://localhost:8080/"
        },
        "id": "LhghYkyDi6Dd",
        "outputId": "645cdd78-81bd-4a22-95a9-ff15321d2696"
      },
      "source": [
        "np.max(X_train[0])"
      ],
      "execution_count": 10,
      "outputs": [
        {
          "output_type": "execute_result",
          "data": {
            "text/plain": [
              "1.0"
            ]
          },
          "metadata": {
            "tags": []
          },
          "execution_count": 10
        }
      ]
    },
    {
      "cell_type": "code",
      "metadata": {
        "colab": {
          "base_uri": "https://localhost:8080/"
        },
        "id": "ISC1y5UakxX1",
        "outputId": "98563a1d-883c-4798-bdb3-837ea482f9c6"
      },
      "source": [
        "X_train.shape"
      ],
      "execution_count": 11,
      "outputs": [
        {
          "output_type": "execute_result",
          "data": {
            "text/plain": [
              "(40000, 32, 32, 3)"
            ]
          },
          "metadata": {
            "tags": []
          },
          "execution_count": 11
        }
      ]
    },
    {
      "cell_type": "markdown",
      "metadata": {
        "id": "kj0QhPSsmP8e"
      },
      "source": [
        "## One hot encoding"
      ]
    },
    {
      "cell_type": "markdown",
      "metadata": {
        "id": "BQWHZ6FumP8f"
      },
      "source": [
        "We're going to want our labels as one-hot vectors. Do this next."
      ]
    },
    {
      "cell_type": "code",
      "metadata": {
        "id": "i3xjsPnVmP8j"
      },
      "source": [
        "# to do\n",
        "Y_train = np_utils.to_categorical(Y_train, 10)\n",
        "Y_val = np_utils.to_categorical(Y_val, 10)\n",
        "Y_test = np_utils.to_categorical(Y_test, 10)\n",
        "num_classes = 10"
      ],
      "execution_count": 12,
      "outputs": []
    },
    {
      "cell_type": "code",
      "metadata": {
        "colab": {
          "base_uri": "https://localhost:8080/"
        },
        "id": "ppUTl0fxjrhF",
        "outputId": "994d1ce0-b4d9-4ab0-92ab-b4091a7a6db3"
      },
      "source": [
        "Y_train[0][1]"
      ],
      "execution_count": 13,
      "outputs": [
        {
          "output_type": "execute_result",
          "data": {
            "text/plain": [
              "0.0"
            ]
          },
          "metadata": {
            "tags": []
          },
          "execution_count": 13
        }
      ]
    },
    {
      "cell_type": "markdown",
      "metadata": {
        "id": "92H9U6LkmP8m"
      },
      "source": [
        "Print the shape of the targets after you have converted to one-hot encoded vectors. Does it look correct?"
      ]
    },
    {
      "cell_type": "code",
      "metadata": {
        "id": "tiiXZrnUmP8n",
        "colab": {
          "base_uri": "https://localhost:8080/"
        },
        "outputId": "1d914b9b-5c50-416e-edd2-88b6dfed174c"
      },
      "source": [
        "# to do\n",
        "print(Y_train.shape)\n",
        "print(Y_val.shape)\n",
        "print(Y_test.shape)"
      ],
      "execution_count": 14,
      "outputs": [
        {
          "output_type": "stream",
          "text": [
            "(40000, 10)\n",
            "(10000, 10)\n",
            "(10000, 10)\n"
          ],
          "name": "stdout"
        }
      ]
    },
    {
      "cell_type": "markdown",
      "metadata": {
        "id": "VungsdeHmP8u"
      },
      "source": [
        "## Create a CNN model\n",
        "\n",
        "* Create any model you want.\n",
        "\n",
        "* Try different activation functions, like ELU or LeakyReLU. to add LeakyReLU you will first have to import it, and then add it to your layer like this ```activation=LeakyRelu()``` which is different to relu where you could write ```activation='relu'```.\n",
        "\n",
        "* Try any optimiser you want.\n",
        "\n",
        "* Add as many layers, explore different things.\n",
        "\n",
        "* Try to add batch normalisation ```model.add(BatchNormalization())```. Note that we made an import for this above. The API: https://www.tensorflow.org/api_docs/python/tf/keras/layers/BatchNormalization\n",
        "\n",
        "* **try to get at least 68% accuracy on the test data**"
      ]
    },
    {
      "cell_type": "code",
      "metadata": {
        "id": "h5463Hoy1-Sz"
      },
      "source": [
        "from tensorflow.keras.layers import LeakyReLU"
      ],
      "execution_count": 15,
      "outputs": []
    },
    {
      "cell_type": "code",
      "metadata": {
        "id": "gozmsPxhmP8v"
      },
      "source": [
        "# to do\n",
        "#from keras.layers import LeakyReLU\n",
        "\n",
        "def baseline_model():\n",
        "    # create model\n",
        "    model = Sequential()\n",
        "    \n",
        "     \n",
        "    model.add(Conv2D(filters=64, kernel_size=2, padding='same', input_shape=(32,32,3))) ##padding=same is to preserve the dimension\n",
        "    model.add(LeakyReLU(alpha=0.1))\n",
        "    model.add(MaxPool2D(pool_size=2))\n",
        "\n",
        "    model.add(Conv2D(filters=64, kernel_size=2, padding='same'))\n",
        "    model.add(LeakyReLU(alpha=0.1))\n",
        "    model.add(BatchNormalization())\n",
        "    # Here we create a 2x2 max pooling layer\n",
        "    model.add(MaxPool2D(pool_size=2))\n",
        "    model.add(Dropout(0.5))\n",
        "    model.add(Conv2D(filters=32, kernel_size=2, padding='same')) ##padding=same is to preserve the dimension\n",
        "    model.add(LeakyReLU(alpha=0.1))\n",
        "    model.add(MaxPool2D(pool_size=2))\n",
        "    model.add(Conv2D(filters=32, kernel_size=2, padding='same'))\n",
        "    model.add(LeakyReLU(alpha=0.1))\n",
        "    model.add(BatchNormalization())\n",
        "  \n",
        "    model.add(Flatten())\n",
        "\n",
        "    model.add(Dense(32))\n",
        "    model.add(LeakyReLU(alpha=0.1))\n",
        "    model.add(Dropout(0.5))\n",
        "    \n",
        "    model.add(Dense(10, activation='softmax'))\n",
        "\n",
        "    #optimizer = SGD(learning_rate=0.9)\n",
        "    optimizer = Adam(learning_rate=0.001)\n",
        "    loss = CategoricalCrossentropy()\n",
        "    \n",
        "    # Compile the model\n",
        "    model.compile(loss=loss,\n",
        "             optimizer=optimizer,\n",
        "             metrics=['accuracy'])\n",
        "    return model"
      ],
      "execution_count": 16,
      "outputs": []
    },
    {
      "cell_type": "code",
      "metadata": {
        "id": "AY8aUygHlcHL"
      },
      "source": [
        "model = baseline_model()"
      ],
      "execution_count": 17,
      "outputs": []
    },
    {
      "cell_type": "code",
      "metadata": {
        "colab": {
          "base_uri": "https://localhost:8080/"
        },
        "id": "jAmloYm-mmHN",
        "outputId": "30f1494f-d686-4ba8-813f-8d2fd7f78c0f"
      },
      "source": [
        "model.summary()"
      ],
      "execution_count": 18,
      "outputs": [
        {
          "output_type": "stream",
          "text": [
            "Model: \"sequential\"\n",
            "_________________________________________________________________\n",
            "Layer (type)                 Output Shape              Param #   \n",
            "=================================================================\n",
            "conv2d (Conv2D)              (None, 32, 32, 64)        832       \n",
            "_________________________________________________________________\n",
            "leaky_re_lu (LeakyReLU)      (None, 32, 32, 64)        0         \n",
            "_________________________________________________________________\n",
            "max_pooling2d (MaxPooling2D) (None, 16, 16, 64)        0         \n",
            "_________________________________________________________________\n",
            "conv2d_1 (Conv2D)            (None, 16, 16, 64)        16448     \n",
            "_________________________________________________________________\n",
            "leaky_re_lu_1 (LeakyReLU)    (None, 16, 16, 64)        0         \n",
            "_________________________________________________________________\n",
            "batch_normalization (BatchNo (None, 16, 16, 64)        256       \n",
            "_________________________________________________________________\n",
            "max_pooling2d_1 (MaxPooling2 (None, 8, 8, 64)          0         \n",
            "_________________________________________________________________\n",
            "dropout (Dropout)            (None, 8, 8, 64)          0         \n",
            "_________________________________________________________________\n",
            "conv2d_2 (Conv2D)            (None, 8, 8, 32)          8224      \n",
            "_________________________________________________________________\n",
            "leaky_re_lu_2 (LeakyReLU)    (None, 8, 8, 32)          0         \n",
            "_________________________________________________________________\n",
            "max_pooling2d_2 (MaxPooling2 (None, 4, 4, 32)          0         \n",
            "_________________________________________________________________\n",
            "conv2d_3 (Conv2D)            (None, 4, 4, 32)          4128      \n",
            "_________________________________________________________________\n",
            "leaky_re_lu_3 (LeakyReLU)    (None, 4, 4, 32)          0         \n",
            "_________________________________________________________________\n",
            "batch_normalization_1 (Batch (None, 4, 4, 32)          128       \n",
            "_________________________________________________________________\n",
            "flatten (Flatten)            (None, 512)               0         \n",
            "_________________________________________________________________\n",
            "dense (Dense)                (None, 32)                16416     \n",
            "_________________________________________________________________\n",
            "leaky_re_lu_4 (LeakyReLU)    (None, 32)                0         \n",
            "_________________________________________________________________\n",
            "dropout_1 (Dropout)          (None, 32)                0         \n",
            "_________________________________________________________________\n",
            "dense_1 (Dense)              (None, 10)                330       \n",
            "=================================================================\n",
            "Total params: 46,762\n",
            "Trainable params: 46,570\n",
            "Non-trainable params: 192\n",
            "_________________________________________________________________\n"
          ],
          "name": "stdout"
        }
      ]
    },
    {
      "cell_type": "markdown",
      "metadata": {
        "id": "bUN6K31smP80"
      },
      "source": [
        "## Determine the number of trainable parameters"
      ]
    },
    {
      "cell_type": "code",
      "metadata": {
        "id": "_DxDanOHmP80"
      },
      "source": [
        "# to do"
      ],
      "execution_count": 19,
      "outputs": []
    },
    {
      "cell_type": "markdown",
      "metadata": {
        "id": "ifPs0mftmP84"
      },
      "source": [
        "## Begin training\n",
        "\n",
        "* Use the training and validation data\n",
        "\n",
        "* Train for as many epochs as you want. Any batch size."
      ]
    },
    {
      "cell_type": "code",
      "metadata": {
        "id": "j8RZc1rhmP84",
        "colab": {
          "base_uri": "https://localhost:8080/"
        },
        "outputId": "bdef2dc8-3f1a-4400-cb2a-afa08c4ebd82"
      },
      "source": [
        "# to do\n",
        "history = model.fit(X_train, Y_train, validation_data = (X_val, Y_val),epochs=50, batch_size = 256, verbose=1)"
      ],
      "execution_count": 20,
      "outputs": [
        {
          "output_type": "stream",
          "text": [
            "Epoch 1/50\n",
            "157/157 [==============================] - 7s 23ms/step - loss: 2.0457 - accuracy: 0.2548 - val_loss: 2.4464 - val_accuracy: 0.1037\n",
            "Epoch 2/50\n",
            "157/157 [==============================] - 3s 21ms/step - loss: 1.6881 - accuracy: 0.3868 - val_loss: 2.4612 - val_accuracy: 0.1741\n",
            "Epoch 3/50\n",
            "157/157 [==============================] - 3s 21ms/step - loss: 1.5425 - accuracy: 0.4410 - val_loss: 2.1372 - val_accuracy: 0.2765\n",
            "Epoch 4/50\n",
            "157/157 [==============================] - 3s 21ms/step - loss: 1.4673 - accuracy: 0.4683 - val_loss: 1.6930 - val_accuracy: 0.4065\n",
            "Epoch 5/50\n",
            "157/157 [==============================] - 3s 21ms/step - loss: 1.4045 - accuracy: 0.4967 - val_loss: 1.2881 - val_accuracy: 0.5407\n",
            "Epoch 6/50\n",
            "157/157 [==============================] - 3s 21ms/step - loss: 1.3491 - accuracy: 0.5153 - val_loss: 1.4682 - val_accuracy: 0.4737\n",
            "Epoch 7/50\n",
            "157/157 [==============================] - 3s 21ms/step - loss: 1.3078 - accuracy: 0.5358 - val_loss: 1.1484 - val_accuracy: 0.5892\n",
            "Epoch 8/50\n",
            "157/157 [==============================] - 3s 21ms/step - loss: 1.2745 - accuracy: 0.5458 - val_loss: 1.6098 - val_accuracy: 0.4708\n",
            "Epoch 9/50\n",
            "157/157 [==============================] - 3s 21ms/step - loss: 1.2437 - accuracy: 0.5568 - val_loss: 1.1912 - val_accuracy: 0.5671\n",
            "Epoch 10/50\n",
            "157/157 [==============================] - 3s 21ms/step - loss: 1.2118 - accuracy: 0.5693 - val_loss: 1.0988 - val_accuracy: 0.6020\n",
            "Epoch 11/50\n",
            "157/157 [==============================] - 3s 21ms/step - loss: 1.1922 - accuracy: 0.5764 - val_loss: 1.2173 - val_accuracy: 0.5735\n",
            "Epoch 12/50\n",
            "157/157 [==============================] - 3s 21ms/step - loss: 1.1654 - accuracy: 0.5858 - val_loss: 1.0898 - val_accuracy: 0.6171\n",
            "Epoch 13/50\n",
            "157/157 [==============================] - 3s 21ms/step - loss: 1.1500 - accuracy: 0.5960 - val_loss: 1.0250 - val_accuracy: 0.6350\n",
            "Epoch 14/50\n",
            "157/157 [==============================] - 3s 21ms/step - loss: 1.1300 - accuracy: 0.6011 - val_loss: 1.0370 - val_accuracy: 0.6321\n",
            "Epoch 15/50\n",
            "157/157 [==============================] - 3s 21ms/step - loss: 1.1130 - accuracy: 0.6066 - val_loss: 1.0820 - val_accuracy: 0.6231\n",
            "Epoch 16/50\n",
            "157/157 [==============================] - 3s 21ms/step - loss: 1.0919 - accuracy: 0.6153 - val_loss: 1.0955 - val_accuracy: 0.6119\n",
            "Epoch 17/50\n",
            "157/157 [==============================] - 3s 21ms/step - loss: 1.0836 - accuracy: 0.6168 - val_loss: 1.1911 - val_accuracy: 0.6032\n",
            "Epoch 18/50\n",
            "157/157 [==============================] - 3s 21ms/step - loss: 1.0714 - accuracy: 0.6229 - val_loss: 1.0439 - val_accuracy: 0.6335\n",
            "Epoch 19/50\n",
            "157/157 [==============================] - 3s 21ms/step - loss: 1.0512 - accuracy: 0.6280 - val_loss: 0.9212 - val_accuracy: 0.6715\n",
            "Epoch 20/50\n",
            "157/157 [==============================] - 3s 21ms/step - loss: 1.0439 - accuracy: 0.6329 - val_loss: 1.1229 - val_accuracy: 0.6074\n",
            "Epoch 21/50\n",
            "157/157 [==============================] - 3s 21ms/step - loss: 1.0333 - accuracy: 0.6376 - val_loss: 0.9558 - val_accuracy: 0.6568\n",
            "Epoch 22/50\n",
            "157/157 [==============================] - 3s 21ms/step - loss: 1.0174 - accuracy: 0.6426 - val_loss: 1.0033 - val_accuracy: 0.6516\n",
            "Epoch 23/50\n",
            "157/157 [==============================] - 3s 21ms/step - loss: 1.0083 - accuracy: 0.6476 - val_loss: 0.9848 - val_accuracy: 0.6537\n",
            "Epoch 24/50\n",
            "157/157 [==============================] - 3s 21ms/step - loss: 0.9940 - accuracy: 0.6488 - val_loss: 0.9288 - val_accuracy: 0.6707\n",
            "Epoch 25/50\n",
            "157/157 [==============================] - 3s 21ms/step - loss: 0.9955 - accuracy: 0.6524 - val_loss: 1.2667 - val_accuracy: 0.5928\n",
            "Epoch 26/50\n",
            "157/157 [==============================] - 3s 21ms/step - loss: 0.9833 - accuracy: 0.6557 - val_loss: 0.8803 - val_accuracy: 0.6990\n",
            "Epoch 27/50\n",
            "157/157 [==============================] - 3s 21ms/step - loss: 0.9748 - accuracy: 0.6589 - val_loss: 1.0561 - val_accuracy: 0.6345\n",
            "Epoch 28/50\n",
            "157/157 [==============================] - 3s 21ms/step - loss: 0.9602 - accuracy: 0.6628 - val_loss: 0.8262 - val_accuracy: 0.7138\n",
            "Epoch 29/50\n",
            "157/157 [==============================] - 3s 21ms/step - loss: 0.9598 - accuracy: 0.6665 - val_loss: 0.8489 - val_accuracy: 0.7090\n",
            "Epoch 30/50\n",
            "157/157 [==============================] - 3s 21ms/step - loss: 0.9512 - accuracy: 0.6663 - val_loss: 0.8543 - val_accuracy: 0.7010\n",
            "Epoch 31/50\n",
            "157/157 [==============================] - 3s 21ms/step - loss: 0.9446 - accuracy: 0.6687 - val_loss: 0.9362 - val_accuracy: 0.6790\n",
            "Epoch 32/50\n",
            "157/157 [==============================] - 3s 21ms/step - loss: 0.9378 - accuracy: 0.6722 - val_loss: 0.8877 - val_accuracy: 0.6946\n",
            "Epoch 33/50\n",
            "157/157 [==============================] - 3s 21ms/step - loss: 0.9298 - accuracy: 0.6767 - val_loss: 0.9441 - val_accuracy: 0.6850\n",
            "Epoch 34/50\n",
            "157/157 [==============================] - 3s 21ms/step - loss: 0.9233 - accuracy: 0.6766 - val_loss: 0.9512 - val_accuracy: 0.6807\n",
            "Epoch 35/50\n",
            "157/157 [==============================] - 3s 21ms/step - loss: 0.9139 - accuracy: 0.6815 - val_loss: 0.8464 - val_accuracy: 0.7143\n",
            "Epoch 36/50\n",
            "157/157 [==============================] - 3s 21ms/step - loss: 0.9149 - accuracy: 0.6814 - val_loss: 0.8605 - val_accuracy: 0.6957\n",
            "Epoch 37/50\n",
            "157/157 [==============================] - 3s 21ms/step - loss: 0.9113 - accuracy: 0.6838 - val_loss: 0.8188 - val_accuracy: 0.7118\n",
            "Epoch 38/50\n",
            "157/157 [==============================] - 3s 21ms/step - loss: 0.8973 - accuracy: 0.6878 - val_loss: 0.8571 - val_accuracy: 0.7009\n",
            "Epoch 39/50\n",
            "157/157 [==============================] - 3s 21ms/step - loss: 0.8982 - accuracy: 0.6862 - val_loss: 0.8113 - val_accuracy: 0.7170\n",
            "Epoch 40/50\n",
            "157/157 [==============================] - 3s 21ms/step - loss: 0.8889 - accuracy: 0.6886 - val_loss: 0.8146 - val_accuracy: 0.7139\n",
            "Epoch 41/50\n",
            "157/157 [==============================] - 3s 21ms/step - loss: 0.8819 - accuracy: 0.6913 - val_loss: 0.8558 - val_accuracy: 0.7092\n",
            "Epoch 42/50\n",
            "157/157 [==============================] - 3s 21ms/step - loss: 0.8839 - accuracy: 0.6936 - val_loss: 1.0740 - val_accuracy: 0.6407\n",
            "Epoch 43/50\n",
            "157/157 [==============================] - 3s 21ms/step - loss: 0.8784 - accuracy: 0.6956 - val_loss: 1.0667 - val_accuracy: 0.6525\n",
            "Epoch 44/50\n",
            "157/157 [==============================] - 3s 21ms/step - loss: 0.8693 - accuracy: 0.6961 - val_loss: 0.9672 - val_accuracy: 0.6506\n",
            "Epoch 45/50\n",
            "157/157 [==============================] - 3s 21ms/step - loss: 0.8695 - accuracy: 0.6972 - val_loss: 0.8244 - val_accuracy: 0.7211\n",
            "Epoch 46/50\n",
            "157/157 [==============================] - 3s 21ms/step - loss: 0.8668 - accuracy: 0.6982 - val_loss: 0.8473 - val_accuracy: 0.7140\n",
            "Epoch 47/50\n",
            "157/157 [==============================] - 3s 21ms/step - loss: 0.8666 - accuracy: 0.6994 - val_loss: 0.8327 - val_accuracy: 0.7089\n",
            "Epoch 48/50\n",
            "157/157 [==============================] - 3s 21ms/step - loss: 0.8568 - accuracy: 0.7009 - val_loss: 0.7771 - val_accuracy: 0.7305\n",
            "Epoch 49/50\n",
            "157/157 [==============================] - 3s 21ms/step - loss: 0.8557 - accuracy: 0.7031 - val_loss: 0.8300 - val_accuracy: 0.7193\n",
            "Epoch 50/50\n",
            "157/157 [==============================] - 3s 21ms/step - loss: 0.8527 - accuracy: 0.7038 - val_loss: 0.8191 - val_accuracy: 0.7140\n"
          ],
          "name": "stdout"
        }
      ]
    },
    {
      "cell_type": "markdown",
      "metadata": {
        "id": "_j9LecHgmP8_"
      },
      "source": [
        "## Predict on the test data"
      ]
    },
    {
      "cell_type": "code",
      "metadata": {
        "id": "7TtfkDWjmP8_"
      },
      "source": [
        "# to do\n",
        "correct_values = np.argmax(Y_test,axis=1)\n",
        "predictions = model.predict(X_test)\n",
        "predictions = np.argmax(predictions, axis=-1)"
      ],
      "execution_count": 21,
      "outputs": []
    },
    {
      "cell_type": "markdown",
      "metadata": {
        "id": "yo4UgmBvmP9F"
      },
      "source": [
        "## Compute the test accuracy\n",
        "\n",
        "What did you get? Try get over 68% testing accuracy.\n",
        "\n",
        "After 20 epochs of training and a model with roughly 50,000 parameters I got 70.8% on the testing data."
      ]
    },
    {
      "cell_type": "code",
      "metadata": {
        "id": "N7keRohxmP9H",
        "colab": {
          "base_uri": "https://localhost:8080/"
        },
        "outputId": "8c185973-dae7-444c-84b8-761c8d4c9367"
      },
      "source": [
        "# to do\n",
        "accuracy_score(predictions, np.argmax(Y_test, axis = -1))*100"
      ],
      "execution_count": 22,
      "outputs": [
        {
          "output_type": "execute_result",
          "data": {
            "text/plain": [
              "70.23"
            ]
          },
          "metadata": {
            "tags": []
          },
          "execution_count": 22
        }
      ]
    },
    {
      "cell_type": "code",
      "metadata": {
        "colab": {
          "base_uri": "https://localhost:8080/",
          "height": 573
        },
        "id": "kg6jUJ6T9sYG",
        "outputId": "4f469891-4cd2-466b-8a21-ba75b7ca3c50"
      },
      "source": [
        "# Visualize model history\n",
        "plt.plot(history.history['accuracy'], label='Training accuracy')\n",
        "plt.plot(history.history['val_accuracy'], label='Validation accuracy')\n",
        "plt.title('Leaky ReLU training / validation accuracies')\n",
        "plt.ylabel('Accuracy')\n",
        "plt.xlabel('Epoch')\n",
        "plt.legend(loc=\"upper left\")\n",
        "plt.show()\n",
        "\n",
        "plt.plot(history.history['loss'], label='Training loss')\n",
        "plt.plot(history.history['val_loss'], label='Validation loss')\n",
        "plt.title('Leaky ReLU training / validation loss values')\n",
        "plt.ylabel('Loss value')\n",
        "plt.xlabel('Epoch')\n",
        "plt.legend(loc=\"upper left\")\n",
        "plt.show()"
      ],
      "execution_count": 23,
      "outputs": [
        {
          "output_type": "display_data",
          "data": {
            "image/png": "[encoded data removed]",
            "text/plain": [
              "<Figure size 432x288 with 1 Axes>"
            ]
          },
          "metadata": {
            "tags": [],
            "needs_background": "light"
          }
        },
        {
          "output_type": "display_data",
          "data": {
            "image/png": "[encoded data removed]",
            "text/plain": [
              "<Figure size 432x288 with 1 Axes>"
            ]
          },
          "metadata": {
            "tags": [],
            "needs_background": "light"
          }
        }
      ]
    }
  ]
}