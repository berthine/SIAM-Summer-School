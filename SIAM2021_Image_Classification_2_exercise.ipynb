{
  "nbformat": 4,
  "nbformat_minor": 0,
  "metadata": {
    "colab": {
      "name": "SIAM2021 Image Classification 2_exercise.ipynb",
      "provenance": [],
      "collapsed_sections": [],
      "include_colab_link": true
    },
    "kernelspec": {
      "name": "python3",
      "display_name": "Python 3"
    },
    "accelerator": "GPU"
  },
  "cells": [
    {
      "cell_type": "markdown",
      "metadata": {
        "id": "view-in-github",
        "colab_type": "text"
      },
      "source": [
        "<a href=\"https://colab.research.google.com/github/berthine/SIAM-Summer-School/blob/main/SIAM2021_Image_Classification_2_exercise.ipynb\" target=\"_parent\"><img src=\"https://colab.research.google.com/assets/colab-badge.svg\" alt=\"Open In Colab\"/></a>"
      ]
    },
    {
      "cell_type": "markdown",
      "metadata": {
        "id": "Zs3Vxo5dmP7j"
      },
      "source": [
        "## Practical: Image classification Prac 2\n",
        "(20/July/2021)\n",
        "\n",
        "### 2021 Gene Golub SIAM Summer School \n",
        "https://sites.google.com/aims.ac.za/g2s3/home \n",
        "\n",
        "Instructor\n",
        "\n",
        "<font color=\"green\">***Dr. Emmanuel Dufourq*** \n",
        "\n",
        "www.emmanueldufourq.com\n",
        "\n",
        "edufourq (['@']) gmail.com\n",
        "\n",
        "***African Institute for Mathematical Sciences***\n",
        "\n",
        "***Stellenbosch University***\n",
        "\n",
        "***2021***\n",
        "\n",
        "***NOTE***\n",
        "\n",
        "<font color=\"red\">**Be sure to use hardware acceleration to use the GPU. Click on `Runtime`, change `runtime type`, and select `GPU` for the *hardware accelerator* option. Try to limit your time with the GPU. Terminate the session when possible due to limitations.**"
      ]
    },
    {
      "cell_type": "markdown",
      "metadata": {
        "id": "cBD1X9sShC2N"
      },
      "source": [
        "## <font color=\"green\"> Learning outcomes:\n",
        "\n",
        "* Implement your own CNN \n",
        "\n",
        "* Adding a ```BatchNormalization``` operation\n",
        "\n",
        "## <font color=\"green\">Data information:\n",
        "\n",
        "* Features: (32x32x3) images\n",
        "\n",
        "* Output: 10 classes represented as integers\n",
        "\n",
        "## <font color=\"green\">Tasks for participants (boolean)?\n",
        "\n",
        "* Yes, at the end (try avoid copy/pasting code, rather write it out)"
      ]
    },
    {
      "cell_type": "markdown",
      "metadata": {
        "id": "gpvo-bqTmP7m"
      },
      "source": [
        "## Imports first"
      ]
    },
    {
      "cell_type": "code",
      "metadata": {
        "id": "nvCXvXq5mP7p"
      },
      "source": [
        "from tensorflow.keras.models import Sequential\n",
        "from tensorflow.keras.layers import Dense, Conv2D, MaxPool2D, Flatten, Dropout,LeakyReLU, BatchNormalization\n",
        "from tensorflow.keras.losses import CategoricalCrossentropy\n",
        "from tensorflow.keras.optimizers import Adam\n",
        "from tensorflow.keras.datasets import cifar10\n",
        "from tensorflow.keras.callbacks import ModelCheckpoint\n",
        "import numpy as np\n",
        "import matplotlib.pyplot as plt\n",
        "from keras.utils import np_utils\n",
        "from sklearn.metrics import accuracy_score, confusion_matrix\n",
        "from tensorflow.keras.utils import to_categorical\n",
        "from sklearn.preprocessing import LabelEncoder\n",
        "import pandas as pd\n",
        "from sklearn.model_selection import train_test_split\n",
        "%matplotlib inline"
      ],
      "execution_count": null,
      "outputs": []
    },
    {
      "cell_type": "markdown",
      "metadata": {
        "id": "X1GTR35cmP7v"
      },
      "source": [
        "## Load the dataset\n",
        "\n",
        "We will use the CIFAR10 dataset. Documentation https://www.tensorflow.org/datasets/catalog/cifar10\n",
        "\n",
        "The CIFAR-10 dataset consists of 60000 32x32 **colour images** in 10 classes, with 6000 images per class. There are 50000 training images and 10000 test images."
      ]
    },
    {
      "cell_type": "code",
      "metadata": {
        "id": "uQ_KjFJomP7x"
      },
      "source": [
        "# load data\n",
        "(X_train, Y_train), (X_test, Y_test) = cifar10.load_data()"
      ],
      "execution_count": null,
      "outputs": []
    },
    {
      "cell_type": "markdown",
      "metadata": {
        "id": "6suNqQVyF_5I"
      },
      "source": [
        "## Task: create a validation set\n",
        "\n",
        "The data is obtained as a training and testing set. Typically, it's a good idea to create a validation set from the training set. Hint: previous pracs illustrated how to do this. Name the validation data as `X_val` and `Y_val`. Hint2: you might need to import a Python library to assist here. Check previous pracs.\n"
      ]
    },
    {
      "cell_type": "code",
      "metadata": {
        "id": "Or94V_cAGACd"
      },
      "source": [
        "X_train, X_val, Y_train, Y_val = train_test_split(X_train, Y_train, test_size=0.3, random_state=1)"
      ],
      "execution_count": null,
      "outputs": []
    },
    {
      "cell_type": "markdown",
      "metadata": {
        "id": "E-Lw_bPQKQFX"
      },
      "source": [
        "## View the shape of all the datasets\n",
        "\n",
        "print the shape of the training, validation and testing features/targets."
      ]
    },
    {
      "cell_type": "code",
      "metadata": {
        "id": "ueyWl-aUmP72",
        "colab": {
          "base_uri": "https://localhost:8080/"
        },
        "outputId": "5e1ad623-0e26-4fc3-8f3c-7b097f0309f0"
      },
      "source": [
        "print (X_train.shape, Y_train.shape)\n",
        "print (X_val.shape, Y_val.shape)\n",
        "print (X_test.shape, Y_test.shape)"
      ],
      "execution_count": null,
      "outputs": [
        {
          "output_type": "stream",
          "text": [
            "(35000, 32, 32, 3) (35000, 1)\n",
            "(15000, 32, 32, 3) (15000, 1)\n",
            "(10000, 32, 32, 3) (10000, 1)\n"
          ],
          "name": "stdout"
        }
      ]
    },
    {
      "cell_type": "markdown",
      "metadata": {
        "id": "z51sdOntmP78"
      },
      "source": [
        "## Find the unique numbers from the train labels"
      ]
    },
    {
      "cell_type": "code",
      "metadata": {
        "id": "o29O_gUTmP79",
        "colab": {
          "base_uri": "https://localhost:8080/"
        },
        "outputId": "9accb46a-f5b4-4f9b-f5f2-c5fce3991d1f"
      },
      "source": [
        "classes = np.unique(Y_train)\n",
        "nClasses = len(classes)\n",
        "print('Total number of outputs : ', nClasses)\n",
        "print('Output classes : ', classes)"
      ],
      "execution_count": null,
      "outputs": [
        {
          "output_type": "stream",
          "text": [
            "Total number of outputs :  10\n",
            "Output classes :  [0 1 2 3 4 5 6 7 8 9]\n"
          ],
          "name": "stdout"
        }
      ]
    },
    {
      "cell_type": "markdown",
      "metadata": {
        "id": "GMMjLgbimP8B"
      },
      "source": [
        "## Plot some of the data"
      ]
    },
    {
      "cell_type": "code",
      "metadata": {
        "id": "qQpW4rajmP8C",
        "colab": {
          "base_uri": "https://localhost:8080/",
          "height": 335
        },
        "outputId": "0bbe9bcb-35b5-441a-a8df-4ca50205f51a"
      },
      "source": [
        "plt.figure(figsize=[10,5])\n",
        " \n",
        "# Display the first image in training data\n",
        "plt.subplot(121)\n",
        "plt.imshow(X_train[0,:,:], cmap='gray')\n",
        "plt.title(\"Ground Truth : {}\".format(Y_train[0]))\n",
        " \n",
        "# Display the first image in testing data\n",
        "plt.subplot(122)\n",
        "plt.imshow(X_test[0,:,:], cmap='gray')\n",
        "plt.title(\"Ground Truth : {}\".format(Y_test[0]))"
      ],
      "execution_count": null,
      "outputs": [
        {
          "output_type": "execute_result",
          "data": {
            "text/plain": [
              "Text(0.5, 1.0, 'Ground Truth : [3]')"
            ]
          },
          "metadata": {
            "tags": []
          },
          "execution_count": 16
        },
        {
          "output_type": "display_data",
          "data": {
            "image/png": "[encoded data removed]",
            "text/plain": [
              "<Figure size 720x360 with 2 Axes>"
            ]
          },
          "metadata": {
            "tags": [],
            "needs_background": "light"
          }
        }
      ]
    },
    {
      "cell_type": "markdown",
      "metadata": {
        "id": "BykRwF2UmP8b"
      },
      "source": [
        "## Normalise\n",
        "\n",
        "We need to normalise the data since the values range from 0 to 255. Training NNs on data ranging between [0,1] can be better. You will need to do this for the training, validation and testing features."
      ]
    },
    {
      "cell_type": "code",
      "metadata": {
        "id": "FH2lcHF3mP8c"
      },
      "source": [
        "X_train = X_train / 255\n",
        "X_test = X_test / 255\n",
        "X_val = X_val /255"
      ],
      "execution_count": null,
      "outputs": []
    },
    {
      "cell_type": "markdown",
      "metadata": {
        "id": "BoGIsfzxq94W"
      },
      "source": [
        "# Check the data after normalising\n",
        "\n",
        "Are the values in each of the data splits between 0 and 1? You can print the minimum and maximum for each of the splits."
      ]
    },
    {
      "cell_type": "code",
      "metadata": {
        "id": "Q-Y3helZq9_m",
        "colab": {
          "base_uri": "https://localhost:8080/"
        },
        "outputId": "4699a834-7d4e-4767-8a24-6d4037975f29"
      },
      "source": [
        "np.max(X_train[0])"
      ],
      "execution_count": null,
      "outputs": [
        {
          "output_type": "execute_result",
          "data": {
            "text/plain": [
              "1.0"
            ]
          },
          "metadata": {
            "tags": []
          },
          "execution_count": 18
        }
      ]
    },
    {
      "cell_type": "code",
      "metadata": {
        "colab": {
          "base_uri": "https://localhost:8080/"
        },
        "id": "DlHpmg43lWH1",
        "outputId": "87348ef6-31de-420d-fc91-0942d329d0fb"
      },
      "source": [
        "np.min(X_train[0])"
      ],
      "execution_count": null,
      "outputs": [
        {
          "output_type": "execute_result",
          "data": {
            "text/plain": [
              "0.011764705882352941"
            ]
          },
          "metadata": {
            "tags": []
          },
          "execution_count": 19
        }
      ]
    },
    {
      "cell_type": "markdown",
      "metadata": {
        "id": "kj0QhPSsmP8e"
      },
      "source": [
        "## One hot encoding"
      ]
    },
    {
      "cell_type": "markdown",
      "metadata": {
        "id": "BQWHZ6FumP8f"
      },
      "source": [
        "We're going to want our labels as one-hot vectors. Do this next."
      ]
    },
    {
      "cell_type": "code",
      "metadata": {
        "id": "i3xjsPnVmP8j"
      },
      "source": [
        "Y_train = np_utils.to_categorical(Y_train, 10)\n",
        "Y_val = np_utils.to_categorical(Y_val, 10)\n",
        "Y_test = np_utils.to_categorical(Y_test, 10)"
      ],
      "execution_count": null,
      "outputs": []
    },
    {
      "cell_type": "markdown",
      "metadata": {
        "id": "92H9U6LkmP8m"
      },
      "source": [
        "Print the shape of the targets after you have converted to one-hot encoded vectors. Does it look correct?"
      ]
    },
    {
      "cell_type": "code",
      "metadata": {
        "id": "tiiXZrnUmP8n",
        "colab": {
          "base_uri": "https://localhost:8080/"
        },
        "outputId": "5a0b4dc4-ee7a-4aea-82e8-f06ea08dbe3e"
      },
      "source": [
        "Y_val[0]"
      ],
      "execution_count": null,
      "outputs": [
        {
          "output_type": "execute_result",
          "data": {
            "text/plain": [
              "array([0., 0., 0., 0., 0., 0., 1., 0., 0., 0.], dtype=float32)"
            ]
          },
          "metadata": {
            "tags": []
          },
          "execution_count": 21
        }
      ]
    },
    {
      "cell_type": "markdown",
      "metadata": {
        "id": "VungsdeHmP8u"
      },
      "source": [
        "## Create a CNN model\n",
        "\n",
        "* Create any model you want.\n",
        "\n",
        "* Try different activation functions, like ELU or LeakyReLU. to add LeakyReLU you will first have to import it, and then add it to your layer like this ```activation=LeakyRelu()``` which is different to relu where you could write ```activation='relu'```.\n",
        "\n",
        "* Try any optimiser you want.\n",
        "\n",
        "* Add as many layers, explore different things.\n",
        "\n",
        "* Try to add batch normalisation ```model.add(BatchNormalization())```. Note that we made an import for this above. The API: https://www.tensorflow.org/api_docs/python/tf/keras/layers/BatchNormalization\n",
        "\n",
        "* **try to get at least 68% accuracy on the test data**"
      ]
    },
    {
      "cell_type": "code",
      "metadata": {
        "id": "gozmsPxhmP8v"
      },
      "source": [
        "def baseline_model():\n",
        "    # create model\n",
        "    model = Sequential()\n",
        "    \n",
        "    # \"valid\" means no padding. \"same\" results in padding with zeros evenly to the \n",
        "    # left/right or up/down of the input such that output has the same height/width dimension as the input. \n",
        "    model.add(Conv2D(filters=128, kernel_size=2, padding='same', activation='relu', input_shape=(32,32,3))) \n",
        "    \n",
        "    # Here we create a 2x2 max pooling layer\n",
        "    model.add(MaxPool2D(pool_size=2))\n",
        "\n",
        "    model.add(Flatten())\n",
        "    \n",
        "    model.add(Dense(64, activation='relu'))\n",
        "    \n",
        "    model.add(Dropout(0.5))\n",
        "\n",
        "    model.add(Dense(32, activation='relu'))\n",
        "\n",
        "    model.add(Dropout(0.5))\n",
        "    \n",
        "    model.add(Dense(10, activation='softmax'))\n",
        "\n",
        "    optimizer = Adam(learning_rate=0.9)\n",
        "    loss = CategoricalCrossentropy()\n",
        "    \n",
        "    # Compile the model\n",
        "    model.compile(loss=loss,\n",
        "             optimizer=optimizer,\n",
        "             metrics=['accuracy'])\n",
        "    return model"
      ],
      "execution_count": null,
      "outputs": []
    },
    {
      "cell_type": "markdown",
      "metadata": {
        "id": "bUN6K31smP80"
      },
      "source": [
        "## Determine the number of trainable parameters"
      ]
    },
    {
      "cell_type": "code",
      "metadata": {
        "id": "_DxDanOHmP80"
      },
      "source": [
        "# to do"
      ],
      "execution_count": null,
      "outputs": []
    },
    {
      "cell_type": "markdown",
      "metadata": {
        "id": "ifPs0mftmP84"
      },
      "source": [
        "## Begin training\n",
        "\n",
        "* Use the training and validation data\n",
        "\n",
        "* Train for as many epochs as you want. Any batch size."
      ]
    },
    {
      "cell_type": "code",
      "metadata": {
        "id": "j8RZc1rhmP84"
      },
      "source": [
        "model = baseline_model()"
      ],
      "execution_count": null,
      "outputs": []
    },
    {
      "cell_type": "code",
      "metadata": {
        "colab": {
          "base_uri": "https://localhost:8080/"
        },
        "id": "RMEH9ihtnMgE",
        "outputId": "7b659f6f-44e6-44ae-8d93-589777c4a20c"
      },
      "source": [
        "model.fit(X_train, Y_train, validation_data=(X_val, Y_val), epochs=10, batch_size=256, verbose=1)"
      ],
      "execution_count": null,
      "outputs": [
        {
          "output_type": "stream",
          "text": [
            "Epoch 1/10\n",
            "137/137 [==============================] - 34s 23ms/step - loss: 17108.3496 - accuracy: 0.0989 - val_loss: 2.3532 - val_accuracy: 0.0995\n",
            "Epoch 2/10\n",
            "137/137 [==============================] - 3s 20ms/step - loss: 2.3231 - accuracy: 0.1005 - val_loss: 2.3130 - val_accuracy: 0.1017\n",
            "Epoch 3/10\n",
            "137/137 [==============================] - 3s 20ms/step - loss: 2.3298 - accuracy: 0.1024 - val_loss: 2.3359 - val_accuracy: 0.1007\n",
            "Epoch 4/10\n",
            "137/137 [==============================] - 3s 20ms/step - loss: 2.3352 - accuracy: 0.0971 - val_loss: 2.3191 - val_accuracy: 0.0985\n",
            "Epoch 5/10\n",
            "137/137 [==============================] - 3s 20ms/step - loss: 2.3284 - accuracy: 0.1006 - val_loss: 2.3460 - val_accuracy: 0.1007\n",
            "Epoch 6/10\n",
            "137/137 [==============================] - 3s 20ms/step - loss: 2.3300 - accuracy: 0.0973 - val_loss: 2.3297 - val_accuracy: 0.0995\n",
            "Epoch 7/10\n",
            "137/137 [==============================] - 3s 20ms/step - loss: 2.3270 - accuracy: 0.0971 - val_loss: 2.3478 - val_accuracy: 0.0995\n",
            "Epoch 8/10\n",
            "137/137 [==============================] - 3s 20ms/step - loss: 2.3313 - accuracy: 0.0996 - val_loss: 2.3382 - val_accuracy: 0.1026\n",
            "Epoch 9/10\n",
            "137/137 [==============================] - 3s 20ms/step - loss: 2.3352 - accuracy: 0.0970 - val_loss: 2.3300 - val_accuracy: 0.0995\n",
            "Epoch 10/10\n",
            "137/137 [==============================] - 3s 20ms/step - loss: 2.3298 - accuracy: 0.0995 - val_loss: 2.3582 - val_accuracy: 0.1026\n"
          ],
          "name": "stdout"
        },
        {
          "output_type": "execute_result",
          "data": {
            "text/plain": [
              "<tensorflow.python.keras.callbacks.History at 0x7f54b04f9f50>"
            ]
          },
          "metadata": {
            "tags": []
          },
          "execution_count": 24
        }
      ]
    },
    {
      "cell_type": "markdown",
      "metadata": {
        "id": "_j9LecHgmP8_"
      },
      "source": [
        "## Predict on the test data"
      ]
    },
    {
      "cell_type": "code",
      "metadata": {
        "id": "7TtfkDWjmP8_",
        "colab": {
          "base_uri": "https://localhost:8080/"
        },
        "outputId": "6bcf43f1-3119-4d1d-b7ce-4cc823759759"
      },
      "source": [
        "predictions = model.predict(X_test)\n",
        "predictions = np.argmax(predictions, axis=-1)\n",
        "\n",
        "correct_values = np.argmax(Y_test,axis=1)\n",
        "accuracy_score(predictions,correct_values)*100"
      ],
      "execution_count": null,
      "outputs": [
        {
          "output_type": "execute_result",
          "data": {
            "text/plain": [
              "10.0"
            ]
          },
          "metadata": {
            "tags": []
          },
          "execution_count": 25
        }
      ]
    },
    {
      "cell_type": "markdown",
      "metadata": {
        "id": "yo4UgmBvmP9F"
      },
      "source": [
        "## Compute the test accuracy\n",
        "\n",
        "What did you get? Try get over 68% testing accuracy.\n",
        "\n",
        "After 20 epochs of training and a model with roughly 50,000 parameters I got 70.8% on the testing data."
      ]
    },
    {
      "cell_type": "code",
      "metadata": {
        "id": "N7keRohxmP9H"
      },
      "source": [
        "# to do"
      ],
      "execution_count": null,
      "outputs": []
    }
  ]
}